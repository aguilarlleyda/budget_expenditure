{
 "cells": [
  {
   "cell_type": "markdown",
   "metadata": {},
   "source": [
    "# Spending patterns exposed: relating country differences in budget expenditure to socio-economic indicators"
   ]
  },
  {
   "cell_type": "markdown",
   "metadata": {},
   "source": [
    "#### Summary\n",
    "All sovereign countries spread their public expenditure among different broad categories, like defence, health and education. However, each country may spend this money differently, prioritizing some budget items over others. The present project investigates whether we can group countries based on the way they allocate their budget expenditure, and whether those groups are meaningful in terms of predicting some socio-economic indicators. We tackled this problem by using machine learning techniques. While initial k-means clustering analysis did not give rise to meaningful expenditure-based country clusters, subsequent Principal Component Analysis (PCA) found that most budget expenditure variance could be explained by a reduced number of axes. The most important of them captured a trend where those countries that spent more on health and social protection also spent less on basic bureaucratic services. The value of each country on such principal component was highly correlated with its Human Development Index (HDI) value, and moderately correlated with the proportion of public employees over the total workforce. Specifically, countries spending more on health and social protection tended to be more developed and possessed more public employees. Overall, our results support that some socio-economic indicators can indeed be predicted by the way countries spend their budget."
   ]
  },
  {
   "cell_type": "markdown",
   "metadata": {},
   "source": [
    "## 1. Load libraries\n",
    "We will start by importing the libraries necessary for this project. Numpy, scipy.stats and pandas contain a series of functions to deal with mathematical calculations and data wrangling. To make plots, we will use plotly, and in particular its graphical objects, which allow for higher customization, even if at the expense of more lines of code. Finally, to undergo the machine learning-relevant part we will use a few functions from scikit-learn. Since this library is composed of several modules with a lot of functions that would take a lot of resources to load, we will import the necessary functions individually from their respective modules."
   ]
  },
  {
   "cell_type": "code",
   "execution_count": 9,
   "metadata": {},
   "outputs": [],
   "source": [
    "#import whole libraries\n",
    "import numpy as np\n",
    "import pandas as pd\n",
    "import scipy.stats as stats\n",
    "import plotly.graph_objects as go\n",
    "\n",
    "#import individual functions of various modules within scikit-learn\n",
    "from sklearn.cluster import KMeans #necessary for k-means clustering\n",
    "from sklearn.metrics import silhouette_samples, silhouette_score #necessary for the silhouette method of optimal k\n",
    "from sklearn.decomposition import PCA #necessary for Principal Component Analysis"
   ]
  },
  {
   "cell_type": "markdown",
   "metadata": {},
   "source": [
    "## 2. Define graphical parameters\n",
    "Next we will set a series of display preferences for our data. We will also predefine a custom theme and palette for our figures."
   ]
  },
  {
   "cell_type": "code",
   "execution_count": 10,
   "metadata": {},
   "outputs": [],
   "source": [
    "#avoid scientific notation and show numeric values rounded to two decimals\n",
    "pd.set_option('display.float_format', lambda x: '%.2f' % x)\n",
    "\n",
    "#set max rows and columns when displaying data\n",
    "pd.set_option('display.max_columns', None) #no maximum number of columns\n",
    "pd.set_option('display.max_rows', 25) #maximum number of rows\n",
    "\n",
    "#set font size\n",
    "font_size_regular = 12\n",
    "\n",
    "#create the layout for figures with a custom theme\n",
    "mylayout = go.Layout(\n",
    "    xaxis=dict(\n",
    "        linecolor='black',\n",
    "        gridcolor='lightgrey',\n",
    "        tickfont=dict(size=font_size_regular - 2),\n",
    "        zeroline=True,\n",
    "        zerolinecolor='lightgrey',\n",
    "        zerolinewidth=1\n",
    "    ),\n",
    "    yaxis=dict(\n",
    "        linecolor='black',\n",
    "        gridcolor='lightgrey',\n",
    "        tickfont=dict(size=font_size_regular - 2),\n",
    "        zeroline=True,\n",
    "        zerolinecolor='lightgrey',\n",
    "        zerolinewidth=1\n",
    "    ),\n",
    "    paper_bgcolor='white',\n",
    "    plot_bgcolor='white',\n",
    "    font=dict(size=font_size_regular),\n",
    ")\n",
    "\n",
    "#set plot sizes\n",
    "plot_size_shortwidth = 800 #width of a figure taking the whole width of the page, in px\n",
    "plot_size_shortheight = 500 #height of a one-row figure, in px\n",
    "\n",
    "#defining a color palette for our figures involving qualitative categories\n",
    "palette_qual = ['#04BB85','#8F76D7','#FF9500','#019BBF','#F62F36','#9D5E31','#E65898','#B1C019','#FDC903','#C1A471'] "
   ]
  },
  {
   "cell_type": "markdown",
   "metadata": {},
   "source": [
    "## 3. Preparing the country budgets dataset\n",
    "The bulk of our analyses will employ [a dataset from the United Nations data portal](https://data.un.org/Data.aspx?d=SNA&f=group_code%3A301) that includes information on how the public expenditure of several countries is assigned to different budget items, like health, defence and education. In this section we will load the dataset and wrangle the data in order to be able to apply a series of visualizations and machine learning techniques later on."
   ]
  },
  {
   "cell_type": "markdown",
   "metadata": {},
   "source": [
    "### 3.1. Loading the dataset\n",
    "We will first load the dataset, which was downloaded from the UN data portal as a .csv file."
   ]
  },
  {
   "cell_type": "code",
   "execution_count": 11,
   "metadata": {},
   "outputs": [
    {
     "data": {
      "text/html": [
       "<div>\n",
       "<style scoped>\n",
       "    .dataframe tbody tr th:only-of-type {\n",
       "        vertical-align: middle;\n",
       "    }\n",
       "\n",
       "    .dataframe tbody tr th {\n",
       "        vertical-align: top;\n",
       "    }\n",
       "\n",
       "    .dataframe thead th {\n",
       "        text-align: right;\n",
       "    }\n",
       "</style>\n",
       "<table border=\"1\" class=\"dataframe\">\n",
       "  <thead>\n",
       "    <tr style=\"text-align: right;\">\n",
       "      <th></th>\n",
       "      <th>Country or Area</th>\n",
       "      <th>SNA93 Table Code</th>\n",
       "      <th>Sub Group</th>\n",
       "      <th>Item</th>\n",
       "      <th>SNA93 Item Code</th>\n",
       "      <th>Year</th>\n",
       "      <th>Series</th>\n",
       "      <th>Currency</th>\n",
       "      <th>SNA System</th>\n",
       "      <th>Fiscal Year Type</th>\n",
       "      <th>Value</th>\n",
       "      <th>Value Footnotes</th>\n",
       "    </tr>\n",
       "  </thead>\n",
       "  <tbody>\n",
       "    <tr>\n",
       "      <th>0</th>\n",
       "      <td>Algeria</td>\n",
       "      <td>3.1</td>\n",
       "      <td>NaN</td>\n",
       "      <td>General public services</td>\n",
       "      <td>01</td>\n",
       "      <td>1976.00</td>\n",
       "      <td>10.00</td>\n",
       "      <td>Algerian dinar</td>\n",
       "      <td>1968.00</td>\n",
       "      <td>Western calendar year</td>\n",
       "      <td>1471000000.00</td>\n",
       "      <td>NaN</td>\n",
       "    </tr>\n",
       "    <tr>\n",
       "      <th>1</th>\n",
       "      <td>Algeria</td>\n",
       "      <td>3.1</td>\n",
       "      <td>NaN</td>\n",
       "      <td>Defence</td>\n",
       "      <td>02</td>\n",
       "      <td>1976.00</td>\n",
       "      <td>10.00</td>\n",
       "      <td>Algerian dinar</td>\n",
       "      <td>1968.00</td>\n",
       "      <td>Western calendar year</td>\n",
       "      <td>1632000000.00</td>\n",
       "      <td>NaN</td>\n",
       "    </tr>\n",
       "    <tr>\n",
       "      <th>2</th>\n",
       "      <td>Algeria</td>\n",
       "      <td>3.1</td>\n",
       "      <td>NaN</td>\n",
       "      <td>Economic affairs</td>\n",
       "      <td>04</td>\n",
       "      <td>1976.00</td>\n",
       "      <td>10.00</td>\n",
       "      <td>Algerian dinar</td>\n",
       "      <td>1968.00</td>\n",
       "      <td>Western calendar year</td>\n",
       "      <td>332000000.00</td>\n",
       "      <td>NaN</td>\n",
       "    </tr>\n",
       "    <tr>\n",
       "      <th>3</th>\n",
       "      <td>Algeria</td>\n",
       "      <td>3.1</td>\n",
       "      <td>NaN</td>\n",
       "      <td>Housing and community amenities</td>\n",
       "      <td>06</td>\n",
       "      <td>1976.00</td>\n",
       "      <td>10.00</td>\n",
       "      <td>Algerian dinar</td>\n",
       "      <td>1968.00</td>\n",
       "      <td>Western calendar year</td>\n",
       "      <td>0.00</td>\n",
       "      <td>NaN</td>\n",
       "    </tr>\n",
       "    <tr>\n",
       "      <th>4</th>\n",
       "      <td>Algeria</td>\n",
       "      <td>3.1</td>\n",
       "      <td>NaN</td>\n",
       "      <td>Health</td>\n",
       "      <td>07</td>\n",
       "      <td>1976.00</td>\n",
       "      <td>10.00</td>\n",
       "      <td>Algerian dinar</td>\n",
       "      <td>1968.00</td>\n",
       "      <td>Western calendar year</td>\n",
       "      <td>63000000.00</td>\n",
       "      <td>NaN</td>\n",
       "    </tr>\n",
       "    <tr>\n",
       "      <th>...</th>\n",
       "      <td>...</td>\n",
       "      <td>...</td>\n",
       "      <td>...</td>\n",
       "      <td>...</td>\n",
       "      <td>...</td>\n",
       "      <td>...</td>\n",
       "      <td>...</td>\n",
       "      <td>...</td>\n",
       "      <td>...</td>\n",
       "      <td>...</td>\n",
       "      <td>...</td>\n",
       "      <td>...</td>\n",
       "    </tr>\n",
       "    <tr>\n",
       "      <th>55764</th>\n",
       "      <td>100</td>\n",
       "      <td>Refers to transactions in military equipment.</td>\n",
       "      <td>NaN</td>\n",
       "      <td>NaN</td>\n",
       "      <td>NaN</td>\n",
       "      <td>NaN</td>\n",
       "      <td>NaN</td>\n",
       "      <td>NaN</td>\n",
       "      <td>NaN</td>\n",
       "      <td>NaN</td>\n",
       "      <td>NaN</td>\n",
       "      <td>NaN</td>\n",
       "    </tr>\n",
       "    <tr>\n",
       "      <th>55765</th>\n",
       "      <td>101</td>\n",
       "      <td>Includes recreational, cultural and sporting a...</td>\n",
       "      <td>NaN</td>\n",
       "      <td>NaN</td>\n",
       "      <td>NaN</td>\n",
       "      <td>NaN</td>\n",
       "      <td>NaN</td>\n",
       "      <td>NaN</td>\n",
       "      <td>NaN</td>\n",
       "      <td>NaN</td>\n",
       "      <td>NaN</td>\n",
       "      <td>NaN</td>\n",
       "    </tr>\n",
       "    <tr>\n",
       "      <th>55766</th>\n",
       "      <td>102</td>\n",
       "      <td>Discrepancy between components and total as on...</td>\n",
       "      <td>NaN</td>\n",
       "      <td>NaN</td>\n",
       "      <td>NaN</td>\n",
       "      <td>NaN</td>\n",
       "      <td>NaN</td>\n",
       "      <td>NaN</td>\n",
       "      <td>NaN</td>\n",
       "      <td>NaN</td>\n",
       "      <td>NaN</td>\n",
       "      <td>NaN</td>\n",
       "    </tr>\n",
       "    <tr>\n",
       "      <th>55767</th>\n",
       "      <td>103</td>\n",
       "      <td>Totals exclude some expenditure that are colle...</td>\n",
       "      <td>NaN</td>\n",
       "      <td>NaN</td>\n",
       "      <td>NaN</td>\n",
       "      <td>NaN</td>\n",
       "      <td>NaN</td>\n",
       "      <td>NaN</td>\n",
       "      <td>NaN</td>\n",
       "      <td>NaN</td>\n",
       "      <td>NaN</td>\n",
       "      <td>NaN</td>\n",
       "    </tr>\n",
       "    <tr>\n",
       "      <th>55768</th>\n",
       "      <td>104</td>\n",
       "      <td>Estimates of general government cover central ...</td>\n",
       "      <td>NaN</td>\n",
       "      <td>NaN</td>\n",
       "      <td>NaN</td>\n",
       "      <td>NaN</td>\n",
       "      <td>NaN</td>\n",
       "      <td>NaN</td>\n",
       "      <td>NaN</td>\n",
       "      <td>NaN</td>\n",
       "      <td>NaN</td>\n",
       "      <td>NaN</td>\n",
       "    </tr>\n",
       "  </tbody>\n",
       "</table>\n",
       "<p>55769 rows × 12 columns</p>\n",
       "</div>"
      ],
      "text/plain": [
       "      Country or Area                                   SNA93 Table Code  \\\n",
       "0             Algeria                                                3.1   \n",
       "1             Algeria                                                3.1   \n",
       "2             Algeria                                                3.1   \n",
       "3             Algeria                                                3.1   \n",
       "4             Algeria                                                3.1   \n",
       "...               ...                                                ...   \n",
       "55764             100      Refers to transactions in military equipment.   \n",
       "55765             101  Includes recreational, cultural and sporting a...   \n",
       "55766             102  Discrepancy between components and total as on...   \n",
       "55767             103  Totals exclude some expenditure that are colle...   \n",
       "55768             104  Estimates of general government cover central ...   \n",
       "\n",
       "      Sub Group                             Item SNA93 Item Code    Year  \\\n",
       "0           NaN          General public services              01 1976.00   \n",
       "1           NaN                          Defence              02 1976.00   \n",
       "2           NaN                 Economic affairs              04 1976.00   \n",
       "3           NaN  Housing and community amenities              06 1976.00   \n",
       "4           NaN                           Health              07 1976.00   \n",
       "...         ...                              ...             ...     ...   \n",
       "55764       NaN                              NaN             NaN     NaN   \n",
       "55765       NaN                              NaN             NaN     NaN   \n",
       "55766       NaN                              NaN             NaN     NaN   \n",
       "55767       NaN                              NaN             NaN     NaN   \n",
       "55768       NaN                              NaN             NaN     NaN   \n",
       "\n",
       "       Series                                  Currency  SNA System  \\\n",
       "0       10.00  Algerian dinar                               1968.00   \n",
       "1       10.00  Algerian dinar                               1968.00   \n",
       "2       10.00  Algerian dinar                               1968.00   \n",
       "3       10.00  Algerian dinar                               1968.00   \n",
       "4       10.00  Algerian dinar                               1968.00   \n",
       "...       ...                                       ...         ...   \n",
       "55764     NaN                                       NaN         NaN   \n",
       "55765     NaN                                       NaN         NaN   \n",
       "55766     NaN                                       NaN         NaN   \n",
       "55767     NaN                                       NaN         NaN   \n",
       "55768     NaN                                       NaN         NaN   \n",
       "\n",
       "            Fiscal Year Type         Value Value Footnotes  \n",
       "0      Western calendar year 1471000000.00             NaN  \n",
       "1      Western calendar year 1632000000.00             NaN  \n",
       "2      Western calendar year  332000000.00             NaN  \n",
       "3      Western calendar year          0.00             NaN  \n",
       "4      Western calendar year   63000000.00             NaN  \n",
       "...                      ...           ...             ...  \n",
       "55764                    NaN           NaN             NaN  \n",
       "55765                    NaN           NaN             NaN  \n",
       "55766                    NaN           NaN             NaN  \n",
       "55767                    NaN           NaN             NaN  \n",
       "55768                    NaN           NaN             NaN  \n",
       "\n",
       "[55769 rows x 12 columns]"
      ]
     },
     "metadata": {},
     "output_type": "display_data"
    }
   ],
   "source": [
    "#load the dataset as DataFrame\n",
    "df_budget = pd.read_csv('UNdata_Export_20240524_085932284.csv')\n",
    "\n",
    "#display the DataFrame\n",
    "display(df_budget)"
   ]
  },
  {
   "cell_type": "markdown",
   "metadata": {},
   "source": [
    "Most of the rows of the DataFrame displayed above include information on budget expenditure for a particular country, item and year. However, some rows are dedicated to footnotes that do not form part of our core data. Moreover, there are a few columns we are not interested in and could delete, as well as some columns that could use more intuitive names. Not to say we have not checked for redundant or missing data yet... Let's get to it then."
   ]
  },
  {
   "cell_type": "markdown",
   "metadata": {},
   "source": [
    "### 3.2. Wrangling the data to obtain a tidy DataFrame\n",
    "The first steps will be selecting the portion of the DataFrame including the data we can run analyses with, sticking to the columns we really want, and giving them a simple and memorable name."
   ]
  },
  {
   "cell_type": "code",
   "execution_count": 12,
   "metadata": {},
   "outputs": [
    {
     "data": {
      "text/html": [
       "<div>\n",
       "<style scoped>\n",
       "    .dataframe tbody tr th:only-of-type {\n",
       "        vertical-align: middle;\n",
       "    }\n",
       "\n",
       "    .dataframe tbody tr th {\n",
       "        vertical-align: top;\n",
       "    }\n",
       "\n",
       "    .dataframe thead th {\n",
       "        text-align: right;\n",
       "    }\n",
       "</style>\n",
       "<table border=\"1\" class=\"dataframe\">\n",
       "  <thead>\n",
       "    <tr style=\"text-align: right;\">\n",
       "      <th></th>\n",
       "      <th>country</th>\n",
       "      <th>item</th>\n",
       "      <th>item_code</th>\n",
       "      <th>year</th>\n",
       "      <th>value</th>\n",
       "    </tr>\n",
       "  </thead>\n",
       "  <tbody>\n",
       "    <tr>\n",
       "      <th>0</th>\n",
       "      <td>Algeria</td>\n",
       "      <td>General public services</td>\n",
       "      <td>01</td>\n",
       "      <td>1976.00</td>\n",
       "      <td>1471000000.00</td>\n",
       "    </tr>\n",
       "    <tr>\n",
       "      <th>1</th>\n",
       "      <td>Algeria</td>\n",
       "      <td>Defence</td>\n",
       "      <td>02</td>\n",
       "      <td>1976.00</td>\n",
       "      <td>1632000000.00</td>\n",
       "    </tr>\n",
       "    <tr>\n",
       "      <th>2</th>\n",
       "      <td>Algeria</td>\n",
       "      <td>Economic affairs</td>\n",
       "      <td>04</td>\n",
       "      <td>1976.00</td>\n",
       "      <td>332000000.00</td>\n",
       "    </tr>\n",
       "    <tr>\n",
       "      <th>3</th>\n",
       "      <td>Algeria</td>\n",
       "      <td>Housing and community amenities</td>\n",
       "      <td>06</td>\n",
       "      <td>1976.00</td>\n",
       "      <td>0.00</td>\n",
       "    </tr>\n",
       "    <tr>\n",
       "      <th>4</th>\n",
       "      <td>Algeria</td>\n",
       "      <td>Health</td>\n",
       "      <td>07</td>\n",
       "      <td>1976.00</td>\n",
       "      <td>63000000.00</td>\n",
       "    </tr>\n",
       "    <tr>\n",
       "      <th>...</th>\n",
       "      <td>...</td>\n",
       "      <td>...</td>\n",
       "      <td>...</td>\n",
       "      <td>...</td>\n",
       "      <td>...</td>\n",
       "    </tr>\n",
       "    <tr>\n",
       "      <th>55659</th>\n",
       "      <td>Zimbabwe</td>\n",
       "      <td>Health</td>\n",
       "      <td>07</td>\n",
       "      <td>1970.00</td>\n",
       "      <td>13000000.00</td>\n",
       "    </tr>\n",
       "    <tr>\n",
       "      <th>55660</th>\n",
       "      <td>Zimbabwe</td>\n",
       "      <td>Recreation, culture and religion</td>\n",
       "      <td>08</td>\n",
       "      <td>1970.00</td>\n",
       "      <td>3000000.00</td>\n",
       "    </tr>\n",
       "    <tr>\n",
       "      <th>55661</th>\n",
       "      <td>Zimbabwe</td>\n",
       "      <td>Education</td>\n",
       "      <td>09</td>\n",
       "      <td>1970.00</td>\n",
       "      <td>17000000.00</td>\n",
       "    </tr>\n",
       "    <tr>\n",
       "      <th>55662</th>\n",
       "      <td>Zimbabwe</td>\n",
       "      <td>Plus: (Other functions)</td>\n",
       "      <td>NaN</td>\n",
       "      <td>1970.00</td>\n",
       "      <td>-3000000.00</td>\n",
       "    </tr>\n",
       "    <tr>\n",
       "      <th>55663</th>\n",
       "      <td>Zimbabwe</td>\n",
       "      <td>Equals: General government final consumption e...</td>\n",
       "      <td>P.3</td>\n",
       "      <td>1970.00</td>\n",
       "      <td>106000000.00</td>\n",
       "    </tr>\n",
       "  </tbody>\n",
       "</table>\n",
       "<p>55664 rows × 5 columns</p>\n",
       "</div>"
      ],
      "text/plain": [
       "        country                                               item item_code  \\\n",
       "0       Algeria                            General public services        01   \n",
       "1       Algeria                                            Defence        02   \n",
       "2       Algeria                                   Economic affairs        04   \n",
       "3       Algeria                    Housing and community amenities        06   \n",
       "4       Algeria                                             Health        07   \n",
       "...         ...                                                ...       ...   \n",
       "55659  Zimbabwe                                             Health        07   \n",
       "55660  Zimbabwe                   Recreation, culture and religion        08   \n",
       "55661  Zimbabwe                                          Education        09   \n",
       "55662  Zimbabwe                            Plus: (Other functions)       NaN   \n",
       "55663  Zimbabwe  Equals: General government final consumption e...       P.3   \n",
       "\n",
       "         year         value  \n",
       "0     1976.00 1471000000.00  \n",
       "1     1976.00 1632000000.00  \n",
       "2     1976.00  332000000.00  \n",
       "3     1976.00          0.00  \n",
       "4     1976.00   63000000.00  \n",
       "...       ...           ...  \n",
       "55659 1970.00   13000000.00  \n",
       "55660 1970.00    3000000.00  \n",
       "55661 1970.00   17000000.00  \n",
       "55662 1970.00   -3000000.00  \n",
       "55663 1970.00  106000000.00  \n",
       "\n",
       "[55664 rows x 5 columns]"
      ]
     },
     "metadata": {},
     "output_type": "display_data"
    },
    {
     "data": {
      "text/plain": [
       "country       object\n",
       "item          object\n",
       "item_code     object\n",
       "year         float64\n",
       "value        float64\n",
       "dtype: object"
      ]
     },
     "execution_count": 12,
     "metadata": {},
     "output_type": "execute_result"
    }
   ],
   "source": [
    "#filter data frame to include only rows with data, not including footnotes\n",
    "df_budget = df_budget.iloc[:55664]\n",
    "\n",
    "#select only relevant columns by their position\n",
    "df_budget = df_budget.iloc[:, [0, 3, 4, 5, 10]]\n",
    "\n",
    "#rename columns\n",
    "df_budget = df_budget.set_axis(['country', 'item', 'item_code', 'year','value'], axis=1)\n",
    "\n",
    "#display DataFrame\n",
    "display(df_budget)\n",
    "\n",
    "#display type of each column\n",
    "df_budget.dtypes"
   ]
  },
  {
   "cell_type": "markdown",
   "metadata": {},
   "source": [
    "This looks way cleaner. Each row of the DataFrame carries information on the amount of money devoted by a country to a specific budget item on a specific year. This is contained in the following columns:\n",
    "\n",
    "- `country`: string (object) column with the name of the country.\n",
    "- `item`:  string column specifying the area of budget expenditure.\n",
    "- `item_code`: string column with the numeric code associated with the budget item.\n",
    "- `year`: numeric column with the year.\n",
    "- `value`: numeric column with the amount spent, in the local currency for the country.\n",
    "\n",
    "Yes, an obvious problem is that the `value` column will have values in multiple currencies. Let's not worry about that yet. To understand the different budget items, let's take a look at the unique values the combination of `item` and `item_code` can take. This will also help us see if those columns have a univocal mapping."
   ]
  },
  {
   "cell_type": "code",
   "execution_count": 13,
   "metadata": {},
   "outputs": [
    {
     "data": {
      "text/html": [
       "<div>\n",
       "<style scoped>\n",
       "    .dataframe tbody tr th:only-of-type {\n",
       "        vertical-align: middle;\n",
       "    }\n",
       "\n",
       "    .dataframe tbody tr th {\n",
       "        vertical-align: top;\n",
       "    }\n",
       "\n",
       "    .dataframe thead th {\n",
       "        text-align: right;\n",
       "    }\n",
       "</style>\n",
       "<table border=\"1\" class=\"dataframe\">\n",
       "  <thead>\n",
       "    <tr style=\"text-align: right;\">\n",
       "      <th></th>\n",
       "      <th>item</th>\n",
       "      <th>item_code</th>\n",
       "    </tr>\n",
       "  </thead>\n",
       "  <tbody>\n",
       "    <tr>\n",
       "      <th>0</th>\n",
       "      <td>General public services</td>\n",
       "      <td>01</td>\n",
       "    </tr>\n",
       "    <tr>\n",
       "      <th>1</th>\n",
       "      <td>Defence</td>\n",
       "      <td>02</td>\n",
       "    </tr>\n",
       "    <tr>\n",
       "      <th>41</th>\n",
       "      <td>Public order and safety</td>\n",
       "      <td>03</td>\n",
       "    </tr>\n",
       "    <tr>\n",
       "      <th>2</th>\n",
       "      <td>Economic affairs</td>\n",
       "      <td>04</td>\n",
       "    </tr>\n",
       "    <tr>\n",
       "      <th>43</th>\n",
       "      <td>Environment protection</td>\n",
       "      <td>05</td>\n",
       "    </tr>\n",
       "    <tr>\n",
       "      <th>3</th>\n",
       "      <td>Housing and community amenities</td>\n",
       "      <td>06</td>\n",
       "    </tr>\n",
       "    <tr>\n",
       "      <th>4</th>\n",
       "      <td>Health</td>\n",
       "      <td>07</td>\n",
       "    </tr>\n",
       "    <tr>\n",
       "      <th>5</th>\n",
       "      <td>Recreation, culture and religion</td>\n",
       "      <td>08</td>\n",
       "    </tr>\n",
       "    <tr>\n",
       "      <th>6</th>\n",
       "      <td>Education</td>\n",
       "      <td>09</td>\n",
       "    </tr>\n",
       "    <tr>\n",
       "      <th>7</th>\n",
       "      <td>Social protection</td>\n",
       "      <td>10</td>\n",
       "    </tr>\n",
       "    <tr>\n",
       "      <th>9</th>\n",
       "      <td>Equals: General government final consumption e...</td>\n",
       "      <td>P.3</td>\n",
       "    </tr>\n",
       "    <tr>\n",
       "      <th>8</th>\n",
       "      <td>Plus: (Other functions)</td>\n",
       "      <td>NaN</td>\n",
       "    </tr>\n",
       "  </tbody>\n",
       "</table>\n",
       "</div>"
      ],
      "text/plain": [
       "                                                 item item_code\n",
       "0                             General public services        01\n",
       "1                                             Defence        02\n",
       "41                            Public order and safety        03\n",
       "2                                    Economic affairs        04\n",
       "43                             Environment protection        05\n",
       "3                     Housing and community amenities        06\n",
       "4                                              Health        07\n",
       "5                    Recreation, culture and religion        08\n",
       "6                                           Education        09\n",
       "7                                   Social protection        10\n",
       "9   Equals: General government final consumption e...       P.3\n",
       "8                             Plus: (Other functions)       NaN"
      ]
     },
     "metadata": {},
     "output_type": "display_data"
    }
   ],
   "source": [
    "#print unique combinations of item and item_code and sort them\n",
    "display(df_budget[['item', 'item_code']].drop_duplicates().sort_values(by='item_code'))"
   ]
  },
  {
   "cell_type": "markdown",
   "metadata": {},
   "source": [
    "Good, looks like we have only one mapping. Items associated to codes 01 to 10 follow the classification of the functions of government by the Organisation for Economic Co-operation and Development. This is how the [Eurostat website](https://ec.europa.eu/eurostat/statistics-explained/index.php?title=Glossary:Classification_of_the_functions_of_government_(COFOG)) defines each item:\n",
    "\n",
    "- General public services: Executive and legislative organs, financial and fiscal affairs, external affairs; foreign economic aid; general services; basic research; R&D related to general public services; general public services n.e.c.; public debt transactions, transfers of a general character between different levels of government.\n",
    "- Defence:\tMilitary defence; civil defence; foreign military aid, R&D related to defence; defence n.e.c.\n",
    "- Public order and safety:\tPolice services; fire-protection services; law courts; prisons; R&D related to public order and safety; public order and safety n.e.c.\n",
    "- Economic affairs:\tGeneral economic, commercial and labour affairs; agriculture, forestry; fishing and hunting; fuel and energy; mining, manufacturing and construction; transport; communication; other industries, R&D related to economic affairs; economic affairs n.e.c.\n",
    "- Environmental protection:\tWaste management; water waste management; pollution abatement; protection of biodiversity and landscape; R&D related to environmental protection.\n",
    "- Housing and community amenities:\tHousing development; community development; water supply; street lighting; R&D related to housing and community amenities; housing and community amenities n.e.c.\n",
    "- Health:\tMedical products, appliances and equipment; outpatient services; hospital services; public health services; R&D related to health; health n.e.c.\n",
    "- Recreation, culture and religion:\tRecreational and sporting services; cultural services; broadcasting and publishing services; religious and other community services, R&D related to recreation, culture and religion; recreation; culture and religion n.e.c.\n",
    "- Education:\tPre-primary, primary, secondary and tertiary education, post-secondary non-tertiary education, education non definable by level, subsidiary services to education, R&D; n.e.c.\n",
    "- Social protection:\tSickness and disability; old age; survivors; family and children; unemployment; housing; R&D; social protection and social exclusion n.e.c.\n",
    "\n",
    "The other values `item` can take is *Plus: (Other functions)* and *Equals: General government final consumption expenditure*. The first refers to other functions, while the second conveys the sum of all individual items. We have no information on what this *other functions* specifically represents. Across countries, this could mean something very different and lead to biases when conducting our clustering. To avoid confusion we will delete those rows from the DataFrame. We will also get rid of the final expenditure rows, as we will calculate it ourselves by summing the budget over the 10 items we keep."
   ]
  },
  {
   "cell_type": "code",
   "execution_count": 14,
   "metadata": {},
   "outputs": [],
   "source": [
    "# remove rows containing other items and total expenditure\n",
    "df_budget = df_budget[df_budget['item'] != 'Plus: (Other functions)']\n",
    "df_budget = df_budget[df_budget['item'] != 'Equals: General government final consumption expenditure']"
   ]
  },
  {
   "cell_type": "markdown",
   "metadata": {},
   "source": [
    "Another classic problem in public datasets is that we often find duplicate rows. Since the amount specified in `value` could be slightly different, we will identify duplicates by finding the rows where `country`, `item_code` and `year` are the same. Then we will compare it to the number of rows of the DataFrame we have now."
   ]
  },
  {
   "cell_type": "code",
   "execution_count": 15,
   "metadata": {},
   "outputs": [
    {
     "data": {
      "text/html": [
       "<div>\n",
       "<style scoped>\n",
       "    .dataframe tbody tr th:only-of-type {\n",
       "        vertical-align: middle;\n",
       "    }\n",
       "\n",
       "    .dataframe tbody tr th {\n",
       "        vertical-align: top;\n",
       "    }\n",
       "\n",
       "    .dataframe thead th {\n",
       "        text-align: right;\n",
       "    }\n",
       "</style>\n",
       "<table border=\"1\" class=\"dataframe\">\n",
       "  <thead>\n",
       "    <tr style=\"text-align: right;\">\n",
       "      <th></th>\n",
       "      <th>country</th>\n",
       "      <th>item</th>\n",
       "      <th>item_code</th>\n",
       "      <th>year</th>\n",
       "      <th>value</th>\n",
       "    </tr>\n",
       "  </thead>\n",
       "  <tbody>\n",
       "    <tr>\n",
       "      <th>80</th>\n",
       "      <td>Andorra</td>\n",
       "      <td>General public services</td>\n",
       "      <td>01</td>\n",
       "      <td>2018.00</td>\n",
       "      <td>116127786.77</td>\n",
       "    </tr>\n",
       "    <tr>\n",
       "      <th>81</th>\n",
       "      <td>Andorra</td>\n",
       "      <td>General public services</td>\n",
       "      <td>01</td>\n",
       "      <td>2018.00</td>\n",
       "      <td>128666000.00</td>\n",
       "    </tr>\n",
       "    <tr>\n",
       "      <th>82</th>\n",
       "      <td>Andorra</td>\n",
       "      <td>Public order and safety</td>\n",
       "      <td>03</td>\n",
       "      <td>2018.00</td>\n",
       "      <td>42150348.94</td>\n",
       "    </tr>\n",
       "    <tr>\n",
       "      <th>83</th>\n",
       "      <td>Andorra</td>\n",
       "      <td>Public order and safety</td>\n",
       "      <td>03</td>\n",
       "      <td>2018.00</td>\n",
       "      <td>36931000.00</td>\n",
       "    </tr>\n",
       "    <tr>\n",
       "      <th>84</th>\n",
       "      <td>Andorra</td>\n",
       "      <td>Economic affairs</td>\n",
       "      <td>04</td>\n",
       "      <td>2018.00</td>\n",
       "      <td>35916078.50</td>\n",
       "    </tr>\n",
       "    <tr>\n",
       "      <th>...</th>\n",
       "      <td>...</td>\n",
       "      <td>...</td>\n",
       "      <td>...</td>\n",
       "      <td>...</td>\n",
       "      <td>...</td>\n",
       "    </tr>\n",
       "    <tr>\n",
       "      <th>55286</th>\n",
       "      <td>Yemen</td>\n",
       "      <td>Recreation, culture and religion</td>\n",
       "      <td>08</td>\n",
       "      <td>2000.00</td>\n",
       "      <td>1206000000.00</td>\n",
       "    </tr>\n",
       "    <tr>\n",
       "      <th>55287</th>\n",
       "      <td>Yemen</td>\n",
       "      <td>Education</td>\n",
       "      <td>09</td>\n",
       "      <td>2000.00</td>\n",
       "      <td>71456000000.00</td>\n",
       "    </tr>\n",
       "    <tr>\n",
       "      <th>55288</th>\n",
       "      <td>Yemen</td>\n",
       "      <td>Education</td>\n",
       "      <td>09</td>\n",
       "      <td>2000.00</td>\n",
       "      <td>68746000000.00</td>\n",
       "    </tr>\n",
       "    <tr>\n",
       "      <th>55289</th>\n",
       "      <td>Yemen</td>\n",
       "      <td>Social protection</td>\n",
       "      <td>10</td>\n",
       "      <td>2000.00</td>\n",
       "      <td>367000000.00</td>\n",
       "    </tr>\n",
       "    <tr>\n",
       "      <th>55290</th>\n",
       "      <td>Yemen</td>\n",
       "      <td>Social protection</td>\n",
       "      <td>10</td>\n",
       "      <td>2000.00</td>\n",
       "      <td>367000000.00</td>\n",
       "    </tr>\n",
       "  </tbody>\n",
       "</table>\n",
       "<p>27286 rows × 5 columns</p>\n",
       "</div>"
      ],
      "text/plain": [
       "       country                              item item_code    year  \\\n",
       "80     Andorra           General public services        01 2018.00   \n",
       "81     Andorra           General public services        01 2018.00   \n",
       "82     Andorra           Public order and safety        03 2018.00   \n",
       "83     Andorra           Public order and safety        03 2018.00   \n",
       "84     Andorra                  Economic affairs        04 2018.00   \n",
       "...        ...                               ...       ...     ...   \n",
       "55286    Yemen  Recreation, culture and religion        08 2000.00   \n",
       "55287    Yemen                         Education        09 2000.00   \n",
       "55288    Yemen                         Education        09 2000.00   \n",
       "55289    Yemen                 Social protection        10 2000.00   \n",
       "55290    Yemen                 Social protection        10 2000.00   \n",
       "\n",
       "               value  \n",
       "80      116127786.77  \n",
       "81      128666000.00  \n",
       "82       42150348.94  \n",
       "83       36931000.00  \n",
       "84       35916078.50  \n",
       "...              ...  \n",
       "55286  1206000000.00  \n",
       "55287 71456000000.00  \n",
       "55288 68746000000.00  \n",
       "55289   367000000.00  \n",
       "55290   367000000.00  \n",
       "\n",
       "[27286 rows x 5 columns]"
      ]
     },
     "metadata": {},
     "output_type": "display_data"
    },
    {
     "data": {
      "text/plain": [
       "46613"
      ]
     },
     "execution_count": 15,
     "metadata": {},
     "output_type": "execute_result"
    }
   ],
   "source": [
    "#display rows that share the same country, item_code and year information (partial duplicates)\n",
    "display(df_budget[df_budget.duplicated(subset=['country', 'item_code', 'year'], keep=False)])\n",
    "\n",
    "#show number of rows of the DataFrame\n",
    "len(df_budget)"
   ]
  },
  {
   "cell_type": "markdown",
   "metadata": {},
   "source": [
    "Oh no, 27286 rows of the total 46613 are redundant. We will keep the first unique ones and drop the rest."
   ]
  },
  {
   "cell_type": "code",
   "execution_count": 16,
   "metadata": {},
   "outputs": [
    {
     "data": {
      "text/html": [
       "<div>\n",
       "<style scoped>\n",
       "    .dataframe tbody tr th:only-of-type {\n",
       "        vertical-align: middle;\n",
       "    }\n",
       "\n",
       "    .dataframe tbody tr th {\n",
       "        vertical-align: top;\n",
       "    }\n",
       "\n",
       "    .dataframe thead th {\n",
       "        text-align: right;\n",
       "    }\n",
       "</style>\n",
       "<table border=\"1\" class=\"dataframe\">\n",
       "  <thead>\n",
       "    <tr style=\"text-align: right;\">\n",
       "      <th></th>\n",
       "      <th>country</th>\n",
       "      <th>item</th>\n",
       "      <th>item_code</th>\n",
       "      <th>year</th>\n",
       "      <th>value</th>\n",
       "    </tr>\n",
       "  </thead>\n",
       "  <tbody>\n",
       "  </tbody>\n",
       "</table>\n",
       "</div>"
      ],
      "text/plain": [
       "Empty DataFrame\n",
       "Columns: [country, item, item_code, year, value]\n",
       "Index: []"
      ]
     },
     "metadata": {},
     "output_type": "display_data"
    }
   ],
   "source": [
    "#drop partial duplicates, keeping the first occurrence\n",
    "df_budget = df_budget.drop_duplicates(subset=['country', 'item_code', 'year'], keep='first')\n",
    "\n",
    "#again, display partial duplicate rows\n",
    "display(df_budget[df_budget.duplicated(subset=['country', 'item_code', 'year'], keep=False)])"
   ]
  },
  {
   "cell_type": "markdown",
   "metadata": {},
   "source": [
    "By the output of the last line above, we can see no more rows are duplicates. Now on to a more difficult problem: missing data. Even if we have data for different years, ideally we would like to use data from a same, recent year for all countries. But it is very likely all countries will not have data for the same years. On top of that, the data may not exist for all of our 10 items. To see the extent to which this happens, we will create a function that displays, for the most recent years (2010 to 2022), the amount of countries we have data for, and how many countries have at least a given number of rows. The maximum a country could have is 10 rows, corresponding to our 10 items."
   ]
  },
  {
   "cell_type": "code",
   "execution_count": 17,
   "metadata": {},
   "outputs": [
    {
     "data": {
      "text/html": [
       "<div>\n",
       "<style scoped>\n",
       "    .dataframe tbody tr th:only-of-type {\n",
       "        vertical-align: middle;\n",
       "    }\n",
       "\n",
       "    .dataframe tbody tr th {\n",
       "        vertical-align: top;\n",
       "    }\n",
       "\n",
       "    .dataframe thead th {\n",
       "        text-align: right;\n",
       "    }\n",
       "</style>\n",
       "<table border=\"1\" class=\"dataframe\">\n",
       "  <thead>\n",
       "    <tr style=\"text-align: right;\">\n",
       "      <th></th>\n",
       "      <th>year</th>\n",
       "      <th>number_of_countries</th>\n",
       "      <th>ncountries_8rows</th>\n",
       "      <th>ncountries_9rows</th>\n",
       "      <th>ncountries_10rows</th>\n",
       "    </tr>\n",
       "  </thead>\n",
       "  <tbody>\n",
       "    <tr>\n",
       "      <th>0</th>\n",
       "      <td>2010.00</td>\n",
       "      <td>85</td>\n",
       "      <td>67</td>\n",
       "      <td>66</td>\n",
       "      <td>54</td>\n",
       "    </tr>\n",
       "    <tr>\n",
       "      <th>1</th>\n",
       "      <td>2011.00</td>\n",
       "      <td>85</td>\n",
       "      <td>66</td>\n",
       "      <td>66</td>\n",
       "      <td>56</td>\n",
       "    </tr>\n",
       "    <tr>\n",
       "      <th>2</th>\n",
       "      <td>2012.00</td>\n",
       "      <td>82</td>\n",
       "      <td>64</td>\n",
       "      <td>64</td>\n",
       "      <td>54</td>\n",
       "    </tr>\n",
       "    <tr>\n",
       "      <th>3</th>\n",
       "      <td>2013.00</td>\n",
       "      <td>81</td>\n",
       "      <td>65</td>\n",
       "      <td>65</td>\n",
       "      <td>54</td>\n",
       "    </tr>\n",
       "    <tr>\n",
       "      <th>4</th>\n",
       "      <td>2014.00</td>\n",
       "      <td>80</td>\n",
       "      <td>63</td>\n",
       "      <td>63</td>\n",
       "      <td>54</td>\n",
       "    </tr>\n",
       "    <tr>\n",
       "      <th>5</th>\n",
       "      <td>2015.00</td>\n",
       "      <td>80</td>\n",
       "      <td>63</td>\n",
       "      <td>63</td>\n",
       "      <td>52</td>\n",
       "    </tr>\n",
       "    <tr>\n",
       "      <th>6</th>\n",
       "      <td>2016.00</td>\n",
       "      <td>81</td>\n",
       "      <td>63</td>\n",
       "      <td>63</td>\n",
       "      <td>52</td>\n",
       "    </tr>\n",
       "    <tr>\n",
       "      <th>7</th>\n",
       "      <td>2017.00</td>\n",
       "      <td>78</td>\n",
       "      <td>61</td>\n",
       "      <td>60</td>\n",
       "      <td>51</td>\n",
       "    </tr>\n",
       "    <tr>\n",
       "      <th>8</th>\n",
       "      <td>2018.00</td>\n",
       "      <td>76</td>\n",
       "      <td>61</td>\n",
       "      <td>60</td>\n",
       "      <td>53</td>\n",
       "    </tr>\n",
       "    <tr>\n",
       "      <th>9</th>\n",
       "      <td>2019.00</td>\n",
       "      <td>76</td>\n",
       "      <td>61</td>\n",
       "      <td>59</td>\n",
       "      <td>52</td>\n",
       "    </tr>\n",
       "    <tr>\n",
       "      <th>10</th>\n",
       "      <td>2020.00</td>\n",
       "      <td>70</td>\n",
       "      <td>60</td>\n",
       "      <td>58</td>\n",
       "      <td>51</td>\n",
       "    </tr>\n",
       "    <tr>\n",
       "      <th>11</th>\n",
       "      <td>2021.00</td>\n",
       "      <td>63</td>\n",
       "      <td>55</td>\n",
       "      <td>54</td>\n",
       "      <td>47</td>\n",
       "    </tr>\n",
       "    <tr>\n",
       "      <th>12</th>\n",
       "      <td>2022.00</td>\n",
       "      <td>14</td>\n",
       "      <td>10</td>\n",
       "      <td>9</td>\n",
       "      <td>5</td>\n",
       "    </tr>\n",
       "  </tbody>\n",
       "</table>\n",
       "</div>"
      ],
      "text/plain": [
       "      year  number_of_countries  ncountries_8rows  ncountries_9rows  \\\n",
       "0  2010.00                   85                67                66   \n",
       "1  2011.00                   85                66                66   \n",
       "2  2012.00                   82                64                64   \n",
       "3  2013.00                   81                65                65   \n",
       "4  2014.00                   80                63                63   \n",
       "5  2015.00                   80                63                63   \n",
       "6  2016.00                   81                63                63   \n",
       "7  2017.00                   78                61                60   \n",
       "8  2018.00                   76                61                60   \n",
       "9  2019.00                   76                61                59   \n",
       "10 2020.00                   70                60                58   \n",
       "11 2021.00                   63                55                54   \n",
       "12 2022.00                   14                10                 9   \n",
       "\n",
       "    ncountries_10rows  \n",
       "0                  54  \n",
       "1                  56  \n",
       "2                  54  \n",
       "3                  54  \n",
       "4                  54  \n",
       "5                  52  \n",
       "6                  52  \n",
       "7                  51  \n",
       "8                  53  \n",
       "9                  52  \n",
       "10                 51  \n",
       "11                 47  \n",
       "12                  5  "
      ]
     },
     "metadata": {},
     "output_type": "display_data"
    }
   ],
   "source": [
    "#define function that counts the number of countries with at least a certain number of rows\n",
    "def count_countries_by_min_rows(df, min_rows_list, min_year, max_year):\n",
    "    #filter to include data between min_year and max_year\n",
    "    df_years = df[(df['year'] >= min_year) & (df['year'] <= max_year)]\n",
    "\n",
    "    #group by year and count the number of unique countries for each year\n",
    "    ncountries_per_year = df_years.groupby('year')['country'].nunique().reset_index()\n",
    "    ncountries_per_year.columns = ['year', 'number_of_countries']\n",
    "\n",
    "    #group by year and country to count the number of rows per country per year\n",
    "    country_counts_per_year = df_years.groupby(['year', 'country']).size().reset_index(name='counts')\n",
    "\n",
    "    #initialize the result dataframe with the number of unique countries per year to later append columns calculated below\n",
    "    result = ncountries_per_year.copy()\n",
    "\n",
    "    #run loop to calculate number of countries with at least the number of rows for each of the numbers of the list\n",
    "    for min_rows in min_rows_list:\n",
    "        #filter to include only  countries with at least min_rows\n",
    "        countries_min_rows = country_counts_per_year[country_counts_per_year['counts'] >= min_rows]\n",
    "\n",
    "        #group by year to count the number of countries with at least min_rows\n",
    "        countries_min_rows_per_year = countries_min_rows.groupby('year')['country'].nunique().reset_index()\n",
    "        countries_min_rows_per_year.columns = ['year', f'ncountries_{min_rows}rows']\n",
    "\n",
    "        #merge with the result dataframe\n",
    "        result = result.merge(countries_min_rows_per_year, on='year', how='left').fillna(0)\n",
    "\n",
    "    return result\n",
    "\n",
    "#run function\n",
    "ncountries_peryear = count_countries_by_min_rows(df_budget, [8, 9, 10], 2010, 2022) #look into n countries with 8 to 10 rows, from 2010 to 2022\n",
    "\n",
    "#display resulting DataFrame\n",
    "display(ncountries_peryear)"
   ]
  },
  {
   "cell_type": "markdown",
   "metadata": {},
   "source": [
    "The generated DataFrame can reveal how much data we lose depending on how much we narrow down our dataset. First, by looking at the  `number_of_countries` column we see how we have data for less countries as years go by. So even if it would be tempting to use only data for the latest year, in doing so we would lose a lot of datapoints. By looking at the three rightmost columns, we can also appreciate that there are many countries that do not have data for all items. This is likely due to problems adscribing the expenditure to one of those 10 items. Whatever the cause may have been, for the sake of this project it may be better to play it safe and choose only countries and years for which data for all 10 items is present. What we will do is to choose all countries and years with 10 rows of data each, and stick to the latest year. This way, despite the information across countries provening from different years, we will be able to salvage as much data as possible while at the same time ensuring all items are represented, preventing our subsequent analyses from being biased due to categories being missing. "
   ]
  },
  {
   "cell_type": "code",
   "execution_count": 18,
   "metadata": {},
   "outputs": [
    {
     "data": {
      "text/html": [
       "<div>\n",
       "<style scoped>\n",
       "    .dataframe tbody tr th:only-of-type {\n",
       "        vertical-align: middle;\n",
       "    }\n",
       "\n",
       "    .dataframe tbody tr th {\n",
       "        vertical-align: top;\n",
       "    }\n",
       "\n",
       "    .dataframe thead th {\n",
       "        text-align: right;\n",
       "    }\n",
       "</style>\n",
       "<table border=\"1\" class=\"dataframe\">\n",
       "  <thead>\n",
       "    <tr style=\"text-align: right;\">\n",
       "      <th></th>\n",
       "      <th>country</th>\n",
       "      <th>item</th>\n",
       "      <th>item_code</th>\n",
       "      <th>year</th>\n",
       "      <th>value</th>\n",
       "    </tr>\n",
       "  </thead>\n",
       "  <tbody>\n",
       "    <tr>\n",
       "      <th>0</th>\n",
       "      <td>Australia</td>\n",
       "      <td>General public services</td>\n",
       "      <td>01</td>\n",
       "      <td>2021.00</td>\n",
       "      <td>29382000000.00</td>\n",
       "    </tr>\n",
       "    <tr>\n",
       "      <th>1</th>\n",
       "      <td>Australia</td>\n",
       "      <td>Defence</td>\n",
       "      <td>02</td>\n",
       "      <td>2021.00</td>\n",
       "      <td>42718000000.00</td>\n",
       "    </tr>\n",
       "    <tr>\n",
       "      <th>2</th>\n",
       "      <td>Australia</td>\n",
       "      <td>Public order and safety</td>\n",
       "      <td>03</td>\n",
       "      <td>2021.00</td>\n",
       "      <td>38821000000.00</td>\n",
       "    </tr>\n",
       "    <tr>\n",
       "      <th>3</th>\n",
       "      <td>Australia</td>\n",
       "      <td>Economic affairs</td>\n",
       "      <td>04</td>\n",
       "      <td>2021.00</td>\n",
       "      <td>41182000000.00</td>\n",
       "    </tr>\n",
       "    <tr>\n",
       "      <th>4</th>\n",
       "      <td>Australia</td>\n",
       "      <td>Environment protection</td>\n",
       "      <td>05</td>\n",
       "      <td>2021.00</td>\n",
       "      <td>4792000000.00</td>\n",
       "    </tr>\n",
       "    <tr>\n",
       "      <th>...</th>\n",
       "      <td>...</td>\n",
       "      <td>...</td>\n",
       "      <td>...</td>\n",
       "      <td>...</td>\n",
       "      <td>...</td>\n",
       "    </tr>\n",
       "    <tr>\n",
       "      <th>585</th>\n",
       "      <td>Zambia</td>\n",
       "      <td>Housing and community amenities</td>\n",
       "      <td>06</td>\n",
       "      <td>2021.00</td>\n",
       "      <td>363433352.05</td>\n",
       "    </tr>\n",
       "    <tr>\n",
       "      <th>586</th>\n",
       "      <td>Zambia</td>\n",
       "      <td>Health</td>\n",
       "      <td>07</td>\n",
       "      <td>2021.00</td>\n",
       "      <td>155703527.01</td>\n",
       "    </tr>\n",
       "    <tr>\n",
       "      <th>587</th>\n",
       "      <td>Zambia</td>\n",
       "      <td>Recreation, culture and religion</td>\n",
       "      <td>08</td>\n",
       "      <td>2021.00</td>\n",
       "      <td>158776287.05</td>\n",
       "    </tr>\n",
       "    <tr>\n",
       "      <th>588</th>\n",
       "      <td>Zambia</td>\n",
       "      <td>Education</td>\n",
       "      <td>09</td>\n",
       "      <td>2021.00</td>\n",
       "      <td>806607293.74</td>\n",
       "    </tr>\n",
       "    <tr>\n",
       "      <th>589</th>\n",
       "      <td>Zambia</td>\n",
       "      <td>Social protection</td>\n",
       "      <td>10</td>\n",
       "      <td>2021.00</td>\n",
       "      <td>113929379.77</td>\n",
       "    </tr>\n",
       "  </tbody>\n",
       "</table>\n",
       "<p>590 rows × 5 columns</p>\n",
       "</div>"
      ],
      "text/plain": [
       "       country                              item item_code    year  \\\n",
       "0    Australia           General public services        01 2021.00   \n",
       "1    Australia                           Defence        02 2021.00   \n",
       "2    Australia           Public order and safety        03 2021.00   \n",
       "3    Australia                  Economic affairs        04 2021.00   \n",
       "4    Australia            Environment protection        05 2021.00   \n",
       "..         ...                               ...       ...     ...   \n",
       "585     Zambia   Housing and community amenities        06 2021.00   \n",
       "586     Zambia                            Health        07 2021.00   \n",
       "587     Zambia  Recreation, culture and religion        08 2021.00   \n",
       "588     Zambia                         Education        09 2021.00   \n",
       "589     Zambia                 Social protection        10 2021.00   \n",
       "\n",
       "             value  \n",
       "0   29382000000.00  \n",
       "1   42718000000.00  \n",
       "2   38821000000.00  \n",
       "3   41182000000.00  \n",
       "4    4792000000.00  \n",
       "..             ...  \n",
       "585   363433352.05  \n",
       "586   155703527.01  \n",
       "587   158776287.05  \n",
       "588   806607293.74  \n",
       "589   113929379.77  \n",
       "\n",
       "[590 rows x 5 columns]"
      ]
     },
     "metadata": {},
     "output_type": "display_data"
    }
   ],
   "source": [
    "#filter df keeping only data from years 2010 onwards\n",
    "df_budget = df_budget[df_budget['year'] >= 2010]\n",
    "\n",
    "#take only data where for each year each country has 10 rows of data (corresponding to expenditure for each item of budget) \n",
    "df_budget = df_budget[df_budget.groupby(['country', 'year'])['year'].transform('size') >= 10]\n",
    "\n",
    "#for each country take data for latest available year\n",
    "latest_year_data = df_budget.groupby('country')['year'].transform('max')\n",
    "df_budget = df_budget[df_budget['year'] == latest_year_data].reset_index(drop=True)\n",
    "\n",
    "#display the DataFrame\n",
    "display(df_budget)"
   ]
  },
  {
   "cell_type": "markdown",
   "metadata": {},
   "source": [
    "We are left with 590 rows, which should mean that we have data for 59 countries. Let's make sure though."
   ]
  },
  {
   "cell_type": "code",
   "execution_count": 19,
   "metadata": {},
   "outputs": [
    {
     "data": {
      "text/plain": [
       "59"
      ]
     },
     "metadata": {},
     "output_type": "display_data"
    },
    {
     "data": {
      "text/plain": [
       "array([10])"
      ]
     },
     "metadata": {},
     "output_type": "display_data"
    }
   ],
   "source": [
    "#display number of unique countries\n",
    "display(df_budget['country'].nunique())\n",
    "\n",
    "#display unique number of rows for our countries\n",
    "display(df_budget.groupby('country').size().unique())"
   ]
  },
  {
   "cell_type": "markdown",
   "metadata": {},
   "source": [
    "Okay, 59 countries and all have 10 rows. Now let's see the range of years our data spans."
   ]
  },
  {
   "cell_type": "code",
   "execution_count": 20,
   "metadata": {},
   "outputs": [
    {
     "data": {
      "text/plain": [
       "array([2021., 2011., 2014., 2020., 2018., 2022., 2013., 2012., 2019.])"
      ]
     },
     "metadata": {},
     "output_type": "display_data"
    }
   ],
   "source": [
    "#display unique years data is for\n",
    "display(df_budget['year'].unique())"
   ]
  },
  {
   "cell_type": "markdown",
   "metadata": {},
   "source": [
    "We have data from 2011 through 2022. Quite a wide range, but at least we will have a sizeable number of countries. Since we are at it, let's take a look at the countries we still have."
   ]
  },
  {
   "cell_type": "code",
   "execution_count": 21,
   "metadata": {},
   "outputs": [
    {
     "data": {
      "text/plain": [
       "array(['Australia', 'Austria', 'Bangladesh', 'Belgium', 'Bermuda',\n",
       "       'Bulgaria', 'Chile',\n",
       "       'China, Hong Kong Special Administrative Region', 'Croatia',\n",
       "       'Cyprus', 'Czechia', 'Denmark', 'Estonia', 'Eswatini',\n",
       "       'Faroe Islands', 'Fiji', 'Finland', 'France', 'Germany', 'Greece',\n",
       "       'Greenland', 'Guatemala', 'Hungary', 'Iceland', 'India',\n",
       "       'Iran (Islamic Republic of)', 'Ireland', 'Israel', 'Italy',\n",
       "       'Japan', 'Kazakhstan', 'Kyrgyzstan', 'Latvia', 'Lithuania',\n",
       "       'Luxembourg', 'Malaysia', 'Malta', 'Mongolia', 'Netherlands',\n",
       "       'Norway', 'Poland', 'Portugal', 'Republic of Korea', 'Romania',\n",
       "       'Russian Federation', 'Senegal', 'Seychelles', 'Slovakia',\n",
       "       'Slovenia', 'Spain', 'Sri Lanka', 'Sweden', 'Switzerland',\n",
       "       'Tanzania - Mainland', 'Thailand', 'Ukraine', 'United Kingdom',\n",
       "       'Yemen', 'Zambia'], dtype=object)"
      ]
     },
     "metadata": {},
     "output_type": "display_data"
    }
   ],
   "source": [
    "#display unique countries\n",
    "display(df_budget['country'].unique())"
   ]
  },
  {
   "cell_type": "markdown",
   "metadata": {},
   "source": [
    "Alright. There are a few things to consider. First, we are left with a list of mainly developed countries. That makes sense if we think that we narrowed down our list to those countries for which the most exhaustive data is available. This may impact our analyses, but there is not much we can do about it. Second, some of those names above belong to non-sovereign territories. By definition, this means that those lack full authority, typically lacking such structures like, for example, an army. It may be wise to remove them from the list."
   ]
  },
  {
   "cell_type": "code",
   "execution_count": 22,
   "metadata": {},
   "outputs": [],
   "source": [
    "#remove non-sovereign states\n",
    "non_sovereign_states = ['Bermuda', 'China, Hong Kong Special Administrative Region', 'Faroe Islands', 'Greenland']\n",
    "df_budget = df_budget[~df_budget['country'].isin(non_sovereign_states)]"
   ]
  },
  {
   "cell_type": "markdown",
   "metadata": {},
   "source": [
    "Some of the remaining countries appear here with their official but quite long names. We will rename the values in the `country` column so those countries are identified by the short, straightforward name by which people refer to them."
   ]
  },
  {
   "cell_type": "code",
   "execution_count": 23,
   "metadata": {},
   "outputs": [],
   "source": [
    "#replace country names to make them shorter\n",
    "df_budget['country'] = df_budget['country'].replace('Iran (Islamic Republic of)', 'Iran')\n",
    "df_budget['country'] = df_budget['country'].replace('Republic of Korea', 'South Korea')\n",
    "df_budget['country'] = df_budget['country'].replace('Russian Federation', 'Russia')\n",
    "df_budget['country'] = df_budget['country'].replace('Tanzania - Mainland', 'Tanzania')"
   ]
  },
  {
   "cell_type": "markdown",
   "metadata": {},
   "source": [
    "And now, a crucial thing. We will take the expenditure per item per country, currently in local currency, and obtain the percentage it represents over the total budget we will previously calculate. Then we will print data for an example country to see how it looks."
   ]
  },
  {
   "cell_type": "code",
   "execution_count": 24,
   "metadata": {},
   "outputs": [
    {
     "data": {
      "text/html": [
       "<div>\n",
       "<style scoped>\n",
       "    .dataframe tbody tr th:only-of-type {\n",
       "        vertical-align: middle;\n",
       "    }\n",
       "\n",
       "    .dataframe tbody tr th {\n",
       "        vertical-align: top;\n",
       "    }\n",
       "\n",
       "    .dataframe thead th {\n",
       "        text-align: right;\n",
       "    }\n",
       "</style>\n",
       "<table border=\"1\" class=\"dataframe\">\n",
       "  <thead>\n",
       "    <tr style=\"text-align: right;\">\n",
       "      <th></th>\n",
       "      <th>country</th>\n",
       "      <th>item</th>\n",
       "      <th>item_code</th>\n",
       "      <th>year</th>\n",
       "      <th>value</th>\n",
       "      <th>total_budget</th>\n",
       "      <th>perc_budget</th>\n",
       "    </tr>\n",
       "  </thead>\n",
       "  <tbody>\n",
       "    <tr>\n",
       "      <th>0</th>\n",
       "      <td>Australia</td>\n",
       "      <td>General public services</td>\n",
       "      <td>01</td>\n",
       "      <td>2021.00</td>\n",
       "      <td>29382000000.00</td>\n",
       "      <td>501729000000.00</td>\n",
       "      <td>5.86</td>\n",
       "    </tr>\n",
       "    <tr>\n",
       "      <th>1</th>\n",
       "      <td>Australia</td>\n",
       "      <td>Defence</td>\n",
       "      <td>02</td>\n",
       "      <td>2021.00</td>\n",
       "      <td>42718000000.00</td>\n",
       "      <td>501729000000.00</td>\n",
       "      <td>8.51</td>\n",
       "    </tr>\n",
       "    <tr>\n",
       "      <th>2</th>\n",
       "      <td>Australia</td>\n",
       "      <td>Public order and safety</td>\n",
       "      <td>03</td>\n",
       "      <td>2021.00</td>\n",
       "      <td>38821000000.00</td>\n",
       "      <td>501729000000.00</td>\n",
       "      <td>7.74</td>\n",
       "    </tr>\n",
       "    <tr>\n",
       "      <th>3</th>\n",
       "      <td>Australia</td>\n",
       "      <td>Economic affairs</td>\n",
       "      <td>04</td>\n",
       "      <td>2021.00</td>\n",
       "      <td>41182000000.00</td>\n",
       "      <td>501729000000.00</td>\n",
       "      <td>8.21</td>\n",
       "    </tr>\n",
       "    <tr>\n",
       "      <th>4</th>\n",
       "      <td>Australia</td>\n",
       "      <td>Environment protection</td>\n",
       "      <td>05</td>\n",
       "      <td>2021.00</td>\n",
       "      <td>4792000000.00</td>\n",
       "      <td>501729000000.00</td>\n",
       "      <td>0.96</td>\n",
       "    </tr>\n",
       "    <tr>\n",
       "      <th>5</th>\n",
       "      <td>Australia</td>\n",
       "      <td>Housing and community amenities</td>\n",
       "      <td>06</td>\n",
       "      <td>2021.00</td>\n",
       "      <td>5033000000.00</td>\n",
       "      <td>501729000000.00</td>\n",
       "      <td>1.00</td>\n",
       "    </tr>\n",
       "    <tr>\n",
       "      <th>6</th>\n",
       "      <td>Australia</td>\n",
       "      <td>Health</td>\n",
       "      <td>07</td>\n",
       "      <td>2021.00</td>\n",
       "      <td>155910000000.00</td>\n",
       "      <td>501729000000.00</td>\n",
       "      <td>31.07</td>\n",
       "    </tr>\n",
       "    <tr>\n",
       "      <th>7</th>\n",
       "      <td>Australia</td>\n",
       "      <td>Recreation, culture and religion</td>\n",
       "      <td>08</td>\n",
       "      <td>2021.00</td>\n",
       "      <td>10742000000.00</td>\n",
       "      <td>501729000000.00</td>\n",
       "      <td>2.14</td>\n",
       "    </tr>\n",
       "    <tr>\n",
       "      <th>8</th>\n",
       "      <td>Australia</td>\n",
       "      <td>Education</td>\n",
       "      <td>09</td>\n",
       "      <td>2021.00</td>\n",
       "      <td>91830000000.00</td>\n",
       "      <td>501729000000.00</td>\n",
       "      <td>18.30</td>\n",
       "    </tr>\n",
       "    <tr>\n",
       "      <th>9</th>\n",
       "      <td>Australia</td>\n",
       "      <td>Social protection</td>\n",
       "      <td>10</td>\n",
       "      <td>2021.00</td>\n",
       "      <td>81319000000.00</td>\n",
       "      <td>501729000000.00</td>\n",
       "      <td>16.21</td>\n",
       "    </tr>\n",
       "  </tbody>\n",
       "</table>\n",
       "</div>"
      ],
      "text/plain": [
       "     country                              item item_code    year  \\\n",
       "0  Australia           General public services        01 2021.00   \n",
       "1  Australia                           Defence        02 2021.00   \n",
       "2  Australia           Public order and safety        03 2021.00   \n",
       "3  Australia                  Economic affairs        04 2021.00   \n",
       "4  Australia            Environment protection        05 2021.00   \n",
       "5  Australia   Housing and community amenities        06 2021.00   \n",
       "6  Australia                            Health        07 2021.00   \n",
       "7  Australia  Recreation, culture and religion        08 2021.00   \n",
       "8  Australia                         Education        09 2021.00   \n",
       "9  Australia                 Social protection        10 2021.00   \n",
       "\n",
       "            value    total_budget  perc_budget  \n",
       "0  29382000000.00 501729000000.00         5.86  \n",
       "1  42718000000.00 501729000000.00         8.51  \n",
       "2  38821000000.00 501729000000.00         7.74  \n",
       "3  41182000000.00 501729000000.00         8.21  \n",
       "4   4792000000.00 501729000000.00         0.96  \n",
       "5   5033000000.00 501729000000.00         1.00  \n",
       "6 155910000000.00 501729000000.00        31.07  \n",
       "7  10742000000.00 501729000000.00         2.14  \n",
       "8  91830000000.00 501729000000.00        18.30  \n",
       "9  81319000000.00 501729000000.00        16.21  "
      ]
     },
     "metadata": {},
     "output_type": "display_data"
    }
   ],
   "source": [
    "#calculate the percentage of the budget assigned to each item\n",
    "df_budget['total_budget'] = df_budget.groupby('country')['value'].transform('sum') #calculate total budget by summing expenditure for all items within countries\n",
    "df_budget['perc_budget'] = (df_budget['value'] / df_budget['total_budget']) * 100 #divide total expenditure on each item over total budget and multiply by 100\n",
    "\n",
    "#display data for one example country\n",
    "display(df_budget[df_budget['country'] == 'Australia'])"
   ]
  },
  {
   "cell_type": "markdown",
   "metadata": {},
   "source": [
    "Nice and clean. We now have the final DataFrame we will work with. Another useful thing to have is a list of the unique countries we are left with, as well as a list of the budget expenditure items. These will come out handy very soon, when we start taking slices of our DataFrame and creating figures."
   ]
  },
  {
   "cell_type": "code",
   "execution_count": 25,
   "metadata": {},
   "outputs": [],
   "source": [
    "#obtain an alphabetically-ordered list of the countries\n",
    "unique_countries = sorted(df_budget['country'].unique())\n",
    "\n",
    "#obtain a list with unique items\n",
    "unique_items = df_budget['item'].unique()"
   ]
  },
  {
   "cell_type": "markdown",
   "metadata": {},
   "source": [
    "And finally, before starting with the machine learning part, let's visualize how each country's budget is divided among items. We will do it by creating a bar plot, where each country will have 10 horizontally-stacked bars, one per item, each having a length corresponding to the percentage of budget spent that item."
   ]
  },
  {
   "cell_type": "code",
   "execution_count": 26,
   "metadata": {},
   "outputs": [
    {
     "data": {
      "application/vnd.plotly.v1+json": {
       "config": {
        "plotlyServerURL": "https://plot.ly"
       },
       "data": [
        {
         "customdata": [
          "General public services",
          "General public services",
          "General public services",
          "General public services",
          "General public services",
          "General public services",
          "General public services",
          "General public services",
          "General public services",
          "General public services",
          "General public services",
          "General public services",
          "General public services",
          "General public services",
          "General public services",
          "General public services",
          "General public services",
          "General public services",
          "General public services",
          "General public services",
          "General public services",
          "General public services",
          "General public services",
          "General public services",
          "General public services",
          "General public services",
          "General public services",
          "General public services",
          "General public services",
          "General public services",
          "General public services",
          "General public services",
          "General public services",
          "General public services",
          "General public services",
          "General public services",
          "General public services",
          "General public services",
          "General public services",
          "General public services",
          "General public services",
          "General public services",
          "General public services",
          "General public services",
          "General public services",
          "General public services",
          "General public services",
          "General public services",
          "General public services",
          "General public services",
          "General public services",
          "General public services",
          "General public services",
          "General public services",
          "General public services"
         ],
         "hovertemplate": "<b>%{y}</b><br><b>%{customdata}</b>: %{x:.2f}<extra></extra>",
         "marker": {
          "color": "#04BB85"
         },
         "name": "General public services",
         "orientation": "h",
         "type": "bar",
         "x": [
          5.856149435252895,
          8.350564872089311,
          14.936969427049105,
          10.046433199115604,
          10.047768765758375,
          10.18877421107749,
          7.406033343381177,
          10.550137056161153,
          10.126676960394082,
          8.322608534145953,
          8.694884228780628,
          13.927598012259928,
          15.65272626682786,
          12.781991521982752,
          9.043944265809218,
          9.779359394906056,
          17.644671081005658,
          22.545471245285853,
          17.495840330358764,
          17.1937563256367,
          10.74183850211942,
          7.217050051125145,
          4.643640373027265,
          4.750890192979183,
          12.057791209975107,
          7.922305092382062,
          9.71120043639643,
          23.178292547646212,
          7.8582385459176285,
          4.654275900378929,
          14.470677293678882,
          14.424085102051205,
          3.640050528555282,
          30.10442948538481,
          5.362249338377649,
          10.095189737064176,
          9.231931761415932,
          11.311552596168381,
          12.682383003665013,
          12.054256547494468,
          13.814163394655349,
          23.54348561100599,
          26.227491995288606,
          13.48757153920254,
          8.837113501537365,
          9.2549131808182,
          13.140983295341819,
          8.893009406702204,
          15.096683362017558,
          40.19433298231851,
          13.521110537058838,
          8.414350317439274,
          3.906868241379107,
          18.63955762134919,
          56.73013620232368
         ],
         "y": [
          "Australia",
          "Austria",
          "Bangladesh",
          "Belgium",
          "Bulgaria",
          "Chile",
          "Croatia",
          "Cyprus",
          "Czechia",
          "Denmark",
          "Estonia",
          "Eswatini",
          "Fiji",
          "Finland",
          "France",
          "Germany",
          "Greece",
          "Guatemala",
          "Hungary",
          "Iceland",
          "India",
          "Iran",
          "Ireland",
          "Israel",
          "Italy",
          "Japan",
          "Kazakhstan",
          "Kyrgyzstan",
          "Latvia",
          "Lithuania",
          "Luxembourg",
          "Malaysia",
          "Malta",
          "Mongolia",
          "Netherlands",
          "Norway",
          "Poland",
          "Portugal",
          "South Korea",
          "Romania",
          "Russia",
          "Senegal",
          "Seychelles",
          "Slovakia",
          "Slovenia",
          "Spain",
          "Sri Lanka",
          "Sweden",
          "Switzerland",
          "Tanzania",
          "Thailand",
          "Ukraine",
          "United Kingdom",
          "Yemen",
          "Zambia"
         ]
        },
        {
         "customdata": [
          "Defence",
          "Defence",
          "Defence",
          "Defence",
          "Defence",
          "Defence",
          "Defence",
          "Defence",
          "Defence",
          "Defence",
          "Defence",
          "Defence",
          "Defence",
          "Defence",
          "Defence",
          "Defence",
          "Defence",
          "Defence",
          "Defence",
          "Defence",
          "Defence",
          "Defence",
          "Defence",
          "Defence",
          "Defence",
          "Defence",
          "Defence",
          "Defence",
          "Defence",
          "Defence",
          "Defence",
          "Defence",
          "Defence",
          "Defence",
          "Defence",
          "Defence",
          "Defence",
          "Defence",
          "Defence",
          "Defence",
          "Defence",
          "Defence",
          "Defence",
          "Defence",
          "Defence",
          "Defence",
          "Defence",
          "Defence",
          "Defence",
          "Defence",
          "Defence",
          "Defence",
          "Defence",
          "Defence",
          "Defence"
         ],
         "hovertemplate": "<b>%{y}</b><br><b>%{customdata}</b>: %{x:.2f}<extra></extra>",
         "marker": {
          "color": "#8F76D7"
         },
         "name": "Defence",
         "orientation": "h",
         "type": "bar",
         "x": [
          8.514158041492518,
          2.6899362819016175,
          20.361237691250672,
          3.1991736366206314,
          5.003569367234728,
          8.306174709401327,
          4.254102225210811,
          8.886339006820934,
          3.902584600777143,
          4.303397583509614,
          8.198721860046888,
          11.679285168106954,
          9.045614511402986,
          4.5037436455474165,
          6.4232830406463854,
          4.302215935879302,
          12.068396884592943,
          1.6498545780890514,
          4.682067846213042,
          0.29515762997291584,
          21.16289768075368,
          15.705356403054338,
          1.8005705109299188,
          21.37412468562697,
          6.144568748972267,
          4.333858124754661,
          7.092106588220457,
          5.227831430026366,
          10.074961650892883,
          8.69129078774969,
          1.7092262388382684,
          7.203135338728559,
          2.935310152250515,
          5.840682860397674,
          4.136693842027673,
          5.770383153852558,
          7.187374416908768,
          4.189479527280026,
          11.2063235533969,
          9.686505706202865,
          14.001599870221648,
          6.951082936847026,
          3.7547216178025455,
          5.7210112762782614,
          5.2152589769330255,
          4.193070704180698,
          19.07527423935929,
          4.722226953011904,
          6.050260433505365,
          6.191615408291408,
          9.82296792553507,
          12.742007551764942,
          9.015487268707156,
          29.326002903657056,
          8.965796166302628
         ],
         "y": [
          "Australia",
          "Austria",
          "Bangladesh",
          "Belgium",
          "Bulgaria",
          "Chile",
          "Croatia",
          "Cyprus",
          "Czechia",
          "Denmark",
          "Estonia",
          "Eswatini",
          "Fiji",
          "Finland",
          "France",
          "Germany",
          "Greece",
          "Guatemala",
          "Hungary",
          "Iceland",
          "India",
          "Iran",
          "Ireland",
          "Israel",
          "Italy",
          "Japan",
          "Kazakhstan",
          "Kyrgyzstan",
          "Latvia",
          "Lithuania",
          "Luxembourg",
          "Malaysia",
          "Malta",
          "Mongolia",
          "Netherlands",
          "Norway",
          "Poland",
          "Portugal",
          "South Korea",
          "Romania",
          "Russia",
          "Senegal",
          "Seychelles",
          "Slovakia",
          "Slovenia",
          "Spain",
          "Sri Lanka",
          "Sweden",
          "Switzerland",
          "Tanzania",
          "Thailand",
          "Ukraine",
          "United Kingdom",
          "Yemen",
          "Zambia"
         ]
        },
        {
         "customdata": [
          "Public order and safety",
          "Public order and safety",
          "Public order and safety",
          "Public order and safety",
          "Public order and safety",
          "Public order and safety",
          "Public order and safety",
          "Public order and safety",
          "Public order and safety",
          "Public order and safety",
          "Public order and safety",
          "Public order and safety",
          "Public order and safety",
          "Public order and safety",
          "Public order and safety",
          "Public order and safety",
          "Public order and safety",
          "Public order and safety",
          "Public order and safety",
          "Public order and safety",
          "Public order and safety",
          "Public order and safety",
          "Public order and safety",
          "Public order and safety",
          "Public order and safety",
          "Public order and safety",
          "Public order and safety",
          "Public order and safety",
          "Public order and safety",
          "Public order and safety",
          "Public order and safety",
          "Public order and safety",
          "Public order and safety",
          "Public order and safety",
          "Public order and safety",
          "Public order and safety",
          "Public order and safety",
          "Public order and safety",
          "Public order and safety",
          "Public order and safety",
          "Public order and safety",
          "Public order and safety",
          "Public order and safety",
          "Public order and safety",
          "Public order and safety",
          "Public order and safety",
          "Public order and safety",
          "Public order and safety",
          "Public order and safety",
          "Public order and safety",
          "Public order and safety",
          "Public order and safety",
          "Public order and safety",
          "Public order and safety",
          "Public order and safety"
         ],
         "hovertemplate": "<b>%{y}</b><br><b>%{customdata}</b>: %{x:.2f}<extra></extra>",
         "marker": {
          "color": "#FF9500"
         },
         "name": "Public order and safety",
         "orientation": "h",
         "type": "bar",
         "x": [
          7.737443918928346,
          6.119069251715321,
          15.402434321654166,
          6.66951848250237,
          12.259637291533764,
          11.369977287166948,
          9.797420023032748,
          8.435859841482332,
          9.063543031774952,
          3.5479772453456015,
          8.841003243520987,
          17.71267539383621,
          12.507555887957707,
          4.131815302658719,
          6.829252205457993,
          6.110124690280578,
          9.99315016363498,
          12.503621211684498,
          8.344402271551758,
          4.582836357203691,
          17.198006171035736,
          10.192966464230617,
          7.207034056928349,
          6.38758604819603,
          9.262073384403404,
          5.317148575372012,
          10.35480582873075,
          11.628142388147028,
          9.54704639518393,
          7.364508074156638,
          6.667353644084926,
          8.33918664427139,
          6.701682069011369,
          10.62592352512811,
          7.019413509529137,
          3.813139904553299,
          10.601932990550223,
          7.701078215876116,
          6.176535864765579,
          12.551670942693402,
          19.945809926569144,
          2.9656049483359643,
          6.803054074278339,
          12.423266531930567,
          8.032988871961685,
          9.177972556555225,
          7.199882083728494,
          4.741386651225369,
          9.691485596345304,
          1.946535376760734,
          8.61126968128806,
          18.88186741693304,
          8.043875685557587,
          12.305269507053747,
          5.83782827587495
         ],
         "y": [
          "Australia",
          "Austria",
          "Bangladesh",
          "Belgium",
          "Bulgaria",
          "Chile",
          "Croatia",
          "Cyprus",
          "Czechia",
          "Denmark",
          "Estonia",
          "Eswatini",
          "Fiji",
          "Finland",
          "France",
          "Germany",
          "Greece",
          "Guatemala",
          "Hungary",
          "Iceland",
          "India",
          "Iran",
          "Ireland",
          "Israel",
          "Italy",
          "Japan",
          "Kazakhstan",
          "Kyrgyzstan",
          "Latvia",
          "Lithuania",
          "Luxembourg",
          "Malaysia",
          "Malta",
          "Mongolia",
          "Netherlands",
          "Norway",
          "Poland",
          "Portugal",
          "South Korea",
          "Romania",
          "Russia",
          "Senegal",
          "Seychelles",
          "Slovakia",
          "Slovenia",
          "Spain",
          "Sri Lanka",
          "Sweden",
          "Switzerland",
          "Tanzania",
          "Thailand",
          "Ukraine",
          "United Kingdom",
          "Yemen",
          "Zambia"
         ]
        },
        {
         "customdata": [
          "Economic affairs",
          "Economic affairs",
          "Economic affairs",
          "Economic affairs",
          "Economic affairs",
          "Economic affairs",
          "Economic affairs",
          "Economic affairs",
          "Economic affairs",
          "Economic affairs",
          "Economic affairs",
          "Economic affairs",
          "Economic affairs",
          "Economic affairs",
          "Economic affairs",
          "Economic affairs",
          "Economic affairs",
          "Economic affairs",
          "Economic affairs",
          "Economic affairs",
          "Economic affairs",
          "Economic affairs",
          "Economic affairs",
          "Economic affairs",
          "Economic affairs",
          "Economic affairs",
          "Economic affairs",
          "Economic affairs",
          "Economic affairs",
          "Economic affairs",
          "Economic affairs",
          "Economic affairs",
          "Economic affairs",
          "Economic affairs",
          "Economic affairs",
          "Economic affairs",
          "Economic affairs",
          "Economic affairs",
          "Economic affairs",
          "Economic affairs",
          "Economic affairs",
          "Economic affairs",
          "Economic affairs",
          "Economic affairs",
          "Economic affairs",
          "Economic affairs",
          "Economic affairs",
          "Economic affairs",
          "Economic affairs",
          "Economic affairs",
          "Economic affairs",
          "Economic affairs",
          "Economic affairs",
          "Economic affairs",
          "Economic affairs"
         ],
         "hovertemplate": "<b>%{y}</b><br><b>%{customdata}</b>: %{x:.2f}<extra></extra>",
         "marker": {
          "color": "#019BBF"
         },
         "name": "Economic affairs",
         "orientation": "h",
         "type": "bar",
         "x": [
          8.208016678326349,
          12.379487067718813,
          17.01798313029215,
          10.111593874896476,
          10.127889668580455,
          3.1295156030302405,
          18.55295599817593,
          8.46773336733176,
          10.39992123237746,
          5.053558250041503,
          9.942515816179068,
          9.068081393701734,
          16.318668934286826,
          9.007487291094833,
          5.571275455519829,
          6.15651990730988,
          6.6747849912474315,
          10.592470081364995,
          15.705357851551305,
          6.462237229736369,
          7.267772249386368,
          3.822405493521657,
          8.524688440121844,
          4.728926314088881,
          7.8915734382708,
          12.893982326325002,
          10.031485004952119,
          2.6518101643333587,
          10.226910943243322,
          7.025497867563351,
          12.234327997368348,
          14.430701888329006,
          11.422112891430091,
          6.515604278939184,
          8.961652546135948,
          7.478576912916962,
          11.363221832830803,
          12.267896128483882,
          8.862783541462973,
          8.477914772633742,
          12.716660985692268,
          26.161642244957523,
          7.55032132983176,
          12.821288933381183,
          11.454160164332011,
          9.890929898971933,
          6.065285234826712,
          6.374076786393491,
          8.16570956217567,
          26.09504333028218,
          11.23014508465389,
          5.0258763337114125,
          5.839684088780321,
          4.651612597019253,
          25.40578686416881
         ],
         "y": [
          "Australia",
          "Austria",
          "Bangladesh",
          "Belgium",
          "Bulgaria",
          "Chile",
          "Croatia",
          "Cyprus",
          "Czechia",
          "Denmark",
          "Estonia",
          "Eswatini",
          "Fiji",
          "Finland",
          "France",
          "Germany",
          "Greece",
          "Guatemala",
          "Hungary",
          "Iceland",
          "India",
          "Iran",
          "Ireland",
          "Israel",
          "Italy",
          "Japan",
          "Kazakhstan",
          "Kyrgyzstan",
          "Latvia",
          "Lithuania",
          "Luxembourg",
          "Malaysia",
          "Malta",
          "Mongolia",
          "Netherlands",
          "Norway",
          "Poland",
          "Portugal",
          "South Korea",
          "Romania",
          "Russia",
          "Senegal",
          "Seychelles",
          "Slovakia",
          "Slovenia",
          "Spain",
          "Sri Lanka",
          "Sweden",
          "Switzerland",
          "Tanzania",
          "Thailand",
          "Ukraine",
          "United Kingdom",
          "Yemen",
          "Zambia"
         ]
        },
        {
         "customdata": [
          "Environment protection",
          "Environment protection",
          "Environment protection",
          "Environment protection",
          "Environment protection",
          "Environment protection",
          "Environment protection",
          "Environment protection",
          "Environment protection",
          "Environment protection",
          "Environment protection",
          "Environment protection",
          "Environment protection",
          "Environment protection",
          "Environment protection",
          "Environment protection",
          "Environment protection",
          "Environment protection",
          "Environment protection",
          "Environment protection",
          "Environment protection",
          "Environment protection",
          "Environment protection",
          "Environment protection",
          "Environment protection",
          "Environment protection",
          "Environment protection",
          "Environment protection",
          "Environment protection",
          "Environment protection",
          "Environment protection",
          "Environment protection",
          "Environment protection",
          "Environment protection",
          "Environment protection",
          "Environment protection",
          "Environment protection",
          "Environment protection",
          "Environment protection",
          "Environment protection",
          "Environment protection",
          "Environment protection",
          "Environment protection",
          "Environment protection",
          "Environment protection",
          "Environment protection",
          "Environment protection",
          "Environment protection",
          "Environment protection",
          "Environment protection",
          "Environment protection",
          "Environment protection",
          "Environment protection",
          "Environment protection",
          "Environment protection"
         ],
         "hovertemplate": "<b>%{y}</b><br><b>%{customdata}</b>: %{x:.2f}<extra></extra>",
         "marker": {
          "color": "#F62F36"
         },
         "name": "Environment protection",
         "orientation": "h",
         "type": "bar",
         "x": [
          0.9550972736277952,
          0.7534881946932309,
          0.8331658673560834,
          1.7707786700755814,
          3.698472007047602,
          0.5820241591678627,
          2.6263516281370523,
          1.136822421962984,
          2.8364739887481365,
          1.1635379838692446,
          2.665467741417515,
          0.12020915972142171,
          0.264392045570969,
          0.5749459973039255,
          2.5599802127133318,
          1.0372465818010372,
          2.986021259862496,
          2.087813531762668,
          1.6581650506788708,
          1.8165889086771143,
          0.018625544328858434,
          0.15241757137159456,
          2.4570794126819497,
          2.141984857284782,
          1.8530384046178534,
          2.8506849326583055,
          0.23096662963168024,
          1.165753380899695,
          0.9920118086307198,
          2.5993842266948235,
          1.1450064007799836,
          0.39344429174937645,
          5.335416528156372,
          0.1931392188712718,
          3.4297792223939187,
          0.8407861453244375,
          1.5604835940981363,
          1.240580169848118,
          2.2612764617990067,
          2.0454379772316273,
          0.23684073441797526,
          2.3025906764924464,
          3.924650233897288,
          3.079302268477419,
          0.8765858428788533,
          2.3321901786646353,
          0.09077385255665708,
          0.3908578435546775,
          1.3692500790233593,
          0.04398511457415249,
          1.3869178192412912,
          0.5520202689763872,
          2.2819519417504326,
          0.01068016223979243,
          0.3252239683213301
         ],
         "y": [
          "Australia",
          "Austria",
          "Bangladesh",
          "Belgium",
          "Bulgaria",
          "Chile",
          "Croatia",
          "Cyprus",
          "Czechia",
          "Denmark",
          "Estonia",
          "Eswatini",
          "Fiji",
          "Finland",
          "France",
          "Germany",
          "Greece",
          "Guatemala",
          "Hungary",
          "Iceland",
          "India",
          "Iran",
          "Ireland",
          "Israel",
          "Italy",
          "Japan",
          "Kazakhstan",
          "Kyrgyzstan",
          "Latvia",
          "Lithuania",
          "Luxembourg",
          "Malaysia",
          "Malta",
          "Mongolia",
          "Netherlands",
          "Norway",
          "Poland",
          "Portugal",
          "South Korea",
          "Romania",
          "Russia",
          "Senegal",
          "Seychelles",
          "Slovakia",
          "Slovenia",
          "Spain",
          "Sri Lanka",
          "Sweden",
          "Switzerland",
          "Tanzania",
          "Thailand",
          "Ukraine",
          "United Kingdom",
          "Yemen",
          "Zambia"
         ]
        },
        {
         "customdata": [
          "Housing and community amenities",
          "Housing and community amenities",
          "Housing and community amenities",
          "Housing and community amenities",
          "Housing and community amenities",
          "Housing and community amenities",
          "Housing and community amenities",
          "Housing and community amenities",
          "Housing and community amenities",
          "Housing and community amenities",
          "Housing and community amenities",
          "Housing and community amenities",
          "Housing and community amenities",
          "Housing and community amenities",
          "Housing and community amenities",
          "Housing and community amenities",
          "Housing and community amenities",
          "Housing and community amenities",
          "Housing and community amenities",
          "Housing and community amenities",
          "Housing and community amenities",
          "Housing and community amenities",
          "Housing and community amenities",
          "Housing and community amenities",
          "Housing and community amenities",
          "Housing and community amenities",
          "Housing and community amenities",
          "Housing and community amenities",
          "Housing and community amenities",
          "Housing and community amenities",
          "Housing and community amenities",
          "Housing and community amenities",
          "Housing and community amenities",
          "Housing and community amenities",
          "Housing and community amenities",
          "Housing and community amenities",
          "Housing and community amenities",
          "Housing and community amenities",
          "Housing and community amenities",
          "Housing and community amenities",
          "Housing and community amenities",
          "Housing and community amenities",
          "Housing and community amenities",
          "Housing and community amenities",
          "Housing and community amenities",
          "Housing and community amenities",
          "Housing and community amenities",
          "Housing and community amenities",
          "Housing and community amenities",
          "Housing and community amenities",
          "Housing and community amenities",
          "Housing and community amenities",
          "Housing and community amenities",
          "Housing and community amenities",
          "Housing and community amenities"
         ],
         "hovertemplate": "<b>%{y}</b><br><b>%{customdata}</b>: %{x:.2f}<extra></extra>",
         "marker": {
          "color": "#9D5E31"
         },
         "name": "Housing and community amenities",
         "orientation": "h",
         "type": "bar",
         "x": [
          1.0031311724058207,
          0.4299144053393705,
          2.088074430932505,
          0.46308846680909166,
          3.1152222120963575,
          10.55807719262085,
          2.9633408305701767,
          3.6845795881940457,
          1.4615515542485287,
          0.3387557260565776,
          1.079032724236488,
          1.75497456530177,
          0.784915886318464,
          0.45151126341946696,
          2.0024734108335394,
          0.9917291121209386,
          0.6139482964203262,
          4.726765410373351,
          1.514156002092643,
          0.979246572628032,
          2.2738818222952317,
          0.7459646053144341,
          2.2606115629371444,
          1.2403108484182575,
          2.019460305399781,
          1.6889429837796583,
          3.4548780531366647,
          2.3373726989990145,
          3.762553905820382,
          3.950328853655057,
          0.7821237906885495,
          3.092584109533262,
          1.0936772820956053,
          2.198648482011479,
          1.3854105610912772,
          0.4153565786376592,
          1.3239152818937288,
          1.5991098709659832,
          3.5958026166092965,
          2.698012176681819,
          3.519276818698739,
          0.7573447023299387,
          4.076810691059326,
          1.3980601779272046,
          1.0159414669266982,
          1.6118867464941753,
          0.18018855630228914,
          0.6155230455688585,
          0.6329866819448917,
          3.264472013945803,
          2.9013542928287697,
          1.3386215328413393,
          0.7634652051910922,
          2.0300347087398922,
          0.6218983205432539
         ],
         "y": [
          "Australia",
          "Austria",
          "Bangladesh",
          "Belgium",
          "Bulgaria",
          "Chile",
          "Croatia",
          "Cyprus",
          "Czechia",
          "Denmark",
          "Estonia",
          "Eswatini",
          "Fiji",
          "Finland",
          "France",
          "Germany",
          "Greece",
          "Guatemala",
          "Hungary",
          "Iceland",
          "India",
          "Iran",
          "Ireland",
          "Israel",
          "Italy",
          "Japan",
          "Kazakhstan",
          "Kyrgyzstan",
          "Latvia",
          "Lithuania",
          "Luxembourg",
          "Malaysia",
          "Malta",
          "Mongolia",
          "Netherlands",
          "Norway",
          "Poland",
          "Portugal",
          "South Korea",
          "Romania",
          "Russia",
          "Senegal",
          "Seychelles",
          "Slovakia",
          "Slovenia",
          "Spain",
          "Sri Lanka",
          "Sweden",
          "Switzerland",
          "Tanzania",
          "Thailand",
          "Ukraine",
          "United Kingdom",
          "Yemen",
          "Zambia"
         ]
        },
        {
         "customdata": [
          "Health",
          "Health",
          "Health",
          "Health",
          "Health",
          "Health",
          "Health",
          "Health",
          "Health",
          "Health",
          "Health",
          "Health",
          "Health",
          "Health",
          "Health",
          "Health",
          "Health",
          "Health",
          "Health",
          "Health",
          "Health",
          "Health",
          "Health",
          "Health",
          "Health",
          "Health",
          "Health",
          "Health",
          "Health",
          "Health",
          "Health",
          "Health",
          "Health",
          "Health",
          "Health",
          "Health",
          "Health",
          "Health",
          "Health",
          "Health",
          "Health",
          "Health",
          "Health",
          "Health",
          "Health",
          "Health",
          "Health",
          "Health",
          "Health",
          "Health",
          "Health",
          "Health",
          "Health",
          "Health",
          "Health"
         ],
         "hovertemplate": "<b>%{y}</b><br><b>%{customdata}</b>: %{x:.2f}<extra></extra>",
         "marker": {
          "color": "#E65898"
         },
         "name": "Health",
         "orientation": "h",
         "type": "bar",
         "x": [
          31.074544226066266,
          37.28246601254928,
          12.836131372985657,
          31.292295371851086,
          27.963334244661137,
          23.904179631607413,
          30.033776211344787,
          30.798325577442043,
          33.484482702034754,
          33.781391610495014,
          27.088217348020166,
          19.561419981138187,
          19.955484293998317,
          26.2704844813305,
          34.299447604913844,
          36.17083972834973,
          27.10505619402796,
          10.383132446820845,
          23.938791130305738,
          29.35390557830946,
          9.233694887194734,
          9.156351503133829,
          37.83064248180527,
          21.03650012249913,
          36.25956146269825,
          38.485171210049096,
          16.679038662519957,
          13.361152976091944,
          26.206043240427196,
          31.143511296481652,
          20.5210987939583,
          17.798137120171017,
          32.09892959244731,
          19.818455257461753,
          28.46086215164917,
          30.382290453582538,
          26.698605101858092,
          34.105621045901614,
          26.27783428636227,
          28.754418103701685,
          16.19974448697709,
          4.298960349050559,
          11.846814215325177,
          30.125229019889314,
          33.462514079371466,
          32.15306157956395,
          17.828415167454985,
          27.053706762947698,
          5.535149792917098,
          5.893040860280645,
          23.063564525828117,
          19.605373635600337,
          41.76889075653354,
          5.591237193212609,
          0.26643609180148886
         ],
         "y": [
          "Australia",
          "Austria",
          "Bangladesh",
          "Belgium",
          "Bulgaria",
          "Chile",
          "Croatia",
          "Cyprus",
          "Czechia",
          "Denmark",
          "Estonia",
          "Eswatini",
          "Fiji",
          "Finland",
          "France",
          "Germany",
          "Greece",
          "Guatemala",
          "Hungary",
          "Iceland",
          "India",
          "Iran",
          "Ireland",
          "Israel",
          "Italy",
          "Japan",
          "Kazakhstan",
          "Kyrgyzstan",
          "Latvia",
          "Lithuania",
          "Luxembourg",
          "Malaysia",
          "Malta",
          "Mongolia",
          "Netherlands",
          "Norway",
          "Poland",
          "Portugal",
          "South Korea",
          "Romania",
          "Russia",
          "Senegal",
          "Seychelles",
          "Slovakia",
          "Slovenia",
          "Spain",
          "Sri Lanka",
          "Sweden",
          "Switzerland",
          "Tanzania",
          "Thailand",
          "Ukraine",
          "United Kingdom",
          "Yemen",
          "Zambia"
         ]
        },
        {
         "customdata": [
          "Recreation, culture and religion",
          "Recreation, culture and religion",
          "Recreation, culture and religion",
          "Recreation, culture and religion",
          "Recreation, culture and religion",
          "Recreation, culture and religion",
          "Recreation, culture and religion",
          "Recreation, culture and religion",
          "Recreation, culture and religion",
          "Recreation, culture and religion",
          "Recreation, culture and religion",
          "Recreation, culture and religion",
          "Recreation, culture and religion",
          "Recreation, culture and religion",
          "Recreation, culture and religion",
          "Recreation, culture and religion",
          "Recreation, culture and religion",
          "Recreation, culture and religion",
          "Recreation, culture and religion",
          "Recreation, culture and religion",
          "Recreation, culture and religion",
          "Recreation, culture and religion",
          "Recreation, culture and religion",
          "Recreation, culture and religion",
          "Recreation, culture and religion",
          "Recreation, culture and religion",
          "Recreation, culture and religion",
          "Recreation, culture and religion",
          "Recreation, culture and religion",
          "Recreation, culture and religion",
          "Recreation, culture and religion",
          "Recreation, culture and religion",
          "Recreation, culture and religion",
          "Recreation, culture and religion",
          "Recreation, culture and religion",
          "Recreation, culture and religion",
          "Recreation, culture and religion",
          "Recreation, culture and religion",
          "Recreation, culture and religion",
          "Recreation, culture and religion",
          "Recreation, culture and religion",
          "Recreation, culture and religion",
          "Recreation, culture and religion",
          "Recreation, culture and religion",
          "Recreation, culture and religion",
          "Recreation, culture and religion",
          "Recreation, culture and religion",
          "Recreation, culture and religion",
          "Recreation, culture and religion",
          "Recreation, culture and religion",
          "Recreation, culture and religion",
          "Recreation, culture and religion",
          "Recreation, culture and religion",
          "Recreation, culture and religion",
          "Recreation, culture and religion"
         ],
         "hovertemplate": "<b>%{y}</b><br><b>%{customdata}</b>: %{x:.2f}<extra></extra>",
         "marker": {
          "color": "#B1C019"
         },
         "name": "Recreation, culture and religion",
         "orientation": "h",
         "type": "bar",
         "x": [
          2.140996434330087,
          2.822544210588928,
          0.8994280810571539,
          2.5459917479724337,
          2.4845074273216077,
          0.5331367557195928,
          3.7439809554725962,
          2.611504217929921,
          3.323657840164313,
          4.063918159509404,
          5.11095410899515,
          0.5952725703652452,
          1.0653161690879658,
          3.7712559484172745,
          3.8380740374309505,
          3.3667880465858135,
          3.868889058020651,
          2.1969734032955985,
          4.264458480962844,
          6.436246999557563,
          0.5930879700883701,
          3.27501441644698,
          3.047771969547868,
          3.71619112163194,
          1.888477480593562,
          1.4294612244143168,
          3.9526702078653297,
          3.4023597329546593,
          4.773523197591965,
          4.232607452264571,
          4.210563863138245,
          2.3988395174835855,
          3.9890964696496245,
          2.32342464028555,
          2.5932043835811087,
          4.080382444631971,
          3.3533228316651025,
          2.8697492423247435,
          2.3274300666991725,
          3.55719959834352,
          1.269791733813564,
          2.1367992932484503,
          4.158659287816203,
          2.1853219500217214,
          3.790157521956397,
          4.390641854926327,
          0.596544257833563,
          3.247072114265602,
          3.2362177741840212,
          0.06439786962840256,
          1.4166970161515724,
          2.805151698165088,
          2.052598196981092,
          0.6298998912393678,
          0.2716941241085331
         ],
         "y": [
          "Australia",
          "Austria",
          "Bangladesh",
          "Belgium",
          "Bulgaria",
          "Chile",
          "Croatia",
          "Cyprus",
          "Czechia",
          "Denmark",
          "Estonia",
          "Eswatini",
          "Fiji",
          "Finland",
          "France",
          "Germany",
          "Greece",
          "Guatemala",
          "Hungary",
          "Iceland",
          "India",
          "Iran",
          "Ireland",
          "Israel",
          "Italy",
          "Japan",
          "Kazakhstan",
          "Kyrgyzstan",
          "Latvia",
          "Lithuania",
          "Luxembourg",
          "Malaysia",
          "Malta",
          "Mongolia",
          "Netherlands",
          "Norway",
          "Poland",
          "Portugal",
          "South Korea",
          "Romania",
          "Russia",
          "Senegal",
          "Seychelles",
          "Slovakia",
          "Slovenia",
          "Spain",
          "Sri Lanka",
          "Sweden",
          "Switzerland",
          "Tanzania",
          "Thailand",
          "Ukraine",
          "United Kingdom",
          "Yemen",
          "Zambia"
         ]
        },
        {
         "customdata": [
          "Education",
          "Education",
          "Education",
          "Education",
          "Education",
          "Education",
          "Education",
          "Education",
          "Education",
          "Education",
          "Education",
          "Education",
          "Education",
          "Education",
          "Education",
          "Education",
          "Education",
          "Education",
          "Education",
          "Education",
          "Education",
          "Education",
          "Education",
          "Education",
          "Education",
          "Education",
          "Education",
          "Education",
          "Education",
          "Education",
          "Education",
          "Education",
          "Education",
          "Education",
          "Education",
          "Education",
          "Education",
          "Education",
          "Education",
          "Education",
          "Education",
          "Education",
          "Education",
          "Education",
          "Education",
          "Education",
          "Education",
          "Education",
          "Education",
          "Education",
          "Education",
          "Education",
          "Education",
          "Education",
          "Education"
         ],
         "hovertemplate": "<b>%{y}</b><br><b>%{customdata}</b>: %{x:.2f}<extra></extra>",
         "marker": {
          "color": "#FDC903"
         },
         "name": "Education",
         "orientation": "h",
         "type": "bar",
         "x": [
          18.30270923147755,
          20.912799332714904,
          14.219762433669894,
          24.475460705045144,
          20.172240955071537,
          27.1993479371602,
          17.732897411521012,
          24.4002464885999,
          20.63574325113362,
          16.981014229055415,
          23.576543883875527,
          25.309407151271284,
          23.078499272585702,
          17.157428009939743,
          16.98293346524858,
          15.569482480162911,
          16.393941700281605,
          19.289422769076335,
          17.225540362738126,
          21.290859079405568,
          26.337195667227242,
          24.739010449014355,
          20.50043508817293,
          25.57558627456511,
          18.2386495727465,
          12.07165966617886,
          35.2381581581224,
          34.66734037826582,
          21.52180834129258,
          23.62978297588871,
          22.412321204218568,
          30.690181707130858,
          20.14161292467256,
          21.992187482557288,
          16.366050336583722,
          18.677683911690732,
          22.16445378908165,
          21.728936875676826,
          20.3281801503195,
          14.151194975061083,
          6.093331471654634,
          30.052162200366165,
          12.93952546345045,
          14.451957765899174,
          22.081557368683765,
          19.554517651880406,
          17.462882034846665,
          22.686785769027708,
          35.00268442857945,
          15.862700964498522,
          27.195589019979842,
          25.43270434692946,
          16.19300274713946,
          26.519417043675496,
          1.38024680038857
         ],
         "y": [
          "Australia",
          "Austria",
          "Bangladesh",
          "Belgium",
          "Bulgaria",
          "Chile",
          "Croatia",
          "Cyprus",
          "Czechia",
          "Denmark",
          "Estonia",
          "Eswatini",
          "Fiji",
          "Finland",
          "France",
          "Germany",
          "Greece",
          "Guatemala",
          "Hungary",
          "Iceland",
          "India",
          "Iran",
          "Ireland",
          "Israel",
          "Italy",
          "Japan",
          "Kazakhstan",
          "Kyrgyzstan",
          "Latvia",
          "Lithuania",
          "Luxembourg",
          "Malaysia",
          "Malta",
          "Mongolia",
          "Netherlands",
          "Norway",
          "Poland",
          "Portugal",
          "South Korea",
          "Romania",
          "Russia",
          "Senegal",
          "Seychelles",
          "Slovakia",
          "Slovenia",
          "Spain",
          "Sri Lanka",
          "Sweden",
          "Switzerland",
          "Tanzania",
          "Thailand",
          "Ukraine",
          "United Kingdom",
          "Yemen",
          "Zambia"
         ]
        },
        {
         "customdata": [
          "Social protection",
          "Social protection",
          "Social protection",
          "Social protection",
          "Social protection",
          "Social protection",
          "Social protection",
          "Social protection",
          "Social protection",
          "Social protection",
          "Social protection",
          "Social protection",
          "Social protection",
          "Social protection",
          "Social protection",
          "Social protection",
          "Social protection",
          "Social protection",
          "Social protection",
          "Social protection",
          "Social protection",
          "Social protection",
          "Social protection",
          "Social protection",
          "Social protection",
          "Social protection",
          "Social protection",
          "Social protection",
          "Social protection",
          "Social protection",
          "Social protection",
          "Social protection",
          "Social protection",
          "Social protection",
          "Social protection",
          "Social protection",
          "Social protection",
          "Social protection",
          "Social protection",
          "Social protection",
          "Social protection",
          "Social protection",
          "Social protection",
          "Social protection",
          "Social protection",
          "Social protection",
          "Social protection",
          "Social protection",
          "Social protection",
          "Social protection",
          "Social protection",
          "Social protection",
          "Social protection",
          "Social protection",
          "Social protection"
         ],
         "hovertemplate": "<b>%{y}</b><br><b>%{customdata}</b>: %{x:.2f}<extra></extra>",
         "marker": {
          "color": "#C1A471"
         },
         "name": "Social protection",
         "orientation": "h",
         "type": "bar",
         "x": [
          16.207753588092377,
          8.259730370689221,
          1.4048132437526137,
          9.425665845111581,
          5.127358060694432,
          4.228792513048078,
          2.889141373153709,
          1.0284524340749241,
          4.7653648383470095,
          22.443840677971675,
          4.802659044927583,
          0.271076604297255,
          1.326826731963199,
          21.349336538305373,
          12.449336301426333,
          16.51569412260375,
          2.6511403709059542,
          14.024475322246804,
          5.171220673546912,
          11.589165318872595,
          5.172999505570357,
          24.99346304278705,
          11.727526103847456,
          9.047899534709721,
          4.3848059923224785,
          13.006785864086027,
          3.254690430424212,
          2.3799443026358955,
          5.036901970999392,
          6.7088125651665855,
          15.847300773245928,
          1.2297042805517382,
          12.642111561731268,
          0.38750476896287706,
          22.284684108630398,
          18.446210757745664,
          6.5147583996975635,
          2.9859963274743087,
          6.2814504549202885,
          6.02338919995579,
          12.202780577299588,
          0.8303270373659352,
          18.717951091250313,
          4.306990536992615,
          5.233722205418726,
          7.440815647944449,
          18.35977127774953,
          21.275354667302484,
          15.219572289307282,
          0.44387607941964585,
          0.8503840974345509,
          5.2020268976387225,
          10.134175867980215,
          0.2962883718135951,
          0.19495318616675802
         ],
         "y": [
          "Australia",
          "Austria",
          "Bangladesh",
          "Belgium",
          "Bulgaria",
          "Chile",
          "Croatia",
          "Cyprus",
          "Czechia",
          "Denmark",
          "Estonia",
          "Eswatini",
          "Fiji",
          "Finland",
          "France",
          "Germany",
          "Greece",
          "Guatemala",
          "Hungary",
          "Iceland",
          "India",
          "Iran",
          "Ireland",
          "Israel",
          "Italy",
          "Japan",
          "Kazakhstan",
          "Kyrgyzstan",
          "Latvia",
          "Lithuania",
          "Luxembourg",
          "Malaysia",
          "Malta",
          "Mongolia",
          "Netherlands",
          "Norway",
          "Poland",
          "Portugal",
          "South Korea",
          "Romania",
          "Russia",
          "Senegal",
          "Seychelles",
          "Slovakia",
          "Slovenia",
          "Spain",
          "Sri Lanka",
          "Sweden",
          "Switzerland",
          "Tanzania",
          "Thailand",
          "Ukraine",
          "United Kingdom",
          "Yemen",
          "Zambia"
         ]
        }
       ],
       "layout": {
        "barmode": "stack",
        "height": 1200,
        "legend": {
         "title": {
          "text": "Item"
         },
         "traceorder": "reversed"
        },
        "plot_bgcolor": "white",
        "template": {
         "data": {
          "bar": [
           {
            "error_x": {
             "color": "#2a3f5f"
            },
            "error_y": {
             "color": "#2a3f5f"
            },
            "marker": {
             "line": {
              "color": "#E5ECF6",
              "width": 0.5
             },
             "pattern": {
              "fillmode": "overlay",
              "size": 10,
              "solidity": 0.2
             }
            },
            "type": "bar"
           }
          ],
          "barpolar": [
           {
            "marker": {
             "line": {
              "color": "#E5ECF6",
              "width": 0.5
             },
             "pattern": {
              "fillmode": "overlay",
              "size": 10,
              "solidity": 0.2
             }
            },
            "type": "barpolar"
           }
          ],
          "carpet": [
           {
            "aaxis": {
             "endlinecolor": "#2a3f5f",
             "gridcolor": "white",
             "linecolor": "white",
             "minorgridcolor": "white",
             "startlinecolor": "#2a3f5f"
            },
            "baxis": {
             "endlinecolor": "#2a3f5f",
             "gridcolor": "white",
             "linecolor": "white",
             "minorgridcolor": "white",
             "startlinecolor": "#2a3f5f"
            },
            "type": "carpet"
           }
          ],
          "choropleth": [
           {
            "colorbar": {
             "outlinewidth": 0,
             "ticks": ""
            },
            "type": "choropleth"
           }
          ],
          "contour": [
           {
            "colorbar": {
             "outlinewidth": 0,
             "ticks": ""
            },
            "colorscale": [
             [
              0,
              "#0d0887"
             ],
             [
              0.1111111111111111,
              "#46039f"
             ],
             [
              0.2222222222222222,
              "#7201a8"
             ],
             [
              0.3333333333333333,
              "#9c179e"
             ],
             [
              0.4444444444444444,
              "#bd3786"
             ],
             [
              0.5555555555555556,
              "#d8576b"
             ],
             [
              0.6666666666666666,
              "#ed7953"
             ],
             [
              0.7777777777777778,
              "#fb9f3a"
             ],
             [
              0.8888888888888888,
              "#fdca26"
             ],
             [
              1,
              "#f0f921"
             ]
            ],
            "type": "contour"
           }
          ],
          "contourcarpet": [
           {
            "colorbar": {
             "outlinewidth": 0,
             "ticks": ""
            },
            "type": "contourcarpet"
           }
          ],
          "heatmap": [
           {
            "colorbar": {
             "outlinewidth": 0,
             "ticks": ""
            },
            "colorscale": [
             [
              0,
              "#0d0887"
             ],
             [
              0.1111111111111111,
              "#46039f"
             ],
             [
              0.2222222222222222,
              "#7201a8"
             ],
             [
              0.3333333333333333,
              "#9c179e"
             ],
             [
              0.4444444444444444,
              "#bd3786"
             ],
             [
              0.5555555555555556,
              "#d8576b"
             ],
             [
              0.6666666666666666,
              "#ed7953"
             ],
             [
              0.7777777777777778,
              "#fb9f3a"
             ],
             [
              0.8888888888888888,
              "#fdca26"
             ],
             [
              1,
              "#f0f921"
             ]
            ],
            "type": "heatmap"
           }
          ],
          "heatmapgl": [
           {
            "colorbar": {
             "outlinewidth": 0,
             "ticks": ""
            },
            "colorscale": [
             [
              0,
              "#0d0887"
             ],
             [
              0.1111111111111111,
              "#46039f"
             ],
             [
              0.2222222222222222,
              "#7201a8"
             ],
             [
              0.3333333333333333,
              "#9c179e"
             ],
             [
              0.4444444444444444,
              "#bd3786"
             ],
             [
              0.5555555555555556,
              "#d8576b"
             ],
             [
              0.6666666666666666,
              "#ed7953"
             ],
             [
              0.7777777777777778,
              "#fb9f3a"
             ],
             [
              0.8888888888888888,
              "#fdca26"
             ],
             [
              1,
              "#f0f921"
             ]
            ],
            "type": "heatmapgl"
           }
          ],
          "histogram": [
           {
            "marker": {
             "pattern": {
              "fillmode": "overlay",
              "size": 10,
              "solidity": 0.2
             }
            },
            "type": "histogram"
           }
          ],
          "histogram2d": [
           {
            "colorbar": {
             "outlinewidth": 0,
             "ticks": ""
            },
            "colorscale": [
             [
              0,
              "#0d0887"
             ],
             [
              0.1111111111111111,
              "#46039f"
             ],
             [
              0.2222222222222222,
              "#7201a8"
             ],
             [
              0.3333333333333333,
              "#9c179e"
             ],
             [
              0.4444444444444444,
              "#bd3786"
             ],
             [
              0.5555555555555556,
              "#d8576b"
             ],
             [
              0.6666666666666666,
              "#ed7953"
             ],
             [
              0.7777777777777778,
              "#fb9f3a"
             ],
             [
              0.8888888888888888,
              "#fdca26"
             ],
             [
              1,
              "#f0f921"
             ]
            ],
            "type": "histogram2d"
           }
          ],
          "histogram2dcontour": [
           {
            "colorbar": {
             "outlinewidth": 0,
             "ticks": ""
            },
            "colorscale": [
             [
              0,
              "#0d0887"
             ],
             [
              0.1111111111111111,
              "#46039f"
             ],
             [
              0.2222222222222222,
              "#7201a8"
             ],
             [
              0.3333333333333333,
              "#9c179e"
             ],
             [
              0.4444444444444444,
              "#bd3786"
             ],
             [
              0.5555555555555556,
              "#d8576b"
             ],
             [
              0.6666666666666666,
              "#ed7953"
             ],
             [
              0.7777777777777778,
              "#fb9f3a"
             ],
             [
              0.8888888888888888,
              "#fdca26"
             ],
             [
              1,
              "#f0f921"
             ]
            ],
            "type": "histogram2dcontour"
           }
          ],
          "mesh3d": [
           {
            "colorbar": {
             "outlinewidth": 0,
             "ticks": ""
            },
            "type": "mesh3d"
           }
          ],
          "parcoords": [
           {
            "line": {
             "colorbar": {
              "outlinewidth": 0,
              "ticks": ""
             }
            },
            "type": "parcoords"
           }
          ],
          "pie": [
           {
            "automargin": true,
            "type": "pie"
           }
          ],
          "scatter": [
           {
            "fillpattern": {
             "fillmode": "overlay",
             "size": 10,
             "solidity": 0.2
            },
            "type": "scatter"
           }
          ],
          "scatter3d": [
           {
            "line": {
             "colorbar": {
              "outlinewidth": 0,
              "ticks": ""
             }
            },
            "marker": {
             "colorbar": {
              "outlinewidth": 0,
              "ticks": ""
             }
            },
            "type": "scatter3d"
           }
          ],
          "scattercarpet": [
           {
            "marker": {
             "colorbar": {
              "outlinewidth": 0,
              "ticks": ""
             }
            },
            "type": "scattercarpet"
           }
          ],
          "scattergeo": [
           {
            "marker": {
             "colorbar": {
              "outlinewidth": 0,
              "ticks": ""
             }
            },
            "type": "scattergeo"
           }
          ],
          "scattergl": [
           {
            "marker": {
             "colorbar": {
              "outlinewidth": 0,
              "ticks": ""
             }
            },
            "type": "scattergl"
           }
          ],
          "scattermapbox": [
           {
            "marker": {
             "colorbar": {
              "outlinewidth": 0,
              "ticks": ""
             }
            },
            "type": "scattermapbox"
           }
          ],
          "scatterpolar": [
           {
            "marker": {
             "colorbar": {
              "outlinewidth": 0,
              "ticks": ""
             }
            },
            "type": "scatterpolar"
           }
          ],
          "scatterpolargl": [
           {
            "marker": {
             "colorbar": {
              "outlinewidth": 0,
              "ticks": ""
             }
            },
            "type": "scatterpolargl"
           }
          ],
          "scatterternary": [
           {
            "marker": {
             "colorbar": {
              "outlinewidth": 0,
              "ticks": ""
             }
            },
            "type": "scatterternary"
           }
          ],
          "surface": [
           {
            "colorbar": {
             "outlinewidth": 0,
             "ticks": ""
            },
            "colorscale": [
             [
              0,
              "#0d0887"
             ],
             [
              0.1111111111111111,
              "#46039f"
             ],
             [
              0.2222222222222222,
              "#7201a8"
             ],
             [
              0.3333333333333333,
              "#9c179e"
             ],
             [
              0.4444444444444444,
              "#bd3786"
             ],
             [
              0.5555555555555556,
              "#d8576b"
             ],
             [
              0.6666666666666666,
              "#ed7953"
             ],
             [
              0.7777777777777778,
              "#fb9f3a"
             ],
             [
              0.8888888888888888,
              "#fdca26"
             ],
             [
              1,
              "#f0f921"
             ]
            ],
            "type": "surface"
           }
          ],
          "table": [
           {
            "cells": {
             "fill": {
              "color": "#EBF0F8"
             },
             "line": {
              "color": "white"
             }
            },
            "header": {
             "fill": {
              "color": "#C8D4E3"
             },
             "line": {
              "color": "white"
             }
            },
            "type": "table"
           }
          ]
         },
         "layout": {
          "annotationdefaults": {
           "arrowcolor": "#2a3f5f",
           "arrowhead": 0,
           "arrowwidth": 1
          },
          "autotypenumbers": "strict",
          "coloraxis": {
           "colorbar": {
            "outlinewidth": 0,
            "ticks": ""
           }
          },
          "colorscale": {
           "diverging": [
            [
             0,
             "#8e0152"
            ],
            [
             0.1,
             "#c51b7d"
            ],
            [
             0.2,
             "#de77ae"
            ],
            [
             0.3,
             "#f1b6da"
            ],
            [
             0.4,
             "#fde0ef"
            ],
            [
             0.5,
             "#f7f7f7"
            ],
            [
             0.6,
             "#e6f5d0"
            ],
            [
             0.7,
             "#b8e186"
            ],
            [
             0.8,
             "#7fbc41"
            ],
            [
             0.9,
             "#4d9221"
            ],
            [
             1,
             "#276419"
            ]
           ],
           "sequential": [
            [
             0,
             "#0d0887"
            ],
            [
             0.1111111111111111,
             "#46039f"
            ],
            [
             0.2222222222222222,
             "#7201a8"
            ],
            [
             0.3333333333333333,
             "#9c179e"
            ],
            [
             0.4444444444444444,
             "#bd3786"
            ],
            [
             0.5555555555555556,
             "#d8576b"
            ],
            [
             0.6666666666666666,
             "#ed7953"
            ],
            [
             0.7777777777777778,
             "#fb9f3a"
            ],
            [
             0.8888888888888888,
             "#fdca26"
            ],
            [
             1,
             "#f0f921"
            ]
           ],
           "sequentialminus": [
            [
             0,
             "#0d0887"
            ],
            [
             0.1111111111111111,
             "#46039f"
            ],
            [
             0.2222222222222222,
             "#7201a8"
            ],
            [
             0.3333333333333333,
             "#9c179e"
            ],
            [
             0.4444444444444444,
             "#bd3786"
            ],
            [
             0.5555555555555556,
             "#d8576b"
            ],
            [
             0.6666666666666666,
             "#ed7953"
            ],
            [
             0.7777777777777778,
             "#fb9f3a"
            ],
            [
             0.8888888888888888,
             "#fdca26"
            ],
            [
             1,
             "#f0f921"
            ]
           ]
          },
          "colorway": [
           "#636efa",
           "#EF553B",
           "#00cc96",
           "#ab63fa",
           "#FFA15A",
           "#19d3f3",
           "#FF6692",
           "#B6E880",
           "#FF97FF",
           "#FECB52"
          ],
          "font": {
           "color": "#2a3f5f"
          },
          "geo": {
           "bgcolor": "white",
           "lakecolor": "white",
           "landcolor": "#E5ECF6",
           "showlakes": true,
           "showland": true,
           "subunitcolor": "white"
          },
          "hoverlabel": {
           "align": "left"
          },
          "hovermode": "closest",
          "mapbox": {
           "style": "light"
          },
          "paper_bgcolor": "white",
          "plot_bgcolor": "#E5ECF6",
          "polar": {
           "angularaxis": {
            "gridcolor": "white",
            "linecolor": "white",
            "ticks": ""
           },
           "bgcolor": "#E5ECF6",
           "radialaxis": {
            "gridcolor": "white",
            "linecolor": "white",
            "ticks": ""
           }
          },
          "scene": {
           "xaxis": {
            "backgroundcolor": "#E5ECF6",
            "gridcolor": "white",
            "gridwidth": 2,
            "linecolor": "white",
            "showbackground": true,
            "ticks": "",
            "zerolinecolor": "white"
           },
           "yaxis": {
            "backgroundcolor": "#E5ECF6",
            "gridcolor": "white",
            "gridwidth": 2,
            "linecolor": "white",
            "showbackground": true,
            "ticks": "",
            "zerolinecolor": "white"
           },
           "zaxis": {
            "backgroundcolor": "#E5ECF6",
            "gridcolor": "white",
            "gridwidth": 2,
            "linecolor": "white",
            "showbackground": true,
            "ticks": "",
            "zerolinecolor": "white"
           }
          },
          "shapedefaults": {
           "line": {
            "color": "#2a3f5f"
           }
          },
          "ternary": {
           "aaxis": {
            "gridcolor": "white",
            "linecolor": "white",
            "ticks": ""
           },
           "baxis": {
            "gridcolor": "white",
            "linecolor": "white",
            "ticks": ""
           },
           "bgcolor": "#E5ECF6",
           "caxis": {
            "gridcolor": "white",
            "linecolor": "white",
            "ticks": ""
           }
          },
          "title": {
           "x": 0.05
          },
          "xaxis": {
           "automargin": true,
           "gridcolor": "white",
           "linecolor": "white",
           "ticks": "",
           "title": {
            "standoff": 15
           },
           "zerolinecolor": "white",
           "zerolinewidth": 2
          },
          "yaxis": {
           "automargin": true,
           "gridcolor": "white",
           "linecolor": "white",
           "ticks": "",
           "title": {
            "standoff": 15
           },
           "zerolinecolor": "white",
           "zerolinewidth": 2
          }
         }
        },
        "title": {
         "text": "Percentage of budget spent per item"
        },
        "xaxis": {
         "range": [
          0,
          100
         ],
         "title": {
          "text": "Percentage of each item over total country budget"
         }
        },
        "yaxis": {
         "autorange": "reversed",
         "title": {
          "text": "Country"
         }
        }
       }
      }
     },
     "metadata": {},
     "output_type": "display_data"
    }
   ],
   "source": [
    "#initialize the figure\n",
    "fig = go.Figure()\n",
    "\n",
    "#add bars for each item\n",
    "for item, color in zip(unique_items, palette_qual):\n",
    "    fig.add_trace(go.Bar(\n",
    "        y=df_budget[df_budget['item'] == item]['country'],\n",
    "        x=df_budget[df_budget['item'] == item]['perc_budget'],\n",
    "        name=item,\n",
    "        orientation='h',\n",
    "        marker=dict(color=color),\n",
    "        customdata=df_budget[df_budget['item'] == item]['item'],\n",
    "        hovertemplate='<b>%{y}</b><br><b>%{customdata}</b>: %{x:.2f}<extra></extra>'\n",
    "    ))\n",
    "\n",
    "#customize layout\n",
    "fig.update_layout(\n",
    "    height=1200,\n",
    "    barmode='stack',\n",
    "    title='Percentage of budget spent per item',\n",
    "    xaxis=dict(title='Percentage of each item over total country budget', range=[0, 100]),\n",
    "    yaxis=dict(title='Country', autorange='reversed'),\n",
    "    legend=dict(title='Item', traceorder='reversed'),\n",
    "    plot_bgcolor='white'\n",
    ")\n",
    "\n",
    "#show the figure\n",
    "fig.show()"
   ]
  },
  {
   "cell_type": "markdown",
   "metadata": {},
   "source": [
    "There is a lot of information, but it is very useful to have it so we can go back to it whenever we want. At a first glance we can see that the lion's share of most countries is spent on health and education. On the other hand, the items with the lowest spending tend to be environment protection and recreation, culture and religion. We can also see how this is less so for some countries. For instance, Zambia at the very bottom dedicates much less to health than to general public services. It is now time to find out whether those differences are systematic."
   ]
  },
  {
   "cell_type": "markdown",
   "metadata": {},
   "source": [
    "## 4. Extracting insights from the country budgets dataset by using machine learning\n",
    "As said above, this project aims at examining whether we can assign countries to different groups according to how they spend their public money across items. Then, we will to see whether these groups translate into differences in terms of a series of socio-economic indicators. The first step, then, is to try and find country clusters."
   ]
  },
  {
   "cell_type": "markdown",
   "metadata": {},
   "source": [
    "### 4.1. Exploring country clusters via k-means clustering\n",
    "\n",
    "In order to try to assign countries to groups according to their budget expenditure, an obvious candidate algorithm is k-means clustering. To understand the process, we can imagine a country's percentages for the 10 budget items to form a set of coordinates in a 10-dimensional space. By minimizing the squared Euclidean distances of such coordinates, the k-means clustering algorithm will assign each country to the cluster whose centroid is closest, and will do so iteratively until results do not significantly change. However, k-means clustering requires us to pre-specify the number of clusters. This leads to the problem of identifying which is the optimal cluster size, which can be solved through different methods. The most common of those is the elbow method, which we will follow next. \n",
    "\n",
    "The chunk code below uses the *scikit-learn* function *KMeans* to run k-means clustering for each number of clusters from 2 to 10. For each cluster number, we will extract the sum of squared distances (SSE) of samples to their closest cluster center."
   ]
  },
  {
   "cell_type": "code",
   "execution_count": 27,
   "metadata": {},
   "outputs": [
    {
     "data": {
      "text/html": [
       "<div>\n",
       "<style scoped>\n",
       "    .dataframe tbody tr th:only-of-type {\n",
       "        vertical-align: middle;\n",
       "    }\n",
       "\n",
       "    .dataframe tbody tr th {\n",
       "        vertical-align: top;\n",
       "    }\n",
       "\n",
       "    .dataframe thead th {\n",
       "        text-align: right;\n",
       "    }\n",
       "</style>\n",
       "<table border=\"1\" class=\"dataframe\">\n",
       "  <thead>\n",
       "    <tr style=\"text-align: right;\">\n",
       "      <th></th>\n",
       "      <th>n_k</th>\n",
       "      <th>sse</th>\n",
       "    </tr>\n",
       "  </thead>\n",
       "  <tbody>\n",
       "    <tr>\n",
       "      <th>0</th>\n",
       "      <td>2</td>\n",
       "      <td>12983.15</td>\n",
       "    </tr>\n",
       "    <tr>\n",
       "      <th>1</th>\n",
       "      <td>3</td>\n",
       "      <td>11568.51</td>\n",
       "    </tr>\n",
       "    <tr>\n",
       "      <th>2</th>\n",
       "      <td>4</td>\n",
       "      <td>8714.21</td>\n",
       "    </tr>\n",
       "    <tr>\n",
       "      <th>3</th>\n",
       "      <td>5</td>\n",
       "      <td>7947.26</td>\n",
       "    </tr>\n",
       "    <tr>\n",
       "      <th>4</th>\n",
       "      <td>6</td>\n",
       "      <td>7061.22</td>\n",
       "    </tr>\n",
       "    <tr>\n",
       "      <th>5</th>\n",
       "      <td>7</td>\n",
       "      <td>6379.75</td>\n",
       "    </tr>\n",
       "    <tr>\n",
       "      <th>6</th>\n",
       "      <td>8</td>\n",
       "      <td>5366.35</td>\n",
       "    </tr>\n",
       "    <tr>\n",
       "      <th>7</th>\n",
       "      <td>9</td>\n",
       "      <td>5061.39</td>\n",
       "    </tr>\n",
       "    <tr>\n",
       "      <th>8</th>\n",
       "      <td>10</td>\n",
       "      <td>4632.52</td>\n",
       "    </tr>\n",
       "  </tbody>\n",
       "</table>\n",
       "</div>"
      ],
      "text/plain": [
       "   n_k      sse\n",
       "0    2 12983.15\n",
       "1    3 11568.51\n",
       "2    4  8714.21\n",
       "3    5  7947.26\n",
       "4    6  7061.22\n",
       "5    7  6379.75\n",
       "6    8  5366.35\n",
       "7    9  5061.39\n",
       "8   10  4632.52"
      ]
     },
     "metadata": {},
     "output_type": "display_data"
    }
   ],
   "source": [
    "#pivot the DataFrame to have items as columns and countries as rows, the data format the KMeans function requires\n",
    "df_budget_pivot = df_budget.pivot(index='country', columns='item', values='perc_budget').fillna(0)\n",
    "\n",
    "#determine the optimal number of clusters, from 2 to 10, using the elbow method and assign information to DataFrame\n",
    "sse = []\n",
    "n_clusters = list(range(2, 11))\n",
    "for k in n_clusters:\n",
    "    kmeans = KMeans(n_clusters=k, random_state=42)\n",
    "    kmeans.fit(df_budget_pivot) #fit k-means\n",
    "    sse.append(kmeans.inertia_) #extract SSE\n",
    "\n",
    "elbow_df = pd.DataFrame({'n_k': n_clusters, 'sse': sse})\n",
    "\n",
    "#display the DataFrame\n",
    "display(elbow_df)"
   ]
  },
  {
   "cell_type": "markdown",
   "metadata": {},
   "source": [
    "We now have a DataFrame with the SSE for each cluster size. However, we need to visualize the data to clearly see if there is an optimal number of clusters. Since in what follows we will create a series of very similar figures in structure, we may as well define a function that will save us some lines of code in the long run."
   ]
  },
  {
   "cell_type": "code",
   "execution_count": 28,
   "metadata": {},
   "outputs": [
    {
     "data": {
      "application/vnd.plotly.v1+json": {
       "config": {
        "plotlyServerURL": "https://plot.ly"
       },
       "data": [
        {
         "hoverinfo": "text",
         "marker": {
          "color": "black",
          "line": {
           "color": "white",
           "width": 1
          },
          "size": 10
         },
         "mode": "markers",
         "showlegend": false,
         "text": [
          "Number of clusters: 2.00<br>Sum of squared distances: 12983.15",
          "Number of clusters: 3.00<br>Sum of squared distances: 11568.51",
          "Number of clusters: 4.00<br>Sum of squared distances: 8714.21",
          "Number of clusters: 5.00<br>Sum of squared distances: 7947.26",
          "Number of clusters: 6.00<br>Sum of squared distances: 7061.22",
          "Number of clusters: 7.00<br>Sum of squared distances: 6379.75",
          "Number of clusters: 8.00<br>Sum of squared distances: 5366.35",
          "Number of clusters: 9.00<br>Sum of squared distances: 5061.39",
          "Number of clusters: 10.00<br>Sum of squared distances: 4632.52"
         ],
         "type": "scatter",
         "x": [
          2,
          3,
          4,
          5,
          6,
          7,
          8,
          9,
          10
         ],
         "y": [
          12983.147917951615,
          11568.505155332434,
          8714.211021051658,
          7947.260481922926,
          7061.220855473881,
          6379.745978124969,
          5366.349820869138,
          5061.3914604559595,
          4632.518782128581
         ]
        },
        {
         "hoverinfo": "none",
         "line": {
          "color": "black"
         },
         "mode": "lines",
         "name": "Line plot",
         "showlegend": false,
         "type": "scatter",
         "x": [
          2,
          3,
          4,
          5,
          6,
          7,
          8,
          9,
          10
         ],
         "y": [
          12983.147917951615,
          11568.505155332434,
          8714.211021051658,
          7947.260481922926,
          7061.220855473881,
          6379.745978124969,
          5366.349820869138,
          5061.3914604559595,
          4632.518782128581
         ]
        }
       ],
       "layout": {
        "font": {
         "size": 12
        },
        "height": 500,
        "margin": {
         "b": 40,
         "l": 40,
         "r": 40,
         "t": 40
        },
        "paper_bgcolor": "white",
        "plot_bgcolor": "white",
        "template": {
         "data": {
          "bar": [
           {
            "error_x": {
             "color": "#2a3f5f"
            },
            "error_y": {
             "color": "#2a3f5f"
            },
            "marker": {
             "line": {
              "color": "#E5ECF6",
              "width": 0.5
             },
             "pattern": {
              "fillmode": "overlay",
              "size": 10,
              "solidity": 0.2
             }
            },
            "type": "bar"
           }
          ],
          "barpolar": [
           {
            "marker": {
             "line": {
              "color": "#E5ECF6",
              "width": 0.5
             },
             "pattern": {
              "fillmode": "overlay",
              "size": 10,
              "solidity": 0.2
             }
            },
            "type": "barpolar"
           }
          ],
          "carpet": [
           {
            "aaxis": {
             "endlinecolor": "#2a3f5f",
             "gridcolor": "white",
             "linecolor": "white",
             "minorgridcolor": "white",
             "startlinecolor": "#2a3f5f"
            },
            "baxis": {
             "endlinecolor": "#2a3f5f",
             "gridcolor": "white",
             "linecolor": "white",
             "minorgridcolor": "white",
             "startlinecolor": "#2a3f5f"
            },
            "type": "carpet"
           }
          ],
          "choropleth": [
           {
            "colorbar": {
             "outlinewidth": 0,
             "ticks": ""
            },
            "type": "choropleth"
           }
          ],
          "contour": [
           {
            "colorbar": {
             "outlinewidth": 0,
             "ticks": ""
            },
            "colorscale": [
             [
              0,
              "#0d0887"
             ],
             [
              0.1111111111111111,
              "#46039f"
             ],
             [
              0.2222222222222222,
              "#7201a8"
             ],
             [
              0.3333333333333333,
              "#9c179e"
             ],
             [
              0.4444444444444444,
              "#bd3786"
             ],
             [
              0.5555555555555556,
              "#d8576b"
             ],
             [
              0.6666666666666666,
              "#ed7953"
             ],
             [
              0.7777777777777778,
              "#fb9f3a"
             ],
             [
              0.8888888888888888,
              "#fdca26"
             ],
             [
              1,
              "#f0f921"
             ]
            ],
            "type": "contour"
           }
          ],
          "contourcarpet": [
           {
            "colorbar": {
             "outlinewidth": 0,
             "ticks": ""
            },
            "type": "contourcarpet"
           }
          ],
          "heatmap": [
           {
            "colorbar": {
             "outlinewidth": 0,
             "ticks": ""
            },
            "colorscale": [
             [
              0,
              "#0d0887"
             ],
             [
              0.1111111111111111,
              "#46039f"
             ],
             [
              0.2222222222222222,
              "#7201a8"
             ],
             [
              0.3333333333333333,
              "#9c179e"
             ],
             [
              0.4444444444444444,
              "#bd3786"
             ],
             [
              0.5555555555555556,
              "#d8576b"
             ],
             [
              0.6666666666666666,
              "#ed7953"
             ],
             [
              0.7777777777777778,
              "#fb9f3a"
             ],
             [
              0.8888888888888888,
              "#fdca26"
             ],
             [
              1,
              "#f0f921"
             ]
            ],
            "type": "heatmap"
           }
          ],
          "heatmapgl": [
           {
            "colorbar": {
             "outlinewidth": 0,
             "ticks": ""
            },
            "colorscale": [
             [
              0,
              "#0d0887"
             ],
             [
              0.1111111111111111,
              "#46039f"
             ],
             [
              0.2222222222222222,
              "#7201a8"
             ],
             [
              0.3333333333333333,
              "#9c179e"
             ],
             [
              0.4444444444444444,
              "#bd3786"
             ],
             [
              0.5555555555555556,
              "#d8576b"
             ],
             [
              0.6666666666666666,
              "#ed7953"
             ],
             [
              0.7777777777777778,
              "#fb9f3a"
             ],
             [
              0.8888888888888888,
              "#fdca26"
             ],
             [
              1,
              "#f0f921"
             ]
            ],
            "type": "heatmapgl"
           }
          ],
          "histogram": [
           {
            "marker": {
             "pattern": {
              "fillmode": "overlay",
              "size": 10,
              "solidity": 0.2
             }
            },
            "type": "histogram"
           }
          ],
          "histogram2d": [
           {
            "colorbar": {
             "outlinewidth": 0,
             "ticks": ""
            },
            "colorscale": [
             [
              0,
              "#0d0887"
             ],
             [
              0.1111111111111111,
              "#46039f"
             ],
             [
              0.2222222222222222,
              "#7201a8"
             ],
             [
              0.3333333333333333,
              "#9c179e"
             ],
             [
              0.4444444444444444,
              "#bd3786"
             ],
             [
              0.5555555555555556,
              "#d8576b"
             ],
             [
              0.6666666666666666,
              "#ed7953"
             ],
             [
              0.7777777777777778,
              "#fb9f3a"
             ],
             [
              0.8888888888888888,
              "#fdca26"
             ],
             [
              1,
              "#f0f921"
             ]
            ],
            "type": "histogram2d"
           }
          ],
          "histogram2dcontour": [
           {
            "colorbar": {
             "outlinewidth": 0,
             "ticks": ""
            },
            "colorscale": [
             [
              0,
              "#0d0887"
             ],
             [
              0.1111111111111111,
              "#46039f"
             ],
             [
              0.2222222222222222,
              "#7201a8"
             ],
             [
              0.3333333333333333,
              "#9c179e"
             ],
             [
              0.4444444444444444,
              "#bd3786"
             ],
             [
              0.5555555555555556,
              "#d8576b"
             ],
             [
              0.6666666666666666,
              "#ed7953"
             ],
             [
              0.7777777777777778,
              "#fb9f3a"
             ],
             [
              0.8888888888888888,
              "#fdca26"
             ],
             [
              1,
              "#f0f921"
             ]
            ],
            "type": "histogram2dcontour"
           }
          ],
          "mesh3d": [
           {
            "colorbar": {
             "outlinewidth": 0,
             "ticks": ""
            },
            "type": "mesh3d"
           }
          ],
          "parcoords": [
           {
            "line": {
             "colorbar": {
              "outlinewidth": 0,
              "ticks": ""
             }
            },
            "type": "parcoords"
           }
          ],
          "pie": [
           {
            "automargin": true,
            "type": "pie"
           }
          ],
          "scatter": [
           {
            "fillpattern": {
             "fillmode": "overlay",
             "size": 10,
             "solidity": 0.2
            },
            "type": "scatter"
           }
          ],
          "scatter3d": [
           {
            "line": {
             "colorbar": {
              "outlinewidth": 0,
              "ticks": ""
             }
            },
            "marker": {
             "colorbar": {
              "outlinewidth": 0,
              "ticks": ""
             }
            },
            "type": "scatter3d"
           }
          ],
          "scattercarpet": [
           {
            "marker": {
             "colorbar": {
              "outlinewidth": 0,
              "ticks": ""
             }
            },
            "type": "scattercarpet"
           }
          ],
          "scattergeo": [
           {
            "marker": {
             "colorbar": {
              "outlinewidth": 0,
              "ticks": ""
             }
            },
            "type": "scattergeo"
           }
          ],
          "scattergl": [
           {
            "marker": {
             "colorbar": {
              "outlinewidth": 0,
              "ticks": ""
             }
            },
            "type": "scattergl"
           }
          ],
          "scattermapbox": [
           {
            "marker": {
             "colorbar": {
              "outlinewidth": 0,
              "ticks": ""
             }
            },
            "type": "scattermapbox"
           }
          ],
          "scatterpolar": [
           {
            "marker": {
             "colorbar": {
              "outlinewidth": 0,
              "ticks": ""
             }
            },
            "type": "scatterpolar"
           }
          ],
          "scatterpolargl": [
           {
            "marker": {
             "colorbar": {
              "outlinewidth": 0,
              "ticks": ""
             }
            },
            "type": "scatterpolargl"
           }
          ],
          "scatterternary": [
           {
            "marker": {
             "colorbar": {
              "outlinewidth": 0,
              "ticks": ""
             }
            },
            "type": "scatterternary"
           }
          ],
          "surface": [
           {
            "colorbar": {
             "outlinewidth": 0,
             "ticks": ""
            },
            "colorscale": [
             [
              0,
              "#0d0887"
             ],
             [
              0.1111111111111111,
              "#46039f"
             ],
             [
              0.2222222222222222,
              "#7201a8"
             ],
             [
              0.3333333333333333,
              "#9c179e"
             ],
             [
              0.4444444444444444,
              "#bd3786"
             ],
             [
              0.5555555555555556,
              "#d8576b"
             ],
             [
              0.6666666666666666,
              "#ed7953"
             ],
             [
              0.7777777777777778,
              "#fb9f3a"
             ],
             [
              0.8888888888888888,
              "#fdca26"
             ],
             [
              1,
              "#f0f921"
             ]
            ],
            "type": "surface"
           }
          ],
          "table": [
           {
            "cells": {
             "fill": {
              "color": "#EBF0F8"
             },
             "line": {
              "color": "white"
             }
            },
            "header": {
             "fill": {
              "color": "#C8D4E3"
             },
             "line": {
              "color": "white"
             }
            },
            "type": "table"
           }
          ]
         },
         "layout": {
          "annotationdefaults": {
           "arrowcolor": "#2a3f5f",
           "arrowhead": 0,
           "arrowwidth": 1
          },
          "autotypenumbers": "strict",
          "coloraxis": {
           "colorbar": {
            "outlinewidth": 0,
            "ticks": ""
           }
          },
          "colorscale": {
           "diverging": [
            [
             0,
             "#8e0152"
            ],
            [
             0.1,
             "#c51b7d"
            ],
            [
             0.2,
             "#de77ae"
            ],
            [
             0.3,
             "#f1b6da"
            ],
            [
             0.4,
             "#fde0ef"
            ],
            [
             0.5,
             "#f7f7f7"
            ],
            [
             0.6,
             "#e6f5d0"
            ],
            [
             0.7,
             "#b8e186"
            ],
            [
             0.8,
             "#7fbc41"
            ],
            [
             0.9,
             "#4d9221"
            ],
            [
             1,
             "#276419"
            ]
           ],
           "sequential": [
            [
             0,
             "#0d0887"
            ],
            [
             0.1111111111111111,
             "#46039f"
            ],
            [
             0.2222222222222222,
             "#7201a8"
            ],
            [
             0.3333333333333333,
             "#9c179e"
            ],
            [
             0.4444444444444444,
             "#bd3786"
            ],
            [
             0.5555555555555556,
             "#d8576b"
            ],
            [
             0.6666666666666666,
             "#ed7953"
            ],
            [
             0.7777777777777778,
             "#fb9f3a"
            ],
            [
             0.8888888888888888,
             "#fdca26"
            ],
            [
             1,
             "#f0f921"
            ]
           ],
           "sequentialminus": [
            [
             0,
             "#0d0887"
            ],
            [
             0.1111111111111111,
             "#46039f"
            ],
            [
             0.2222222222222222,
             "#7201a8"
            ],
            [
             0.3333333333333333,
             "#9c179e"
            ],
            [
             0.4444444444444444,
             "#bd3786"
            ],
            [
             0.5555555555555556,
             "#d8576b"
            ],
            [
             0.6666666666666666,
             "#ed7953"
            ],
            [
             0.7777777777777778,
             "#fb9f3a"
            ],
            [
             0.8888888888888888,
             "#fdca26"
            ],
            [
             1,
             "#f0f921"
            ]
           ]
          },
          "colorway": [
           "#636efa",
           "#EF553B",
           "#00cc96",
           "#ab63fa",
           "#FFA15A",
           "#19d3f3",
           "#FF6692",
           "#B6E880",
           "#FF97FF",
           "#FECB52"
          ],
          "font": {
           "color": "#2a3f5f"
          },
          "geo": {
           "bgcolor": "white",
           "lakecolor": "white",
           "landcolor": "#E5ECF6",
           "showlakes": true,
           "showland": true,
           "subunitcolor": "white"
          },
          "hoverlabel": {
           "align": "left"
          },
          "hovermode": "closest",
          "mapbox": {
           "style": "light"
          },
          "paper_bgcolor": "white",
          "plot_bgcolor": "#E5ECF6",
          "polar": {
           "angularaxis": {
            "gridcolor": "white",
            "linecolor": "white",
            "ticks": ""
           },
           "bgcolor": "#E5ECF6",
           "radialaxis": {
            "gridcolor": "white",
            "linecolor": "white",
            "ticks": ""
           }
          },
          "scene": {
           "xaxis": {
            "backgroundcolor": "#E5ECF6",
            "gridcolor": "white",
            "gridwidth": 2,
            "linecolor": "white",
            "showbackground": true,
            "ticks": "",
            "zerolinecolor": "white"
           },
           "yaxis": {
            "backgroundcolor": "#E5ECF6",
            "gridcolor": "white",
            "gridwidth": 2,
            "linecolor": "white",
            "showbackground": true,
            "ticks": "",
            "zerolinecolor": "white"
           },
           "zaxis": {
            "backgroundcolor": "#E5ECF6",
            "gridcolor": "white",
            "gridwidth": 2,
            "linecolor": "white",
            "showbackground": true,
            "ticks": "",
            "zerolinecolor": "white"
           }
          },
          "shapedefaults": {
           "line": {
            "color": "#2a3f5f"
           }
          },
          "ternary": {
           "aaxis": {
            "gridcolor": "white",
            "linecolor": "white",
            "ticks": ""
           },
           "baxis": {
            "gridcolor": "white",
            "linecolor": "white",
            "ticks": ""
           },
           "bgcolor": "#E5ECF6",
           "caxis": {
            "gridcolor": "white",
            "linecolor": "white",
            "ticks": ""
           }
          },
          "title": {
           "x": 0.05
          },
          "xaxis": {
           "automargin": true,
           "gridcolor": "white",
           "linecolor": "white",
           "ticks": "",
           "title": {
            "standoff": 15
           },
           "zerolinecolor": "white",
           "zerolinewidth": 2
          },
          "yaxis": {
           "automargin": true,
           "gridcolor": "white",
           "linecolor": "white",
           "ticks": "",
           "title": {
            "standoff": 15
           },
           "zerolinecolor": "white",
           "zerolinewidth": 2
          }
         }
        },
        "title": {
         "text": "Results of elbow method for optimal K"
        },
        "width": 800,
        "xaxis": {
         "gridcolor": "lightgrey",
         "linecolor": "black",
         "tickfont": {
          "size": 10
         },
         "title": {
          "text": "Number of clusters"
         },
         "zeroline": true,
         "zerolinecolor": "lightgrey",
         "zerolinewidth": 1
        },
        "yaxis": {
         "gridcolor": "lightgrey",
         "linecolor": "black",
         "tickfont": {
          "size": 10
         },
         "title": {
          "text": "Sum of squared distances"
         },
         "zeroline": true,
         "zerolinecolor": "lightgrey",
         "zerolinewidth": 1
        }
       }
      }
     },
     "metadata": {},
     "output_type": "display_data"
    }
   ],
   "source": [
    "#define a function that creates a plot of dots connected by lines\n",
    "def plot_line_and_scatter(df, x_col, y_col, x_title, y_title, hover_text, title):\n",
    "\n",
    "    #line plot\n",
    "    line = go.Scatter(\n",
    "        x=df[x_col],\n",
    "        y=df[y_col],\n",
    "        mode='lines',\n",
    "        name='Line plot',\n",
    "        hoverinfo='none',\n",
    "        showlegend=False, \n",
    "        line=dict(color='black')\n",
    "    )\n",
    "\n",
    "    #scatter plot\n",
    "    scatter = go.Scatter(\n",
    "        x=df[x_col],\n",
    "        y=df[y_col],\n",
    "        mode='markers',\n",
    "        hoverinfo='text',\n",
    "        text=hover_text,\n",
    "        showlegend=False, \n",
    "        marker=dict(size=10, color='black', line=dict(color='white', width=1)),\n",
    "    )\n",
    "\n",
    "    #create the figure\n",
    "    fig = go.Figure(data=[scatter, line], layout=mylayout)\n",
    "\n",
    "    #customize layout\n",
    "    fig.update_layout(\n",
    "        width=plot_size_shortwidth,\n",
    "        height=plot_size_shortheight,\n",
    "        title=title,\n",
    "        xaxis_title=x_title,\n",
    "        yaxis_title=y_title,\n",
    "        margin=dict(l=40, r=40, t=40, b=40)\n",
    "    )\n",
    "\n",
    "    #show the figure\n",
    "    fig.show()\n",
    "\n",
    "#plot the figure by first defining a series of input parameters and then passing them to the function\n",
    "x_col = 'n_k'  #name of column for x-axis\n",
    "y_col = 'sse'  #name of column for y-axis\n",
    "x_title = 'Number of clusters'  #title for x-axis\n",
    "y_title = 'Sum of squared distances'  #title for y-axis\n",
    "hover_text = [f'{x_title}: {x_value:.2f}<br>{y_title}: {y_value:.2f}'\n",
    "              for x_value, y_value in zip(elbow_df[x_col], elbow_df[y_col])] #plotly's graphical object syntax for hover text\n",
    "title = 'Results of elbow method for optimal K' #plot title\n",
    "\n",
    "plot_line_and_scatter(elbow_df, x_col, y_col, x_title, y_title, hover_text, title) #run the function to see the figure"
   ]
  },
  {
   "cell_type": "markdown",
   "metadata": {},
   "source": [
    "What we have above is a plot of the SSE for each cluster size. The elbow method is a graphical way to pick the number of clusters by sticking to the value corresponding to the \"elbow\" of the curve: that is, where a sharp reduction in the slope is produced. In our case, although there is a big change for k = 4, there are other points where the slope changes significantly. In uncertain cases like ours, a recommendation is to apply another method, called the silhouette method.\n",
    "\n",
    "The silhouette method involves calculating the -1 to 1 silhouette score, which measures how similar an object is to its own cluster (cohesion) compared to other clusters (separation). In our implementation, for cluster sizes 2 to 10, we will calculate the silhouette score for each cluster, and for the whole dataset. The size with the highest score for the whole dataset should be considered optimal, as long as two requisites are met: the score for each cluster should be bigger than that for the whole dataset, and all clusters should have similar sizes.\n",
    "\n",
    "In order to do all the aforementioned checks, we will create a similar figure to the previous one, but now displaying the dataset's silhouette score as a function of cluster size. Moreover, we will print the value for these whole dataset silhouette scores right next to the individual cluster silhouette scores."
   ]
  },
  {
   "cell_type": "code",
   "execution_count": 29,
   "metadata": {},
   "outputs": [
    {
     "name": "stdout",
     "output_type": "stream",
     "text": [
      "For k = 2:\n",
      "  Average silhouette score for the whole dataset: 0.3288\n",
      "  Average silhouette score for cluster 0: 0.0363\n",
      "  Average silhouette score for cluster 1: 0.4959\n",
      "  Number of data points in each cluster: [20, 35]\n",
      "\n",
      "For k = 3:\n",
      "  Average silhouette score for the whole dataset: 0.1746\n",
      "  Average silhouette score for cluster 0: -0.0367\n",
      "  Average silhouette score for cluster 1: 0.3023\n",
      "  Average silhouette score for cluster 2: 0.2183\n",
      "  Number of data points in each cluster: [17, 23, 15]\n",
      "\n",
      "For k = 4:\n",
      "  Average silhouette score for the whole dataset: 0.2299\n",
      "  Average silhouette score for cluster 0: 0.0864\n",
      "  Average silhouette score for cluster 1: 0.3868\n",
      "  Average silhouette score for cluster 2: 0.1053\n",
      "  Average silhouette score for cluster 3: 0.2392\n",
      "  Number of data points in each cluster: [16, 24, 12, 3]\n",
      "\n",
      "For k = 5:\n",
      "  Average silhouette score for the whole dataset: 0.1571\n",
      "  Average silhouette score for cluster 0: 0.0224\n",
      "  Average silhouette score for cluster 1: 0.1076\n",
      "  Average silhouette score for cluster 2: 0.0647\n",
      "  Average silhouette score for cluster 3: 0.2489\n",
      "  Average silhouette score for cluster 4: 0.3520\n",
      "  Number of data points in each cluster: [11, 16, 10, 3, 15]\n",
      "\n",
      "For k = 6:\n",
      "  Average silhouette score for the whole dataset: 0.1557\n",
      "  Average silhouette score for cluster 0: 0.0301\n",
      "  Average silhouette score for cluster 1: 0.1661\n",
      "  Average silhouette score for cluster 2: 0.1642\n",
      "  Average silhouette score for cluster 3: 0.1887\n",
      "  Average silhouette score for cluster 4: 0.2654\n",
      "  Average silhouette score for cluster 5: 0.0501\n",
      "  Number of data points in each cluster: [7, 12, 8, 3, 15, 10]\n",
      "\n",
      "For k = 7:\n",
      "  Average silhouette score for the whole dataset: 0.1726\n",
      "  Average silhouette score for cluster 0: 0.1078\n",
      "  Average silhouette score for cluster 1: 0.1603\n",
      "  Average silhouette score for cluster 2: 0.1555\n",
      "  Average silhouette score for cluster 3: 0.1910\n",
      "  Average silhouette score for cluster 4: 0.2654\n",
      "  Average silhouette score for cluster 5: 0.0989\n",
      "  Average silhouette score for cluster 6: 0.1139\n",
      "  Number of data points in each cluster: [5, 12, 8, 3, 15, 9, 3]\n",
      "\n",
      "For k = 8:\n",
      "  Average silhouette score for the whole dataset: 0.2081\n",
      "  Average silhouette score for cluster 0: 0.1491\n",
      "  Average silhouette score for cluster 1: 0.2938\n",
      "  Average silhouette score for cluster 2: 0.4137\n",
      "  Average silhouette score for cluster 3: 0.0579\n",
      "  Average silhouette score for cluster 4: 0.2279\n",
      "  Average silhouette score for cluster 5: 0.0975\n",
      "  Average silhouette score for cluster 6: 0.0539\n",
      "  Average silhouette score for cluster 7: 0.2442\n",
      "  Number of data points in each cluster: [4, 18, 2, 4, 7, 7, 5, 8]\n",
      "\n",
      "For k = 9:\n",
      "  Average silhouette score for the whole dataset: 0.1565\n",
      "  Average silhouette score for cluster 0: 0.1291\n",
      "  Average silhouette score for cluster 1: 0.2587\n",
      "  Average silhouette score for cluster 2: 0.4137\n",
      "  Average silhouette score for cluster 3: 0.0404\n",
      "  Average silhouette score for cluster 4: 0.2023\n",
      "  Average silhouette score for cluster 5: 0.1044\n",
      "  Average silhouette score for cluster 6: 0.0451\n",
      "  Average silhouette score for cluster 7: 0.1873\n",
      "  Average silhouette score for cluster 8: 0.0938\n",
      "  Number of data points in each cluster: [4, 10, 2, 4, 7, 6, 5, 7, 10]\n",
      "\n",
      "For k = 10:\n",
      "  Average silhouette score for the whole dataset: 0.1668\n",
      "  Average silhouette score for cluster 0: 0.1291\n",
      "  Average silhouette score for cluster 1: 0.2587\n",
      "  Average silhouette score for cluster 2: 0.4042\n",
      "  Average silhouette score for cluster 3: 0.0247\n",
      "  Average silhouette score for cluster 4: 0.2023\n",
      "  Average silhouette score for cluster 5: 0.1024\n",
      "  Average silhouette score for cluster 6: 0.1976\n",
      "  Average silhouette score for cluster 7: 0.1873\n",
      "  Average silhouette score for cluster 8: 0.0938\n",
      "  Average silhouette score for cluster 9: 0.1629\n",
      "  Number of data points in each cluster: [4, 10, 2, 4, 7, 6, 2, 7, 10, 3]\n",
      "\n"
     ]
    },
    {
     "data": {
      "application/vnd.plotly.v1+json": {
       "config": {
        "plotlyServerURL": "https://plot.ly"
       },
       "data": [
        {
         "hoverinfo": "text",
         "marker": {
          "color": "black",
          "line": {
           "color": "white",
           "width": 1
          },
          "size": 10
         },
         "mode": "markers",
         "showlegend": false,
         "text": [
          "Number of clusters: 2.00<br>Silhouette score: 0.33",
          "Number of clusters: 3.00<br>Silhouette score: 0.17",
          "Number of clusters: 4.00<br>Silhouette score: 0.23",
          "Number of clusters: 5.00<br>Silhouette score: 0.16",
          "Number of clusters: 6.00<br>Silhouette score: 0.16",
          "Number of clusters: 7.00<br>Silhouette score: 0.17",
          "Number of clusters: 8.00<br>Silhouette score: 0.21",
          "Number of clusters: 9.00<br>Silhouette score: 0.16",
          "Number of clusters: 10.00<br>Silhouette score: 0.17"
         ],
         "type": "scatter",
         "x": [
          2,
          3,
          4,
          5,
          6,
          7,
          8,
          9,
          10
         ],
         "y": [
          0.32877949650547217,
          0.17459920280843472,
          0.22994943011851196,
          0.15712466011633303,
          0.1557310080069353,
          0.17258101406012308,
          0.20809489709030637,
          0.15653329119108203,
          0.1667992782748904
         ]
        },
        {
         "hoverinfo": "none",
         "line": {
          "color": "black"
         },
         "mode": "lines",
         "name": "Line plot",
         "showlegend": false,
         "type": "scatter",
         "x": [
          2,
          3,
          4,
          5,
          6,
          7,
          8,
          9,
          10
         ],
         "y": [
          0.32877949650547217,
          0.17459920280843472,
          0.22994943011851196,
          0.15712466011633303,
          0.1557310080069353,
          0.17258101406012308,
          0.20809489709030637,
          0.15653329119108203,
          0.1667992782748904
         ]
        }
       ],
       "layout": {
        "font": {
         "size": 12
        },
        "height": 500,
        "margin": {
         "b": 40,
         "l": 40,
         "r": 40,
         "t": 40
        },
        "paper_bgcolor": "white",
        "plot_bgcolor": "white",
        "template": {
         "data": {
          "bar": [
           {
            "error_x": {
             "color": "#2a3f5f"
            },
            "error_y": {
             "color": "#2a3f5f"
            },
            "marker": {
             "line": {
              "color": "#E5ECF6",
              "width": 0.5
             },
             "pattern": {
              "fillmode": "overlay",
              "size": 10,
              "solidity": 0.2
             }
            },
            "type": "bar"
           }
          ],
          "barpolar": [
           {
            "marker": {
             "line": {
              "color": "#E5ECF6",
              "width": 0.5
             },
             "pattern": {
              "fillmode": "overlay",
              "size": 10,
              "solidity": 0.2
             }
            },
            "type": "barpolar"
           }
          ],
          "carpet": [
           {
            "aaxis": {
             "endlinecolor": "#2a3f5f",
             "gridcolor": "white",
             "linecolor": "white",
             "minorgridcolor": "white",
             "startlinecolor": "#2a3f5f"
            },
            "baxis": {
             "endlinecolor": "#2a3f5f",
             "gridcolor": "white",
             "linecolor": "white",
             "minorgridcolor": "white",
             "startlinecolor": "#2a3f5f"
            },
            "type": "carpet"
           }
          ],
          "choropleth": [
           {
            "colorbar": {
             "outlinewidth": 0,
             "ticks": ""
            },
            "type": "choropleth"
           }
          ],
          "contour": [
           {
            "colorbar": {
             "outlinewidth": 0,
             "ticks": ""
            },
            "colorscale": [
             [
              0,
              "#0d0887"
             ],
             [
              0.1111111111111111,
              "#46039f"
             ],
             [
              0.2222222222222222,
              "#7201a8"
             ],
             [
              0.3333333333333333,
              "#9c179e"
             ],
             [
              0.4444444444444444,
              "#bd3786"
             ],
             [
              0.5555555555555556,
              "#d8576b"
             ],
             [
              0.6666666666666666,
              "#ed7953"
             ],
             [
              0.7777777777777778,
              "#fb9f3a"
             ],
             [
              0.8888888888888888,
              "#fdca26"
             ],
             [
              1,
              "#f0f921"
             ]
            ],
            "type": "contour"
           }
          ],
          "contourcarpet": [
           {
            "colorbar": {
             "outlinewidth": 0,
             "ticks": ""
            },
            "type": "contourcarpet"
           }
          ],
          "heatmap": [
           {
            "colorbar": {
             "outlinewidth": 0,
             "ticks": ""
            },
            "colorscale": [
             [
              0,
              "#0d0887"
             ],
             [
              0.1111111111111111,
              "#46039f"
             ],
             [
              0.2222222222222222,
              "#7201a8"
             ],
             [
              0.3333333333333333,
              "#9c179e"
             ],
             [
              0.4444444444444444,
              "#bd3786"
             ],
             [
              0.5555555555555556,
              "#d8576b"
             ],
             [
              0.6666666666666666,
              "#ed7953"
             ],
             [
              0.7777777777777778,
              "#fb9f3a"
             ],
             [
              0.8888888888888888,
              "#fdca26"
             ],
             [
              1,
              "#f0f921"
             ]
            ],
            "type": "heatmap"
           }
          ],
          "heatmapgl": [
           {
            "colorbar": {
             "outlinewidth": 0,
             "ticks": ""
            },
            "colorscale": [
             [
              0,
              "#0d0887"
             ],
             [
              0.1111111111111111,
              "#46039f"
             ],
             [
              0.2222222222222222,
              "#7201a8"
             ],
             [
              0.3333333333333333,
              "#9c179e"
             ],
             [
              0.4444444444444444,
              "#bd3786"
             ],
             [
              0.5555555555555556,
              "#d8576b"
             ],
             [
              0.6666666666666666,
              "#ed7953"
             ],
             [
              0.7777777777777778,
              "#fb9f3a"
             ],
             [
              0.8888888888888888,
              "#fdca26"
             ],
             [
              1,
              "#f0f921"
             ]
            ],
            "type": "heatmapgl"
           }
          ],
          "histogram": [
           {
            "marker": {
             "pattern": {
              "fillmode": "overlay",
              "size": 10,
              "solidity": 0.2
             }
            },
            "type": "histogram"
           }
          ],
          "histogram2d": [
           {
            "colorbar": {
             "outlinewidth": 0,
             "ticks": ""
            },
            "colorscale": [
             [
              0,
              "#0d0887"
             ],
             [
              0.1111111111111111,
              "#46039f"
             ],
             [
              0.2222222222222222,
              "#7201a8"
             ],
             [
              0.3333333333333333,
              "#9c179e"
             ],
             [
              0.4444444444444444,
              "#bd3786"
             ],
             [
              0.5555555555555556,
              "#d8576b"
             ],
             [
              0.6666666666666666,
              "#ed7953"
             ],
             [
              0.7777777777777778,
              "#fb9f3a"
             ],
             [
              0.8888888888888888,
              "#fdca26"
             ],
             [
              1,
              "#f0f921"
             ]
            ],
            "type": "histogram2d"
           }
          ],
          "histogram2dcontour": [
           {
            "colorbar": {
             "outlinewidth": 0,
             "ticks": ""
            },
            "colorscale": [
             [
              0,
              "#0d0887"
             ],
             [
              0.1111111111111111,
              "#46039f"
             ],
             [
              0.2222222222222222,
              "#7201a8"
             ],
             [
              0.3333333333333333,
              "#9c179e"
             ],
             [
              0.4444444444444444,
              "#bd3786"
             ],
             [
              0.5555555555555556,
              "#d8576b"
             ],
             [
              0.6666666666666666,
              "#ed7953"
             ],
             [
              0.7777777777777778,
              "#fb9f3a"
             ],
             [
              0.8888888888888888,
              "#fdca26"
             ],
             [
              1,
              "#f0f921"
             ]
            ],
            "type": "histogram2dcontour"
           }
          ],
          "mesh3d": [
           {
            "colorbar": {
             "outlinewidth": 0,
             "ticks": ""
            },
            "type": "mesh3d"
           }
          ],
          "parcoords": [
           {
            "line": {
             "colorbar": {
              "outlinewidth": 0,
              "ticks": ""
             }
            },
            "type": "parcoords"
           }
          ],
          "pie": [
           {
            "automargin": true,
            "type": "pie"
           }
          ],
          "scatter": [
           {
            "fillpattern": {
             "fillmode": "overlay",
             "size": 10,
             "solidity": 0.2
            },
            "type": "scatter"
           }
          ],
          "scatter3d": [
           {
            "line": {
             "colorbar": {
              "outlinewidth": 0,
              "ticks": ""
             }
            },
            "marker": {
             "colorbar": {
              "outlinewidth": 0,
              "ticks": ""
             }
            },
            "type": "scatter3d"
           }
          ],
          "scattercarpet": [
           {
            "marker": {
             "colorbar": {
              "outlinewidth": 0,
              "ticks": ""
             }
            },
            "type": "scattercarpet"
           }
          ],
          "scattergeo": [
           {
            "marker": {
             "colorbar": {
              "outlinewidth": 0,
              "ticks": ""
             }
            },
            "type": "scattergeo"
           }
          ],
          "scattergl": [
           {
            "marker": {
             "colorbar": {
              "outlinewidth": 0,
              "ticks": ""
             }
            },
            "type": "scattergl"
           }
          ],
          "scattermapbox": [
           {
            "marker": {
             "colorbar": {
              "outlinewidth": 0,
              "ticks": ""
             }
            },
            "type": "scattermapbox"
           }
          ],
          "scatterpolar": [
           {
            "marker": {
             "colorbar": {
              "outlinewidth": 0,
              "ticks": ""
             }
            },
            "type": "scatterpolar"
           }
          ],
          "scatterpolargl": [
           {
            "marker": {
             "colorbar": {
              "outlinewidth": 0,
              "ticks": ""
             }
            },
            "type": "scatterpolargl"
           }
          ],
          "scatterternary": [
           {
            "marker": {
             "colorbar": {
              "outlinewidth": 0,
              "ticks": ""
             }
            },
            "type": "scatterternary"
           }
          ],
          "surface": [
           {
            "colorbar": {
             "outlinewidth": 0,
             "ticks": ""
            },
            "colorscale": [
             [
              0,
              "#0d0887"
             ],
             [
              0.1111111111111111,
              "#46039f"
             ],
             [
              0.2222222222222222,
              "#7201a8"
             ],
             [
              0.3333333333333333,
              "#9c179e"
             ],
             [
              0.4444444444444444,
              "#bd3786"
             ],
             [
              0.5555555555555556,
              "#d8576b"
             ],
             [
              0.6666666666666666,
              "#ed7953"
             ],
             [
              0.7777777777777778,
              "#fb9f3a"
             ],
             [
              0.8888888888888888,
              "#fdca26"
             ],
             [
              1,
              "#f0f921"
             ]
            ],
            "type": "surface"
           }
          ],
          "table": [
           {
            "cells": {
             "fill": {
              "color": "#EBF0F8"
             },
             "line": {
              "color": "white"
             }
            },
            "header": {
             "fill": {
              "color": "#C8D4E3"
             },
             "line": {
              "color": "white"
             }
            },
            "type": "table"
           }
          ]
         },
         "layout": {
          "annotationdefaults": {
           "arrowcolor": "#2a3f5f",
           "arrowhead": 0,
           "arrowwidth": 1
          },
          "autotypenumbers": "strict",
          "coloraxis": {
           "colorbar": {
            "outlinewidth": 0,
            "ticks": ""
           }
          },
          "colorscale": {
           "diverging": [
            [
             0,
             "#8e0152"
            ],
            [
             0.1,
             "#c51b7d"
            ],
            [
             0.2,
             "#de77ae"
            ],
            [
             0.3,
             "#f1b6da"
            ],
            [
             0.4,
             "#fde0ef"
            ],
            [
             0.5,
             "#f7f7f7"
            ],
            [
             0.6,
             "#e6f5d0"
            ],
            [
             0.7,
             "#b8e186"
            ],
            [
             0.8,
             "#7fbc41"
            ],
            [
             0.9,
             "#4d9221"
            ],
            [
             1,
             "#276419"
            ]
           ],
           "sequential": [
            [
             0,
             "#0d0887"
            ],
            [
             0.1111111111111111,
             "#46039f"
            ],
            [
             0.2222222222222222,
             "#7201a8"
            ],
            [
             0.3333333333333333,
             "#9c179e"
            ],
            [
             0.4444444444444444,
             "#bd3786"
            ],
            [
             0.5555555555555556,
             "#d8576b"
            ],
            [
             0.6666666666666666,
             "#ed7953"
            ],
            [
             0.7777777777777778,
             "#fb9f3a"
            ],
            [
             0.8888888888888888,
             "#fdca26"
            ],
            [
             1,
             "#f0f921"
            ]
           ],
           "sequentialminus": [
            [
             0,
             "#0d0887"
            ],
            [
             0.1111111111111111,
             "#46039f"
            ],
            [
             0.2222222222222222,
             "#7201a8"
            ],
            [
             0.3333333333333333,
             "#9c179e"
            ],
            [
             0.4444444444444444,
             "#bd3786"
            ],
            [
             0.5555555555555556,
             "#d8576b"
            ],
            [
             0.6666666666666666,
             "#ed7953"
            ],
            [
             0.7777777777777778,
             "#fb9f3a"
            ],
            [
             0.8888888888888888,
             "#fdca26"
            ],
            [
             1,
             "#f0f921"
            ]
           ]
          },
          "colorway": [
           "#636efa",
           "#EF553B",
           "#00cc96",
           "#ab63fa",
           "#FFA15A",
           "#19d3f3",
           "#FF6692",
           "#B6E880",
           "#FF97FF",
           "#FECB52"
          ],
          "font": {
           "color": "#2a3f5f"
          },
          "geo": {
           "bgcolor": "white",
           "lakecolor": "white",
           "landcolor": "#E5ECF6",
           "showlakes": true,
           "showland": true,
           "subunitcolor": "white"
          },
          "hoverlabel": {
           "align": "left"
          },
          "hovermode": "closest",
          "mapbox": {
           "style": "light"
          },
          "paper_bgcolor": "white",
          "plot_bgcolor": "#E5ECF6",
          "polar": {
           "angularaxis": {
            "gridcolor": "white",
            "linecolor": "white",
            "ticks": ""
           },
           "bgcolor": "#E5ECF6",
           "radialaxis": {
            "gridcolor": "white",
            "linecolor": "white",
            "ticks": ""
           }
          },
          "scene": {
           "xaxis": {
            "backgroundcolor": "#E5ECF6",
            "gridcolor": "white",
            "gridwidth": 2,
            "linecolor": "white",
            "showbackground": true,
            "ticks": "",
            "zerolinecolor": "white"
           },
           "yaxis": {
            "backgroundcolor": "#E5ECF6",
            "gridcolor": "white",
            "gridwidth": 2,
            "linecolor": "white",
            "showbackground": true,
            "ticks": "",
            "zerolinecolor": "white"
           },
           "zaxis": {
            "backgroundcolor": "#E5ECF6",
            "gridcolor": "white",
            "gridwidth": 2,
            "linecolor": "white",
            "showbackground": true,
            "ticks": "",
            "zerolinecolor": "white"
           }
          },
          "shapedefaults": {
           "line": {
            "color": "#2a3f5f"
           }
          },
          "ternary": {
           "aaxis": {
            "gridcolor": "white",
            "linecolor": "white",
            "ticks": ""
           },
           "baxis": {
            "gridcolor": "white",
            "linecolor": "white",
            "ticks": ""
           },
           "bgcolor": "#E5ECF6",
           "caxis": {
            "gridcolor": "white",
            "linecolor": "white",
            "ticks": ""
           }
          },
          "title": {
           "x": 0.05
          },
          "xaxis": {
           "automargin": true,
           "gridcolor": "white",
           "linecolor": "white",
           "ticks": "",
           "title": {
            "standoff": 15
           },
           "zerolinecolor": "white",
           "zerolinewidth": 2
          },
          "yaxis": {
           "automargin": true,
           "gridcolor": "white",
           "linecolor": "white",
           "ticks": "",
           "title": {
            "standoff": 15
           },
           "zerolinecolor": "white",
           "zerolinewidth": 2
          }
         }
        },
        "title": {
         "text": "Results of silhouette method for optimal K"
        },
        "width": 800,
        "xaxis": {
         "gridcolor": "lightgrey",
         "linecolor": "black",
         "tickfont": {
          "size": 10
         },
         "title": {
          "text": "Number of clusters"
         },
         "zeroline": true,
         "zerolinecolor": "lightgrey",
         "zerolinewidth": 1
        },
        "yaxis": {
         "gridcolor": "lightgrey",
         "linecolor": "black",
         "tickfont": {
          "size": 10
         },
         "title": {
          "text": "Silhouette score"
         },
         "zeroline": true,
         "zerolinecolor": "lightgrey",
         "zerolinewidth": 1
        }
       }
      }
     },
     "metadata": {},
     "output_type": "display_data"
    }
   ],
   "source": [
    "#initialize lists to store silhouette scores and cluster sizes\n",
    "silhouette_scores = []\n",
    "cluster_sizes = []\n",
    "\n",
    "#iterate over different numbers of clusters\n",
    "for k in range(2, 11):\n",
    "    #initialize KMeans with k clusters\n",
    "    kmeans = KMeans(n_clusters=k, random_state=42)\n",
    "    \n",
    "    #fit KMeans to the data\n",
    "    kmeans.fit(df_budget_pivot)\n",
    "    \n",
    "    #calculate silhouette score for each sample\n",
    "    sample_silhouette_values = silhouette_samples(df_budget_pivot, kmeans.labels_)\n",
    "    \n",
    "    #calculate average silhouette score for the entire dataset\n",
    "    silhouette_avg = silhouette_score(df_budget_pivot, kmeans.labels_)\n",
    "    silhouette_scores.append(silhouette_avg)\n",
    "    \n",
    "    #calculate the number of data points in each cluster\n",
    "    cluster_sizes.append(pd.Series(kmeans.labels_).value_counts().sort_index().tolist())\n",
    "    \n",
    "    #store detailed silhouette scores for each cluster\n",
    "    cluster_silhouette_scores = []\n",
    "    for i in range(k):\n",
    "        cluster_silhouette_avg = sample_silhouette_values[kmeans.labels_ == i].mean()\n",
    "        cluster_silhouette_scores.append(cluster_silhouette_avg)\n",
    "    \n",
    "    #display results for current k\n",
    "    print(f'For k = {k}:')\n",
    "    print(f'  Average silhouette score for the whole dataset: {silhouette_avg:.4f}')\n",
    "    for i, score in enumerate(cluster_silhouette_scores):\n",
    "        print(f'  Average silhouette score for cluster {i}: {score:.4f}')\n",
    "    print(f'  Number of data points in each cluster: {cluster_sizes[-1]}')\n",
    "    print('')\n",
    "\n",
    "silhouette_df = pd.DataFrame({'n_k': n_clusters, 'silhouette_score': silhouette_scores})\n",
    "\n",
    "#plot the figure\n",
    "x_col = 'n_k'  #name of column for x-axis\n",
    "y_col = 'silhouette_score'  #name of column for y-axis\n",
    "x_title = 'Number of clusters'  #title for x-axis\n",
    "y_title = 'Silhouette score'  #title for y-axis\n",
    "hover_text = [f'{x_title}: {x_value:.2f}<br>{y_title}: {y_value:.2f}'\n",
    "              for x_value, y_value in zip(silhouette_df[x_col], silhouette_df[y_col])] #hover text template\n",
    "title = 'Results of silhouette method for optimal K'\n",
    "\n",
    "plot_line_and_scatter(silhouette_df, x_col, y_col, x_title, y_title, hover_text, title) #run function with parameters defined above"
   ]
  },
  {
   "cell_type": "markdown",
   "metadata": {},
   "source": [
    "Based on the whole dataset silhouette scores, we should pick 2 as the optimal cluster size. However, the first of the requisites is not fulfilled: the first cluster's silhouette score is smaller than that for the whole dataset. Actually, for no cluster size is this requirement met. It is possible, then, that our data does not lend itself to clear clustering. Instead, the across-country differences in budget expenditure may be better described as a continuum."
   ]
  },
  {
   "cell_type": "markdown",
   "metadata": {},
   "source": [
    "### 4.2. Reducing the complexity of multiple budget items via Principal Component Analysis\n",
    "\n",
    "Even if the k-means clustering reached a dead end, there is something else we could do to dig into possible country differences. Principal Component Analysis (PCA) offers a way to take multiple variables and reduce such complexity to a handful of principal components (PC) that explain most of the variance in the data. In our case, we could take the variation in budget expenditure across all 10 items, and reduce them to something smaller, perhaps identifying trends where two or more items seem to change together.\n",
    "\n",
    "After applying PCA to our dataset, we will show the additional amount of variance each new PC explains."
   ]
  },
  {
   "cell_type": "code",
   "execution_count": 30,
   "metadata": {},
   "outputs": [
    {
     "data": {
      "text/html": [
       "<div>\n",
       "<style scoped>\n",
       "    .dataframe tbody tr th:only-of-type {\n",
       "        vertical-align: middle;\n",
       "    }\n",
       "\n",
       "    .dataframe tbody tr th {\n",
       "        vertical-align: top;\n",
       "    }\n",
       "\n",
       "    .dataframe thead th {\n",
       "        text-align: right;\n",
       "    }\n",
       "</style>\n",
       "<table border=\"1\" class=\"dataframe\">\n",
       "  <thead>\n",
       "    <tr style=\"text-align: right;\">\n",
       "      <th></th>\n",
       "      <th>n_pc</th>\n",
       "      <th>expvar</th>\n",
       "      <th>cumexpvar</th>\n",
       "    </tr>\n",
       "  </thead>\n",
       "  <tbody>\n",
       "    <tr>\n",
       "      <th>0</th>\n",
       "      <td>1</td>\n",
       "      <td>0.48</td>\n",
       "      <td>0.48</td>\n",
       "    </tr>\n",
       "    <tr>\n",
       "      <th>1</th>\n",
       "      <td>2</td>\n",
       "      <td>0.20</td>\n",
       "      <td>0.67</td>\n",
       "    </tr>\n",
       "    <tr>\n",
       "      <th>2</th>\n",
       "      <td>3</td>\n",
       "      <td>0.14</td>\n",
       "      <td>0.82</td>\n",
       "    </tr>\n",
       "    <tr>\n",
       "      <th>3</th>\n",
       "      <td>4</td>\n",
       "      <td>0.09</td>\n",
       "      <td>0.91</td>\n",
       "    </tr>\n",
       "    <tr>\n",
       "      <th>4</th>\n",
       "      <td>5</td>\n",
       "      <td>0.04</td>\n",
       "      <td>0.96</td>\n",
       "    </tr>\n",
       "    <tr>\n",
       "      <th>5</th>\n",
       "      <td>6</td>\n",
       "      <td>0.03</td>\n",
       "      <td>0.99</td>\n",
       "    </tr>\n",
       "    <tr>\n",
       "      <th>6</th>\n",
       "      <td>7</td>\n",
       "      <td>0.01</td>\n",
       "      <td>0.99</td>\n",
       "    </tr>\n",
       "    <tr>\n",
       "      <th>7</th>\n",
       "      <td>8</td>\n",
       "      <td>0.01</td>\n",
       "      <td>1.00</td>\n",
       "    </tr>\n",
       "    <tr>\n",
       "      <th>8</th>\n",
       "      <td>9</td>\n",
       "      <td>0.00</td>\n",
       "      <td>1.00</td>\n",
       "    </tr>\n",
       "    <tr>\n",
       "      <th>9</th>\n",
       "      <td>10</td>\n",
       "      <td>0.00</td>\n",
       "      <td>1.00</td>\n",
       "    </tr>\n",
       "  </tbody>\n",
       "</table>\n",
       "</div>"
      ],
      "text/plain": [
       "   n_pc  expvar  cumexpvar\n",
       "0     1    0.48       0.48\n",
       "1     2    0.20       0.67\n",
       "2     3    0.14       0.82\n",
       "3     4    0.09       0.91\n",
       "4     5    0.04       0.96\n",
       "5     6    0.03       0.99\n",
       "6     7    0.01       0.99\n",
       "7     8    0.01       1.00\n",
       "8     9    0.00       1.00\n",
       "9    10    0.00       1.00"
      ]
     },
     "metadata": {},
     "output_type": "display_data"
    }
   ],
   "source": [
    "#reduce dimensions using PCA and calculate explained variance\n",
    "pca = PCA()\n",
    "pca.fit(df_budget_pivot)\n",
    "explained_variance_ratio = pca.explained_variance_ratio_ #explained variance ratio for each principal component\n",
    "cumulative_explained_variance = explained_variance_ratio.cumsum() #cumulative explained variance\n",
    "n_pc_df = pd.DataFrame({'n_pc': list(range(1, 11)), 'expvar': explained_variance_ratio, 'cumexpvar': cumulative_explained_variance}) #add all lists as columns of a DataFrame\n",
    "\n",
    "#display the DataFrame\n",
    "display(n_pc_df)"
   ]
  },
  {
   "cell_type": "markdown",
   "metadata": {},
   "source": [
    "In the DataFrame above, the `n_pc` column labels the different principal components (PC), starting by that explaining the most variance, then the second one, then the third, and so on. By looking at the `expvar` column, the first PC explaines 48% of the variance, the second 20%, the third 14%, and each successive PC explains less variance, up to a point in which adding a ninth PC does not make any difference. We can also take a look at `cumexpvar` to see the cumulative explained variance given a specific number of PCs. To see it graphically, let's use the function we defined earlier to plot dot and line figures."
   ]
  },
  {
   "cell_type": "code",
   "execution_count": 31,
   "metadata": {},
   "outputs": [
    {
     "data": {
      "application/vnd.plotly.v1+json": {
       "config": {
        "plotlyServerURL": "https://plot.ly"
       },
       "data": [
        {
         "hoverinfo": "text",
         "marker": {
          "color": "black",
          "line": {
           "color": "white",
           "width": 1
          },
          "size": 10
         },
         "mode": "markers",
         "showlegend": false,
         "text": [
          "Number of principal components: 1.00<br>Cumulative explained variance: 0.48",
          "Number of principal components: 2.00<br>Cumulative explained variance: 0.67",
          "Number of principal components: 3.00<br>Cumulative explained variance: 0.82",
          "Number of principal components: 4.00<br>Cumulative explained variance: 0.91",
          "Number of principal components: 5.00<br>Cumulative explained variance: 0.96",
          "Number of principal components: 6.00<br>Cumulative explained variance: 0.99",
          "Number of principal components: 7.00<br>Cumulative explained variance: 0.99",
          "Number of principal components: 8.00<br>Cumulative explained variance: 1.00",
          "Number of principal components: 9.00<br>Cumulative explained variance: 1.00",
          "Number of principal components: 10.00<br>Cumulative explained variance: 1.00"
         ],
         "type": "scatter",
         "x": [
          1,
          2,
          3,
          4,
          5,
          6,
          7,
          8,
          9,
          10
         ],
         "y": [
          0.4784297768616323,
          0.6742856687391898,
          0.817571227210169,
          0.9112980797968194,
          0.9555967295134091,
          0.985426667437277,
          0.9929356704797758,
          0.9979565553244119,
          1,
          1
         ]
        },
        {
         "hoverinfo": "none",
         "line": {
          "color": "black"
         },
         "mode": "lines",
         "name": "Line plot",
         "showlegend": false,
         "type": "scatter",
         "x": [
          1,
          2,
          3,
          4,
          5,
          6,
          7,
          8,
          9,
          10
         ],
         "y": [
          0.4784297768616323,
          0.6742856687391898,
          0.817571227210169,
          0.9112980797968194,
          0.9555967295134091,
          0.985426667437277,
          0.9929356704797758,
          0.9979565553244119,
          1,
          1
         ]
        }
       ],
       "layout": {
        "font": {
         "size": 12
        },
        "height": 500,
        "margin": {
         "b": 40,
         "l": 40,
         "r": 40,
         "t": 40
        },
        "paper_bgcolor": "white",
        "plot_bgcolor": "white",
        "template": {
         "data": {
          "bar": [
           {
            "error_x": {
             "color": "#2a3f5f"
            },
            "error_y": {
             "color": "#2a3f5f"
            },
            "marker": {
             "line": {
              "color": "#E5ECF6",
              "width": 0.5
             },
             "pattern": {
              "fillmode": "overlay",
              "size": 10,
              "solidity": 0.2
             }
            },
            "type": "bar"
           }
          ],
          "barpolar": [
           {
            "marker": {
             "line": {
              "color": "#E5ECF6",
              "width": 0.5
             },
             "pattern": {
              "fillmode": "overlay",
              "size": 10,
              "solidity": 0.2
             }
            },
            "type": "barpolar"
           }
          ],
          "carpet": [
           {
            "aaxis": {
             "endlinecolor": "#2a3f5f",
             "gridcolor": "white",
             "linecolor": "white",
             "minorgridcolor": "white",
             "startlinecolor": "#2a3f5f"
            },
            "baxis": {
             "endlinecolor": "#2a3f5f",
             "gridcolor": "white",
             "linecolor": "white",
             "minorgridcolor": "white",
             "startlinecolor": "#2a3f5f"
            },
            "type": "carpet"
           }
          ],
          "choropleth": [
           {
            "colorbar": {
             "outlinewidth": 0,
             "ticks": ""
            },
            "type": "choropleth"
           }
          ],
          "contour": [
           {
            "colorbar": {
             "outlinewidth": 0,
             "ticks": ""
            },
            "colorscale": [
             [
              0,
              "#0d0887"
             ],
             [
              0.1111111111111111,
              "#46039f"
             ],
             [
              0.2222222222222222,
              "#7201a8"
             ],
             [
              0.3333333333333333,
              "#9c179e"
             ],
             [
              0.4444444444444444,
              "#bd3786"
             ],
             [
              0.5555555555555556,
              "#d8576b"
             ],
             [
              0.6666666666666666,
              "#ed7953"
             ],
             [
              0.7777777777777778,
              "#fb9f3a"
             ],
             [
              0.8888888888888888,
              "#fdca26"
             ],
             [
              1,
              "#f0f921"
             ]
            ],
            "type": "contour"
           }
          ],
          "contourcarpet": [
           {
            "colorbar": {
             "outlinewidth": 0,
             "ticks": ""
            },
            "type": "contourcarpet"
           }
          ],
          "heatmap": [
           {
            "colorbar": {
             "outlinewidth": 0,
             "ticks": ""
            },
            "colorscale": [
             [
              0,
              "#0d0887"
             ],
             [
              0.1111111111111111,
              "#46039f"
             ],
             [
              0.2222222222222222,
              "#7201a8"
             ],
             [
              0.3333333333333333,
              "#9c179e"
             ],
             [
              0.4444444444444444,
              "#bd3786"
             ],
             [
              0.5555555555555556,
              "#d8576b"
             ],
             [
              0.6666666666666666,
              "#ed7953"
             ],
             [
              0.7777777777777778,
              "#fb9f3a"
             ],
             [
              0.8888888888888888,
              "#fdca26"
             ],
             [
              1,
              "#f0f921"
             ]
            ],
            "type": "heatmap"
           }
          ],
          "heatmapgl": [
           {
            "colorbar": {
             "outlinewidth": 0,
             "ticks": ""
            },
            "colorscale": [
             [
              0,
              "#0d0887"
             ],
             [
              0.1111111111111111,
              "#46039f"
             ],
             [
              0.2222222222222222,
              "#7201a8"
             ],
             [
              0.3333333333333333,
              "#9c179e"
             ],
             [
              0.4444444444444444,
              "#bd3786"
             ],
             [
              0.5555555555555556,
              "#d8576b"
             ],
             [
              0.6666666666666666,
              "#ed7953"
             ],
             [
              0.7777777777777778,
              "#fb9f3a"
             ],
             [
              0.8888888888888888,
              "#fdca26"
             ],
             [
              1,
              "#f0f921"
             ]
            ],
            "type": "heatmapgl"
           }
          ],
          "histogram": [
           {
            "marker": {
             "pattern": {
              "fillmode": "overlay",
              "size": 10,
              "solidity": 0.2
             }
            },
            "type": "histogram"
           }
          ],
          "histogram2d": [
           {
            "colorbar": {
             "outlinewidth": 0,
             "ticks": ""
            },
            "colorscale": [
             [
              0,
              "#0d0887"
             ],
             [
              0.1111111111111111,
              "#46039f"
             ],
             [
              0.2222222222222222,
              "#7201a8"
             ],
             [
              0.3333333333333333,
              "#9c179e"
             ],
             [
              0.4444444444444444,
              "#bd3786"
             ],
             [
              0.5555555555555556,
              "#d8576b"
             ],
             [
              0.6666666666666666,
              "#ed7953"
             ],
             [
              0.7777777777777778,
              "#fb9f3a"
             ],
             [
              0.8888888888888888,
              "#fdca26"
             ],
             [
              1,
              "#f0f921"
             ]
            ],
            "type": "histogram2d"
           }
          ],
          "histogram2dcontour": [
           {
            "colorbar": {
             "outlinewidth": 0,
             "ticks": ""
            },
            "colorscale": [
             [
              0,
              "#0d0887"
             ],
             [
              0.1111111111111111,
              "#46039f"
             ],
             [
              0.2222222222222222,
              "#7201a8"
             ],
             [
              0.3333333333333333,
              "#9c179e"
             ],
             [
              0.4444444444444444,
              "#bd3786"
             ],
             [
              0.5555555555555556,
              "#d8576b"
             ],
             [
              0.6666666666666666,
              "#ed7953"
             ],
             [
              0.7777777777777778,
              "#fb9f3a"
             ],
             [
              0.8888888888888888,
              "#fdca26"
             ],
             [
              1,
              "#f0f921"
             ]
            ],
            "type": "histogram2dcontour"
           }
          ],
          "mesh3d": [
           {
            "colorbar": {
             "outlinewidth": 0,
             "ticks": ""
            },
            "type": "mesh3d"
           }
          ],
          "parcoords": [
           {
            "line": {
             "colorbar": {
              "outlinewidth": 0,
              "ticks": ""
             }
            },
            "type": "parcoords"
           }
          ],
          "pie": [
           {
            "automargin": true,
            "type": "pie"
           }
          ],
          "scatter": [
           {
            "fillpattern": {
             "fillmode": "overlay",
             "size": 10,
             "solidity": 0.2
            },
            "type": "scatter"
           }
          ],
          "scatter3d": [
           {
            "line": {
             "colorbar": {
              "outlinewidth": 0,
              "ticks": ""
             }
            },
            "marker": {
             "colorbar": {
              "outlinewidth": 0,
              "ticks": ""
             }
            },
            "type": "scatter3d"
           }
          ],
          "scattercarpet": [
           {
            "marker": {
             "colorbar": {
              "outlinewidth": 0,
              "ticks": ""
             }
            },
            "type": "scattercarpet"
           }
          ],
          "scattergeo": [
           {
            "marker": {
             "colorbar": {
              "outlinewidth": 0,
              "ticks": ""
             }
            },
            "type": "scattergeo"
           }
          ],
          "scattergl": [
           {
            "marker": {
             "colorbar": {
              "outlinewidth": 0,
              "ticks": ""
             }
            },
            "type": "scattergl"
           }
          ],
          "scattermapbox": [
           {
            "marker": {
             "colorbar": {
              "outlinewidth": 0,
              "ticks": ""
             }
            },
            "type": "scattermapbox"
           }
          ],
          "scatterpolar": [
           {
            "marker": {
             "colorbar": {
              "outlinewidth": 0,
              "ticks": ""
             }
            },
            "type": "scatterpolar"
           }
          ],
          "scatterpolargl": [
           {
            "marker": {
             "colorbar": {
              "outlinewidth": 0,
              "ticks": ""
             }
            },
            "type": "scatterpolargl"
           }
          ],
          "scatterternary": [
           {
            "marker": {
             "colorbar": {
              "outlinewidth": 0,
              "ticks": ""
             }
            },
            "type": "scatterternary"
           }
          ],
          "surface": [
           {
            "colorbar": {
             "outlinewidth": 0,
             "ticks": ""
            },
            "colorscale": [
             [
              0,
              "#0d0887"
             ],
             [
              0.1111111111111111,
              "#46039f"
             ],
             [
              0.2222222222222222,
              "#7201a8"
             ],
             [
              0.3333333333333333,
              "#9c179e"
             ],
             [
              0.4444444444444444,
              "#bd3786"
             ],
             [
              0.5555555555555556,
              "#d8576b"
             ],
             [
              0.6666666666666666,
              "#ed7953"
             ],
             [
              0.7777777777777778,
              "#fb9f3a"
             ],
             [
              0.8888888888888888,
              "#fdca26"
             ],
             [
              1,
              "#f0f921"
             ]
            ],
            "type": "surface"
           }
          ],
          "table": [
           {
            "cells": {
             "fill": {
              "color": "#EBF0F8"
             },
             "line": {
              "color": "white"
             }
            },
            "header": {
             "fill": {
              "color": "#C8D4E3"
             },
             "line": {
              "color": "white"
             }
            },
            "type": "table"
           }
          ]
         },
         "layout": {
          "annotationdefaults": {
           "arrowcolor": "#2a3f5f",
           "arrowhead": 0,
           "arrowwidth": 1
          },
          "autotypenumbers": "strict",
          "coloraxis": {
           "colorbar": {
            "outlinewidth": 0,
            "ticks": ""
           }
          },
          "colorscale": {
           "diverging": [
            [
             0,
             "#8e0152"
            ],
            [
             0.1,
             "#c51b7d"
            ],
            [
             0.2,
             "#de77ae"
            ],
            [
             0.3,
             "#f1b6da"
            ],
            [
             0.4,
             "#fde0ef"
            ],
            [
             0.5,
             "#f7f7f7"
            ],
            [
             0.6,
             "#e6f5d0"
            ],
            [
             0.7,
             "#b8e186"
            ],
            [
             0.8,
             "#7fbc41"
            ],
            [
             0.9,
             "#4d9221"
            ],
            [
             1,
             "#276419"
            ]
           ],
           "sequential": [
            [
             0,
             "#0d0887"
            ],
            [
             0.1111111111111111,
             "#46039f"
            ],
            [
             0.2222222222222222,
             "#7201a8"
            ],
            [
             0.3333333333333333,
             "#9c179e"
            ],
            [
             0.4444444444444444,
             "#bd3786"
            ],
            [
             0.5555555555555556,
             "#d8576b"
            ],
            [
             0.6666666666666666,
             "#ed7953"
            ],
            [
             0.7777777777777778,
             "#fb9f3a"
            ],
            [
             0.8888888888888888,
             "#fdca26"
            ],
            [
             1,
             "#f0f921"
            ]
           ],
           "sequentialminus": [
            [
             0,
             "#0d0887"
            ],
            [
             0.1111111111111111,
             "#46039f"
            ],
            [
             0.2222222222222222,
             "#7201a8"
            ],
            [
             0.3333333333333333,
             "#9c179e"
            ],
            [
             0.4444444444444444,
             "#bd3786"
            ],
            [
             0.5555555555555556,
             "#d8576b"
            ],
            [
             0.6666666666666666,
             "#ed7953"
            ],
            [
             0.7777777777777778,
             "#fb9f3a"
            ],
            [
             0.8888888888888888,
             "#fdca26"
            ],
            [
             1,
             "#f0f921"
            ]
           ]
          },
          "colorway": [
           "#636efa",
           "#EF553B",
           "#00cc96",
           "#ab63fa",
           "#FFA15A",
           "#19d3f3",
           "#FF6692",
           "#B6E880",
           "#FF97FF",
           "#FECB52"
          ],
          "font": {
           "color": "#2a3f5f"
          },
          "geo": {
           "bgcolor": "white",
           "lakecolor": "white",
           "landcolor": "#E5ECF6",
           "showlakes": true,
           "showland": true,
           "subunitcolor": "white"
          },
          "hoverlabel": {
           "align": "left"
          },
          "hovermode": "closest",
          "mapbox": {
           "style": "light"
          },
          "paper_bgcolor": "white",
          "plot_bgcolor": "#E5ECF6",
          "polar": {
           "angularaxis": {
            "gridcolor": "white",
            "linecolor": "white",
            "ticks": ""
           },
           "bgcolor": "#E5ECF6",
           "radialaxis": {
            "gridcolor": "white",
            "linecolor": "white",
            "ticks": ""
           }
          },
          "scene": {
           "xaxis": {
            "backgroundcolor": "#E5ECF6",
            "gridcolor": "white",
            "gridwidth": 2,
            "linecolor": "white",
            "showbackground": true,
            "ticks": "",
            "zerolinecolor": "white"
           },
           "yaxis": {
            "backgroundcolor": "#E5ECF6",
            "gridcolor": "white",
            "gridwidth": 2,
            "linecolor": "white",
            "showbackground": true,
            "ticks": "",
            "zerolinecolor": "white"
           },
           "zaxis": {
            "backgroundcolor": "#E5ECF6",
            "gridcolor": "white",
            "gridwidth": 2,
            "linecolor": "white",
            "showbackground": true,
            "ticks": "",
            "zerolinecolor": "white"
           }
          },
          "shapedefaults": {
           "line": {
            "color": "#2a3f5f"
           }
          },
          "ternary": {
           "aaxis": {
            "gridcolor": "white",
            "linecolor": "white",
            "ticks": ""
           },
           "baxis": {
            "gridcolor": "white",
            "linecolor": "white",
            "ticks": ""
           },
           "bgcolor": "#E5ECF6",
           "caxis": {
            "gridcolor": "white",
            "linecolor": "white",
            "ticks": ""
           }
          },
          "title": {
           "x": 0.05
          },
          "xaxis": {
           "automargin": true,
           "gridcolor": "white",
           "linecolor": "white",
           "ticks": "",
           "title": {
            "standoff": 15
           },
           "zerolinecolor": "white",
           "zerolinewidth": 2
          },
          "yaxis": {
           "automargin": true,
           "gridcolor": "white",
           "linecolor": "white",
           "ticks": "",
           "title": {
            "standoff": 15
           },
           "zerolinecolor": "white",
           "zerolinewidth": 2
          }
         }
        },
        "title": {
         "text": "Explained variance according to number of principal components"
        },
        "width": 800,
        "xaxis": {
         "gridcolor": "lightgrey",
         "linecolor": "black",
         "tickfont": {
          "size": 10
         },
         "title": {
          "text": "Number of principal components"
         },
         "zeroline": true,
         "zerolinecolor": "lightgrey",
         "zerolinewidth": 1
        },
        "yaxis": {
         "gridcolor": "lightgrey",
         "linecolor": "black",
         "tickfont": {
          "size": 10
         },
         "title": {
          "text": "Cumulative explained variance"
         },
         "zeroline": true,
         "zerolinecolor": "lightgrey",
         "zerolinewidth": 1
        }
       }
      }
     },
     "metadata": {},
     "output_type": "display_data"
    }
   ],
   "source": [
    "#plot the figure\n",
    "x_col = 'n_pc' \n",
    "y_col = 'cumexpvar' \n",
    "x_title = 'Number of principal components'\n",
    "y_title = 'Cumulative explained variance'\n",
    "title = 'Explained variance according to number of principal components'\n",
    "\n",
    "hover_text = [f'{x_title}: {x_value:.2f}<br>{y_title}: {y_value:.2f}'\n",
    "              for x_value, y_value in zip(n_pc_df[x_col], n_pc_df[y_col])]\n",
    "\n",
    "plot_line_and_scatter(n_pc_df, x_col, y_col, x_title, y_title, hover_text, title)"
   ]
  },
  {
   "cell_type": "markdown",
   "metadata": {},
   "source": [
    "The figure clearly shows how each successive PC explains less variance in the data until there is a saturation. With just two PC we can already explain almost 70% of the variance, whereas with three we go above 80%. This is quite good, because just a handful of PCs capturing most of the variance will allow for a meaningful, low-dimensional visualization. Since more than three dimensions are difficult to grasp visually, we will create a DataFrame where each row will contain a country's values for the three main PCs. To try to understand more about the unsuccessful clustering process we undertook earlier, we will also add a column with the cluster each country was assigned to."
   ]
  },
  {
   "cell_type": "code",
   "execution_count": 32,
   "metadata": {},
   "outputs": [
    {
     "data": {
      "text/html": [
       "<div>\n",
       "<style scoped>\n",
       "    .dataframe tbody tr th:only-of-type {\n",
       "        vertical-align: middle;\n",
       "    }\n",
       "\n",
       "    .dataframe tbody tr th {\n",
       "        vertical-align: top;\n",
       "    }\n",
       "\n",
       "    .dataframe thead th {\n",
       "        text-align: right;\n",
       "    }\n",
       "</style>\n",
       "<table border=\"1\" class=\"dataframe\">\n",
       "  <thead>\n",
       "    <tr style=\"text-align: right;\">\n",
       "      <th></th>\n",
       "      <th>PC1</th>\n",
       "      <th>PC2</th>\n",
       "      <th>PC3</th>\n",
       "      <th>cluster</th>\n",
       "      <th>country</th>\n",
       "    </tr>\n",
       "  </thead>\n",
       "  <tbody>\n",
       "    <tr>\n",
       "      <th>0</th>\n",
       "      <td>-11.57</td>\n",
       "      <td>0.50</td>\n",
       "      <td>5.56</td>\n",
       "      <td>1</td>\n",
       "      <td>Australia</td>\n",
       "    </tr>\n",
       "    <tr>\n",
       "      <th>1</th>\n",
       "      <td>-12.84</td>\n",
       "      <td>5.82</td>\n",
       "      <td>-5.00</td>\n",
       "      <td>1</td>\n",
       "      <td>Austria</td>\n",
       "    </tr>\n",
       "    <tr>\n",
       "      <th>2</th>\n",
       "      <td>14.32</td>\n",
       "      <td>-4.48</td>\n",
       "      <td>-2.90</td>\n",
       "      <td>0</td>\n",
       "      <td>Bangladesh</td>\n",
       "    </tr>\n",
       "    <tr>\n",
       "      <th>3</th>\n",
       "      <td>-8.16</td>\n",
       "      <td>1.56</td>\n",
       "      <td>-2.16</td>\n",
       "      <td>1</td>\n",
       "      <td>Belgium</td>\n",
       "    </tr>\n",
       "    <tr>\n",
       "      <th>4</th>\n",
       "      <td>-4.28</td>\n",
       "      <td>0.50</td>\n",
       "      <td>-4.72</td>\n",
       "      <td>1</td>\n",
       "      <td>Bulgaria</td>\n",
       "    </tr>\n",
       "    <tr>\n",
       "      <th>...</th>\n",
       "      <td>...</td>\n",
       "      <td>...</td>\n",
       "      <td>...</td>\n",
       "      <td>...</td>\n",
       "      <td>...</td>\n",
       "    </tr>\n",
       "    <tr>\n",
       "      <th>50</th>\n",
       "      <td>3.18</td>\n",
       "      <td>-4.89</td>\n",
       "      <td>-7.79</td>\n",
       "      <td>0</td>\n",
       "      <td>Thailand</td>\n",
       "    </tr>\n",
       "    <tr>\n",
       "      <th>51</th>\n",
       "      <td>1.23</td>\n",
       "      <td>-12.56</td>\n",
       "      <td>-2.00</td>\n",
       "      <td>0</td>\n",
       "      <td>Ukraine</td>\n",
       "    </tr>\n",
       "    <tr>\n",
       "      <th>52</th>\n",
       "      <td>-19.50</td>\n",
       "      <td>3.15</td>\n",
       "      <td>-2.58</td>\n",
       "      <td>1</td>\n",
       "      <td>United Kingdom</td>\n",
       "    </tr>\n",
       "    <tr>\n",
       "      <th>53</th>\n",
       "      <td>20.71</td>\n",
       "      <td>-19.27</td>\n",
       "      <td>-0.36</td>\n",
       "      <td>0</td>\n",
       "      <td>Yemen</td>\n",
       "    </tr>\n",
       "    <tr>\n",
       "      <th>54</th>\n",
       "      <td>48.43</td>\n",
       "      <td>27.48</td>\n",
       "      <td>1.56</td>\n",
       "      <td>0</td>\n",
       "      <td>Zambia</td>\n",
       "    </tr>\n",
       "  </tbody>\n",
       "</table>\n",
       "<p>55 rows × 5 columns</p>\n",
       "</div>"
      ],
      "text/plain": [
       "      PC1    PC2   PC3  cluster         country\n",
       "0  -11.57   0.50  5.56        1       Australia\n",
       "1  -12.84   5.82 -5.00        1         Austria\n",
       "2   14.32  -4.48 -2.90        0      Bangladesh\n",
       "3   -8.16   1.56 -2.16        1         Belgium\n",
       "4   -4.28   0.50 -4.72        1        Bulgaria\n",
       "..    ...    ...   ...      ...             ...\n",
       "50   3.18  -4.89 -7.79        0        Thailand\n",
       "51   1.23 -12.56 -2.00        0         Ukraine\n",
       "52 -19.50   3.15 -2.58        1  United Kingdom\n",
       "53  20.71 -19.27 -0.36        0           Yemen\n",
       "54  48.43  27.48  1.56        0          Zambia\n",
       "\n",
       "[55 rows x 5 columns]"
      ]
     },
     "execution_count": 32,
     "metadata": {},
     "output_type": "execute_result"
    }
   ],
   "source": [
    "#run PCA with 3 PCs and turn results into DataFrame\n",
    "n_pc = 3 #specify number of PCs\n",
    "pca_3d = PCA(n_components=n_pc) #set PCA with number of PCs\n",
    "fitted_3d_pca = pca_3d.fit_transform(df_budget_pivot) #fit PCA\n",
    "pca_df = pd.DataFrame(fitted_3d_pca, columns=['PC1', 'PC2', 'PC3']) #create DataFrame from fit\n",
    "\n",
    "#apply k-means clustering so we can then have a column with the cluster label\n",
    "optimal_k = 2 #optimal number of clusters according to the silhouette method\n",
    "kmeans = KMeans(n_clusters=optimal_k, random_state=42)\n",
    "clusters = kmeans.fit_predict(df_budget_pivot)  #fit\n",
    "pca_df['cluster'] = clusters #append to pca_df\n",
    "\n",
    "#merge pca_df with DataFrame with unique countries to get country names back\n",
    "unique_countries_df = pd.DataFrame(unique_countries, columns=['country']) #convert unique_countries to a DataFrame\n",
    "pca_df['country'] = unique_countries_df['country'] #append 'country' column to pca_df\n",
    "\n",
    "#display the DataFrame\n",
    "pca_df\n"
   ]
  },
  {
   "cell_type": "markdown",
   "metadata": {},
   "source": [
    "Perfect. The columns of the DataFrame above are quite self-explanatory. Let's start by using it for a simple two-dimensional scatterplot where the x and y axes will be taken by the two main PCs, and each dot will be a country. The dots will be colored according to the cluster each country belongs to."
   ]
  },
  {
   "cell_type": "code",
   "execution_count": 33,
   "metadata": {},
   "outputs": [
    {
     "data": {
      "application/vnd.plotly.v1+json": {
       "config": {
        "plotlyServerURL": "https://plot.ly"
       },
       "data": [
        {
         "hovertemplate": "%{text}<extra></extra>",
         "marker": {
          "color": "#FF5733",
          "line": {
           "color": "white",
           "width": 1
          },
          "size": 10
         },
         "mode": "markers",
         "name": "cluster 0",
         "showlegend": false,
         "text": [
          "Bangladesh<br>PC1: 14.32<br>PC2: -4.48",
          "Eswatini<br>PC1: 6.44<br>PC2: -8.41",
          "Fiji<br>PC1: 7.73<br>PC2: -1.57",
          "Guatemala<br>PC1: 13.60<br>PC2: 2.73",
          "India<br>PC1: 11.82<br>PC2: -18.15",
          "Iran<br>PC1: 3.26<br>PC2: -14.49",
          "Kazakhstan<br>PC1: 4.30<br>PC2: -13.02",
          "Kyrgyzstan<br>PC1: 13.29<br>PC2: -9.31",
          "Malaysia<br>PC1: 7.67<br>PC2: -6.21",
          "Mongolia<br>PC1: 14.18<br>PC2: 4.45",
          "Russia<br>PC1: 7.24<br>PC2: 1.91",
          "Senegal<br>PC1: 24.93<br>PC2: -1.29",
          "Seychelles<br>PC1: 12.92<br>PC2: 8.59",
          "Sri Lanka<br>PC1: 3.03<br>PC2: -5.04",
          "Switzerland<br>PC1: 12.25<br>PC2: -13.22",
          "Tanzania<br>PC1: 33.96<br>PC2: 15.54",
          "Thailand<br>PC1: 3.18<br>PC2: -4.89",
          "Ukraine<br>PC1: 1.23<br>PC2: -12.56",
          "Yemen<br>PC1: 20.71<br>PC2: -19.27",
          "Zambia<br>PC1: 48.43<br>PC2: 27.48"
         ],
         "type": "scatter",
         "x": [
          14.321209636115803,
          6.4392868464956265,
          7.732910995397196,
          13.596001113909429,
          11.823025644199385,
          3.2641184761130693,
          4.299835013911144,
          13.29223201362835,
          7.666968421772239,
          14.18272988263877,
          7.24351385145833,
          24.928923542704386,
          12.922533510255931,
          3.0270810754813553,
          12.247428845748747,
          33.96132236033098,
          3.1808286071358225,
          1.225187898635229,
          20.709567513280255,
          48.43032891763891
         ],
         "y": [
          -4.479122573646833,
          -8.41023477267403,
          -1.5681452318792486,
          2.7263629019084696,
          -18.14508521549942,
          -14.494025604632206,
          -13.024376881602684,
          -9.31071449252064,
          -6.205084527884127,
          4.45043084116014,
          1.9051441918611416,
          -1.2895672281952344,
          8.587607204310768,
          -5.035338884859187,
          -13.222365085741119,
          15.543683936629025,
          -4.886857204280065,
          -12.560150748191855,
          -19.265630657720955,
          27.478414640119716
         ]
        },
        {
         "hovertemplate": "%{text}<extra></extra>",
         "marker": {
          "color": "#6A0DAD",
          "line": {
           "color": "white",
           "width": 1
          },
          "size": 10
         },
         "mode": "markers",
         "name": "cluster 1",
         "showlegend": false,
         "text": [
          "Australia<br>PC1: -11.57<br>PC2: 0.50",
          "Austria<br>PC1: -12.84<br>PC2: 5.82",
          "Belgium<br>PC1: -8.16<br>PC2: 1.56",
          "Bulgaria<br>PC1: -4.28<br>PC2: 0.50",
          "Chile<br>PC1: -1.73<br>PC2: -8.66",
          "Croatia<br>PC1: -5.42<br>PC2: 4.64",
          "Cyprus<br>PC1: -4.96<br>PC2: -2.37",
          "Czechia<br>PC1: -8.42<br>PC2: 3.48",
          "Denmark<br>PC1: -15.01<br>PC2: 5.64",
          "Estonia<br>PC1: -4.27<br>PC2: -2.97",
          "Finland<br>PC1: -5.78<br>PC2: 5.86",
          "France<br>PC1: -12.13<br>PC2: 3.92",
          "Germany<br>PC1: -14.11<br>PC2: 7.24",
          "Greece<br>PC1: 1.61<br>PC2: 2.34",
          "Hungary<br>PC1: 3.93<br>PC2: 6.99",
          "Iceland<br>PC1: -4.40<br>PC2: 6.82",
          "Ireland<br>PC1: -17.16<br>PC2: 3.73",
          "Israel<br>PC1: -2.43<br>PC2: -14.32",
          "Italy<br>PC1: -9.22<br>PC2: 4.90",
          "Japan<br>PC1: -14.73<br>PC2: 11.17",
          "Latvia<br>PC1: -3.71<br>PC2: -3.49",
          "Lithuania<br>PC1: -10.56<br>PC2: -4.19",
          "Luxembourg<br>PC1: 0.95<br>PC2: 2.77",
          "Malta<br>PC1: -13.31<br>PC2: 2.21",
          "Netherlands<br>PC1: -11.99<br>PC2: 3.23",
          "Norway<br>PC1: -9.87<br>PC2: 4.05",
          "Poland<br>PC1: -3.69<br>PC2: -1.53",
          "Portugal<br>PC1: -7.31<br>PC2: 4.18",
          "Romania<br>PC1: -3.49<br>PC2: 2.70",
          "Slovakia<br>PC1: -2.91<br>PC2: 6.62",
          "Slovenia<br>PC1: -8.89<br>PC2: 2.03",
          "South Korea<br>PC1: -1.34<br>PC2: -0.51",
          "Spain<br>PC1: -8.68<br>PC2: 3.12",
          "Sweden<br>PC1: -9.10<br>PC2: 0.08",
          "United Kingdom<br>PC1: -19.50<br>PC2: 3.15"
         ],
         "type": "scatter",
         "x": [
          -11.569646910232205,
          -12.844238645222685,
          -8.157404798131102,
          -4.282815735095787,
          -1.7330907708010193,
          -5.421000405111104,
          -4.956226865338433,
          -8.419667892933242,
          -15.011988148894389,
          -4.2690931164058465,
          -5.781596600184225,
          -12.130498959726014,
          -14.108425168611276,
          1.6064612464459453,
          3.933995381934191,
          -4.404063391266083,
          -17.16208409696013,
          -2.434481890597933,
          -9.215893312935133,
          -14.733906790288412,
          -3.7135837688793636,
          -10.556791967499601,
          0.9510177876150534,
          -13.30641326474004,
          -11.994014020120733,
          -9.86784573479455,
          -3.6867807197264093,
          -7.31267973015336,
          -3.488016171000982,
          -2.9075476857425504,
          -8.893357266139152,
          -1.3394796409434198,
          -8.684835313418935,
          -9.102804981977256,
          -19.496234818974877
         ],
         "y": [
          0.499648805701211,
          5.8217639494209905,
          1.5584319235333026,
          0.5010136933262943,
          -8.658350649968495,
          4.636960369960021,
          -2.3745999600140624,
          3.4845054587808053,
          5.637628168485374,
          -2.973710287296056,
          5.860555549871492,
          3.918626988976621,
          7.238592851727542,
          2.3439691350396057,
          6.992795967618537,
          6.819095426574738,
          3.7330242287304074,
          -14.31902584071998,
          4.90345724074187,
          11.17140546816597,
          -3.48802551089435,
          -4.190814208805265,
          2.769942432074338,
          2.208367490042404,
          3.225872978964742,
          4.046146986875694,
          -1.5330994960331106,
          4.183466546525313,
          2.696915185667982,
          6.615901941111745,
          2.0311179417392626,
          -0.5071912423236126,
          3.1182121269554735,
          0.07791553765465396,
          3.154538195127091
         ]
        }
       ],
       "layout": {
        "font": {
         "size": 12
        },
        "hovermode": "closest",
        "paper_bgcolor": "white",
        "plot_bgcolor": "white",
        "template": {
         "data": {
          "bar": [
           {
            "error_x": {
             "color": "#2a3f5f"
            },
            "error_y": {
             "color": "#2a3f5f"
            },
            "marker": {
             "line": {
              "color": "#E5ECF6",
              "width": 0.5
             },
             "pattern": {
              "fillmode": "overlay",
              "size": 10,
              "solidity": 0.2
             }
            },
            "type": "bar"
           }
          ],
          "barpolar": [
           {
            "marker": {
             "line": {
              "color": "#E5ECF6",
              "width": 0.5
             },
             "pattern": {
              "fillmode": "overlay",
              "size": 10,
              "solidity": 0.2
             }
            },
            "type": "barpolar"
           }
          ],
          "carpet": [
           {
            "aaxis": {
             "endlinecolor": "#2a3f5f",
             "gridcolor": "white",
             "linecolor": "white",
             "minorgridcolor": "white",
             "startlinecolor": "#2a3f5f"
            },
            "baxis": {
             "endlinecolor": "#2a3f5f",
             "gridcolor": "white",
             "linecolor": "white",
             "minorgridcolor": "white",
             "startlinecolor": "#2a3f5f"
            },
            "type": "carpet"
           }
          ],
          "choropleth": [
           {
            "colorbar": {
             "outlinewidth": 0,
             "ticks": ""
            },
            "type": "choropleth"
           }
          ],
          "contour": [
           {
            "colorbar": {
             "outlinewidth": 0,
             "ticks": ""
            },
            "colorscale": [
             [
              0,
              "#0d0887"
             ],
             [
              0.1111111111111111,
              "#46039f"
             ],
             [
              0.2222222222222222,
              "#7201a8"
             ],
             [
              0.3333333333333333,
              "#9c179e"
             ],
             [
              0.4444444444444444,
              "#bd3786"
             ],
             [
              0.5555555555555556,
              "#d8576b"
             ],
             [
              0.6666666666666666,
              "#ed7953"
             ],
             [
              0.7777777777777778,
              "#fb9f3a"
             ],
             [
              0.8888888888888888,
              "#fdca26"
             ],
             [
              1,
              "#f0f921"
             ]
            ],
            "type": "contour"
           }
          ],
          "contourcarpet": [
           {
            "colorbar": {
             "outlinewidth": 0,
             "ticks": ""
            },
            "type": "contourcarpet"
           }
          ],
          "heatmap": [
           {
            "colorbar": {
             "outlinewidth": 0,
             "ticks": ""
            },
            "colorscale": [
             [
              0,
              "#0d0887"
             ],
             [
              0.1111111111111111,
              "#46039f"
             ],
             [
              0.2222222222222222,
              "#7201a8"
             ],
             [
              0.3333333333333333,
              "#9c179e"
             ],
             [
              0.4444444444444444,
              "#bd3786"
             ],
             [
              0.5555555555555556,
              "#d8576b"
             ],
             [
              0.6666666666666666,
              "#ed7953"
             ],
             [
              0.7777777777777778,
              "#fb9f3a"
             ],
             [
              0.8888888888888888,
              "#fdca26"
             ],
             [
              1,
              "#f0f921"
             ]
            ],
            "type": "heatmap"
           }
          ],
          "heatmapgl": [
           {
            "colorbar": {
             "outlinewidth": 0,
             "ticks": ""
            },
            "colorscale": [
             [
              0,
              "#0d0887"
             ],
             [
              0.1111111111111111,
              "#46039f"
             ],
             [
              0.2222222222222222,
              "#7201a8"
             ],
             [
              0.3333333333333333,
              "#9c179e"
             ],
             [
              0.4444444444444444,
              "#bd3786"
             ],
             [
              0.5555555555555556,
              "#d8576b"
             ],
             [
              0.6666666666666666,
              "#ed7953"
             ],
             [
              0.7777777777777778,
              "#fb9f3a"
             ],
             [
              0.8888888888888888,
              "#fdca26"
             ],
             [
              1,
              "#f0f921"
             ]
            ],
            "type": "heatmapgl"
           }
          ],
          "histogram": [
           {
            "marker": {
             "pattern": {
              "fillmode": "overlay",
              "size": 10,
              "solidity": 0.2
             }
            },
            "type": "histogram"
           }
          ],
          "histogram2d": [
           {
            "colorbar": {
             "outlinewidth": 0,
             "ticks": ""
            },
            "colorscale": [
             [
              0,
              "#0d0887"
             ],
             [
              0.1111111111111111,
              "#46039f"
             ],
             [
              0.2222222222222222,
              "#7201a8"
             ],
             [
              0.3333333333333333,
              "#9c179e"
             ],
             [
              0.4444444444444444,
              "#bd3786"
             ],
             [
              0.5555555555555556,
              "#d8576b"
             ],
             [
              0.6666666666666666,
              "#ed7953"
             ],
             [
              0.7777777777777778,
              "#fb9f3a"
             ],
             [
              0.8888888888888888,
              "#fdca26"
             ],
             [
              1,
              "#f0f921"
             ]
            ],
            "type": "histogram2d"
           }
          ],
          "histogram2dcontour": [
           {
            "colorbar": {
             "outlinewidth": 0,
             "ticks": ""
            },
            "colorscale": [
             [
              0,
              "#0d0887"
             ],
             [
              0.1111111111111111,
              "#46039f"
             ],
             [
              0.2222222222222222,
              "#7201a8"
             ],
             [
              0.3333333333333333,
              "#9c179e"
             ],
             [
              0.4444444444444444,
              "#bd3786"
             ],
             [
              0.5555555555555556,
              "#d8576b"
             ],
             [
              0.6666666666666666,
              "#ed7953"
             ],
             [
              0.7777777777777778,
              "#fb9f3a"
             ],
             [
              0.8888888888888888,
              "#fdca26"
             ],
             [
              1,
              "#f0f921"
             ]
            ],
            "type": "histogram2dcontour"
           }
          ],
          "mesh3d": [
           {
            "colorbar": {
             "outlinewidth": 0,
             "ticks": ""
            },
            "type": "mesh3d"
           }
          ],
          "parcoords": [
           {
            "line": {
             "colorbar": {
              "outlinewidth": 0,
              "ticks": ""
             }
            },
            "type": "parcoords"
           }
          ],
          "pie": [
           {
            "automargin": true,
            "type": "pie"
           }
          ],
          "scatter": [
           {
            "fillpattern": {
             "fillmode": "overlay",
             "size": 10,
             "solidity": 0.2
            },
            "type": "scatter"
           }
          ],
          "scatter3d": [
           {
            "line": {
             "colorbar": {
              "outlinewidth": 0,
              "ticks": ""
             }
            },
            "marker": {
             "colorbar": {
              "outlinewidth": 0,
              "ticks": ""
             }
            },
            "type": "scatter3d"
           }
          ],
          "scattercarpet": [
           {
            "marker": {
             "colorbar": {
              "outlinewidth": 0,
              "ticks": ""
             }
            },
            "type": "scattercarpet"
           }
          ],
          "scattergeo": [
           {
            "marker": {
             "colorbar": {
              "outlinewidth": 0,
              "ticks": ""
             }
            },
            "type": "scattergeo"
           }
          ],
          "scattergl": [
           {
            "marker": {
             "colorbar": {
              "outlinewidth": 0,
              "ticks": ""
             }
            },
            "type": "scattergl"
           }
          ],
          "scattermapbox": [
           {
            "marker": {
             "colorbar": {
              "outlinewidth": 0,
              "ticks": ""
             }
            },
            "type": "scattermapbox"
           }
          ],
          "scatterpolar": [
           {
            "marker": {
             "colorbar": {
              "outlinewidth": 0,
              "ticks": ""
             }
            },
            "type": "scatterpolar"
           }
          ],
          "scatterpolargl": [
           {
            "marker": {
             "colorbar": {
              "outlinewidth": 0,
              "ticks": ""
             }
            },
            "type": "scatterpolargl"
           }
          ],
          "scatterternary": [
           {
            "marker": {
             "colorbar": {
              "outlinewidth": 0,
              "ticks": ""
             }
            },
            "type": "scatterternary"
           }
          ],
          "surface": [
           {
            "colorbar": {
             "outlinewidth": 0,
             "ticks": ""
            },
            "colorscale": [
             [
              0,
              "#0d0887"
             ],
             [
              0.1111111111111111,
              "#46039f"
             ],
             [
              0.2222222222222222,
              "#7201a8"
             ],
             [
              0.3333333333333333,
              "#9c179e"
             ],
             [
              0.4444444444444444,
              "#bd3786"
             ],
             [
              0.5555555555555556,
              "#d8576b"
             ],
             [
              0.6666666666666666,
              "#ed7953"
             ],
             [
              0.7777777777777778,
              "#fb9f3a"
             ],
             [
              0.8888888888888888,
              "#fdca26"
             ],
             [
              1,
              "#f0f921"
             ]
            ],
            "type": "surface"
           }
          ],
          "table": [
           {
            "cells": {
             "fill": {
              "color": "#EBF0F8"
             },
             "line": {
              "color": "white"
             }
            },
            "header": {
             "fill": {
              "color": "#C8D4E3"
             },
             "line": {
              "color": "white"
             }
            },
            "type": "table"
           }
          ]
         },
         "layout": {
          "annotationdefaults": {
           "arrowcolor": "#2a3f5f",
           "arrowhead": 0,
           "arrowwidth": 1
          },
          "autotypenumbers": "strict",
          "coloraxis": {
           "colorbar": {
            "outlinewidth": 0,
            "ticks": ""
           }
          },
          "colorscale": {
           "diverging": [
            [
             0,
             "#8e0152"
            ],
            [
             0.1,
             "#c51b7d"
            ],
            [
             0.2,
             "#de77ae"
            ],
            [
             0.3,
             "#f1b6da"
            ],
            [
             0.4,
             "#fde0ef"
            ],
            [
             0.5,
             "#f7f7f7"
            ],
            [
             0.6,
             "#e6f5d0"
            ],
            [
             0.7,
             "#b8e186"
            ],
            [
             0.8,
             "#7fbc41"
            ],
            [
             0.9,
             "#4d9221"
            ],
            [
             1,
             "#276419"
            ]
           ],
           "sequential": [
            [
             0,
             "#0d0887"
            ],
            [
             0.1111111111111111,
             "#46039f"
            ],
            [
             0.2222222222222222,
             "#7201a8"
            ],
            [
             0.3333333333333333,
             "#9c179e"
            ],
            [
             0.4444444444444444,
             "#bd3786"
            ],
            [
             0.5555555555555556,
             "#d8576b"
            ],
            [
             0.6666666666666666,
             "#ed7953"
            ],
            [
             0.7777777777777778,
             "#fb9f3a"
            ],
            [
             0.8888888888888888,
             "#fdca26"
            ],
            [
             1,
             "#f0f921"
            ]
           ],
           "sequentialminus": [
            [
             0,
             "#0d0887"
            ],
            [
             0.1111111111111111,
             "#46039f"
            ],
            [
             0.2222222222222222,
             "#7201a8"
            ],
            [
             0.3333333333333333,
             "#9c179e"
            ],
            [
             0.4444444444444444,
             "#bd3786"
            ],
            [
             0.5555555555555556,
             "#d8576b"
            ],
            [
             0.6666666666666666,
             "#ed7953"
            ],
            [
             0.7777777777777778,
             "#fb9f3a"
            ],
            [
             0.8888888888888888,
             "#fdca26"
            ],
            [
             1,
             "#f0f921"
            ]
           ]
          },
          "colorway": [
           "#636efa",
           "#EF553B",
           "#00cc96",
           "#ab63fa",
           "#FFA15A",
           "#19d3f3",
           "#FF6692",
           "#B6E880",
           "#FF97FF",
           "#FECB52"
          ],
          "font": {
           "color": "#2a3f5f"
          },
          "geo": {
           "bgcolor": "white",
           "lakecolor": "white",
           "landcolor": "#E5ECF6",
           "showlakes": true,
           "showland": true,
           "subunitcolor": "white"
          },
          "hoverlabel": {
           "align": "left"
          },
          "hovermode": "closest",
          "mapbox": {
           "style": "light"
          },
          "paper_bgcolor": "white",
          "plot_bgcolor": "#E5ECF6",
          "polar": {
           "angularaxis": {
            "gridcolor": "white",
            "linecolor": "white",
            "ticks": ""
           },
           "bgcolor": "#E5ECF6",
           "radialaxis": {
            "gridcolor": "white",
            "linecolor": "white",
            "ticks": ""
           }
          },
          "scene": {
           "xaxis": {
            "backgroundcolor": "#E5ECF6",
            "gridcolor": "white",
            "gridwidth": 2,
            "linecolor": "white",
            "showbackground": true,
            "ticks": "",
            "zerolinecolor": "white"
           },
           "yaxis": {
            "backgroundcolor": "#E5ECF6",
            "gridcolor": "white",
            "gridwidth": 2,
            "linecolor": "white",
            "showbackground": true,
            "ticks": "",
            "zerolinecolor": "white"
           },
           "zaxis": {
            "backgroundcolor": "#E5ECF6",
            "gridcolor": "white",
            "gridwidth": 2,
            "linecolor": "white",
            "showbackground": true,
            "ticks": "",
            "zerolinecolor": "white"
           }
          },
          "shapedefaults": {
           "line": {
            "color": "#2a3f5f"
           }
          },
          "ternary": {
           "aaxis": {
            "gridcolor": "white",
            "linecolor": "white",
            "ticks": ""
           },
           "baxis": {
            "gridcolor": "white",
            "linecolor": "white",
            "ticks": ""
           },
           "bgcolor": "#E5ECF6",
           "caxis": {
            "gridcolor": "white",
            "linecolor": "white",
            "ticks": ""
           }
          },
          "title": {
           "x": 0.05
          },
          "xaxis": {
           "automargin": true,
           "gridcolor": "white",
           "linecolor": "white",
           "ticks": "",
           "title": {
            "standoff": 15
           },
           "zerolinecolor": "white",
           "zerolinewidth": 2
          },
          "yaxis": {
           "automargin": true,
           "gridcolor": "white",
           "linecolor": "white",
           "ticks": "",
           "title": {
            "standoff": 15
           },
           "zerolinecolor": "white",
           "zerolinewidth": 2
          }
         }
        },
        "title": {
         "text": "Country values along the two main budget expenditure-derived principal components"
        },
        "width": 800,
        "xaxis": {
         "gridcolor": "lightgrey",
         "linecolor": "black",
         "tickfont": {
          "size": 10
         },
         "title": {
          "text": "PC 1"
         },
         "zeroline": true,
         "zerolinecolor": "lightgrey",
         "zerolinewidth": 1
        },
        "yaxis": {
         "gridcolor": "lightgrey",
         "linecolor": "black",
         "tickfont": {
          "size": 10
         },
         "title": {
          "text": "PC 2"
         },
         "zeroline": true,
         "zerolinecolor": "lightgrey",
         "zerolinewidth": 1
        }
       }
      }
     },
     "metadata": {},
     "output_type": "display_data"
    }
   ],
   "source": [
    "#define custom color palette for the clusters\n",
    "cluster_palette = ['#FF5733','#6A0DAD'] \n",
    "\n",
    "#create a trace for each cluster\n",
    "trace_list = []\n",
    "for cluster, color in zip(sorted(pca_df['cluster'].unique()), cluster_palette):\n",
    "    cluster_data = pca_df[pca_df['cluster'] == cluster]\n",
    "    \n",
    "    #create hover text with country names and PCA scores\n",
    "    hover_text = [f'{country}<br>PC1: {pc1:.2f}<br>PC2: {pc2:.2f}' \n",
    "                  for country, pc1, pc2 in zip(cluster_data['country'], cluster_data['PC1'], cluster_data['PC2'])]\n",
    "    \n",
    "    trace = go.Scatter(\n",
    "        x=cluster_data['PC1'],\n",
    "        y=cluster_data['PC2'],\n",
    "        mode='markers',\n",
    "        marker=dict(size=10, color=color, line=dict(color='white', width=1)),\n",
    "        name=f'cluster {cluster}',\n",
    "        hovertemplate='%{text}<extra></extra>', #<extra></extra> makes sure no group info by hoverbox is shown\n",
    "        text=hover_text,\n",
    "        showlegend=False\n",
    "    )\n",
    "    trace_list.append(trace)\n",
    "\n",
    "#create the figure\n",
    "fig = go.Figure(trace_list, layout=mylayout)\n",
    "\n",
    "#customize layout\n",
    "fig.update_layout(\n",
    "    width=plot_size_shortwidth,\n",
    "    title='Country values along the two main budget expenditure-derived principal components',\n",
    "    xaxis=dict(title='PC 1'),\n",
    "    yaxis=dict(title='PC 2'),\n",
    "    hovermode='closest'\n",
    ")\n",
    "\n",
    "#show the figure\n",
    "fig.show()"
   ]
  },
  {
   "cell_type": "markdown",
   "metadata": {},
   "source": [
    "PC 1 has a wider range of values than PC 2. Although the the two assigned clusters do not form clearly separated dot clouds, they seeem to be cut off along the PC 1 axis. Thus, both k-meanns clustering and PCA reduced complexity in a similar way. When taking a look at how countries lay along PC 1, we can be reminded of what some development indicators would reveal: on one end we have a bunch of Western European countries and Japan, on the other end we have some African Sub-Saharan countries, and towards the middle we have a melting pot of countries straddling Eastern Europe, Latin America, the Middle East, Asia and the Pacific Islands. A pattern is more difficult to pick up for PC 2, with more crowding and some developed and in development countries both at the low range of the spectrum, like for instance Israel and Yemen.\n",
    "\n",
    "Because we already have the data, let's add a third dimension for our visualization, corresponding to our third PC in terms of explained variance."
   ]
  },
  {
   "cell_type": "code",
   "execution_count": 34,
   "metadata": {},
   "outputs": [
    {
     "data": {
      "application/vnd.plotly.v1+json": {
       "config": {
        "plotlyServerURL": "https://plot.ly"
       },
       "data": [
        {
         "hoverinfo": "skip",
         "hovertemplate": "%{text}<extra></extra>",
         "marker": {
          "color": "#FF5733",
          "line": {
           "color": "white",
           "width": 0.5
          },
          "size": 5
         },
         "mode": "markers",
         "showlegend": false,
         "text": [
          "Bangladesh<br>PC1: 14.32<br>PC2: -4.48<br>PC3: -2.90",
          "Eswatini<br>PC1: 6.44<br>PC2: -8.41<br>PC3: -7.19",
          "Fiji<br>PC1: 7.73<br>PC2: -1.57<br>PC3: -6.99",
          "Guatemala<br>PC1: 13.60<br>PC2: 2.73<br>PC3: 8.98",
          "India<br>PC1: 11.82<br>PC2: -18.15<br>PC3: 1.30",
          "Iran<br>PC1: 3.26<br>PC2: -14.49<br>PC3: 20.63",
          "Kazakhstan<br>PC1: 4.30<br>PC2: -13.02<br>PC3: -4.99",
          "Kyrgyzstan<br>PC1: 13.29<br>PC2: -9.31<br>PC3: -3.14",
          "Malaysia<br>PC1: 7.67<br>PC2: -6.21<br>PC3: -7.05",
          "Mongolia<br>PC1: 14.18<br>PC2: 4.45<br>PC3: -5.45",
          "Russia<br>PC1: 7.24<br>PC2: 1.91<br>PC3: 7.13",
          "Senegal<br>PC1: 24.93<br>PC2: -1.29<br>PC3: -4.49",
          "Seychelles<br>PC1: 12.92<br>PC2: 8.59<br>PC3: 15.28",
          "Sri Lanka<br>PC1: 3.03<br>PC2: -5.04<br>PC3: 13.11",
          "Switzerland<br>PC1: 12.25<br>PC2: -13.22<br>PC3: 10.00",
          "Tanzania<br>PC1: 33.96<br>PC2: 15.54<br>PC3: -2.80",
          "Thailand<br>PC1: 3.18<br>PC2: -4.89<br>PC3: -7.79",
          "Ukraine<br>PC1: 1.23<br>PC2: -12.56<br>PC3: -2.00",
          "Yemen<br>PC1: 20.71<br>PC2: -19.27<br>PC3: -0.36",
          "Zambia<br>PC1: 48.43<br>PC2: 27.48<br>PC3: 1.56"
         ],
         "type": "scatter3d",
         "x": [
          14.321209636115803,
          6.4392868464956265,
          7.732910995397196,
          13.596001113909429,
          11.823025644199385,
          3.2641184761130693,
          4.299835013911144,
          13.29223201362835,
          7.666968421772239,
          14.18272988263877,
          7.24351385145833,
          24.928923542704386,
          12.922533510255931,
          3.0270810754813553,
          12.247428845748747,
          33.96132236033098,
          3.1808286071358225,
          1.225187898635229,
          20.709567513280255,
          48.43032891763891
         ],
         "y": [
          -4.479122573646833,
          -8.41023477267403,
          -1.5681452318792486,
          2.7263629019084696,
          -18.14508521549942,
          -14.494025604632206,
          -13.024376881602684,
          -9.31071449252064,
          -6.205084527884127,
          4.45043084116014,
          1.9051441918611416,
          -1.2895672281952344,
          8.587607204310768,
          -5.035338884859187,
          -13.222365085741119,
          15.543683936629025,
          -4.886857204280065,
          -12.560150748191855,
          -19.265630657720955,
          27.478414640119716
         ],
         "z": [
          -2.901220255769848,
          -7.193552966491279,
          -6.989382593098518,
          8.982754194569594,
          1.300000236385109,
          20.63426684435367,
          -4.985753191801729,
          -3.1426440543703595,
          -7.04698757685607,
          -5.446262559522931,
          7.131559793872705,
          -4.492996713468128,
          15.280267192644827,
          13.10523124984824,
          10.004310448484116,
          -2.799318086458715,
          -7.787761193991295,
          -2.0045001001968537,
          -0.3580660870058156,
          1.562746573107144
         ]
        },
        {
         "hoverinfo": "skip",
         "hovertemplate": "%{text}<extra></extra>",
         "marker": {
          "color": "#6A0DAD",
          "line": {
           "color": "white",
           "width": 0.5
          },
          "size": 5
         },
         "mode": "markers",
         "showlegend": false,
         "text": [
          "Australia<br>PC1: -11.57<br>PC2: 0.50<br>PC3: 5.56",
          "Austria<br>PC1: -12.84<br>PC2: 5.82<br>PC3: -5.00",
          "Belgium<br>PC1: -8.16<br>PC2: 1.56<br>PC3: -2.16",
          "Bulgaria<br>PC1: -4.28<br>PC2: 0.50<br>PC3: -4.72",
          "Chile<br>PC1: -1.73<br>PC2: -8.66<br>PC3: -4.11",
          "Croatia<br>PC1: -5.42<br>PC2: 4.64<br>PC3: -8.46",
          "Cyprus<br>PC1: -4.96<br>PC2: -2.37<br>PC3: -9.18",
          "Czechia<br>PC1: -8.42<br>PC2: 3.48<br>PC3: -6.65",
          "Denmark<br>PC1: -15.01<br>PC2: 5.64<br>PC3: 11.46",
          "Estonia<br>PC1: -4.27<br>PC2: -2.97<br>PC3: -4.62",
          "Finland<br>PC1: -5.78<br>PC2: 5.86<br>PC3: 12.11",
          "France<br>PC1: -12.13<br>PC2: 3.92<br>PC3: 1.94",
          "Germany<br>PC1: -14.11<br>PC2: 7.24<br>PC3: 5.08",
          "Greece<br>PC1: 1.61<br>PC2: 2.34<br>PC3: -4.47",
          "Hungary<br>PC1: 3.93<br>PC2: 6.99<br>PC3: -3.39",
          "Iceland<br>PC1: -4.40<br>PC2: 6.82<br>PC3: 1.98",
          "Ireland<br>PC1: -17.16<br>PC2: 3.73<br>PC3: -1.46",
          "Israel<br>PC1: -2.43<br>PC2: -14.32<br>PC3: 2.74",
          "Italy<br>PC1: -9.22<br>PC2: 4.90<br>PC3: -6.94",
          "Japan<br>PC1: -14.73<br>PC2: 11.17<br>PC3: 0.39",
          "Latvia<br>PC1: -3.71<br>PC2: -3.49<br>PC3: -3.91",
          "Lithuania<br>PC1: -10.56<br>PC2: -4.19<br>PC3: -3.67",
          "Luxembourg<br>PC1: 0.95<br>PC2: 2.77<br>PC3: 7.11",
          "Malta<br>PC1: -13.31<br>PC2: 2.21<br>PC3: 0.93",
          "Netherlands<br>PC1: -11.99<br>PC2: 3.23<br>PC3: 11.92",
          "Norway<br>PC1: -9.87<br>PC2: 4.05<br>PC3: 8.27",
          "Poland<br>PC1: -3.69<br>PC2: -1.53<br>PC3: -3.30",
          "Portugal<br>PC1: -7.31<br>PC2: 4.18<br>PC3: -8.89",
          "Romania<br>PC1: -3.49<br>PC2: 2.70<br>PC3: -2.50",
          "Slovakia<br>PC1: -2.91<br>PC2: 6.62<br>PC3: -5.60",
          "Slovenia<br>PC1: -8.89<br>PC2: 2.03<br>PC3: -6.51",
          "South Korea<br>PC1: -1.34<br>PC2: -0.51<br>PC3: -1.96",
          "Spain<br>PC1: -8.68<br>PC2: 3.12<br>PC3: -3.49",
          "Sweden<br>PC1: -9.10<br>PC2: 0.08<br>PC3: 11.22",
          "United Kingdom<br>PC1: -19.50<br>PC2: 3.15<br>PC3: -2.58"
         ],
         "type": "scatter3d",
         "x": [
          -11.569646910232205,
          -12.844238645222685,
          -8.157404798131102,
          -4.282815735095787,
          -1.7330907708010193,
          -5.421000405111104,
          -4.956226865338433,
          -8.419667892933242,
          -15.011988148894389,
          -4.2690931164058465,
          -5.781596600184225,
          -12.130498959726014,
          -14.108425168611276,
          1.6064612464459453,
          3.933995381934191,
          -4.404063391266083,
          -17.16208409696013,
          -2.434481890597933,
          -9.215893312935133,
          -14.733906790288412,
          -3.7135837688793636,
          -10.556791967499601,
          0.9510177876150534,
          -13.30641326474004,
          -11.994014020120733,
          -9.86784573479455,
          -3.6867807197264093,
          -7.31267973015336,
          -3.488016171000982,
          -2.9075476857425504,
          -8.893357266139152,
          -1.3394796409434198,
          -8.684835313418935,
          -9.102804981977256,
          -19.496234818974877
         ],
         "y": [
          0.499648805701211,
          5.8217639494209905,
          1.5584319235333026,
          0.5010136933262943,
          -8.658350649968495,
          4.636960369960021,
          -2.3745999600140624,
          3.4845054587808053,
          5.637628168485374,
          -2.973710287296056,
          5.860555549871492,
          3.918626988976621,
          7.238592851727542,
          2.3439691350396057,
          6.992795967618537,
          6.819095426574738,
          3.7330242287304074,
          -14.31902584071998,
          4.90345724074187,
          11.17140546816597,
          -3.48802551089435,
          -4.190814208805265,
          2.769942432074338,
          2.208367490042404,
          3.225872978964742,
          4.046146986875694,
          -1.5330994960331106,
          4.183466546525313,
          2.696915185667982,
          6.615901941111745,
          2.0311179417392626,
          -0.5071912423236126,
          3.1182121269554735,
          0.07791553765465396,
          3.154538195127091
         ],
         "z": [
          5.561429396134193,
          -4.997507197026542,
          -2.158976418943319,
          -4.721311628575116,
          -4.112856964635694,
          -8.457695120717771,
          -9.1796005367697,
          -6.652431238359578,
          11.460524199157122,
          -4.615494572696372,
          12.108988789508581,
          1.9399277112618696,
          5.0815144540430826,
          -4.472105312264284,
          -3.3872128671671513,
          1.9846745101901682,
          -1.4604169364253574,
          2.7353412885102966,
          -6.94357699325819,
          0.3940736899112954,
          -3.9117248232520545,
          -3.67219954731069,
          7.1136602069775625,
          0.9267437499693335,
          11.920160798330247,
          8.271825995444354,
          -3.2965966433294933,
          -8.890756173364757,
          -2.4969646292009835,
          -5.601555446022891,
          -6.5089545517490714,
          -1.962523693710269,
          -3.490704129806087,
          11.22363629385822,
          -2.584026812944705
         ]
        }
       ],
       "layout": {
        "font": {
         "size": 12
        },
        "margin": {
         "b": 20,
         "l": 20,
         "r": 20,
         "t": 40
        },
        "paper_bgcolor": "white",
        "plot_bgcolor": "white",
        "scene": {
         "xaxis": {
          "backgroundcolor": "white",
          "gridcolor": "lightgrey",
          "range": [
           -25,
           null
          ],
          "showspikes": true,
          "spikecolor": "black",
          "spikethickness": 2,
          "title": {
           "text": "PC 1"
          }
         },
         "yaxis": {
          "backgroundcolor": "white",
          "gridcolor": "lightgrey",
          "showspikes": true,
          "spikecolor": "black",
          "spikethickness": 2,
          "title": {
           "text": "PC 2"
          }
         },
         "zaxis": {
          "backgroundcolor": "white",
          "gridcolor": "lightgrey",
          "showspikes": true,
          "spikecolor": "black",
          "spikethickness": 2,
          "title": {
           "text": "PC 3"
          }
         }
        },
        "template": {
         "data": {
          "bar": [
           {
            "error_x": {
             "color": "#2a3f5f"
            },
            "error_y": {
             "color": "#2a3f5f"
            },
            "marker": {
             "line": {
              "color": "#E5ECF6",
              "width": 0.5
             },
             "pattern": {
              "fillmode": "overlay",
              "size": 10,
              "solidity": 0.2
             }
            },
            "type": "bar"
           }
          ],
          "barpolar": [
           {
            "marker": {
             "line": {
              "color": "#E5ECF6",
              "width": 0.5
             },
             "pattern": {
              "fillmode": "overlay",
              "size": 10,
              "solidity": 0.2
             }
            },
            "type": "barpolar"
           }
          ],
          "carpet": [
           {
            "aaxis": {
             "endlinecolor": "#2a3f5f",
             "gridcolor": "white",
             "linecolor": "white",
             "minorgridcolor": "white",
             "startlinecolor": "#2a3f5f"
            },
            "baxis": {
             "endlinecolor": "#2a3f5f",
             "gridcolor": "white",
             "linecolor": "white",
             "minorgridcolor": "white",
             "startlinecolor": "#2a3f5f"
            },
            "type": "carpet"
           }
          ],
          "choropleth": [
           {
            "colorbar": {
             "outlinewidth": 0,
             "ticks": ""
            },
            "type": "choropleth"
           }
          ],
          "contour": [
           {
            "colorbar": {
             "outlinewidth": 0,
             "ticks": ""
            },
            "colorscale": [
             [
              0,
              "#0d0887"
             ],
             [
              0.1111111111111111,
              "#46039f"
             ],
             [
              0.2222222222222222,
              "#7201a8"
             ],
             [
              0.3333333333333333,
              "#9c179e"
             ],
             [
              0.4444444444444444,
              "#bd3786"
             ],
             [
              0.5555555555555556,
              "#d8576b"
             ],
             [
              0.6666666666666666,
              "#ed7953"
             ],
             [
              0.7777777777777778,
              "#fb9f3a"
             ],
             [
              0.8888888888888888,
              "#fdca26"
             ],
             [
              1,
              "#f0f921"
             ]
            ],
            "type": "contour"
           }
          ],
          "contourcarpet": [
           {
            "colorbar": {
             "outlinewidth": 0,
             "ticks": ""
            },
            "type": "contourcarpet"
           }
          ],
          "heatmap": [
           {
            "colorbar": {
             "outlinewidth": 0,
             "ticks": ""
            },
            "colorscale": [
             [
              0,
              "#0d0887"
             ],
             [
              0.1111111111111111,
              "#46039f"
             ],
             [
              0.2222222222222222,
              "#7201a8"
             ],
             [
              0.3333333333333333,
              "#9c179e"
             ],
             [
              0.4444444444444444,
              "#bd3786"
             ],
             [
              0.5555555555555556,
              "#d8576b"
             ],
             [
              0.6666666666666666,
              "#ed7953"
             ],
             [
              0.7777777777777778,
              "#fb9f3a"
             ],
             [
              0.8888888888888888,
              "#fdca26"
             ],
             [
              1,
              "#f0f921"
             ]
            ],
            "type": "heatmap"
           }
          ],
          "heatmapgl": [
           {
            "colorbar": {
             "outlinewidth": 0,
             "ticks": ""
            },
            "colorscale": [
             [
              0,
              "#0d0887"
             ],
             [
              0.1111111111111111,
              "#46039f"
             ],
             [
              0.2222222222222222,
              "#7201a8"
             ],
             [
              0.3333333333333333,
              "#9c179e"
             ],
             [
              0.4444444444444444,
              "#bd3786"
             ],
             [
              0.5555555555555556,
              "#d8576b"
             ],
             [
              0.6666666666666666,
              "#ed7953"
             ],
             [
              0.7777777777777778,
              "#fb9f3a"
             ],
             [
              0.8888888888888888,
              "#fdca26"
             ],
             [
              1,
              "#f0f921"
             ]
            ],
            "type": "heatmapgl"
           }
          ],
          "histogram": [
           {
            "marker": {
             "pattern": {
              "fillmode": "overlay",
              "size": 10,
              "solidity": 0.2
             }
            },
            "type": "histogram"
           }
          ],
          "histogram2d": [
           {
            "colorbar": {
             "outlinewidth": 0,
             "ticks": ""
            },
            "colorscale": [
             [
              0,
              "#0d0887"
             ],
             [
              0.1111111111111111,
              "#46039f"
             ],
             [
              0.2222222222222222,
              "#7201a8"
             ],
             [
              0.3333333333333333,
              "#9c179e"
             ],
             [
              0.4444444444444444,
              "#bd3786"
             ],
             [
              0.5555555555555556,
              "#d8576b"
             ],
             [
              0.6666666666666666,
              "#ed7953"
             ],
             [
              0.7777777777777778,
              "#fb9f3a"
             ],
             [
              0.8888888888888888,
              "#fdca26"
             ],
             [
              1,
              "#f0f921"
             ]
            ],
            "type": "histogram2d"
           }
          ],
          "histogram2dcontour": [
           {
            "colorbar": {
             "outlinewidth": 0,
             "ticks": ""
            },
            "colorscale": [
             [
              0,
              "#0d0887"
             ],
             [
              0.1111111111111111,
              "#46039f"
             ],
             [
              0.2222222222222222,
              "#7201a8"
             ],
             [
              0.3333333333333333,
              "#9c179e"
             ],
             [
              0.4444444444444444,
              "#bd3786"
             ],
             [
              0.5555555555555556,
              "#d8576b"
             ],
             [
              0.6666666666666666,
              "#ed7953"
             ],
             [
              0.7777777777777778,
              "#fb9f3a"
             ],
             [
              0.8888888888888888,
              "#fdca26"
             ],
             [
              1,
              "#f0f921"
             ]
            ],
            "type": "histogram2dcontour"
           }
          ],
          "mesh3d": [
           {
            "colorbar": {
             "outlinewidth": 0,
             "ticks": ""
            },
            "type": "mesh3d"
           }
          ],
          "parcoords": [
           {
            "line": {
             "colorbar": {
              "outlinewidth": 0,
              "ticks": ""
             }
            },
            "type": "parcoords"
           }
          ],
          "pie": [
           {
            "automargin": true,
            "type": "pie"
           }
          ],
          "scatter": [
           {
            "fillpattern": {
             "fillmode": "overlay",
             "size": 10,
             "solidity": 0.2
            },
            "type": "scatter"
           }
          ],
          "scatter3d": [
           {
            "line": {
             "colorbar": {
              "outlinewidth": 0,
              "ticks": ""
             }
            },
            "marker": {
             "colorbar": {
              "outlinewidth": 0,
              "ticks": ""
             }
            },
            "type": "scatter3d"
           }
          ],
          "scattercarpet": [
           {
            "marker": {
             "colorbar": {
              "outlinewidth": 0,
              "ticks": ""
             }
            },
            "type": "scattercarpet"
           }
          ],
          "scattergeo": [
           {
            "marker": {
             "colorbar": {
              "outlinewidth": 0,
              "ticks": ""
             }
            },
            "type": "scattergeo"
           }
          ],
          "scattergl": [
           {
            "marker": {
             "colorbar": {
              "outlinewidth": 0,
              "ticks": ""
             }
            },
            "type": "scattergl"
           }
          ],
          "scattermapbox": [
           {
            "marker": {
             "colorbar": {
              "outlinewidth": 0,
              "ticks": ""
             }
            },
            "type": "scattermapbox"
           }
          ],
          "scatterpolar": [
           {
            "marker": {
             "colorbar": {
              "outlinewidth": 0,
              "ticks": ""
             }
            },
            "type": "scatterpolar"
           }
          ],
          "scatterpolargl": [
           {
            "marker": {
             "colorbar": {
              "outlinewidth": 0,
              "ticks": ""
             }
            },
            "type": "scatterpolargl"
           }
          ],
          "scatterternary": [
           {
            "marker": {
             "colorbar": {
              "outlinewidth": 0,
              "ticks": ""
             }
            },
            "type": "scatterternary"
           }
          ],
          "surface": [
           {
            "colorbar": {
             "outlinewidth": 0,
             "ticks": ""
            },
            "colorscale": [
             [
              0,
              "#0d0887"
             ],
             [
              0.1111111111111111,
              "#46039f"
             ],
             [
              0.2222222222222222,
              "#7201a8"
             ],
             [
              0.3333333333333333,
              "#9c179e"
             ],
             [
              0.4444444444444444,
              "#bd3786"
             ],
             [
              0.5555555555555556,
              "#d8576b"
             ],
             [
              0.6666666666666666,
              "#ed7953"
             ],
             [
              0.7777777777777778,
              "#fb9f3a"
             ],
             [
              0.8888888888888888,
              "#fdca26"
             ],
             [
              1,
              "#f0f921"
             ]
            ],
            "type": "surface"
           }
          ],
          "table": [
           {
            "cells": {
             "fill": {
              "color": "#EBF0F8"
             },
             "line": {
              "color": "white"
             }
            },
            "header": {
             "fill": {
              "color": "#C8D4E3"
             },
             "line": {
              "color": "white"
             }
            },
            "type": "table"
           }
          ]
         },
         "layout": {
          "annotationdefaults": {
           "arrowcolor": "#2a3f5f",
           "arrowhead": 0,
           "arrowwidth": 1
          },
          "autotypenumbers": "strict",
          "coloraxis": {
           "colorbar": {
            "outlinewidth": 0,
            "ticks": ""
           }
          },
          "colorscale": {
           "diverging": [
            [
             0,
             "#8e0152"
            ],
            [
             0.1,
             "#c51b7d"
            ],
            [
             0.2,
             "#de77ae"
            ],
            [
             0.3,
             "#f1b6da"
            ],
            [
             0.4,
             "#fde0ef"
            ],
            [
             0.5,
             "#f7f7f7"
            ],
            [
             0.6,
             "#e6f5d0"
            ],
            [
             0.7,
             "#b8e186"
            ],
            [
             0.8,
             "#7fbc41"
            ],
            [
             0.9,
             "#4d9221"
            ],
            [
             1,
             "#276419"
            ]
           ],
           "sequential": [
            [
             0,
             "#0d0887"
            ],
            [
             0.1111111111111111,
             "#46039f"
            ],
            [
             0.2222222222222222,
             "#7201a8"
            ],
            [
             0.3333333333333333,
             "#9c179e"
            ],
            [
             0.4444444444444444,
             "#bd3786"
            ],
            [
             0.5555555555555556,
             "#d8576b"
            ],
            [
             0.6666666666666666,
             "#ed7953"
            ],
            [
             0.7777777777777778,
             "#fb9f3a"
            ],
            [
             0.8888888888888888,
             "#fdca26"
            ],
            [
             1,
             "#f0f921"
            ]
           ],
           "sequentialminus": [
            [
             0,
             "#0d0887"
            ],
            [
             0.1111111111111111,
             "#46039f"
            ],
            [
             0.2222222222222222,
             "#7201a8"
            ],
            [
             0.3333333333333333,
             "#9c179e"
            ],
            [
             0.4444444444444444,
             "#bd3786"
            ],
            [
             0.5555555555555556,
             "#d8576b"
            ],
            [
             0.6666666666666666,
             "#ed7953"
            ],
            [
             0.7777777777777778,
             "#fb9f3a"
            ],
            [
             0.8888888888888888,
             "#fdca26"
            ],
            [
             1,
             "#f0f921"
            ]
           ]
          },
          "colorway": [
           "#636efa",
           "#EF553B",
           "#00cc96",
           "#ab63fa",
           "#FFA15A",
           "#19d3f3",
           "#FF6692",
           "#B6E880",
           "#FF97FF",
           "#FECB52"
          ],
          "font": {
           "color": "#2a3f5f"
          },
          "geo": {
           "bgcolor": "white",
           "lakecolor": "white",
           "landcolor": "#E5ECF6",
           "showlakes": true,
           "showland": true,
           "subunitcolor": "white"
          },
          "hoverlabel": {
           "align": "left"
          },
          "hovermode": "closest",
          "mapbox": {
           "style": "light"
          },
          "paper_bgcolor": "white",
          "plot_bgcolor": "#E5ECF6",
          "polar": {
           "angularaxis": {
            "gridcolor": "white",
            "linecolor": "white",
            "ticks": ""
           },
           "bgcolor": "#E5ECF6",
           "radialaxis": {
            "gridcolor": "white",
            "linecolor": "white",
            "ticks": ""
           }
          },
          "scene": {
           "xaxis": {
            "backgroundcolor": "#E5ECF6",
            "gridcolor": "white",
            "gridwidth": 2,
            "linecolor": "white",
            "showbackground": true,
            "ticks": "",
            "zerolinecolor": "white"
           },
           "yaxis": {
            "backgroundcolor": "#E5ECF6",
            "gridcolor": "white",
            "gridwidth": 2,
            "linecolor": "white",
            "showbackground": true,
            "ticks": "",
            "zerolinecolor": "white"
           },
           "zaxis": {
            "backgroundcolor": "#E5ECF6",
            "gridcolor": "white",
            "gridwidth": 2,
            "linecolor": "white",
            "showbackground": true,
            "ticks": "",
            "zerolinecolor": "white"
           }
          },
          "shapedefaults": {
           "line": {
            "color": "#2a3f5f"
           }
          },
          "ternary": {
           "aaxis": {
            "gridcolor": "white",
            "linecolor": "white",
            "ticks": ""
           },
           "baxis": {
            "gridcolor": "white",
            "linecolor": "white",
            "ticks": ""
           },
           "bgcolor": "#E5ECF6",
           "caxis": {
            "gridcolor": "white",
            "linecolor": "white",
            "ticks": ""
           }
          },
          "title": {
           "x": 0.05
          },
          "xaxis": {
           "automargin": true,
           "gridcolor": "white",
           "linecolor": "white",
           "ticks": "",
           "title": {
            "standoff": 15
           },
           "zerolinecolor": "white",
           "zerolinewidth": 2
          },
          "yaxis": {
           "automargin": true,
           "gridcolor": "white",
           "linecolor": "white",
           "ticks": "",
           "title": {
            "standoff": 15
           },
           "zerolinecolor": "white",
           "zerolinewidth": 2
          }
         }
        },
        "title": {
         "text": "Country values along the three main budget expenditure-derived principal components"
        },
        "width": 800,
        "xaxis": {
         "gridcolor": "lightgrey",
         "linecolor": "black",
         "tickfont": {
          "size": 10
         },
         "zeroline": true,
         "zerolinecolor": "lightgrey",
         "zerolinewidth": 1
        },
        "yaxis": {
         "gridcolor": "lightgrey",
         "linecolor": "black",
         "tickfont": {
          "size": 10
         },
         "zeroline": true,
         "zerolinecolor": "lightgrey",
         "zerolinewidth": 1
        }
       }
      }
     },
     "metadata": {},
     "output_type": "display_data"
    }
   ],
   "source": [
    "#create a trace for each cluster\n",
    "trace_list = []\n",
    "for cluster, color in zip(sorted(pca_df['cluster'].unique()), cluster_palette):\n",
    "    cluster_data = pca_df[pca_df['cluster'] == cluster]\n",
    "    \n",
    "    #create hover text with country names and PCA scores\n",
    "    hover_text = [f'{country}<br>PC1: {pc1:.2f}<br>PC2: {pc2:.2f}<br>PC3: {pc3:.2f}' \n",
    "                  for country, pc1, pc2, pc3 in zip(cluster_data['country'], cluster_data['PC1'], cluster_data['PC2'], cluster_data['PC3'])]\n",
    "    \n",
    "    trace = go.Scatter3d(\n",
    "        x=cluster_data['PC1'],\n",
    "        y=cluster_data['PC2'],\n",
    "        z=cluster_data['PC3'],\n",
    "        mode='markers',\n",
    "        hoverinfo='skip',  # Skip default hover info\n",
    "        text=hover_text,\n",
    "        hovertemplate='%{text}<extra></extra>',  # Use the hover text without extra info\n",
    "        marker=dict(size=5, color=color, line=dict(color='white', width=0.5)),\n",
    "        showlegend=False\n",
    "    )\n",
    "    trace_list.append(trace)\n",
    "\n",
    "#create the figure\n",
    "fig = go.Figure(data=trace_list, layout=mylayout)\n",
    "\n",
    "#customize layout\n",
    "fig.update_layout(\n",
    "    width=plot_size_shortwidth,\n",
    "    title='Country values along the three main budget expenditure-derived principal components',\n",
    "    margin=dict(l=20, r=20, t=40, b=20),\n",
    "    scene=dict(\n",
    "        xaxis=dict(title='PC 1', showspikes=True, spikethickness=2, spikecolor=\"black\",\n",
    "                   backgroundcolor='white', gridcolor='lightgrey', range=[-25, None]),\n",
    "        yaxis=dict(title='PC 2', showspikes=True, spikethickness=2, spikecolor=\"black\",\n",
    "                   backgroundcolor='white', gridcolor='lightgrey'),\n",
    "        zaxis=dict(title='PC 3', showspikes=True, spikethickness=2, spikecolor=\"black\",\n",
    "                   backgroundcolor='white', gridcolor='lightgrey')\n",
    "    )\n",
    ")\n",
    "\n",
    "fig.show()"
   ]
  },
  {
   "cell_type": "markdown",
   "metadata": {},
   "source": [
    "We can change the perspective by clicking on the plot and dragging. A priori, the third PC does not seem to reveal any intuitive insights. But there is something else that may throw some light into our PCs. To understand how the complexity was reduced, we need to know how the different items are related to each PC, how strongly, and in which direction. There is one metric that conveys precisely this: loadings. For each item and PC, we can obtain its loading, with its size describing how much that item corresponds to the particular PC, and its sign (positive or negative) indicating whether it is positively or negatively correlated to it. This calculation is pretty straightforward."
   ]
  },
  {
   "cell_type": "code",
   "execution_count": 35,
   "metadata": {},
   "outputs": [
    {
     "name": "stdout",
     "output_type": "stream",
     "text": [
      "                                   PC1   PC2   PC3\n",
      "item                                              \n",
      "General public services           7.84  3.89 -0.04\n",
      "Defence                           1.90 -3.44  0.26\n",
      "Public order and safety           0.68 -1.89 -0.83\n",
      "Economic affairs                  2.64  2.53 -1.54\n",
      "Environment protection           -0.46  0.32 -0.07\n",
      "Housing and community amenities   0.20 -0.27 -0.38\n",
      "Health                           -9.28  2.92 -2.45\n",
      "Recreation, culture and religion -0.65  0.09  0.16\n",
      "Education                         0.04 -4.76 -1.36\n",
      "Social protection                -2.90  0.63  6.25\n"
     ]
    }
   ],
   "source": [
    "#fit PCA\n",
    "pca = PCA(n_components=n_pc)\n",
    "pca.fit(df_budget_pivot)\n",
    "\n",
    "#get the loadings\n",
    "loadings = pca.components_.T * np.sqrt(pca.explained_variance_)\n",
    "\n",
    "#create a DataFrame for the loadings\n",
    "loadings_df = pd.DataFrame(loadings, columns=['PC1', 'PC2', 'PC3'], index=df_budget_pivot.columns)\n",
    "loadings_df = loadings_df.loc[unique_items] #ordered according to unique_items\n",
    "\n",
    "#display the DataFrame\n",
    "print(loadings_df)"
   ]
  },
  {
   "cell_type": "markdown",
   "metadata": {},
   "source": [
    "While this DataFrame contains all the information we need, it is still quite tedious to interpret. So let's take it and make a heatmap plot where each loading is in a cell, with its color telling us about both size and direction of the loading."
   ]
  },
  {
   "cell_type": "code",
   "execution_count": 36,
   "metadata": {},
   "outputs": [
    {
     "data": {
      "application/vnd.plotly.v1+json": {
       "config": {
        "plotlyServerURL": "https://plot.ly"
       },
       "data": [
        {
         "colorscale": [
          [
           0,
           "#8c510a"
          ],
          [
           0.5,
           "#ffffff"
          ],
          [
           1,
           "#01665e"
          ]
         ],
         "hoverinfo": "none",
         "showscale": true,
         "type": "heatmap",
         "x": [
          "PC1",
          "PC2",
          "PC3"
         ],
         "y": [
          "General public services",
          "Defence",
          "Public order and safety",
          "Economic affairs",
          "Environment protection",
          "Housing and community amenities",
          "Health",
          "Recreation, culture and religion",
          "Education",
          "Social protection"
         ],
         "z": [
          [
           7.843493862059896,
           3.8876324110249025,
           -0.037364827892210996
          ],
          [
           1.8998986325644804,
           -3.442578903219613,
           0.2627715881336735
          ],
          [
           0.6804202789026026,
           -1.88750249905353,
           -0.8275742844237408
          ],
          [
           2.640025193782947,
           2.525556413237039,
           -1.5449048532517693
          ],
          [
           -0.45994281347795746,
           0.32064445389594015,
           -0.0737916549864421
          ],
          [
           0.19997338821331792,
           -0.274943285201473,
           -0.37511852034649895
          ],
          [
           -9.281667834116348,
           2.916181258470784,
           -2.453808076065499
          ],
          [
           -0.6545208022734401,
           0.08524859556947899,
           0.16026988888916807
          ],
          [
           0.03528915107006353,
           -4.764720722429585,
           -1.3612870496612772
          ],
          [
           -2.9029690567255635,
           0.6344822777060577,
           6.250807789604602
          ]
         ],
         "zmid": 0
        }
       ],
       "layout": {
        "annotations": [
         {
          "font": {
           "color": "black"
          },
          "showarrow": false,
          "text": "7.84",
          "x": "PC1",
          "y": "General public services"
         },
         {
          "font": {
           "color": "black"
          },
          "showarrow": false,
          "text": "3.89",
          "x": "PC2",
          "y": "General public services"
         },
         {
          "font": {
           "color": "black"
          },
          "showarrow": false,
          "text": "-0.04",
          "x": "PC3",
          "y": "General public services"
         },
         {
          "font": {
           "color": "black"
          },
          "showarrow": false,
          "text": "1.9",
          "x": "PC1",
          "y": "Defence"
         },
         {
          "font": {
           "color": "black"
          },
          "showarrow": false,
          "text": "-3.44",
          "x": "PC2",
          "y": "Defence"
         },
         {
          "font": {
           "color": "black"
          },
          "showarrow": false,
          "text": "0.26",
          "x": "PC3",
          "y": "Defence"
         },
         {
          "font": {
           "color": "black"
          },
          "showarrow": false,
          "text": "0.68",
          "x": "PC1",
          "y": "Public order and safety"
         },
         {
          "font": {
           "color": "black"
          },
          "showarrow": false,
          "text": "-1.89",
          "x": "PC2",
          "y": "Public order and safety"
         },
         {
          "font": {
           "color": "black"
          },
          "showarrow": false,
          "text": "-0.83",
          "x": "PC3",
          "y": "Public order and safety"
         },
         {
          "font": {
           "color": "black"
          },
          "showarrow": false,
          "text": "2.64",
          "x": "PC1",
          "y": "Economic affairs"
         },
         {
          "font": {
           "color": "black"
          },
          "showarrow": false,
          "text": "2.53",
          "x": "PC2",
          "y": "Economic affairs"
         },
         {
          "font": {
           "color": "black"
          },
          "showarrow": false,
          "text": "-1.54",
          "x": "PC3",
          "y": "Economic affairs"
         },
         {
          "font": {
           "color": "black"
          },
          "showarrow": false,
          "text": "-0.46",
          "x": "PC1",
          "y": "Environment protection"
         },
         {
          "font": {
           "color": "black"
          },
          "showarrow": false,
          "text": "0.32",
          "x": "PC2",
          "y": "Environment protection"
         },
         {
          "font": {
           "color": "black"
          },
          "showarrow": false,
          "text": "-0.07",
          "x": "PC3",
          "y": "Environment protection"
         },
         {
          "font": {
           "color": "black"
          },
          "showarrow": false,
          "text": "0.2",
          "x": "PC1",
          "y": "Housing and community amenities"
         },
         {
          "font": {
           "color": "black"
          },
          "showarrow": false,
          "text": "-0.27",
          "x": "PC2",
          "y": "Housing and community amenities"
         },
         {
          "font": {
           "color": "black"
          },
          "showarrow": false,
          "text": "-0.38",
          "x": "PC3",
          "y": "Housing and community amenities"
         },
         {
          "font": {
           "color": "black"
          },
          "showarrow": false,
          "text": "-9.28",
          "x": "PC1",
          "y": "Health"
         },
         {
          "font": {
           "color": "black"
          },
          "showarrow": false,
          "text": "2.92",
          "x": "PC2",
          "y": "Health"
         },
         {
          "font": {
           "color": "black"
          },
          "showarrow": false,
          "text": "-2.45",
          "x": "PC3",
          "y": "Health"
         },
         {
          "font": {
           "color": "black"
          },
          "showarrow": false,
          "text": "-0.65",
          "x": "PC1",
          "y": "Recreation, culture and religion"
         },
         {
          "font": {
           "color": "black"
          },
          "showarrow": false,
          "text": "0.09",
          "x": "PC2",
          "y": "Recreation, culture and religion"
         },
         {
          "font": {
           "color": "black"
          },
          "showarrow": false,
          "text": "0.16",
          "x": "PC3",
          "y": "Recreation, culture and religion"
         },
         {
          "font": {
           "color": "black"
          },
          "showarrow": false,
          "text": "0.04",
          "x": "PC1",
          "y": "Education"
         },
         {
          "font": {
           "color": "black"
          },
          "showarrow": false,
          "text": "-4.76",
          "x": "PC2",
          "y": "Education"
         },
         {
          "font": {
           "color": "black"
          },
          "showarrow": false,
          "text": "-1.36",
          "x": "PC3",
          "y": "Education"
         },
         {
          "font": {
           "color": "black"
          },
          "showarrow": false,
          "text": "-2.9",
          "x": "PC1",
          "y": "Social protection"
         },
         {
          "font": {
           "color": "black"
          },
          "showarrow": false,
          "text": "0.63",
          "x": "PC2",
          "y": "Social protection"
         },
         {
          "font": {
           "color": "black"
          },
          "showarrow": false,
          "text": "6.25",
          "x": "PC3",
          "y": "Social protection"
         }
        ],
        "height": 500,
        "template": {
         "data": {
          "bar": [
           {
            "error_x": {
             "color": "#2a3f5f"
            },
            "error_y": {
             "color": "#2a3f5f"
            },
            "marker": {
             "line": {
              "color": "#E5ECF6",
              "width": 0.5
             },
             "pattern": {
              "fillmode": "overlay",
              "size": 10,
              "solidity": 0.2
             }
            },
            "type": "bar"
           }
          ],
          "barpolar": [
           {
            "marker": {
             "line": {
              "color": "#E5ECF6",
              "width": 0.5
             },
             "pattern": {
              "fillmode": "overlay",
              "size": 10,
              "solidity": 0.2
             }
            },
            "type": "barpolar"
           }
          ],
          "carpet": [
           {
            "aaxis": {
             "endlinecolor": "#2a3f5f",
             "gridcolor": "white",
             "linecolor": "white",
             "minorgridcolor": "white",
             "startlinecolor": "#2a3f5f"
            },
            "baxis": {
             "endlinecolor": "#2a3f5f",
             "gridcolor": "white",
             "linecolor": "white",
             "minorgridcolor": "white",
             "startlinecolor": "#2a3f5f"
            },
            "type": "carpet"
           }
          ],
          "choropleth": [
           {
            "colorbar": {
             "outlinewidth": 0,
             "ticks": ""
            },
            "type": "choropleth"
           }
          ],
          "contour": [
           {
            "colorbar": {
             "outlinewidth": 0,
             "ticks": ""
            },
            "colorscale": [
             [
              0,
              "#0d0887"
             ],
             [
              0.1111111111111111,
              "#46039f"
             ],
             [
              0.2222222222222222,
              "#7201a8"
             ],
             [
              0.3333333333333333,
              "#9c179e"
             ],
             [
              0.4444444444444444,
              "#bd3786"
             ],
             [
              0.5555555555555556,
              "#d8576b"
             ],
             [
              0.6666666666666666,
              "#ed7953"
             ],
             [
              0.7777777777777778,
              "#fb9f3a"
             ],
             [
              0.8888888888888888,
              "#fdca26"
             ],
             [
              1,
              "#f0f921"
             ]
            ],
            "type": "contour"
           }
          ],
          "contourcarpet": [
           {
            "colorbar": {
             "outlinewidth": 0,
             "ticks": ""
            },
            "type": "contourcarpet"
           }
          ],
          "heatmap": [
           {
            "colorbar": {
             "outlinewidth": 0,
             "ticks": ""
            },
            "colorscale": [
             [
              0,
              "#0d0887"
             ],
             [
              0.1111111111111111,
              "#46039f"
             ],
             [
              0.2222222222222222,
              "#7201a8"
             ],
             [
              0.3333333333333333,
              "#9c179e"
             ],
             [
              0.4444444444444444,
              "#bd3786"
             ],
             [
              0.5555555555555556,
              "#d8576b"
             ],
             [
              0.6666666666666666,
              "#ed7953"
             ],
             [
              0.7777777777777778,
              "#fb9f3a"
             ],
             [
              0.8888888888888888,
              "#fdca26"
             ],
             [
              1,
              "#f0f921"
             ]
            ],
            "type": "heatmap"
           }
          ],
          "heatmapgl": [
           {
            "colorbar": {
             "outlinewidth": 0,
             "ticks": ""
            },
            "colorscale": [
             [
              0,
              "#0d0887"
             ],
             [
              0.1111111111111111,
              "#46039f"
             ],
             [
              0.2222222222222222,
              "#7201a8"
             ],
             [
              0.3333333333333333,
              "#9c179e"
             ],
             [
              0.4444444444444444,
              "#bd3786"
             ],
             [
              0.5555555555555556,
              "#d8576b"
             ],
             [
              0.6666666666666666,
              "#ed7953"
             ],
             [
              0.7777777777777778,
              "#fb9f3a"
             ],
             [
              0.8888888888888888,
              "#fdca26"
             ],
             [
              1,
              "#f0f921"
             ]
            ],
            "type": "heatmapgl"
           }
          ],
          "histogram": [
           {
            "marker": {
             "pattern": {
              "fillmode": "overlay",
              "size": 10,
              "solidity": 0.2
             }
            },
            "type": "histogram"
           }
          ],
          "histogram2d": [
           {
            "colorbar": {
             "outlinewidth": 0,
             "ticks": ""
            },
            "colorscale": [
             [
              0,
              "#0d0887"
             ],
             [
              0.1111111111111111,
              "#46039f"
             ],
             [
              0.2222222222222222,
              "#7201a8"
             ],
             [
              0.3333333333333333,
              "#9c179e"
             ],
             [
              0.4444444444444444,
              "#bd3786"
             ],
             [
              0.5555555555555556,
              "#d8576b"
             ],
             [
              0.6666666666666666,
              "#ed7953"
             ],
             [
              0.7777777777777778,
              "#fb9f3a"
             ],
             [
              0.8888888888888888,
              "#fdca26"
             ],
             [
              1,
              "#f0f921"
             ]
            ],
            "type": "histogram2d"
           }
          ],
          "histogram2dcontour": [
           {
            "colorbar": {
             "outlinewidth": 0,
             "ticks": ""
            },
            "colorscale": [
             [
              0,
              "#0d0887"
             ],
             [
              0.1111111111111111,
              "#46039f"
             ],
             [
              0.2222222222222222,
              "#7201a8"
             ],
             [
              0.3333333333333333,
              "#9c179e"
             ],
             [
              0.4444444444444444,
              "#bd3786"
             ],
             [
              0.5555555555555556,
              "#d8576b"
             ],
             [
              0.6666666666666666,
              "#ed7953"
             ],
             [
              0.7777777777777778,
              "#fb9f3a"
             ],
             [
              0.8888888888888888,
              "#fdca26"
             ],
             [
              1,
              "#f0f921"
             ]
            ],
            "type": "histogram2dcontour"
           }
          ],
          "mesh3d": [
           {
            "colorbar": {
             "outlinewidth": 0,
             "ticks": ""
            },
            "type": "mesh3d"
           }
          ],
          "parcoords": [
           {
            "line": {
             "colorbar": {
              "outlinewidth": 0,
              "ticks": ""
             }
            },
            "type": "parcoords"
           }
          ],
          "pie": [
           {
            "automargin": true,
            "type": "pie"
           }
          ],
          "scatter": [
           {
            "fillpattern": {
             "fillmode": "overlay",
             "size": 10,
             "solidity": 0.2
            },
            "type": "scatter"
           }
          ],
          "scatter3d": [
           {
            "line": {
             "colorbar": {
              "outlinewidth": 0,
              "ticks": ""
             }
            },
            "marker": {
             "colorbar": {
              "outlinewidth": 0,
              "ticks": ""
             }
            },
            "type": "scatter3d"
           }
          ],
          "scattercarpet": [
           {
            "marker": {
             "colorbar": {
              "outlinewidth": 0,
              "ticks": ""
             }
            },
            "type": "scattercarpet"
           }
          ],
          "scattergeo": [
           {
            "marker": {
             "colorbar": {
              "outlinewidth": 0,
              "ticks": ""
             }
            },
            "type": "scattergeo"
           }
          ],
          "scattergl": [
           {
            "marker": {
             "colorbar": {
              "outlinewidth": 0,
              "ticks": ""
             }
            },
            "type": "scattergl"
           }
          ],
          "scattermapbox": [
           {
            "marker": {
             "colorbar": {
              "outlinewidth": 0,
              "ticks": ""
             }
            },
            "type": "scattermapbox"
           }
          ],
          "scatterpolar": [
           {
            "marker": {
             "colorbar": {
              "outlinewidth": 0,
              "ticks": ""
             }
            },
            "type": "scatterpolar"
           }
          ],
          "scatterpolargl": [
           {
            "marker": {
             "colorbar": {
              "outlinewidth": 0,
              "ticks": ""
             }
            },
            "type": "scatterpolargl"
           }
          ],
          "scatterternary": [
           {
            "marker": {
             "colorbar": {
              "outlinewidth": 0,
              "ticks": ""
             }
            },
            "type": "scatterternary"
           }
          ],
          "surface": [
           {
            "colorbar": {
             "outlinewidth": 0,
             "ticks": ""
            },
            "colorscale": [
             [
              0,
              "#0d0887"
             ],
             [
              0.1111111111111111,
              "#46039f"
             ],
             [
              0.2222222222222222,
              "#7201a8"
             ],
             [
              0.3333333333333333,
              "#9c179e"
             ],
             [
              0.4444444444444444,
              "#bd3786"
             ],
             [
              0.5555555555555556,
              "#d8576b"
             ],
             [
              0.6666666666666666,
              "#ed7953"
             ],
             [
              0.7777777777777778,
              "#fb9f3a"
             ],
             [
              0.8888888888888888,
              "#fdca26"
             ],
             [
              1,
              "#f0f921"
             ]
            ],
            "type": "surface"
           }
          ],
          "table": [
           {
            "cells": {
             "fill": {
              "color": "#EBF0F8"
             },
             "line": {
              "color": "white"
             }
            },
            "header": {
             "fill": {
              "color": "#C8D4E3"
             },
             "line": {
              "color": "white"
             }
            },
            "type": "table"
           }
          ]
         },
         "layout": {
          "annotationdefaults": {
           "arrowcolor": "#2a3f5f",
           "arrowhead": 0,
           "arrowwidth": 1
          },
          "autotypenumbers": "strict",
          "coloraxis": {
           "colorbar": {
            "outlinewidth": 0,
            "ticks": ""
           }
          },
          "colorscale": {
           "diverging": [
            [
             0,
             "#8e0152"
            ],
            [
             0.1,
             "#c51b7d"
            ],
            [
             0.2,
             "#de77ae"
            ],
            [
             0.3,
             "#f1b6da"
            ],
            [
             0.4,
             "#fde0ef"
            ],
            [
             0.5,
             "#f7f7f7"
            ],
            [
             0.6,
             "#e6f5d0"
            ],
            [
             0.7,
             "#b8e186"
            ],
            [
             0.8,
             "#7fbc41"
            ],
            [
             0.9,
             "#4d9221"
            ],
            [
             1,
             "#276419"
            ]
           ],
           "sequential": [
            [
             0,
             "#0d0887"
            ],
            [
             0.1111111111111111,
             "#46039f"
            ],
            [
             0.2222222222222222,
             "#7201a8"
            ],
            [
             0.3333333333333333,
             "#9c179e"
            ],
            [
             0.4444444444444444,
             "#bd3786"
            ],
            [
             0.5555555555555556,
             "#d8576b"
            ],
            [
             0.6666666666666666,
             "#ed7953"
            ],
            [
             0.7777777777777778,
             "#fb9f3a"
            ],
            [
             0.8888888888888888,
             "#fdca26"
            ],
            [
             1,
             "#f0f921"
            ]
           ],
           "sequentialminus": [
            [
             0,
             "#0d0887"
            ],
            [
             0.1111111111111111,
             "#46039f"
            ],
            [
             0.2222222222222222,
             "#7201a8"
            ],
            [
             0.3333333333333333,
             "#9c179e"
            ],
            [
             0.4444444444444444,
             "#bd3786"
            ],
            [
             0.5555555555555556,
             "#d8576b"
            ],
            [
             0.6666666666666666,
             "#ed7953"
            ],
            [
             0.7777777777777778,
             "#fb9f3a"
            ],
            [
             0.8888888888888888,
             "#fdca26"
            ],
            [
             1,
             "#f0f921"
            ]
           ]
          },
          "colorway": [
           "#636efa",
           "#EF553B",
           "#00cc96",
           "#ab63fa",
           "#FFA15A",
           "#19d3f3",
           "#FF6692",
           "#B6E880",
           "#FF97FF",
           "#FECB52"
          ],
          "font": {
           "color": "#2a3f5f"
          },
          "geo": {
           "bgcolor": "white",
           "lakecolor": "white",
           "landcolor": "#E5ECF6",
           "showlakes": true,
           "showland": true,
           "subunitcolor": "white"
          },
          "hoverlabel": {
           "align": "left"
          },
          "hovermode": "closest",
          "mapbox": {
           "style": "light"
          },
          "paper_bgcolor": "white",
          "plot_bgcolor": "#E5ECF6",
          "polar": {
           "angularaxis": {
            "gridcolor": "white",
            "linecolor": "white",
            "ticks": ""
           },
           "bgcolor": "#E5ECF6",
           "radialaxis": {
            "gridcolor": "white",
            "linecolor": "white",
            "ticks": ""
           }
          },
          "scene": {
           "xaxis": {
            "backgroundcolor": "#E5ECF6",
            "gridcolor": "white",
            "gridwidth": 2,
            "linecolor": "white",
            "showbackground": true,
            "ticks": "",
            "zerolinecolor": "white"
           },
           "yaxis": {
            "backgroundcolor": "#E5ECF6",
            "gridcolor": "white",
            "gridwidth": 2,
            "linecolor": "white",
            "showbackground": true,
            "ticks": "",
            "zerolinecolor": "white"
           },
           "zaxis": {
            "backgroundcolor": "#E5ECF6",
            "gridcolor": "white",
            "gridwidth": 2,
            "linecolor": "white",
            "showbackground": true,
            "ticks": "",
            "zerolinecolor": "white"
           }
          },
          "shapedefaults": {
           "line": {
            "color": "#2a3f5f"
           }
          },
          "ternary": {
           "aaxis": {
            "gridcolor": "white",
            "linecolor": "white",
            "ticks": ""
           },
           "baxis": {
            "gridcolor": "white",
            "linecolor": "white",
            "ticks": ""
           },
           "bgcolor": "#E5ECF6",
           "caxis": {
            "gridcolor": "white",
            "linecolor": "white",
            "ticks": ""
           }
          },
          "title": {
           "x": 0.05
          },
          "xaxis": {
           "automargin": true,
           "gridcolor": "white",
           "linecolor": "white",
           "ticks": "",
           "title": {
            "standoff": 15
           },
           "zerolinecolor": "white",
           "zerolinewidth": 2
          },
          "yaxis": {
           "automargin": true,
           "gridcolor": "white",
           "linecolor": "white",
           "ticks": "",
           "title": {
            "standoff": 15
           },
           "zerolinecolor": "white",
           "zerolinewidth": 2
          }
         }
        },
        "title": {
         "text": "Budget expenditure-derived PCA loadings"
        },
        "width": 800,
        "yaxis": {
         "autorange": "reversed"
        }
       }
      }
     },
     "metadata": {},
     "output_type": "display_data"
    }
   ],
   "source": [
    "#define custom colorscale\n",
    "custom_colorscale = [\n",
    "    [0.0, '#8c510a'], #start color = brown\n",
    "    [0.5, '#ffffff'], #midpoint color = white\n",
    "    [1.0, '#01665e']  #end color = green\n",
    "]\n",
    "\n",
    "#create the heatmap\n",
    "fig = go.Figure(data=go.Heatmap(\n",
    "    z=loadings_df.values,\n",
    "    x=loadings_df.columns,\n",
    "    y=loadings_df.index,\n",
    "    colorscale=custom_colorscale,\n",
    "    zmid=0,\n",
    "    showscale=True,\n",
    "    hoverinfo='none' ) )\n",
    "\n",
    "#add annotations with the value of each loading\n",
    "annotations = []\n",
    "for i, row in enumerate(loadings_df.values):\n",
    "    for j, value in enumerate(row):\n",
    "        annotations.append(\n",
    "            go.layout.Annotation(\n",
    "                text=str(np.round(value, 2)),\n",
    "                x=loadings_df.columns[j],\n",
    "                y=loadings_df.index[i],\n",
    "                showarrow=False,\n",
    "                font=dict(color='black')\n",
    "            )\n",
    "        )\n",
    "\n",
    "#customize layout\n",
    "fig.update_layout(\n",
    "    title='Budget expenditure-derived PCA loadings',\n",
    "    annotations=annotations,\n",
    "    width=plot_size_shortwidth,\n",
    "    height=plot_size_shortheight,\n",
    "    yaxis=dict(autorange='reversed')\n",
    ")\n",
    "\n",
    "#show the figure\n",
    "fig.show()"
   ]
  },
  {
   "cell_type": "markdown",
   "metadata": {},
   "source": [
    "That's much better. Each row is a different item, and each column a different PC. Starting by the leftmost column, corresponding to PC 1, we can see that general public services and health are the most correlated to the PC. However, they are so in opposite directions, such that countries with a proportionally higher expenditure on general public services tend to spend less on health, and the other way round. Looking at smaller effects, a bigger expenditure on general public services seems to be accompanied by more money for economic affairs and defence, and more investment in health goes alongside more spending on social protection. An observation we have made upon looking at our previous PCA figures is that countries with lower PC 1 values tended to belong to what we call the \"First World\". A hypothesis we could make, then, is that perhaps developed countries can be characterized by higher spending on health and social protection, while less developed (and almost always poorer) countries have to dedicate a bigger share of their resources to running the bureaucratic part of the administration, which is what general public services encompasses. As for the negative relationship between economic affairs and those items associated with development, we could hypothesize that less developed countries may have to invest more money into their less mature and independent economic sector.\n",
    "\n",
    "The loadings of PC 2 tell another story, with general public services and health, along with economic affairs, going in the same direction. Although this seems to go against what we found for PC 1, it taps on a different part of the data variance. Investment on the aforementioned areas is negatively related to investment on education and defence. \n",
    "\n",
    "Finally, the main item driving PC 3 is social protection. Opposite to such item run health, economic affairs and education, all holding a moderately negative relationship with the PC."
   ]
  },
  {
   "cell_type": "markdown",
   "metadata": {},
   "source": [
    "## 5. Correlating budget-derived principal components with other datasets' measures\n",
    "\n",
    "So far we have made a few conjectures with regards to the relationship among items within our PCs. Particularly, we have hypothesized that the general public services - health trade-off within PC 1 may be related to development. In what follows we will mainly try to see whether lower values of PC 1 are indeed related to development, as measured by the Human Developed Index. We will then explore the data for an example country that does not adjust to our hypotheses. Finally, since general public services played a central role in PC 1, we will look for correlations between this PC and indicators of public sector size."
   ]
  },
  {
   "cell_type": "markdown",
   "metadata": {},
   "source": [
    "### 5.1. Correlation between budget-derived principal components and Human Development Indices\n",
    "Human Developed Index (HDI) is the most common measure of development. It calculated by taking into account life expectancy, education (mean years of schooling completed and expected years of schooling upon entering the education system) and per capita income. An alternative calculation, which also considers inequality, is the Inequality-adjusted HDI (IHDI). The present section will make use of a dataset from the [United Nations Reports website](https://hdr.undp.org/inequality-adjusted-human-development-index#/indicies/IHDI) containing the HDI and IHDI scores for multiple countries. After loading and processing the data, we will append it to our PCA dataset and try to correlate our different PCs to both HDI and IHDI.\n",
    "\n",
    "The first step is reading the .xlsx file, taking only the parts of the spreadsheet containing the relevant data."
   ]
  },
  {
   "cell_type": "code",
   "execution_count": 37,
   "metadata": {},
   "outputs": [
    {
     "data": {
      "text/html": [
       "<div>\n",
       "<style scoped>\n",
       "    .dataframe tbody tr th:only-of-type {\n",
       "        vertical-align: middle;\n",
       "    }\n",
       "\n",
       "    .dataframe tbody tr th {\n",
       "        vertical-align: top;\n",
       "    }\n",
       "\n",
       "    .dataframe thead th {\n",
       "        text-align: right;\n",
       "    }\n",
       "</style>\n",
       "<table border=\"1\" class=\"dataframe\">\n",
       "  <thead>\n",
       "    <tr style=\"text-align: right;\">\n",
       "      <th></th>\n",
       "      <th>country</th>\n",
       "      <th>HDI</th>\n",
       "      <th>IHDI</th>\n",
       "    </tr>\n",
       "  </thead>\n",
       "  <tbody>\n",
       "    <tr>\n",
       "      <th>0</th>\n",
       "      <td>Switzerland</td>\n",
       "      <td>0.97</td>\n",
       "      <td>0.89</td>\n",
       "    </tr>\n",
       "    <tr>\n",
       "      <th>1</th>\n",
       "      <td>Norway</td>\n",
       "      <td>0.97</td>\n",
       "      <td>0.90</td>\n",
       "    </tr>\n",
       "    <tr>\n",
       "      <th>2</th>\n",
       "      <td>Iceland</td>\n",
       "      <td>0.96</td>\n",
       "      <td>0.91</td>\n",
       "    </tr>\n",
       "    <tr>\n",
       "      <th>3</th>\n",
       "      <td>Hong Kong, China (SAR)</td>\n",
       "      <td>0.96</td>\n",
       "      <td>0.84</td>\n",
       "    </tr>\n",
       "    <tr>\n",
       "      <th>4</th>\n",
       "      <td>Denmark</td>\n",
       "      <td>0.95</td>\n",
       "      <td>0.90</td>\n",
       "    </tr>\n",
       "    <tr>\n",
       "      <th>...</th>\n",
       "      <td>...</td>\n",
       "      <td>...</td>\n",
       "      <td>...</td>\n",
       "    </tr>\n",
       "    <tr>\n",
       "      <th>194</th>\n",
       "      <td>South Sudan</td>\n",
       "      <td>0.38</td>\n",
       "      <td>0.22</td>\n",
       "    </tr>\n",
       "    <tr>\n",
       "      <th>195</th>\n",
       "      <td>Somalia</td>\n",
       "      <td>0.38</td>\n",
       "      <td>..</td>\n",
       "    </tr>\n",
       "    <tr>\n",
       "      <th>196</th>\n",
       "      <td>Other countries or territories</td>\n",
       "      <td>NaN</td>\n",
       "      <td>NaN</td>\n",
       "    </tr>\n",
       "    <tr>\n",
       "      <th>197</th>\n",
       "      <td>Korea (Democratic People's Rep. of)</td>\n",
       "      <td>..</td>\n",
       "      <td>..</td>\n",
       "    </tr>\n",
       "    <tr>\n",
       "      <th>198</th>\n",
       "      <td>Monaco</td>\n",
       "      <td>..</td>\n",
       "      <td>..</td>\n",
       "    </tr>\n",
       "  </tbody>\n",
       "</table>\n",
       "<p>199 rows × 3 columns</p>\n",
       "</div>"
      ],
      "text/plain": [
       "                                 country  HDI IHDI\n",
       "0                            Switzerland 0.97 0.89\n",
       "1                                 Norway 0.97 0.90\n",
       "2                                Iceland 0.96 0.91\n",
       "3                 Hong Kong, China (SAR) 0.96 0.84\n",
       "4                                Denmark 0.95 0.90\n",
       "..                                   ...  ...  ...\n",
       "194                          South Sudan 0.38 0.22\n",
       "195                              Somalia 0.38   ..\n",
       "196       Other countries or territories  NaN  NaN\n",
       "197  Korea (Democratic People's Rep. of)   ..   ..\n",
       "198                               Monaco   ..   ..\n",
       "\n",
       "[199 rows x 3 columns]"
      ]
     },
     "metadata": {},
     "output_type": "display_data"
    }
   ],
   "source": [
    "#read the relevant columns and rows from the Excel file\n",
    "hdi_df = pd.read_excel(\n",
    "    'HDR23-24_Statistical_Annex_I-HDI_Table.xlsx', \n",
    "    usecols=[1, 2, 4], \n",
    "    skiprows=5,  \n",
    "    nrows=200 \n",
    ")\n",
    "\n",
    "#rename the columns\n",
    "hdi_df.columns = ['country', 'HDI', 'IHDI']\n",
    "\n",
    "#display the DataFrame\n",
    "display(hdi_df)"
   ]
  },
  {
   "cell_type": "markdown",
   "metadata": {},
   "source": [
    "We now have a clean DataFrame with three columns, one labeling the country and one each for HDI and IHDI values. The next step is trying to match the country names in this DataFrame with those of our PCA DataFrame. we will initially obtain the names in the latter that do not appear on the former."
   ]
  },
  {
   "cell_type": "code",
   "execution_count": 38,
   "metadata": {},
   "outputs": [
    {
     "data": {
      "text/plain": [
       "{'Eswatini', 'Iran', 'Russia', 'South Korea', 'Tanzania'}"
      ]
     },
     "metadata": {},
     "output_type": "display_data"
    }
   ],
   "source": [
    "#extract the country names from both dataframes\n",
    "countries_pca = set(pca_df['country'])\n",
    "countries_hdi = set(hdi_df['country'])\n",
    "\n",
    "#display the country names that are not in df_hdi\n",
    "display(countries_pca - countries_hdi)"
   ]
  },
  {
   "cell_type": "markdown",
   "metadata": {},
   "source": [
    "Okay, not so many. The names for these countries probably differ across datasets. We can take a look at the different country names in the HDI dataset, identify their spelling, and change it."
   ]
  },
  {
   "cell_type": "code",
   "execution_count": 39,
   "metadata": {},
   "outputs": [
    {
     "data": {
      "text/plain": [
       "{'Afghanistan',\n",
       " 'Albania',\n",
       " 'Algeria',\n",
       " 'Andorra',\n",
       " 'Angola',\n",
       " 'Antigua and Barbuda',\n",
       " 'Argentina',\n",
       " 'Armenia',\n",
       " 'Australia',\n",
       " 'Austria',\n",
       " 'Azerbaijan',\n",
       " 'Bahamas',\n",
       " 'Bahrain',\n",
       " 'Bangladesh',\n",
       " 'Barbados',\n",
       " 'Belarus',\n",
       " 'Belgium',\n",
       " 'Belize',\n",
       " 'Benin',\n",
       " 'Bhutan',\n",
       " 'Bolivia (Plurinational State of)',\n",
       " 'Bosnia and Herzegovina',\n",
       " 'Botswana',\n",
       " 'Brazil',\n",
       " 'Brunei Darussalam',\n",
       " 'Bulgaria',\n",
       " 'Burkina Faso',\n",
       " 'Burundi',\n",
       " 'Cabo Verde',\n",
       " 'Cambodia',\n",
       " 'Cameroon',\n",
       " 'Canada',\n",
       " 'Central African Republic',\n",
       " 'Chad',\n",
       " 'Chile',\n",
       " 'China',\n",
       " 'Colombia',\n",
       " 'Comoros',\n",
       " 'Congo',\n",
       " 'Congo (Democratic Republic of the)',\n",
       " 'Costa Rica',\n",
       " 'Croatia',\n",
       " 'Cuba',\n",
       " 'Cyprus',\n",
       " 'Czechia',\n",
       " \"Côte d'Ivoire\",\n",
       " 'Denmark',\n",
       " 'Djibouti',\n",
       " 'Dominica',\n",
       " 'Dominican Republic',\n",
       " 'Ecuador',\n",
       " 'Egypt',\n",
       " 'El Salvador',\n",
       " 'Equatorial Guinea',\n",
       " 'Eritrea',\n",
       " 'Estonia',\n",
       " 'Eswatini (Kingdom of)',\n",
       " 'Ethiopia',\n",
       " 'Fiji',\n",
       " 'Finland',\n",
       " 'France',\n",
       " 'Gabon',\n",
       " 'Gambia',\n",
       " 'Georgia',\n",
       " 'Germany',\n",
       " 'Ghana',\n",
       " 'Greece',\n",
       " 'Grenada',\n",
       " 'Guatemala',\n",
       " 'Guinea',\n",
       " 'Guinea-Bissau',\n",
       " 'Guyana',\n",
       " 'Haiti',\n",
       " 'High human development',\n",
       " 'Honduras',\n",
       " 'Hong Kong, China (SAR)',\n",
       " 'Hungary',\n",
       " 'Iceland',\n",
       " 'India',\n",
       " 'Indonesia',\n",
       " 'Iran (Islamic Republic of)',\n",
       " 'Iraq',\n",
       " 'Ireland',\n",
       " 'Israel',\n",
       " 'Italy',\n",
       " 'Jamaica',\n",
       " 'Japan',\n",
       " 'Jordan',\n",
       " 'Kazakhstan',\n",
       " 'Kenya',\n",
       " 'Kiribati',\n",
       " \"Korea (Democratic People's Rep. of)\",\n",
       " 'Korea (Republic of)',\n",
       " 'Kuwait',\n",
       " 'Kyrgyzstan',\n",
       " \"Lao People's Democratic Republic\",\n",
       " 'Latvia',\n",
       " 'Lebanon',\n",
       " 'Lesotho',\n",
       " 'Liberia',\n",
       " 'Libya',\n",
       " 'Liechtenstein',\n",
       " 'Lithuania',\n",
       " 'Low human development',\n",
       " 'Luxembourg',\n",
       " 'Madagascar',\n",
       " 'Malawi',\n",
       " 'Malaysia',\n",
       " 'Maldives',\n",
       " 'Mali',\n",
       " 'Malta',\n",
       " 'Marshall Islands',\n",
       " 'Mauritania',\n",
       " 'Mauritius',\n",
       " 'Medium human development',\n",
       " 'Mexico',\n",
       " 'Micronesia (Federated States of)',\n",
       " 'Moldova (Republic of)',\n",
       " 'Monaco',\n",
       " 'Mongolia',\n",
       " 'Montenegro',\n",
       " 'Morocco',\n",
       " 'Mozambique',\n",
       " 'Myanmar',\n",
       " 'Namibia',\n",
       " 'Nauru',\n",
       " 'Nepal',\n",
       " 'Netherlands',\n",
       " 'New Zealand',\n",
       " 'Nicaragua',\n",
       " 'Niger',\n",
       " 'Nigeria',\n",
       " 'North Macedonia',\n",
       " 'Norway',\n",
       " 'Oman',\n",
       " 'Other countries or territories',\n",
       " 'Pakistan',\n",
       " 'Palau',\n",
       " 'Palestine, State of',\n",
       " 'Panama',\n",
       " 'Papua New Guinea',\n",
       " 'Paraguay',\n",
       " 'Peru',\n",
       " 'Philippines',\n",
       " 'Poland',\n",
       " 'Portugal',\n",
       " 'Qatar',\n",
       " 'Romania',\n",
       " 'Russian Federation',\n",
       " 'Rwanda',\n",
       " 'Saint Kitts and Nevis',\n",
       " 'Saint Lucia',\n",
       " 'Saint Vincent and the Grenadines',\n",
       " 'Samoa',\n",
       " 'San Marino',\n",
       " 'Sao Tome and Principe',\n",
       " 'Saudi Arabia',\n",
       " 'Senegal',\n",
       " 'Serbia',\n",
       " 'Seychelles',\n",
       " 'Sierra Leone',\n",
       " 'Singapore',\n",
       " 'Slovakia',\n",
       " 'Slovenia',\n",
       " 'Solomon Islands',\n",
       " 'Somalia',\n",
       " 'South Africa',\n",
       " 'South Sudan',\n",
       " 'Spain',\n",
       " 'Sri Lanka',\n",
       " 'Sudan',\n",
       " 'Suriname',\n",
       " 'Sweden',\n",
       " 'Switzerland',\n",
       " 'Syrian Arab Republic',\n",
       " 'Tajikistan',\n",
       " 'Tanzania (United Republic of)',\n",
       " 'Thailand',\n",
       " 'Timor-Leste',\n",
       " 'Togo',\n",
       " 'Tonga',\n",
       " 'Trinidad and Tobago',\n",
       " 'Tunisia',\n",
       " 'Turkmenistan',\n",
       " 'Tuvalu',\n",
       " 'Türkiye',\n",
       " 'Uganda',\n",
       " 'Ukraine',\n",
       " 'United Arab Emirates',\n",
       " 'United Kingdom',\n",
       " 'United States',\n",
       " 'Uruguay',\n",
       " 'Uzbekistan',\n",
       " 'Vanuatu',\n",
       " 'Venezuela (Bolivarian Republic of)',\n",
       " 'Viet Nam',\n",
       " 'Yemen',\n",
       " 'Zambia',\n",
       " 'Zimbabwe'}"
      ]
     },
     "metadata": {},
     "output_type": "display_data"
    }
   ],
   "source": [
    "#display the DataFrame\n",
    "display(countries_hdi)"
   ]
  },
  {
   "cell_type": "code",
   "execution_count": 40,
   "metadata": {},
   "outputs": [],
   "source": [
    "#replace countries that are written differently in hdi_df compared with pca_df\n",
    "hdi_df['country'] = hdi_df['country'].replace('Eswatini (Kingdom of)', 'Eswatini')\n",
    "hdi_df['country'] = hdi_df['country'].replace('Iran (Islamic Republic of)', 'Iran')\n",
    "hdi_df['country'] = hdi_df['country'].replace('Russian Federation', 'Russia')\n",
    "hdi_df['country'] = hdi_df['country'].replace('Korea (Republic of)', 'South Korea')\n",
    "hdi_df['country'] = hdi_df['country'].replace('Tanzania (United Republic of)', 'Tanzania')"
   ]
  },
  {
   "cell_type": "markdown",
   "metadata": {},
   "source": [
    "This should do it. To make sure, we will repeat the process above and see which country names differ between datasets."
   ]
  },
  {
   "cell_type": "code",
   "execution_count": 41,
   "metadata": {},
   "outputs": [
    {
     "data": {
      "text/plain": [
       "set()"
      ]
     },
     "metadata": {},
     "output_type": "display_data"
    }
   ],
   "source": [
    "#extract unique country names from hdi_df\n",
    "countries_hdi = set(hdi_df['country'])\n",
    "\n",
    "#print the countries that are not in countries_pca\n",
    "display(countries_pca - countries_hdi)"
   ]
  },
  {
   "cell_type": "markdown",
   "metadata": {},
   "source": [
    "An empty set means that no names differ. Good. Time to merge both DataFrames."
   ]
  },
  {
   "cell_type": "code",
   "execution_count": 42,
   "metadata": {},
   "outputs": [
    {
     "data": {
      "text/html": [
       "<div>\n",
       "<style scoped>\n",
       "    .dataframe tbody tr th:only-of-type {\n",
       "        vertical-align: middle;\n",
       "    }\n",
       "\n",
       "    .dataframe tbody tr th {\n",
       "        vertical-align: top;\n",
       "    }\n",
       "\n",
       "    .dataframe thead th {\n",
       "        text-align: right;\n",
       "    }\n",
       "</style>\n",
       "<table border=\"1\" class=\"dataframe\">\n",
       "  <thead>\n",
       "    <tr style=\"text-align: right;\">\n",
       "      <th></th>\n",
       "      <th>PC1</th>\n",
       "      <th>PC2</th>\n",
       "      <th>PC3</th>\n",
       "      <th>cluster</th>\n",
       "      <th>country</th>\n",
       "      <th>HDI</th>\n",
       "      <th>IHDI</th>\n",
       "    </tr>\n",
       "  </thead>\n",
       "  <tbody>\n",
       "    <tr>\n",
       "      <th>0</th>\n",
       "      <td>-11.57</td>\n",
       "      <td>0.50</td>\n",
       "      <td>5.56</td>\n",
       "      <td>1</td>\n",
       "      <td>Australia</td>\n",
       "      <td>0.95</td>\n",
       "      <td>0.86</td>\n",
       "    </tr>\n",
       "    <tr>\n",
       "      <th>1</th>\n",
       "      <td>-12.84</td>\n",
       "      <td>5.82</td>\n",
       "      <td>-5.00</td>\n",
       "      <td>1</td>\n",
       "      <td>Austria</td>\n",
       "      <td>0.93</td>\n",
       "      <td>0.86</td>\n",
       "    </tr>\n",
       "    <tr>\n",
       "      <th>2</th>\n",
       "      <td>14.32</td>\n",
       "      <td>-4.48</td>\n",
       "      <td>-2.90</td>\n",
       "      <td>0</td>\n",
       "      <td>Bangladesh</td>\n",
       "      <td>0.67</td>\n",
       "      <td>0.47</td>\n",
       "    </tr>\n",
       "    <tr>\n",
       "      <th>3</th>\n",
       "      <td>-8.16</td>\n",
       "      <td>1.56</td>\n",
       "      <td>-2.16</td>\n",
       "      <td>1</td>\n",
       "      <td>Belgium</td>\n",
       "      <td>0.94</td>\n",
       "      <td>0.88</td>\n",
       "    </tr>\n",
       "    <tr>\n",
       "      <th>4</th>\n",
       "      <td>-4.28</td>\n",
       "      <td>0.50</td>\n",
       "      <td>-4.72</td>\n",
       "      <td>1</td>\n",
       "      <td>Bulgaria</td>\n",
       "      <td>0.80</td>\n",
       "      <td>0.70</td>\n",
       "    </tr>\n",
       "    <tr>\n",
       "      <th>...</th>\n",
       "      <td>...</td>\n",
       "      <td>...</td>\n",
       "      <td>...</td>\n",
       "      <td>...</td>\n",
       "      <td>...</td>\n",
       "      <td>...</td>\n",
       "      <td>...</td>\n",
       "    </tr>\n",
       "    <tr>\n",
       "      <th>50</th>\n",
       "      <td>3.18</td>\n",
       "      <td>-4.89</td>\n",
       "      <td>-7.79</td>\n",
       "      <td>0</td>\n",
       "      <td>Thailand</td>\n",
       "      <td>0.80</td>\n",
       "      <td>0.68</td>\n",
       "    </tr>\n",
       "    <tr>\n",
       "      <th>51</th>\n",
       "      <td>1.23</td>\n",
       "      <td>-12.56</td>\n",
       "      <td>-2.00</td>\n",
       "      <td>0</td>\n",
       "      <td>Ukraine</td>\n",
       "      <td>0.73</td>\n",
       "      <td>0.68</td>\n",
       "    </tr>\n",
       "    <tr>\n",
       "      <th>52</th>\n",
       "      <td>-19.50</td>\n",
       "      <td>3.15</td>\n",
       "      <td>-2.58</td>\n",
       "      <td>1</td>\n",
       "      <td>United Kingdom</td>\n",
       "      <td>0.94</td>\n",
       "      <td>0.86</td>\n",
       "    </tr>\n",
       "    <tr>\n",
       "      <th>53</th>\n",
       "      <td>20.71</td>\n",
       "      <td>-19.27</td>\n",
       "      <td>-0.36</td>\n",
       "      <td>0</td>\n",
       "      <td>Yemen</td>\n",
       "      <td>0.42</td>\n",
       "      <td>0.28</td>\n",
       "    </tr>\n",
       "    <tr>\n",
       "      <th>54</th>\n",
       "      <td>48.43</td>\n",
       "      <td>27.48</td>\n",
       "      <td>1.56</td>\n",
       "      <td>0</td>\n",
       "      <td>Zambia</td>\n",
       "      <td>0.57</td>\n",
       "      <td>0.34</td>\n",
       "    </tr>\n",
       "  </tbody>\n",
       "</table>\n",
       "<p>55 rows × 7 columns</p>\n",
       "</div>"
      ],
      "text/plain": [
       "      PC1    PC2   PC3  cluster         country  HDI IHDI\n",
       "0  -11.57   0.50  5.56        1       Australia 0.95 0.86\n",
       "1  -12.84   5.82 -5.00        1         Austria 0.93 0.86\n",
       "2   14.32  -4.48 -2.90        0      Bangladesh 0.67 0.47\n",
       "3   -8.16   1.56 -2.16        1         Belgium 0.94 0.88\n",
       "4   -4.28   0.50 -4.72        1        Bulgaria 0.80 0.70\n",
       "..    ...    ...   ...      ...             ...  ...  ...\n",
       "50   3.18  -4.89 -7.79        0        Thailand 0.80 0.68\n",
       "51   1.23 -12.56 -2.00        0         Ukraine 0.73 0.68\n",
       "52 -19.50   3.15 -2.58        1  United Kingdom 0.94 0.86\n",
       "53  20.71 -19.27 -0.36        0           Yemen 0.42 0.28\n",
       "54  48.43  27.48  1.56        0          Zambia 0.57 0.34\n",
       "\n",
       "[55 rows x 7 columns]"
      ]
     },
     "metadata": {},
     "output_type": "display_data"
    }
   ],
   "source": [
    "#merge both DataFrames\n",
    "pca_df = pd.merge(pca_df, hdi_df, how='left', on='country')\n",
    "\n",
    "#display the merged DataFrame\n",
    "display(pca_df)"
   ]
  },
  {
   "cell_type": "markdown",
   "metadata": {},
   "source": [
    "We now have a DataFrame where, for each country, we have the PC values derived from our analyses, on one hand, and the HDI and IHDI we just obtained, on the other. Even if our hypothesis linked HDI only to PC 1, we may as well run correlations between each PC and each version of the HDI.  "
   ]
  },
  {
   "cell_type": "code",
   "execution_count": 43,
   "metadata": {},
   "outputs": [
    {
     "name": "stdout",
     "output_type": "stream",
     "text": [
      "Correlation between PC1 and HDI, r: -0.83, p-value: 2.89e-15\n",
      "Correlation between PC2 and HDI, r: 0.18, p-value: 1.89e-01\n",
      "Correlation between PC3 and HDI, r: 0.14, p-value: 3.23e-01\n",
      "Correlation between PC1 and IHDI, r: -0.83, p-value: 7.22e-15\n",
      "Correlation between PC2 and IHDI, r: 0.19, p-value: 1.67e-01\n",
      "Correlation between PC3 and IHDI, r: 0.09, p-value: 5.13e-01\n"
     ]
    }
   ],
   "source": [
    "#calculate the correlations with p-values\n",
    "corr_pc1_hdi, pvalue_pc1_hdi = stats.pearsonr(pca_df['PC1'], pca_df['HDI'])\n",
    "corr_pc2_hdi, pvalue_pc2_hdi = stats.pearsonr(pca_df['PC2'], pca_df['HDI'])\n",
    "corr_pc3_hdi, pvalue_pc3_hdi = stats.pearsonr(pca_df['PC3'], pca_df['HDI'])\n",
    "\n",
    "corr_pc1_ihdi, pvalue_pc1_ihdi = stats.pearsonr(pca_df['PC1'], pca_df['IHDI'])\n",
    "corr_pc2_ihdi, pvalue_pc2_ihdi = stats.pearsonr(pca_df['PC2'], pca_df['IHDI'])\n",
    "corr_pc3_ihdi, pvalue_pc3_ihdi = stats.pearsonr(pca_df['PC3'], pca_df['IHDI'])\n",
    "\n",
    "#print the results\n",
    "print(f\"Correlation between PC1 and HDI, r: {corr_pc1_hdi:.2f}, p-value: {pvalue_pc1_hdi:.2e}\")\n",
    "print(f\"Correlation between PC2 and HDI, r: {corr_pc2_hdi:.2f}, p-value: {pvalue_pc2_hdi:.2e}\")\n",
    "print(f\"Correlation between PC3 and HDI, r: {corr_pc3_hdi:.2f}, p-value: {pvalue_pc3_hdi:.2e}\")\n",
    "\n",
    "print(f\"Correlation between PC1 and IHDI, r: {corr_pc1_ihdi:.2f}, p-value: {pvalue_pc1_ihdi:.2e}\")\n",
    "print(f\"Correlation between PC2 and IHDI, r: {corr_pc2_ihdi:.2f}, p-value: {pvalue_pc2_ihdi:.2e}\")\n",
    "print(f\"Correlation between PC3 and IHDI, r: {corr_pc3_ihdi:.2f}, p-value: {pvalue_pc3_ihdi:.2e}\")"
   ]
  },
  {
   "cell_type": "markdown",
   "metadata": {},
   "source": [
    "The correlation between PC1 and either HDI or IHDI is very high. The *r* (correlation coefficient) is approximately -0.83 for both, which translates into an *r<sup>2</sup>* of -0.699. This means that around a whopping 70% of the variation in the data can be explained by the correlation, indeed establishing a relationship between PC1 and HDI. Its direction is as expected: countries with lower PC1 values, investing more on health and social protection and less on general public services and economic affairs, are generally more developed.\n",
    "\n",
    "Correlations involving other PCs yield lower coefficients and, although consistently positive, their *p-values* are not lower than 0.05, the usually accepted threshold for statistical significance.\n",
    "\n",
    "We can next visualize the correlation between PC 1 and HDI (or IHDI) in order to appreciate the position of each country in such relationship. Since this is not the last correlation figure we will compose, we can define a function to automatize their creation."
   ]
  },
  {
   "cell_type": "code",
   "execution_count": 44,
   "metadata": {},
   "outputs": [
    {
     "data": {
      "application/vnd.plotly.v1+json": {
       "config": {
        "plotlyServerURL": "https://plot.ly"
       },
       "data": [
        {
         "hoverinfo": "text",
         "marker": {
          "color": "black",
          "line": {
           "color": "white",
           "width": 1
          },
          "size": 10
         },
         "mode": "markers",
         "name": "Data points",
         "showlegend": false,
         "text": [
          "Australia<br>Principal Component 1: -11.57<br>Human Development Index: 0.95",
          "Austria<br>Principal Component 1: -12.84<br>Human Development Index: 0.93",
          "Bangladesh<br>Principal Component 1: 14.32<br>Human Development Index: 0.67",
          "Belgium<br>Principal Component 1: -8.16<br>Human Development Index: 0.94",
          "Bulgaria<br>Principal Component 1: -4.28<br>Human Development Index: 0.80",
          "Chile<br>Principal Component 1: -1.73<br>Human Development Index: 0.86",
          "Croatia<br>Principal Component 1: -5.42<br>Human Development Index: 0.88",
          "Cyprus<br>Principal Component 1: -4.96<br>Human Development Index: 0.91",
          "Czechia<br>Principal Component 1: -8.42<br>Human Development Index: 0.90",
          "Denmark<br>Principal Component 1: -15.01<br>Human Development Index: 0.95",
          "Estonia<br>Principal Component 1: -4.27<br>Human Development Index: 0.90",
          "Eswatini<br>Principal Component 1: 6.44<br>Human Development Index: 0.61",
          "Fiji<br>Principal Component 1: 7.73<br>Human Development Index: 0.73",
          "Finland<br>Principal Component 1: -5.78<br>Human Development Index: 0.94",
          "France<br>Principal Component 1: -12.13<br>Human Development Index: 0.91",
          "Germany<br>Principal Component 1: -14.11<br>Human Development Index: 0.95",
          "Greece<br>Principal Component 1: 1.61<br>Human Development Index: 0.89",
          "Guatemala<br>Principal Component 1: 13.60<br>Human Development Index: 0.63",
          "Hungary<br>Principal Component 1: 3.93<br>Human Development Index: 0.85",
          "Iceland<br>Principal Component 1: -4.40<br>Human Development Index: 0.96",
          "India<br>Principal Component 1: 11.82<br>Human Development Index: 0.64",
          "Iran<br>Principal Component 1: 3.26<br>Human Development Index: 0.78",
          "Ireland<br>Principal Component 1: -17.16<br>Human Development Index: 0.95",
          "Israel<br>Principal Component 1: -2.43<br>Human Development Index: 0.92",
          "Italy<br>Principal Component 1: -9.22<br>Human Development Index: 0.91",
          "Japan<br>Principal Component 1: -14.73<br>Human Development Index: 0.92",
          "Kazakhstan<br>Principal Component 1: 4.30<br>Human Development Index: 0.80",
          "Kyrgyzstan<br>Principal Component 1: 13.29<br>Human Development Index: 0.70",
          "Latvia<br>Principal Component 1: -3.71<br>Human Development Index: 0.88",
          "Lithuania<br>Principal Component 1: -10.56<br>Human Development Index: 0.88",
          "Luxembourg<br>Principal Component 1: 0.95<br>Human Development Index: 0.93",
          "Malaysia<br>Principal Component 1: 7.67<br>Human Development Index: 0.81",
          "Malta<br>Principal Component 1: -13.31<br>Human Development Index: 0.92",
          "Mongolia<br>Principal Component 1: 14.18<br>Human Development Index: 0.74",
          "Netherlands<br>Principal Component 1: -11.99<br>Human Development Index: 0.95",
          "Norway<br>Principal Component 1: -9.87<br>Human Development Index: 0.97",
          "Poland<br>Principal Component 1: -3.69<br>Human Development Index: 0.88",
          "Portugal<br>Principal Component 1: -7.31<br>Human Development Index: 0.87",
          "Romania<br>Principal Component 1: -3.49<br>Human Development Index: 0.83",
          "Russia<br>Principal Component 1: 7.24<br>Human Development Index: 0.82",
          "Senegal<br>Principal Component 1: 24.93<br>Human Development Index: 0.52",
          "Seychelles<br>Principal Component 1: 12.92<br>Human Development Index: 0.80",
          "Slovakia<br>Principal Component 1: -2.91<br>Human Development Index: 0.85",
          "Slovenia<br>Principal Component 1: -8.89<br>Human Development Index: 0.93",
          "South Korea<br>Principal Component 1: -1.34<br>Human Development Index: 0.93",
          "Spain<br>Principal Component 1: -8.68<br>Human Development Index: 0.91",
          "Sri Lanka<br>Principal Component 1: 3.03<br>Human Development Index: 0.78",
          "Sweden<br>Principal Component 1: -9.10<br>Human Development Index: 0.95",
          "Switzerland<br>Principal Component 1: 12.25<br>Human Development Index: 0.97",
          "Tanzania<br>Principal Component 1: 33.96<br>Human Development Index: 0.53",
          "Thailand<br>Principal Component 1: 3.18<br>Human Development Index: 0.80",
          "Ukraine<br>Principal Component 1: 1.23<br>Human Development Index: 0.73",
          "United Kingdom<br>Principal Component 1: -19.50<br>Human Development Index: 0.94",
          "Yemen<br>Principal Component 1: 20.71<br>Human Development Index: 0.42",
          "Zambia<br>Principal Component 1: 48.43<br>Human Development Index: 0.57"
         ],
         "type": "scatter",
         "x": [
          -11.569646910232205,
          -12.844238645222685,
          14.321209636115803,
          -8.157404798131102,
          -4.282815735095787,
          -1.7330907708010193,
          -5.421000405111104,
          -4.956226865338433,
          -8.419667892933242,
          -15.011988148894389,
          -4.2690931164058465,
          6.4392868464956265,
          7.732910995397196,
          -5.781596600184225,
          -12.130498959726014,
          -14.108425168611276,
          1.6064612464459453,
          13.596001113909429,
          3.933995381934191,
          -4.404063391266083,
          11.823025644199385,
          3.2641184761130693,
          -17.16208409696013,
          -2.434481890597933,
          -9.215893312935133,
          -14.733906790288412,
          4.299835013911144,
          13.29223201362835,
          -3.7135837688793636,
          -10.556791967499601,
          0.9510177876150534,
          7.666968421772239,
          -13.30641326474004,
          14.18272988263877,
          -11.994014020120733,
          -9.86784573479455,
          -3.6867807197264093,
          -7.31267973015336,
          -3.488016171000982,
          7.24351385145833,
          24.928923542704386,
          12.922533510255931,
          -2.9075476857425504,
          -8.893357266139152,
          -1.3394796409434198,
          -8.684835313418935,
          3.0270810754813553,
          -9.102804981977256,
          12.247428845748747,
          33.96132236033098,
          3.1808286071358225,
          1.225187898635229,
          -19.496234818974877,
          20.709567513280255,
          48.43032891763891
         ],
         "y": [
          0.946,
          0.926,
          0.67,
          0.942,
          0.799,
          0.86,
          0.878,
          0.907,
          0.895,
          0.952,
          0.899,
          0.61,
          0.729,
          0.942,
          0.91,
          0.95,
          0.893,
          0.629,
          0.851,
          0.959,
          0.644,
          0.78,
          0.95,
          0.915,
          0.906,
          0.92,
          0.802,
          0.701,
          0.879,
          0.879,
          0.927,
          0.807,
          0.915,
          0.741,
          0.946,
          0.966,
          0.881,
          0.874,
          0.827,
          0.821,
          0.517,
          0.802,
          0.855,
          0.926,
          0.929,
          0.911,
          0.78,
          0.952,
          0.967,
          0.532,
          0.803,
          0.734,
          0.94,
          0.424,
          0.569
         ]
        },
        {
         "hoverinfo": "none",
         "line": {
          "color": "red"
         },
         "mode": "lines",
         "showlegend": false,
         "type": "scatter",
         "x": [
          -11.569646910232205,
          -12.844238645222685,
          14.321209636115803,
          -8.157404798131102,
          -4.282815735095787,
          -1.7330907708010193,
          -5.421000405111104,
          -4.956226865338433,
          -8.419667892933242,
          -15.011988148894389,
          -4.2690931164058465,
          6.4392868464956265,
          7.732910995397196,
          -5.781596600184225,
          -12.130498959726014,
          -14.108425168611276,
          1.6064612464459453,
          13.596001113909429,
          3.933995381934191,
          -4.404063391266083,
          11.823025644199385,
          3.2641184761130693,
          -17.16208409696013,
          -2.434481890597933,
          -9.215893312935133,
          -14.733906790288412,
          4.299835013911144,
          13.29223201362835,
          -3.7135837688793636,
          -10.556791967499601,
          0.9510177876150534,
          7.666968421772239,
          -13.30641326474004,
          14.18272988263877,
          -11.994014020120733,
          -9.86784573479455,
          -3.6867807197264093,
          -7.31267973015336,
          -3.488016171000982,
          7.24351385145833,
          24.928923542704386,
          12.922533510255931,
          -2.9075476857425504,
          -8.893357266139152,
          -1.3394796409434198,
          -8.684835313418935,
          3.0270810754813553,
          -9.102804981977256,
          12.247428845748747,
          33.96132236033098,
          3.1808286071358225,
          1.225187898635229,
          -19.496234818974877,
          20.709567513280255,
          48.43032891763891
         ],
         "y": [
          0.9305408899514994,
          0.9411785002235245,
          0.7144584896125274,
          0.9020626715966674,
          0.869725753597487,
          0.8484460137981205,
          0.879224924669161,
          0.8753459729663335,
          0.9042514921535975,
          0.9592703124912444,
          0.8696112260467994,
          0.7802401987892293,
          0.7694437459669476,
          0.8822344230704602,
          0.9352217029200741,
          0.9517292696799532,
          0.8205744594271096,
          0.7205110046362815,
          0.8011491012136079,
          0.8707376739460414,
          0.7353080738082206,
          0.8067398243124113,
          0.9772147900169474,
          0.8542997512544632,
          0.9108967068322591,
          0.956949474347109,
          0.7980958416323657,
          0.723046230005131,
          0.8649750027140803,
          0.922087707770019,
          0.8260447224760404,
          0.7699940958392241,
          0.9450357616077619,
          0.715614227255896,
          0.9340826137861463,
          0.9163378340491206,
          0.8647513072489649,
          0.8950126838919973,
          0.8630924389641711,
          0.7735282037133355,
          0.6259276108082081,
          0.726131695326351,
          0.8582479092595924,
          0.9082048544764765,
          0.8451609761792409,
          0.9064645519111096,
          0.8087181138451242,
          0.9099528833646978,
          0.7317660487563199,
          0.550544148162321,
          0.8074349529104283,
          0.8237565271981288,
          0.996695369574561,
          0.6611419181097286,
          0.4297873218353672
         ]
        }
       ],
       "layout": {
        "font": {
         "size": 12
        },
        "height": 500,
        "margin": {
         "b": 40,
         "l": 40,
         "r": 40,
         "t": 40
        },
        "paper_bgcolor": "white",
        "plot_bgcolor": "white",
        "template": {
         "data": {
          "bar": [
           {
            "error_x": {
             "color": "#2a3f5f"
            },
            "error_y": {
             "color": "#2a3f5f"
            },
            "marker": {
             "line": {
              "color": "#E5ECF6",
              "width": 0.5
             },
             "pattern": {
              "fillmode": "overlay",
              "size": 10,
              "solidity": 0.2
             }
            },
            "type": "bar"
           }
          ],
          "barpolar": [
           {
            "marker": {
             "line": {
              "color": "#E5ECF6",
              "width": 0.5
             },
             "pattern": {
              "fillmode": "overlay",
              "size": 10,
              "solidity": 0.2
             }
            },
            "type": "barpolar"
           }
          ],
          "carpet": [
           {
            "aaxis": {
             "endlinecolor": "#2a3f5f",
             "gridcolor": "white",
             "linecolor": "white",
             "minorgridcolor": "white",
             "startlinecolor": "#2a3f5f"
            },
            "baxis": {
             "endlinecolor": "#2a3f5f",
             "gridcolor": "white",
             "linecolor": "white",
             "minorgridcolor": "white",
             "startlinecolor": "#2a3f5f"
            },
            "type": "carpet"
           }
          ],
          "choropleth": [
           {
            "colorbar": {
             "outlinewidth": 0,
             "ticks": ""
            },
            "type": "choropleth"
           }
          ],
          "contour": [
           {
            "colorbar": {
             "outlinewidth": 0,
             "ticks": ""
            },
            "colorscale": [
             [
              0,
              "#0d0887"
             ],
             [
              0.1111111111111111,
              "#46039f"
             ],
             [
              0.2222222222222222,
              "#7201a8"
             ],
             [
              0.3333333333333333,
              "#9c179e"
             ],
             [
              0.4444444444444444,
              "#bd3786"
             ],
             [
              0.5555555555555556,
              "#d8576b"
             ],
             [
              0.6666666666666666,
              "#ed7953"
             ],
             [
              0.7777777777777778,
              "#fb9f3a"
             ],
             [
              0.8888888888888888,
              "#fdca26"
             ],
             [
              1,
              "#f0f921"
             ]
            ],
            "type": "contour"
           }
          ],
          "contourcarpet": [
           {
            "colorbar": {
             "outlinewidth": 0,
             "ticks": ""
            },
            "type": "contourcarpet"
           }
          ],
          "heatmap": [
           {
            "colorbar": {
             "outlinewidth": 0,
             "ticks": ""
            },
            "colorscale": [
             [
              0,
              "#0d0887"
             ],
             [
              0.1111111111111111,
              "#46039f"
             ],
             [
              0.2222222222222222,
              "#7201a8"
             ],
             [
              0.3333333333333333,
              "#9c179e"
             ],
             [
              0.4444444444444444,
              "#bd3786"
             ],
             [
              0.5555555555555556,
              "#d8576b"
             ],
             [
              0.6666666666666666,
              "#ed7953"
             ],
             [
              0.7777777777777778,
              "#fb9f3a"
             ],
             [
              0.8888888888888888,
              "#fdca26"
             ],
             [
              1,
              "#f0f921"
             ]
            ],
            "type": "heatmap"
           }
          ],
          "heatmapgl": [
           {
            "colorbar": {
             "outlinewidth": 0,
             "ticks": ""
            },
            "colorscale": [
             [
              0,
              "#0d0887"
             ],
             [
              0.1111111111111111,
              "#46039f"
             ],
             [
              0.2222222222222222,
              "#7201a8"
             ],
             [
              0.3333333333333333,
              "#9c179e"
             ],
             [
              0.4444444444444444,
              "#bd3786"
             ],
             [
              0.5555555555555556,
              "#d8576b"
             ],
             [
              0.6666666666666666,
              "#ed7953"
             ],
             [
              0.7777777777777778,
              "#fb9f3a"
             ],
             [
              0.8888888888888888,
              "#fdca26"
             ],
             [
              1,
              "#f0f921"
             ]
            ],
            "type": "heatmapgl"
           }
          ],
          "histogram": [
           {
            "marker": {
             "pattern": {
              "fillmode": "overlay",
              "size": 10,
              "solidity": 0.2
             }
            },
            "type": "histogram"
           }
          ],
          "histogram2d": [
           {
            "colorbar": {
             "outlinewidth": 0,
             "ticks": ""
            },
            "colorscale": [
             [
              0,
              "#0d0887"
             ],
             [
              0.1111111111111111,
              "#46039f"
             ],
             [
              0.2222222222222222,
              "#7201a8"
             ],
             [
              0.3333333333333333,
              "#9c179e"
             ],
             [
              0.4444444444444444,
              "#bd3786"
             ],
             [
              0.5555555555555556,
              "#d8576b"
             ],
             [
              0.6666666666666666,
              "#ed7953"
             ],
             [
              0.7777777777777778,
              "#fb9f3a"
             ],
             [
              0.8888888888888888,
              "#fdca26"
             ],
             [
              1,
              "#f0f921"
             ]
            ],
            "type": "histogram2d"
           }
          ],
          "histogram2dcontour": [
           {
            "colorbar": {
             "outlinewidth": 0,
             "ticks": ""
            },
            "colorscale": [
             [
              0,
              "#0d0887"
             ],
             [
              0.1111111111111111,
              "#46039f"
             ],
             [
              0.2222222222222222,
              "#7201a8"
             ],
             [
              0.3333333333333333,
              "#9c179e"
             ],
             [
              0.4444444444444444,
              "#bd3786"
             ],
             [
              0.5555555555555556,
              "#d8576b"
             ],
             [
              0.6666666666666666,
              "#ed7953"
             ],
             [
              0.7777777777777778,
              "#fb9f3a"
             ],
             [
              0.8888888888888888,
              "#fdca26"
             ],
             [
              1,
              "#f0f921"
             ]
            ],
            "type": "histogram2dcontour"
           }
          ],
          "mesh3d": [
           {
            "colorbar": {
             "outlinewidth": 0,
             "ticks": ""
            },
            "type": "mesh3d"
           }
          ],
          "parcoords": [
           {
            "line": {
             "colorbar": {
              "outlinewidth": 0,
              "ticks": ""
             }
            },
            "type": "parcoords"
           }
          ],
          "pie": [
           {
            "automargin": true,
            "type": "pie"
           }
          ],
          "scatter": [
           {
            "fillpattern": {
             "fillmode": "overlay",
             "size": 10,
             "solidity": 0.2
            },
            "type": "scatter"
           }
          ],
          "scatter3d": [
           {
            "line": {
             "colorbar": {
              "outlinewidth": 0,
              "ticks": ""
             }
            },
            "marker": {
             "colorbar": {
              "outlinewidth": 0,
              "ticks": ""
             }
            },
            "type": "scatter3d"
           }
          ],
          "scattercarpet": [
           {
            "marker": {
             "colorbar": {
              "outlinewidth": 0,
              "ticks": ""
             }
            },
            "type": "scattercarpet"
           }
          ],
          "scattergeo": [
           {
            "marker": {
             "colorbar": {
              "outlinewidth": 0,
              "ticks": ""
             }
            },
            "type": "scattergeo"
           }
          ],
          "scattergl": [
           {
            "marker": {
             "colorbar": {
              "outlinewidth": 0,
              "ticks": ""
             }
            },
            "type": "scattergl"
           }
          ],
          "scattermapbox": [
           {
            "marker": {
             "colorbar": {
              "outlinewidth": 0,
              "ticks": ""
             }
            },
            "type": "scattermapbox"
           }
          ],
          "scatterpolar": [
           {
            "marker": {
             "colorbar": {
              "outlinewidth": 0,
              "ticks": ""
             }
            },
            "type": "scatterpolar"
           }
          ],
          "scatterpolargl": [
           {
            "marker": {
             "colorbar": {
              "outlinewidth": 0,
              "ticks": ""
             }
            },
            "type": "scatterpolargl"
           }
          ],
          "scatterternary": [
           {
            "marker": {
             "colorbar": {
              "outlinewidth": 0,
              "ticks": ""
             }
            },
            "type": "scatterternary"
           }
          ],
          "surface": [
           {
            "colorbar": {
             "outlinewidth": 0,
             "ticks": ""
            },
            "colorscale": [
             [
              0,
              "#0d0887"
             ],
             [
              0.1111111111111111,
              "#46039f"
             ],
             [
              0.2222222222222222,
              "#7201a8"
             ],
             [
              0.3333333333333333,
              "#9c179e"
             ],
             [
              0.4444444444444444,
              "#bd3786"
             ],
             [
              0.5555555555555556,
              "#d8576b"
             ],
             [
              0.6666666666666666,
              "#ed7953"
             ],
             [
              0.7777777777777778,
              "#fb9f3a"
             ],
             [
              0.8888888888888888,
              "#fdca26"
             ],
             [
              1,
              "#f0f921"
             ]
            ],
            "type": "surface"
           }
          ],
          "table": [
           {
            "cells": {
             "fill": {
              "color": "#EBF0F8"
             },
             "line": {
              "color": "white"
             }
            },
            "header": {
             "fill": {
              "color": "#C8D4E3"
             },
             "line": {
              "color": "white"
             }
            },
            "type": "table"
           }
          ]
         },
         "layout": {
          "annotationdefaults": {
           "arrowcolor": "#2a3f5f",
           "arrowhead": 0,
           "arrowwidth": 1
          },
          "autotypenumbers": "strict",
          "coloraxis": {
           "colorbar": {
            "outlinewidth": 0,
            "ticks": ""
           }
          },
          "colorscale": {
           "diverging": [
            [
             0,
             "#8e0152"
            ],
            [
             0.1,
             "#c51b7d"
            ],
            [
             0.2,
             "#de77ae"
            ],
            [
             0.3,
             "#f1b6da"
            ],
            [
             0.4,
             "#fde0ef"
            ],
            [
             0.5,
             "#f7f7f7"
            ],
            [
             0.6,
             "#e6f5d0"
            ],
            [
             0.7,
             "#b8e186"
            ],
            [
             0.8,
             "#7fbc41"
            ],
            [
             0.9,
             "#4d9221"
            ],
            [
             1,
             "#276419"
            ]
           ],
           "sequential": [
            [
             0,
             "#0d0887"
            ],
            [
             0.1111111111111111,
             "#46039f"
            ],
            [
             0.2222222222222222,
             "#7201a8"
            ],
            [
             0.3333333333333333,
             "#9c179e"
            ],
            [
             0.4444444444444444,
             "#bd3786"
            ],
            [
             0.5555555555555556,
             "#d8576b"
            ],
            [
             0.6666666666666666,
             "#ed7953"
            ],
            [
             0.7777777777777778,
             "#fb9f3a"
            ],
            [
             0.8888888888888888,
             "#fdca26"
            ],
            [
             1,
             "#f0f921"
            ]
           ],
           "sequentialminus": [
            [
             0,
             "#0d0887"
            ],
            [
             0.1111111111111111,
             "#46039f"
            ],
            [
             0.2222222222222222,
             "#7201a8"
            ],
            [
             0.3333333333333333,
             "#9c179e"
            ],
            [
             0.4444444444444444,
             "#bd3786"
            ],
            [
             0.5555555555555556,
             "#d8576b"
            ],
            [
             0.6666666666666666,
             "#ed7953"
            ],
            [
             0.7777777777777778,
             "#fb9f3a"
            ],
            [
             0.8888888888888888,
             "#fdca26"
            ],
            [
             1,
             "#f0f921"
            ]
           ]
          },
          "colorway": [
           "#636efa",
           "#EF553B",
           "#00cc96",
           "#ab63fa",
           "#FFA15A",
           "#19d3f3",
           "#FF6692",
           "#B6E880",
           "#FF97FF",
           "#FECB52"
          ],
          "font": {
           "color": "#2a3f5f"
          },
          "geo": {
           "bgcolor": "white",
           "lakecolor": "white",
           "landcolor": "#E5ECF6",
           "showlakes": true,
           "showland": true,
           "subunitcolor": "white"
          },
          "hoverlabel": {
           "align": "left"
          },
          "hovermode": "closest",
          "mapbox": {
           "style": "light"
          },
          "paper_bgcolor": "white",
          "plot_bgcolor": "#E5ECF6",
          "polar": {
           "angularaxis": {
            "gridcolor": "white",
            "linecolor": "white",
            "ticks": ""
           },
           "bgcolor": "#E5ECF6",
           "radialaxis": {
            "gridcolor": "white",
            "linecolor": "white",
            "ticks": ""
           }
          },
          "scene": {
           "xaxis": {
            "backgroundcolor": "#E5ECF6",
            "gridcolor": "white",
            "gridwidth": 2,
            "linecolor": "white",
            "showbackground": true,
            "ticks": "",
            "zerolinecolor": "white"
           },
           "yaxis": {
            "backgroundcolor": "#E5ECF6",
            "gridcolor": "white",
            "gridwidth": 2,
            "linecolor": "white",
            "showbackground": true,
            "ticks": "",
            "zerolinecolor": "white"
           },
           "zaxis": {
            "backgroundcolor": "#E5ECF6",
            "gridcolor": "white",
            "gridwidth": 2,
            "linecolor": "white",
            "showbackground": true,
            "ticks": "",
            "zerolinecolor": "white"
           }
          },
          "shapedefaults": {
           "line": {
            "color": "#2a3f5f"
           }
          },
          "ternary": {
           "aaxis": {
            "gridcolor": "white",
            "linecolor": "white",
            "ticks": ""
           },
           "baxis": {
            "gridcolor": "white",
            "linecolor": "white",
            "ticks": ""
           },
           "bgcolor": "#E5ECF6",
           "caxis": {
            "gridcolor": "white",
            "linecolor": "white",
            "ticks": ""
           }
          },
          "title": {
           "x": 0.05
          },
          "xaxis": {
           "automargin": true,
           "gridcolor": "white",
           "linecolor": "white",
           "ticks": "",
           "title": {
            "standoff": 15
           },
           "zerolinecolor": "white",
           "zerolinewidth": 2
          },
          "yaxis": {
           "automargin": true,
           "gridcolor": "white",
           "linecolor": "white",
           "ticks": "",
           "title": {
            "standoff": 15
           },
           "zerolinecolor": "white",
           "zerolinewidth": 2
          }
         }
        },
        "title": {
         "text": "Correlation, Principal Component 1 and Human Development Index"
        },
        "width": 800,
        "xaxis": {
         "gridcolor": "lightgrey",
         "linecolor": "black",
         "tickfont": {
          "size": 10
         },
         "title": {
          "text": "Principal Component 1"
         },
         "zeroline": true,
         "zerolinecolor": "lightgrey",
         "zerolinewidth": 1
        },
        "yaxis": {
         "gridcolor": "lightgrey",
         "linecolor": "black",
         "tickfont": {
          "size": 10
         },
         "title": {
          "text": "Human Development Index"
         },
         "zeroline": true,
         "zerolinecolor": "lightgrey",
         "zerolinewidth": 1
        }
       }
      }
     },
     "metadata": {},
     "output_type": "display_data"
    }
   ],
   "source": [
    "#define function to create correlation plot\n",
    "def plot_correlation(df, x_col, y_col, x_title, y_title, hover_text):\n",
    "    \n",
    "    #turn columns to numeric\n",
    "    df[x_col] = pd.to_numeric(df[x_col], errors='coerce')\n",
    "    df[y_col] = pd.to_numeric(df[y_col], errors='coerce')\n",
    "\n",
    "    #drop rows with NaN values\n",
    "    df = df.dropna(subset=[x_col, y_col])\n",
    "\n",
    "    #create scatter plot\n",
    "    scatter = go.Scatter(\n",
    "        x=df[x_col],\n",
    "        y=df[y_col],\n",
    "        mode='markers',\n",
    "        name='Data points',\n",
    "        hoverinfo='text',\n",
    "        text=hover_text,\n",
    "        showlegend=False, \n",
    "        marker=dict(size=10, color='black', line=dict(color='white', width=1)),\n",
    "    )\n",
    "\n",
    "    #calculate the line of best fit\n",
    "    fit = np.polyfit(df[x_col], df[y_col], deg=1)\n",
    "    fit_fn = np.poly1d(fit)\n",
    "\n",
    "    #create line plot\n",
    "    line = go.Scatter(\n",
    "        x=df[x_col],\n",
    "        y=fit_fn(df[x_col]),\n",
    "        mode='lines',\n",
    "        name=None,\n",
    "        hoverinfo='none',\n",
    "        showlegend=False, \n",
    "        line=dict(color='red')\n",
    "    )\n",
    "\n",
    "    #create the figure\n",
    "    fig = go.Figure(data=[scatter, line], layout=mylayout)\n",
    "\n",
    "    #customize layout\n",
    "    fig.update_layout(\n",
    "        width=plot_size_shortwidth,\n",
    "        height=plot_size_shortheight,\n",
    "        title=f'Correlation, {x_title} and {y_title}',\n",
    "        xaxis_title=x_title,\n",
    "        yaxis_title=y_title,\n",
    "        margin=dict(l=40, r=40, t=40, b=40)\n",
    "    )\n",
    "\n",
    "    #show the figure\n",
    "    fig.show()\n",
    "\n",
    "#plotting correlation between PC 1 and HDI\n",
    "x_col = 'PC1' #name of column for x-axis\n",
    "y_col = 'HDI' #name of column for y-axis\n",
    "x_title = 'Principal Component 1' #title for x-axis\n",
    "y_title = 'Human Development Index' #title for y-axis\n",
    "\n",
    "hover_text = [f'{country}<br>{x_title}: {x_value:.2f}<br>{y_title}: {y_value:.2f}' \n",
    "              for country, x_value, y_value in zip(pca_df['country'], pca_df[x_col], pca_df[y_col])] #defining structure of hover text\n",
    "\n",
    "plot_correlation(pca_df, x_col, y_col, x_title, y_title, hover_text)"
   ]
  },
  {
   "cell_type": "markdown",
   "metadata": {},
   "source": [
    "Beautiful. One of the advantages of having made this plot is that we can appreciate which countries are closest to the line of best fit and which are furthest away from it. One case drawing our attention is that of Switzerland, with a very high HDI (as of 2024, actually first in the world) but with a middle-range value in PC 1. What is going on in here? we will sidetrack a bit to find out."
   ]
  },
  {
   "cell_type": "markdown",
   "metadata": {},
   "source": [
    "### 5.2. Exploring outliers: the case of Switzerland"
   ]
  },
  {
   "cell_type": "markdown",
   "metadata": {},
   "source": [
    "If low PC 1 was univocally related to high HDI, we should expect Switzerland to have one of the lowest PC 1 values. However, that is not the case. Is there anything different in the way Switzerland spends its budget compared to other highly developed countries? A way to look into that is to compare Switzerland to an average of those countries scoring the lowest in PC 1. Let's do that by first obtaining a DataFrame where the budget percentage for each item is present for Switzerland and for the average of those 10 countries scoring the lowest in PCA 1."
   ]
  },
  {
   "cell_type": "code",
   "execution_count": 45,
   "metadata": {},
   "outputs": [
    {
     "data": {
      "text/html": [
       "<div>\n",
       "<style scoped>\n",
       "    .dataframe tbody tr th:only-of-type {\n",
       "        vertical-align: middle;\n",
       "    }\n",
       "\n",
       "    .dataframe tbody tr th {\n",
       "        vertical-align: top;\n",
       "    }\n",
       "\n",
       "    .dataframe thead th {\n",
       "        text-align: right;\n",
       "    }\n",
       "</style>\n",
       "<table border=\"1\" class=\"dataframe\">\n",
       "  <thead>\n",
       "    <tr style=\"text-align: right;\">\n",
       "      <th></th>\n",
       "      <th>item</th>\n",
       "      <th>perc_budget</th>\n",
       "      <th>country</th>\n",
       "      <th>item_code</th>\n",
       "      <th>year</th>\n",
       "      <th>value</th>\n",
       "      <th>total_budget</th>\n",
       "    </tr>\n",
       "  </thead>\n",
       "  <tbody>\n",
       "    <tr>\n",
       "      <th>0</th>\n",
       "      <td>Defence</td>\n",
       "      <td>4.85</td>\n",
       "      <td>bottom 10 PC1</td>\n",
       "      <td>NaN</td>\n",
       "      <td>NaN</td>\n",
       "      <td>NaN</td>\n",
       "      <td>NaN</td>\n",
       "    </tr>\n",
       "    <tr>\n",
       "      <th>1</th>\n",
       "      <td>Economic affairs</td>\n",
       "      <td>8.50</td>\n",
       "      <td>bottom 10 PC1</td>\n",
       "      <td>NaN</td>\n",
       "      <td>NaN</td>\n",
       "      <td>NaN</td>\n",
       "      <td>NaN</td>\n",
       "    </tr>\n",
       "    <tr>\n",
       "      <th>2</th>\n",
       "      <td>Education</td>\n",
       "      <td>17.40</td>\n",
       "      <td>bottom 10 PC1</td>\n",
       "      <td>NaN</td>\n",
       "      <td>NaN</td>\n",
       "      <td>NaN</td>\n",
       "      <td>NaN</td>\n",
       "    </tr>\n",
       "    <tr>\n",
       "      <th>3</th>\n",
       "      <td>Environment protection</td>\n",
       "      <td>2.28</td>\n",
       "      <td>bottom 10 PC1</td>\n",
       "      <td>NaN</td>\n",
       "      <td>NaN</td>\n",
       "      <td>NaN</td>\n",
       "      <td>NaN</td>\n",
       "    </tr>\n",
       "    <tr>\n",
       "      <th>4</th>\n",
       "      <td>General public services</td>\n",
       "      <td>6.68</td>\n",
       "      <td>bottom 10 PC1</td>\n",
       "      <td>NaN</td>\n",
       "      <td>NaN</td>\n",
       "      <td>NaN</td>\n",
       "      <td>NaN</td>\n",
       "    </tr>\n",
       "    <tr>\n",
       "      <th>5</th>\n",
       "      <td>Health</td>\n",
       "      <td>35.13</td>\n",
       "      <td>bottom 10 PC1</td>\n",
       "      <td>NaN</td>\n",
       "      <td>NaN</td>\n",
       "      <td>NaN</td>\n",
       "      <td>NaN</td>\n",
       "    </tr>\n",
       "    <tr>\n",
       "      <th>6</th>\n",
       "      <td>Housing and community amenities</td>\n",
       "      <td>1.20</td>\n",
       "      <td>bottom 10 PC1</td>\n",
       "      <td>NaN</td>\n",
       "      <td>NaN</td>\n",
       "      <td>NaN</td>\n",
       "      <td>NaN</td>\n",
       "    </tr>\n",
       "    <tr>\n",
       "      <th>7</th>\n",
       "      <td>Public order and safety</td>\n",
       "      <td>6.46</td>\n",
       "      <td>bottom 10 PC1</td>\n",
       "      <td>NaN</td>\n",
       "      <td>NaN</td>\n",
       "      <td>NaN</td>\n",
       "      <td>NaN</td>\n",
       "    </tr>\n",
       "    <tr>\n",
       "      <th>8</th>\n",
       "      <td>Recreation, culture and religion</td>\n",
       "      <td>2.93</td>\n",
       "      <td>bottom 10 PC1</td>\n",
       "      <td>NaN</td>\n",
       "      <td>NaN</td>\n",
       "      <td>NaN</td>\n",
       "      <td>NaN</td>\n",
       "    </tr>\n",
       "    <tr>\n",
       "      <th>9</th>\n",
       "      <td>Social protection</td>\n",
       "      <td>14.57</td>\n",
       "      <td>bottom 10 PC1</td>\n",
       "      <td>NaN</td>\n",
       "      <td>NaN</td>\n",
       "      <td>NaN</td>\n",
       "      <td>NaN</td>\n",
       "    </tr>\n",
       "    <tr>\n",
       "      <th>10</th>\n",
       "      <td>General public services</td>\n",
       "      <td>15.10</td>\n",
       "      <td>Switzerland</td>\n",
       "      <td>01</td>\n",
       "      <td>2021.00</td>\n",
       "      <td>13401510000.00</td>\n",
       "      <td>88771220000.00</td>\n",
       "    </tr>\n",
       "    <tr>\n",
       "      <th>11</th>\n",
       "      <td>Defence</td>\n",
       "      <td>6.05</td>\n",
       "      <td>Switzerland</td>\n",
       "      <td>02</td>\n",
       "      <td>2021.00</td>\n",
       "      <td>5370890000.00</td>\n",
       "      <td>88771220000.00</td>\n",
       "    </tr>\n",
       "    <tr>\n",
       "      <th>12</th>\n",
       "      <td>Public order and safety</td>\n",
       "      <td>9.69</td>\n",
       "      <td>Switzerland</td>\n",
       "      <td>03</td>\n",
       "      <td>2021.00</td>\n",
       "      <td>8603250000.00</td>\n",
       "      <td>88771220000.00</td>\n",
       "    </tr>\n",
       "    <tr>\n",
       "      <th>13</th>\n",
       "      <td>Economic affairs</td>\n",
       "      <td>8.17</td>\n",
       "      <td>Switzerland</td>\n",
       "      <td>04</td>\n",
       "      <td>2021.00</td>\n",
       "      <td>7248800000.00</td>\n",
       "      <td>88771220000.00</td>\n",
       "    </tr>\n",
       "    <tr>\n",
       "      <th>14</th>\n",
       "      <td>Environment protection</td>\n",
       "      <td>1.37</td>\n",
       "      <td>Switzerland</td>\n",
       "      <td>05</td>\n",
       "      <td>2021.00</td>\n",
       "      <td>1215500000.00</td>\n",
       "      <td>88771220000.00</td>\n",
       "    </tr>\n",
       "    <tr>\n",
       "      <th>15</th>\n",
       "      <td>Housing and community amenities</td>\n",
       "      <td>0.63</td>\n",
       "      <td>Switzerland</td>\n",
       "      <td>06</td>\n",
       "      <td>2021.00</td>\n",
       "      <td>561910000.00</td>\n",
       "      <td>88771220000.00</td>\n",
       "    </tr>\n",
       "    <tr>\n",
       "      <th>16</th>\n",
       "      <td>Health</td>\n",
       "      <td>5.54</td>\n",
       "      <td>Switzerland</td>\n",
       "      <td>07</td>\n",
       "      <td>2021.00</td>\n",
       "      <td>4913620000.00</td>\n",
       "      <td>88771220000.00</td>\n",
       "    </tr>\n",
       "    <tr>\n",
       "      <th>17</th>\n",
       "      <td>Recreation, culture and religion</td>\n",
       "      <td>3.24</td>\n",
       "      <td>Switzerland</td>\n",
       "      <td>08</td>\n",
       "      <td>2021.00</td>\n",
       "      <td>2872830000.00</td>\n",
       "      <td>88771220000.00</td>\n",
       "    </tr>\n",
       "    <tr>\n",
       "      <th>18</th>\n",
       "      <td>Education</td>\n",
       "      <td>35.00</td>\n",
       "      <td>Switzerland</td>\n",
       "      <td>09</td>\n",
       "      <td>2021.00</td>\n",
       "      <td>31072310000.00</td>\n",
       "      <td>88771220000.00</td>\n",
       "    </tr>\n",
       "    <tr>\n",
       "      <th>19</th>\n",
       "      <td>Social protection</td>\n",
       "      <td>15.22</td>\n",
       "      <td>Switzerland</td>\n",
       "      <td>10</td>\n",
       "      <td>2021.00</td>\n",
       "      <td>13510600000.00</td>\n",
       "      <td>88771220000.00</td>\n",
       "    </tr>\n",
       "  </tbody>\n",
       "</table>\n",
       "</div>"
      ],
      "text/plain": [
       "                                item  perc_budget        country item_code  \\\n",
       "0                            Defence         4.85  bottom 10 PC1       NaN   \n",
       "1                   Economic affairs         8.50  bottom 10 PC1       NaN   \n",
       "2                          Education        17.40  bottom 10 PC1       NaN   \n",
       "3             Environment protection         2.28  bottom 10 PC1       NaN   \n",
       "4            General public services         6.68  bottom 10 PC1       NaN   \n",
       "5                             Health        35.13  bottom 10 PC1       NaN   \n",
       "6    Housing and community amenities         1.20  bottom 10 PC1       NaN   \n",
       "7            Public order and safety         6.46  bottom 10 PC1       NaN   \n",
       "8   Recreation, culture and religion         2.93  bottom 10 PC1       NaN   \n",
       "9                  Social protection        14.57  bottom 10 PC1       NaN   \n",
       "10           General public services        15.10    Switzerland        01   \n",
       "11                           Defence         6.05    Switzerland        02   \n",
       "12           Public order and safety         9.69    Switzerland        03   \n",
       "13                  Economic affairs         8.17    Switzerland        04   \n",
       "14            Environment protection         1.37    Switzerland        05   \n",
       "15   Housing and community amenities         0.63    Switzerland        06   \n",
       "16                            Health         5.54    Switzerland        07   \n",
       "17  Recreation, culture and religion         3.24    Switzerland        08   \n",
       "18                         Education        35.00    Switzerland        09   \n",
       "19                 Social protection        15.22    Switzerland        10   \n",
       "\n",
       "      year          value   total_budget  \n",
       "0      NaN            NaN            NaN  \n",
       "1      NaN            NaN            NaN  \n",
       "2      NaN            NaN            NaN  \n",
       "3      NaN            NaN            NaN  \n",
       "4      NaN            NaN            NaN  \n",
       "5      NaN            NaN            NaN  \n",
       "6      NaN            NaN            NaN  \n",
       "7      NaN            NaN            NaN  \n",
       "8      NaN            NaN            NaN  \n",
       "9      NaN            NaN            NaN  \n",
       "10 2021.00 13401510000.00 88771220000.00  \n",
       "11 2021.00  5370890000.00 88771220000.00  \n",
       "12 2021.00  8603250000.00 88771220000.00  \n",
       "13 2021.00  7248800000.00 88771220000.00  \n",
       "14 2021.00  1215500000.00 88771220000.00  \n",
       "15 2021.00   561910000.00 88771220000.00  \n",
       "16 2021.00  4913620000.00 88771220000.00  \n",
       "17 2021.00  2872830000.00 88771220000.00  \n",
       "18 2021.00 31072310000.00 88771220000.00  \n",
       "19 2021.00 13510600000.00 88771220000.00  "
      ]
     },
     "metadata": {},
     "output_type": "display_data"
    }
   ],
   "source": [
    "#create a DataFrame with the average budget percentages for the 10 countries scoring the lowest in PC1\n",
    "bottom10_PCA1_countries = pca_df.sort_values(by='PC1', ascending=True).head(10)['country'].tolist() #list with the bottom 10 countries\n",
    "bottom10_PCA_df = df_budget[df_budget['country'].isin(bottom10_PCA1_countries)] #select part of the PCA DataFrame corresponding to those countries\n",
    "bottom10_PCA_sum_df = bottom10_PCA_df.groupby('item')['perc_budget'].mean().reset_index() #create summary DataFrame by averaging item percentages over countries\n",
    "bottom10_PCA_sum_df['country'] = 'bottom 10 PC1'\n",
    "\n",
    "#create a DataFrame with data for Switzerland\n",
    "switzerland_budget_df = df_budget[df_budget['country'] == 'Switzerland']\n",
    "\n",
    "#merge both DataFrames\n",
    "bottom10_switzerland_df = pd.concat([bottom10_PCA_sum_df, switzerland_budget_df], ignore_index=True)\n",
    "\n",
    "#display the DataFrame\n",
    "display(bottom10_switzerland_df)"
   ]
  },
  {
   "cell_type": "markdown",
   "metadata": {},
   "source": [
    "We will now visualize the information in this dataset by creating a plot where the percentage of the budget spent on each item is shown side by side for both our groups."
   ]
  },
  {
   "cell_type": "code",
   "execution_count": 46,
   "metadata": {},
   "outputs": [
    {
     "data": {
      "application/vnd.plotly.v1+json": {
       "config": {
        "plotlyServerURL": "https://plot.ly"
       },
       "data": [
        {
         "hoverinfo": "text",
         "line": {
          "color": "#04BB85"
         },
         "marker": {
          "color": "#04BB85",
          "line": {
           "color": "white",
           "width": 1
          },
          "size": 10,
          "symbol": "circle"
         },
         "mode": "lines+markers",
         "name": "General public services",
         "text": [
          "Group: bottom 10 PC1<br>General public services: 6.68",
          "Group: Switzerland<br>General public services: 15.10"
         ],
         "type": "scatter",
         "x": [
          "bottom 10 PC1",
          "Switzerland"
         ],
         "y": [
          6.68277400759248,
          15.096683362017558
         ]
        },
        {
         "hoverinfo": "text",
         "line": {
          "color": "#8F76D7"
         },
         "marker": {
          "color": "#8F76D7",
          "line": {
           "color": "white",
           "width": 1
          },
          "size": 10,
          "symbol": "circle"
         },
         "mode": "lines+markers",
         "name": "Defence",
         "text": [
          "Group: bottom 10 PC1<br>Defence: 4.85",
          "Group: Switzerland<br>Defence: 6.05"
         ],
         "type": "scatter",
         "x": [
          "bottom 10 PC1",
          "Switzerland"
         ],
         "y": [
          4.845491078209936,
          6.050260433505365
         ]
        },
        {
         "hoverinfo": "text",
         "line": {
          "color": "#FF9500"
         },
         "marker": {
          "color": "#FF9500",
          "line": {
           "color": "white",
           "width": 1
          },
          "size": 10,
          "symbol": "circle"
         },
         "mode": "lines+markers",
         "name": "Public order and safety",
         "text": [
          "Group: bottom 10 PC1<br>Public order and safety: 6.46",
          "Group: Switzerland<br>Public order and safety: 9.69"
         ],
         "type": "scatter",
         "x": [
          "bottom 10 PC1",
          "Switzerland"
         ],
         "y": [
          6.46330212081263,
          9.691485596345304
         ]
        },
        {
         "hoverinfo": "text",
         "line": {
          "color": "#019BBF"
         },
         "marker": {
          "color": "#019BBF",
          "line": {
           "color": "white",
           "width": 1
          },
          "size": 10,
          "symbol": "circle"
         },
         "mode": "lines+markers",
         "name": "Economic affairs",
         "text": [
          "Group: bottom 10 PC1<br>Economic affairs: 8.50",
          "Group: Switzerland<br>Economic affairs: 8.17"
         ],
         "type": "scatter",
         "x": [
          "bottom 10 PC1",
          "Switzerland"
         ],
         "y": [
          8.501097765170957,
          8.16570956217567
         ]
        },
        {
         "hoverinfo": "text",
         "line": {
          "color": "#F62F36"
         },
         "marker": {
          "color": "#F62F36",
          "line": {
           "color": "white",
           "width": 1
          },
          "size": 10,
          "symbol": "circle"
         },
         "mode": "lines+markers",
         "name": "Environment protection",
         "text": [
          "Group: bottom 10 PC1<br>Environment protection: 2.28",
          "Group: Switzerland<br>Environment protection: 1.37"
         ],
         "type": "scatter",
         "x": [
          "bottom 10 PC1",
          "Switzerland"
         ],
         "y": [
          2.282426228434562,
          1.3692500790233593
         ]
        },
        {
         "hoverinfo": "text",
         "line": {
          "color": "#9D5E31"
         },
         "marker": {
          "color": "#9D5E31",
          "line": {
           "color": "white",
           "width": 1
          },
          "size": 10,
          "symbol": "circle"
         },
         "mode": "lines+markers",
         "name": "Housing and community amenities",
         "text": [
          "Group: bottom 10 PC1<br>Housing and community amenities: 1.20",
          "Group: Switzerland<br>Housing and community amenities: 0.63"
         ],
         "type": "scatter",
         "x": [
          "bottom 10 PC1",
          "Switzerland"
         ],
         "y": [
          1.1958111421851023,
          0.6329866819448917
         ]
        },
        {
         "hoverinfo": "text",
         "line": {
          "color": "#E65898"
         },
         "marker": {
          "color": "#E65898",
          "line": {
           "color": "white",
           "width": 1
          },
          "size": 10,
          "symbol": "circle"
         },
         "mode": "lines+markers",
         "name": "Health",
         "text": [
          "Group: bottom 10 PC1<br>Health: 35.13",
          "Group: Switzerland<br>Health: 5.54"
         ],
         "type": "scatter",
         "x": [
          "bottom 10 PC1",
          "Switzerland"
         ],
         "y": [
          35.12531853748585,
          5.535149792917098
         ]
        },
        {
         "hoverinfo": "text",
         "line": {
          "color": "#B1C019"
         },
         "marker": {
          "color": "#B1C019",
          "line": {
           "color": "white",
           "width": 1
          },
          "size": 10,
          "symbol": "circle"
         },
         "mode": "lines+markers",
         "name": "Recreation, culture and religion",
         "text": [
          "Group: bottom 10 PC1<br>Recreation, culture and religion: 2.93",
          "Group: Switzerland<br>Recreation, culture and religion: 3.24"
         ],
         "type": "scatter",
         "x": [
          "bottom 10 PC1",
          "Switzerland"
         ],
         "y": [
          2.9344453132619193,
          3.2362177741840212
         ]
        },
        {
         "hoverinfo": "text",
         "line": {
          "color": "#FDC903"
         },
         "marker": {
          "color": "#FDC903",
          "line": {
           "color": "white",
           "width": 1
          },
          "size": 10,
          "symbol": "circle"
         },
         "mode": "lines+markers",
         "name": "Education",
         "text": [
          "Group: bottom 10 PC1<br>Education: 17.40",
          "Group: Switzerland<br>Education: 35.00"
         ],
         "type": "scatter",
         "x": [
          "bottom 10 PC1",
          "Switzerland"
         ],
         "y": [
          17.40216995014069,
          35.00268442857945
         ]
        },
        {
         "hoverinfo": "text",
         "line": {
          "color": "#C1A471"
         },
         "marker": {
          "color": "#C1A471",
          "line": {
           "color": "white",
           "width": 1
          },
          "size": 10,
          "symbol": "circle"
         },
         "mode": "lines+markers",
         "name": "Social protection",
         "text": [
          "Group: bottom 10 PC1<br>Social protection: 14.57",
          "Group: Switzerland<br>Social protection: 15.22"
         ],
         "type": "scatter",
         "x": [
          "bottom 10 PC1",
          "Switzerland"
         ],
         "y": [
          14.567163856705871,
          15.219572289307282
         ]
        }
       ],
       "layout": {
        "font": {
         "size": 12
        },
        "height": 500,
        "legend": {
         "title": {
          "text": "Item"
         },
         "x": 1.05,
         "xanchor": "left",
         "y": 1,
         "yanchor": "top"
        },
        "margin": {
         "b": 50,
         "l": 50,
         "r": 50,
         "t": 50
        },
        "paper_bgcolor": "white",
        "plot_bgcolor": "white",
        "template": {
         "data": {
          "bar": [
           {
            "error_x": {
             "color": "#2a3f5f"
            },
            "error_y": {
             "color": "#2a3f5f"
            },
            "marker": {
             "line": {
              "color": "#E5ECF6",
              "width": 0.5
             },
             "pattern": {
              "fillmode": "overlay",
              "size": 10,
              "solidity": 0.2
             }
            },
            "type": "bar"
           }
          ],
          "barpolar": [
           {
            "marker": {
             "line": {
              "color": "#E5ECF6",
              "width": 0.5
             },
             "pattern": {
              "fillmode": "overlay",
              "size": 10,
              "solidity": 0.2
             }
            },
            "type": "barpolar"
           }
          ],
          "carpet": [
           {
            "aaxis": {
             "endlinecolor": "#2a3f5f",
             "gridcolor": "white",
             "linecolor": "white",
             "minorgridcolor": "white",
             "startlinecolor": "#2a3f5f"
            },
            "baxis": {
             "endlinecolor": "#2a3f5f",
             "gridcolor": "white",
             "linecolor": "white",
             "minorgridcolor": "white",
             "startlinecolor": "#2a3f5f"
            },
            "type": "carpet"
           }
          ],
          "choropleth": [
           {
            "colorbar": {
             "outlinewidth": 0,
             "ticks": ""
            },
            "type": "choropleth"
           }
          ],
          "contour": [
           {
            "colorbar": {
             "outlinewidth": 0,
             "ticks": ""
            },
            "colorscale": [
             [
              0,
              "#0d0887"
             ],
             [
              0.1111111111111111,
              "#46039f"
             ],
             [
              0.2222222222222222,
              "#7201a8"
             ],
             [
              0.3333333333333333,
              "#9c179e"
             ],
             [
              0.4444444444444444,
              "#bd3786"
             ],
             [
              0.5555555555555556,
              "#d8576b"
             ],
             [
              0.6666666666666666,
              "#ed7953"
             ],
             [
              0.7777777777777778,
              "#fb9f3a"
             ],
             [
              0.8888888888888888,
              "#fdca26"
             ],
             [
              1,
              "#f0f921"
             ]
            ],
            "type": "contour"
           }
          ],
          "contourcarpet": [
           {
            "colorbar": {
             "outlinewidth": 0,
             "ticks": ""
            },
            "type": "contourcarpet"
           }
          ],
          "heatmap": [
           {
            "colorbar": {
             "outlinewidth": 0,
             "ticks": ""
            },
            "colorscale": [
             [
              0,
              "#0d0887"
             ],
             [
              0.1111111111111111,
              "#46039f"
             ],
             [
              0.2222222222222222,
              "#7201a8"
             ],
             [
              0.3333333333333333,
              "#9c179e"
             ],
             [
              0.4444444444444444,
              "#bd3786"
             ],
             [
              0.5555555555555556,
              "#d8576b"
             ],
             [
              0.6666666666666666,
              "#ed7953"
             ],
             [
              0.7777777777777778,
              "#fb9f3a"
             ],
             [
              0.8888888888888888,
              "#fdca26"
             ],
             [
              1,
              "#f0f921"
             ]
            ],
            "type": "heatmap"
           }
          ],
          "heatmapgl": [
           {
            "colorbar": {
             "outlinewidth": 0,
             "ticks": ""
            },
            "colorscale": [
             [
              0,
              "#0d0887"
             ],
             [
              0.1111111111111111,
              "#46039f"
             ],
             [
              0.2222222222222222,
              "#7201a8"
             ],
             [
              0.3333333333333333,
              "#9c179e"
             ],
             [
              0.4444444444444444,
              "#bd3786"
             ],
             [
              0.5555555555555556,
              "#d8576b"
             ],
             [
              0.6666666666666666,
              "#ed7953"
             ],
             [
              0.7777777777777778,
              "#fb9f3a"
             ],
             [
              0.8888888888888888,
              "#fdca26"
             ],
             [
              1,
              "#f0f921"
             ]
            ],
            "type": "heatmapgl"
           }
          ],
          "histogram": [
           {
            "marker": {
             "pattern": {
              "fillmode": "overlay",
              "size": 10,
              "solidity": 0.2
             }
            },
            "type": "histogram"
           }
          ],
          "histogram2d": [
           {
            "colorbar": {
             "outlinewidth": 0,
             "ticks": ""
            },
            "colorscale": [
             [
              0,
              "#0d0887"
             ],
             [
              0.1111111111111111,
              "#46039f"
             ],
             [
              0.2222222222222222,
              "#7201a8"
             ],
             [
              0.3333333333333333,
              "#9c179e"
             ],
             [
              0.4444444444444444,
              "#bd3786"
             ],
             [
              0.5555555555555556,
              "#d8576b"
             ],
             [
              0.6666666666666666,
              "#ed7953"
             ],
             [
              0.7777777777777778,
              "#fb9f3a"
             ],
             [
              0.8888888888888888,
              "#fdca26"
             ],
             [
              1,
              "#f0f921"
             ]
            ],
            "type": "histogram2d"
           }
          ],
          "histogram2dcontour": [
           {
            "colorbar": {
             "outlinewidth": 0,
             "ticks": ""
            },
            "colorscale": [
             [
              0,
              "#0d0887"
             ],
             [
              0.1111111111111111,
              "#46039f"
             ],
             [
              0.2222222222222222,
              "#7201a8"
             ],
             [
              0.3333333333333333,
              "#9c179e"
             ],
             [
              0.4444444444444444,
              "#bd3786"
             ],
             [
              0.5555555555555556,
              "#d8576b"
             ],
             [
              0.6666666666666666,
              "#ed7953"
             ],
             [
              0.7777777777777778,
              "#fb9f3a"
             ],
             [
              0.8888888888888888,
              "#fdca26"
             ],
             [
              1,
              "#f0f921"
             ]
            ],
            "type": "histogram2dcontour"
           }
          ],
          "mesh3d": [
           {
            "colorbar": {
             "outlinewidth": 0,
             "ticks": ""
            },
            "type": "mesh3d"
           }
          ],
          "parcoords": [
           {
            "line": {
             "colorbar": {
              "outlinewidth": 0,
              "ticks": ""
             }
            },
            "type": "parcoords"
           }
          ],
          "pie": [
           {
            "automargin": true,
            "type": "pie"
           }
          ],
          "scatter": [
           {
            "fillpattern": {
             "fillmode": "overlay",
             "size": 10,
             "solidity": 0.2
            },
            "type": "scatter"
           }
          ],
          "scatter3d": [
           {
            "line": {
             "colorbar": {
              "outlinewidth": 0,
              "ticks": ""
             }
            },
            "marker": {
             "colorbar": {
              "outlinewidth": 0,
              "ticks": ""
             }
            },
            "type": "scatter3d"
           }
          ],
          "scattercarpet": [
           {
            "marker": {
             "colorbar": {
              "outlinewidth": 0,
              "ticks": ""
             }
            },
            "type": "scattercarpet"
           }
          ],
          "scattergeo": [
           {
            "marker": {
             "colorbar": {
              "outlinewidth": 0,
              "ticks": ""
             }
            },
            "type": "scattergeo"
           }
          ],
          "scattergl": [
           {
            "marker": {
             "colorbar": {
              "outlinewidth": 0,
              "ticks": ""
             }
            },
            "type": "scattergl"
           }
          ],
          "scattermapbox": [
           {
            "marker": {
             "colorbar": {
              "outlinewidth": 0,
              "ticks": ""
             }
            },
            "type": "scattermapbox"
           }
          ],
          "scatterpolar": [
           {
            "marker": {
             "colorbar": {
              "outlinewidth": 0,
              "ticks": ""
             }
            },
            "type": "scatterpolar"
           }
          ],
          "scatterpolargl": [
           {
            "marker": {
             "colorbar": {
              "outlinewidth": 0,
              "ticks": ""
             }
            },
            "type": "scatterpolargl"
           }
          ],
          "scatterternary": [
           {
            "marker": {
             "colorbar": {
              "outlinewidth": 0,
              "ticks": ""
             }
            },
            "type": "scatterternary"
           }
          ],
          "surface": [
           {
            "colorbar": {
             "outlinewidth": 0,
             "ticks": ""
            },
            "colorscale": [
             [
              0,
              "#0d0887"
             ],
             [
              0.1111111111111111,
              "#46039f"
             ],
             [
              0.2222222222222222,
              "#7201a8"
             ],
             [
              0.3333333333333333,
              "#9c179e"
             ],
             [
              0.4444444444444444,
              "#bd3786"
             ],
             [
              0.5555555555555556,
              "#d8576b"
             ],
             [
              0.6666666666666666,
              "#ed7953"
             ],
             [
              0.7777777777777778,
              "#fb9f3a"
             ],
             [
              0.8888888888888888,
              "#fdca26"
             ],
             [
              1,
              "#f0f921"
             ]
            ],
            "type": "surface"
           }
          ],
          "table": [
           {
            "cells": {
             "fill": {
              "color": "#EBF0F8"
             },
             "line": {
              "color": "white"
             }
            },
            "header": {
             "fill": {
              "color": "#C8D4E3"
             },
             "line": {
              "color": "white"
             }
            },
            "type": "table"
           }
          ]
         },
         "layout": {
          "annotationdefaults": {
           "arrowcolor": "#2a3f5f",
           "arrowhead": 0,
           "arrowwidth": 1
          },
          "autotypenumbers": "strict",
          "coloraxis": {
           "colorbar": {
            "outlinewidth": 0,
            "ticks": ""
           }
          },
          "colorscale": {
           "diverging": [
            [
             0,
             "#8e0152"
            ],
            [
             0.1,
             "#c51b7d"
            ],
            [
             0.2,
             "#de77ae"
            ],
            [
             0.3,
             "#f1b6da"
            ],
            [
             0.4,
             "#fde0ef"
            ],
            [
             0.5,
             "#f7f7f7"
            ],
            [
             0.6,
             "#e6f5d0"
            ],
            [
             0.7,
             "#b8e186"
            ],
            [
             0.8,
             "#7fbc41"
            ],
            [
             0.9,
             "#4d9221"
            ],
            [
             1,
             "#276419"
            ]
           ],
           "sequential": [
            [
             0,
             "#0d0887"
            ],
            [
             0.1111111111111111,
             "#46039f"
            ],
            [
             0.2222222222222222,
             "#7201a8"
            ],
            [
             0.3333333333333333,
             "#9c179e"
            ],
            [
             0.4444444444444444,
             "#bd3786"
            ],
            [
             0.5555555555555556,
             "#d8576b"
            ],
            [
             0.6666666666666666,
             "#ed7953"
            ],
            [
             0.7777777777777778,
             "#fb9f3a"
            ],
            [
             0.8888888888888888,
             "#fdca26"
            ],
            [
             1,
             "#f0f921"
            ]
           ],
           "sequentialminus": [
            [
             0,
             "#0d0887"
            ],
            [
             0.1111111111111111,
             "#46039f"
            ],
            [
             0.2222222222222222,
             "#7201a8"
            ],
            [
             0.3333333333333333,
             "#9c179e"
            ],
            [
             0.4444444444444444,
             "#bd3786"
            ],
            [
             0.5555555555555556,
             "#d8576b"
            ],
            [
             0.6666666666666666,
             "#ed7953"
            ],
            [
             0.7777777777777778,
             "#fb9f3a"
            ],
            [
             0.8888888888888888,
             "#fdca26"
            ],
            [
             1,
             "#f0f921"
            ]
           ]
          },
          "colorway": [
           "#636efa",
           "#EF553B",
           "#00cc96",
           "#ab63fa",
           "#FFA15A",
           "#19d3f3",
           "#FF6692",
           "#B6E880",
           "#FF97FF",
           "#FECB52"
          ],
          "font": {
           "color": "#2a3f5f"
          },
          "geo": {
           "bgcolor": "white",
           "lakecolor": "white",
           "landcolor": "#E5ECF6",
           "showlakes": true,
           "showland": true,
           "subunitcolor": "white"
          },
          "hoverlabel": {
           "align": "left"
          },
          "hovermode": "closest",
          "mapbox": {
           "style": "light"
          },
          "paper_bgcolor": "white",
          "plot_bgcolor": "#E5ECF6",
          "polar": {
           "angularaxis": {
            "gridcolor": "white",
            "linecolor": "white",
            "ticks": ""
           },
           "bgcolor": "#E5ECF6",
           "radialaxis": {
            "gridcolor": "white",
            "linecolor": "white",
            "ticks": ""
           }
          },
          "scene": {
           "xaxis": {
            "backgroundcolor": "#E5ECF6",
            "gridcolor": "white",
            "gridwidth": 2,
            "linecolor": "white",
            "showbackground": true,
            "ticks": "",
            "zerolinecolor": "white"
           },
           "yaxis": {
            "backgroundcolor": "#E5ECF6",
            "gridcolor": "white",
            "gridwidth": 2,
            "linecolor": "white",
            "showbackground": true,
            "ticks": "",
            "zerolinecolor": "white"
           },
           "zaxis": {
            "backgroundcolor": "#E5ECF6",
            "gridcolor": "white",
            "gridwidth": 2,
            "linecolor": "white",
            "showbackground": true,
            "ticks": "",
            "zerolinecolor": "white"
           }
          },
          "shapedefaults": {
           "line": {
            "color": "#2a3f5f"
           }
          },
          "ternary": {
           "aaxis": {
            "gridcolor": "white",
            "linecolor": "white",
            "ticks": ""
           },
           "baxis": {
            "gridcolor": "white",
            "linecolor": "white",
            "ticks": ""
           },
           "bgcolor": "#E5ECF6",
           "caxis": {
            "gridcolor": "white",
            "linecolor": "white",
            "ticks": ""
           }
          },
          "title": {
           "x": 0.05
          },
          "xaxis": {
           "automargin": true,
           "gridcolor": "white",
           "linecolor": "white",
           "ticks": "",
           "title": {
            "standoff": 15
           },
           "zerolinecolor": "white",
           "zerolinewidth": 2
          },
          "yaxis": {
           "automargin": true,
           "gridcolor": "white",
           "linecolor": "white",
           "ticks": "",
           "title": {
            "standoff": 15
           },
           "zerolinecolor": "white",
           "zerolinewidth": 2
          }
         }
        },
        "title": {
         "text": "Budget Allocation Comparison: Bottom 10 PC1 Countries vs. Switzerland"
        },
        "width": 800,
        "xaxis": {
         "gridcolor": "lightgrey",
         "linecolor": "black",
         "showgrid": false,
         "tickfont": {
          "size": 10
         },
         "title": {
          "text": ""
         },
         "zeroline": true,
         "zerolinecolor": "lightgrey",
         "zerolinewidth": 1
        },
        "yaxis": {
         "gridcolor": "lightgrey",
         "linecolor": "black",
         "tickfont": {
          "size": 10
         },
         "title": {
          "text": "Percentage of Budget"
         },
         "zeroline": true,
         "zerolinecolor": "lightgrey",
         "zerolinewidth": 1
        }
       }
      }
     },
     "metadata": {},
     "output_type": "display_data"
    }
   ],
   "source": [
    "#create traces\n",
    "traces = []\n",
    "for i, item in enumerate(unique_items):\n",
    "    item_df = bottom10_switzerland_df[bottom10_switzerland_df['item'] == item]\n",
    "    hover_text = [f'Group: {country}<br>{item}: {perc_budget:.2f}' for country, perc_budget in zip(item_df['country'], item_df['perc_budget'])]\n",
    "    trace = go.Scatter(\n",
    "        x=item_df['country'],\n",
    "        y=item_df['perc_budget'],\n",
    "        mode='lines+markers',\n",
    "        name=item,\n",
    "        line=dict(color=palette_qual[i % len(palette_qual)]),\n",
    "        marker=dict(color=palette_qual[i % len(palette_qual)], symbol='circle', size=10, line=dict(color='white', width=1)),\n",
    "        hoverinfo='text',\n",
    "        text=hover_text\n",
    "    )\n",
    "    traces.append(trace)\n",
    "\n",
    "#create the figure\n",
    "fig = go.Figure(data=traces, layout=mylayout)\n",
    "\n",
    "#customize layout\n",
    "fig.update_layout(\n",
    "    title='Budget Allocation Comparison: Bottom 10 PC1 Countries vs. Switzerland',\n",
    "    xaxis_title='',\n",
    "    yaxis_title='Percentage of Budget',\n",
    "    legend_title='Item',\n",
    "    width=plot_size_shortwidth,\n",
    "    height=plot_size_shortheight,\n",
    "    margin=dict(l=50, r=50, t=50, b=50),\n",
    "    legend=dict(x=1.05, y=1, xanchor='left', yanchor='top'),\n",
    "    xaxis=dict(showgrid=False)\n",
    ")\n",
    "\n",
    "#show the figure\n",
    "fig.show()"
   ]
  },
  {
   "cell_type": "markdown",
   "metadata": {},
   "source": [
    "No wonder why Switzerland did not score high on PC 1. The percentage assigned to health is much lower than that of the bottom 10 PC 1 countries, whereas that for general public services is a bit higher. The data is striking, particularly considering that Switzerland is renowned for having one of the best healthcare systems in the world. But this mismatch between expectations and data may be a product of the nature of the Swiss healthcare system. Indeed, despite Switzerland lacking having universal healthcare, it is not freely provided by the state. Instead, citizens are required to purchase private health insurance. This healthcare externalization could make public health-related expenses be lower, or simply be indirect, considered as part of a different item. For instance, public subsidies for such private healthcare programs could be labeled as expenditure on social protection, or on general public services.  \n",
    "\n",
    "Aside from health and general public services, the other most remarkable difference is that Switzerland seems to invest in education substantially more than other developed countries, with the percentages for other items being similar."
   ]
  },
  {
   "cell_type": "markdown",
   "metadata": {},
   "source": [
    "### 5.3. Correlation between budget-derived Principal Component 1 and public sector size\n",
    "Before finishing, we will try to link our principal components to one more type of indicator. Some of the budget expenditure items we have worked with are related to sectors with plenty of public employees: government bureaucrats, doctors and nurses, public school teachers and public university professors, the military, and so on. [The World Bank Data Catalog portal includes a dataset called *Worldwide Bureaucracy Indicators*](https://datacatalog.worldbank.org/search/dataset/0038132), containing a series of indicators related to the public sector. From this dataset, we could identify the indicators most related to our items, and see whether, across countries, they correlate with our PCs.\n",
    "\n",
    "As always, first we need to load the dataset and wrangle it a bit."
   ]
  },
  {
   "cell_type": "code",
   "execution_count": 47,
   "metadata": {},
   "outputs": [
    {
     "data": {
      "text/html": [
       "<div>\n",
       "<style scoped>\n",
       "    .dataframe tbody tr th:only-of-type {\n",
       "        vertical-align: middle;\n",
       "    }\n",
       "\n",
       "    .dataframe tbody tr th {\n",
       "        vertical-align: top;\n",
       "    }\n",
       "\n",
       "    .dataframe thead th {\n",
       "        text-align: right;\n",
       "    }\n",
       "</style>\n",
       "<table border=\"1\" class=\"dataframe\">\n",
       "  <thead>\n",
       "    <tr style=\"text-align: right;\">\n",
       "      <th></th>\n",
       "      <th>Country Name</th>\n",
       "      <th>Country Code</th>\n",
       "      <th>Indicator Name</th>\n",
       "      <th>Indicator Code</th>\n",
       "      <th>2000</th>\n",
       "      <th>2001</th>\n",
       "      <th>2002</th>\n",
       "      <th>2003</th>\n",
       "      <th>2004</th>\n",
       "      <th>2005</th>\n",
       "      <th>2006</th>\n",
       "      <th>2007</th>\n",
       "      <th>2008</th>\n",
       "      <th>2009</th>\n",
       "      <th>2010</th>\n",
       "      <th>2011</th>\n",
       "      <th>2012</th>\n",
       "      <th>2013</th>\n",
       "      <th>2014</th>\n",
       "      <th>2015</th>\n",
       "      <th>2016</th>\n",
       "      <th>2017</th>\n",
       "      <th>2018</th>\n",
       "      <th>2019</th>\n",
       "      <th>2020</th>\n",
       "      <th>Unnamed: 25</th>\n",
       "    </tr>\n",
       "  </thead>\n",
       "  <tbody>\n",
       "    <tr>\n",
       "      <th>0</th>\n",
       "      <td>Afghanistan</td>\n",
       "      <td>AFG</td>\n",
       "      <td>Core Public Administration workers, as a share...</td>\n",
       "      <td>BI.EMP.FRML.CA.PB.ZS</td>\n",
       "      <td>NaN</td>\n",
       "      <td>NaN</td>\n",
       "      <td>NaN</td>\n",
       "      <td>NaN</td>\n",
       "      <td>NaN</td>\n",
       "      <td>NaN</td>\n",
       "      <td>NaN</td>\n",
       "      <td>NaN</td>\n",
       "      <td>NaN</td>\n",
       "      <td>NaN</td>\n",
       "      <td>NaN</td>\n",
       "      <td>NaN</td>\n",
       "      <td>NaN</td>\n",
       "      <td>NaN</td>\n",
       "      <td>NaN</td>\n",
       "      <td>NaN</td>\n",
       "      <td>NaN</td>\n",
       "      <td>NaN</td>\n",
       "      <td>NaN</td>\n",
       "      <td>NaN</td>\n",
       "      <td>NaN</td>\n",
       "      <td>NaN</td>\n",
       "    </tr>\n",
       "    <tr>\n",
       "      <th>1</th>\n",
       "      <td>Afghanistan</td>\n",
       "      <td>AFG</td>\n",
       "      <td>Core Public Administration workers, as a share...</td>\n",
       "      <td>BI.EMP.PWRK.CA.PB.ZS</td>\n",
       "      <td>NaN</td>\n",
       "      <td>NaN</td>\n",
       "      <td>NaN</td>\n",
       "      <td>NaN</td>\n",
       "      <td>NaN</td>\n",
       "      <td>NaN</td>\n",
       "      <td>NaN</td>\n",
       "      <td>NaN</td>\n",
       "      <td>NaN</td>\n",
       "      <td>NaN</td>\n",
       "      <td>NaN</td>\n",
       "      <td>NaN</td>\n",
       "      <td>NaN</td>\n",
       "      <td>NaN</td>\n",
       "      <td>NaN</td>\n",
       "      <td>NaN</td>\n",
       "      <td>NaN</td>\n",
       "      <td>NaN</td>\n",
       "      <td>NaN</td>\n",
       "      <td>NaN</td>\n",
       "      <td>NaN</td>\n",
       "      <td>NaN</td>\n",
       "    </tr>\n",
       "    <tr>\n",
       "      <th>2</th>\n",
       "      <td>Afghanistan</td>\n",
       "      <td>AFG</td>\n",
       "      <td>Core Public Administration workers, as a share...</td>\n",
       "      <td>BI.EMP.TOTL.CA.PB.ZS</td>\n",
       "      <td>NaN</td>\n",
       "      <td>NaN</td>\n",
       "      <td>NaN</td>\n",
       "      <td>NaN</td>\n",
       "      <td>NaN</td>\n",
       "      <td>NaN</td>\n",
       "      <td>NaN</td>\n",
       "      <td>NaN</td>\n",
       "      <td>NaN</td>\n",
       "      <td>NaN</td>\n",
       "      <td>NaN</td>\n",
       "      <td>NaN</td>\n",
       "      <td>NaN</td>\n",
       "      <td>NaN</td>\n",
       "      <td>NaN</td>\n",
       "      <td>NaN</td>\n",
       "      <td>NaN</td>\n",
       "      <td>NaN</td>\n",
       "      <td>NaN</td>\n",
       "      <td>NaN</td>\n",
       "      <td>NaN</td>\n",
       "      <td>NaN</td>\n",
       "    </tr>\n",
       "    <tr>\n",
       "      <th>3</th>\n",
       "      <td>Afghanistan</td>\n",
       "      <td>AFG</td>\n",
       "      <td>Cross-country public sector pay comparison rat...</td>\n",
       "      <td>BI.PWK.CMPA.GE.SM</td>\n",
       "      <td>NaN</td>\n",
       "      <td>NaN</td>\n",
       "      <td>NaN</td>\n",
       "      <td>NaN</td>\n",
       "      <td>NaN</td>\n",
       "      <td>NaN</td>\n",
       "      <td>NaN</td>\n",
       "      <td>NaN</td>\n",
       "      <td>NaN</td>\n",
       "      <td>NaN</td>\n",
       "      <td>NaN</td>\n",
       "      <td>NaN</td>\n",
       "      <td>NaN</td>\n",
       "      <td>NaN</td>\n",
       "      <td>NaN</td>\n",
       "      <td>NaN</td>\n",
       "      <td>NaN</td>\n",
       "      <td>NaN</td>\n",
       "      <td>NaN</td>\n",
       "      <td>NaN</td>\n",
       "      <td>NaN</td>\n",
       "      <td>NaN</td>\n",
       "    </tr>\n",
       "    <tr>\n",
       "      <th>4</th>\n",
       "      <td>Afghanistan</td>\n",
       "      <td>AFG</td>\n",
       "      <td>Cross-country public sector pay comparison rat...</td>\n",
       "      <td>BI.PWK.CMPA.GE.MD</td>\n",
       "      <td>NaN</td>\n",
       "      <td>NaN</td>\n",
       "      <td>NaN</td>\n",
       "      <td>NaN</td>\n",
       "      <td>NaN</td>\n",
       "      <td>NaN</td>\n",
       "      <td>NaN</td>\n",
       "      <td>NaN</td>\n",
       "      <td>NaN</td>\n",
       "      <td>NaN</td>\n",
       "      <td>NaN</td>\n",
       "      <td>NaN</td>\n",
       "      <td>NaN</td>\n",
       "      <td>NaN</td>\n",
       "      <td>NaN</td>\n",
       "      <td>NaN</td>\n",
       "      <td>NaN</td>\n",
       "      <td>NaN</td>\n",
       "      <td>NaN</td>\n",
       "      <td>NaN</td>\n",
       "      <td>NaN</td>\n",
       "      <td>NaN</td>\n",
       "    </tr>\n",
       "    <tr>\n",
       "      <th>...</th>\n",
       "      <td>...</td>\n",
       "      <td>...</td>\n",
       "      <td>...</td>\n",
       "      <td>...</td>\n",
       "      <td>...</td>\n",
       "      <td>...</td>\n",
       "      <td>...</td>\n",
       "      <td>...</td>\n",
       "      <td>...</td>\n",
       "      <td>...</td>\n",
       "      <td>...</td>\n",
       "      <td>...</td>\n",
       "      <td>...</td>\n",
       "      <td>...</td>\n",
       "      <td>...</td>\n",
       "      <td>...</td>\n",
       "      <td>...</td>\n",
       "      <td>...</td>\n",
       "      <td>...</td>\n",
       "      <td>...</td>\n",
       "      <td>...</td>\n",
       "      <td>...</td>\n",
       "      <td>...</td>\n",
       "      <td>...</td>\n",
       "      <td>...</td>\n",
       "      <td>...</td>\n",
       "    </tr>\n",
       "    <tr>\n",
       "      <th>60999</th>\n",
       "      <td>Zimbabwe</td>\n",
       "      <td>ZWE</td>\n",
       "      <td>Teachers, as a share of public formal employees</td>\n",
       "      <td>BI.EMP.FRML.TS.PB.ZS</td>\n",
       "      <td>NaN</td>\n",
       "      <td>NaN</td>\n",
       "      <td>NaN</td>\n",
       "      <td>NaN</td>\n",
       "      <td>NaN</td>\n",
       "      <td>NaN</td>\n",
       "      <td>NaN</td>\n",
       "      <td>NaN</td>\n",
       "      <td>NaN</td>\n",
       "      <td>NaN</td>\n",
       "      <td>NaN</td>\n",
       "      <td>0.33</td>\n",
       "      <td>NaN</td>\n",
       "      <td>NaN</td>\n",
       "      <td>NaN</td>\n",
       "      <td>NaN</td>\n",
       "      <td>NaN</td>\n",
       "      <td>NaN</td>\n",
       "      <td>NaN</td>\n",
       "      <td>NaN</td>\n",
       "      <td>NaN</td>\n",
       "      <td>NaN</td>\n",
       "    </tr>\n",
       "    <tr>\n",
       "      <th>61000</th>\n",
       "      <td>Zimbabwe</td>\n",
       "      <td>ZWE</td>\n",
       "      <td>Teachers, as a share of public paid employees</td>\n",
       "      <td>BI.EMP.PWRK.TS.PB.ZS</td>\n",
       "      <td>NaN</td>\n",
       "      <td>NaN</td>\n",
       "      <td>NaN</td>\n",
       "      <td>NaN</td>\n",
       "      <td>NaN</td>\n",
       "      <td>NaN</td>\n",
       "      <td>NaN</td>\n",
       "      <td>NaN</td>\n",
       "      <td>NaN</td>\n",
       "      <td>NaN</td>\n",
       "      <td>NaN</td>\n",
       "      <td>0.33</td>\n",
       "      <td>NaN</td>\n",
       "      <td>NaN</td>\n",
       "      <td>NaN</td>\n",
       "      <td>NaN</td>\n",
       "      <td>NaN</td>\n",
       "      <td>NaN</td>\n",
       "      <td>NaN</td>\n",
       "      <td>NaN</td>\n",
       "      <td>NaN</td>\n",
       "      <td>NaN</td>\n",
       "    </tr>\n",
       "    <tr>\n",
       "      <th>61001</th>\n",
       "      <td>Zimbabwe</td>\n",
       "      <td>ZWE</td>\n",
       "      <td>Teachers, as a share of public total employees</td>\n",
       "      <td>BI.EMP.TOTL.TS.PB.ZS</td>\n",
       "      <td>NaN</td>\n",
       "      <td>NaN</td>\n",
       "      <td>NaN</td>\n",
       "      <td>NaN</td>\n",
       "      <td>NaN</td>\n",
       "      <td>NaN</td>\n",
       "      <td>NaN</td>\n",
       "      <td>NaN</td>\n",
       "      <td>NaN</td>\n",
       "      <td>NaN</td>\n",
       "      <td>NaN</td>\n",
       "      <td>0.32</td>\n",
       "      <td>NaN</td>\n",
       "      <td>NaN</td>\n",
       "      <td>NaN</td>\n",
       "      <td>NaN</td>\n",
       "      <td>NaN</td>\n",
       "      <td>NaN</td>\n",
       "      <td>NaN</td>\n",
       "      <td>NaN</td>\n",
       "      <td>NaN</td>\n",
       "      <td>NaN</td>\n",
       "    </tr>\n",
       "    <tr>\n",
       "      <th>61002</th>\n",
       "      <td>Zimbabwe</td>\n",
       "      <td>ZWE</td>\n",
       "      <td>Wage bill as a percentage of GDP</td>\n",
       "      <td>BI.WAG.TOTL.GD.ZS</td>\n",
       "      <td>NaN</td>\n",
       "      <td>NaN</td>\n",
       "      <td>NaN</td>\n",
       "      <td>NaN</td>\n",
       "      <td>NaN</td>\n",
       "      <td>6.24</td>\n",
       "      <td>2.59</td>\n",
       "      <td>1.15</td>\n",
       "      <td>0.77</td>\n",
       "      <td>4.33</td>\n",
       "      <td>7.27</td>\n",
       "      <td>11.06</td>\n",
       "      <td>12.28</td>\n",
       "      <td>12.30</td>\n",
       "      <td>13.15</td>\n",
       "      <td>12.98</td>\n",
       "      <td>13.23</td>\n",
       "      <td>10.85</td>\n",
       "      <td>7.87</td>\n",
       "      <td>3.75</td>\n",
       "      <td>6.44</td>\n",
       "      <td>NaN</td>\n",
       "    </tr>\n",
       "    <tr>\n",
       "      <th>61003</th>\n",
       "      <td>Zimbabwe</td>\n",
       "      <td>ZWE</td>\n",
       "      <td>Wage bill as a percentage of Public Expenditure</td>\n",
       "      <td>BI.WAG.TOTL.PB.ZS</td>\n",
       "      <td>NaN</td>\n",
       "      <td>NaN</td>\n",
       "      <td>NaN</td>\n",
       "      <td>NaN</td>\n",
       "      <td>NaN</td>\n",
       "      <td>39.83</td>\n",
       "      <td>30.36</td>\n",
       "      <td>22.44</td>\n",
       "      <td>20.37</td>\n",
       "      <td>36.63</td>\n",
       "      <td>40.19</td>\n",
       "      <td>47.58</td>\n",
       "      <td>60.20</td>\n",
       "      <td>58.80</td>\n",
       "      <td>64.29</td>\n",
       "      <td>63.26</td>\n",
       "      <td>56.62</td>\n",
       "      <td>48.47</td>\n",
       "      <td>45.11</td>\n",
       "      <td>24.03</td>\n",
       "      <td>41.24</td>\n",
       "      <td>NaN</td>\n",
       "    </tr>\n",
       "  </tbody>\n",
       "</table>\n",
       "<p>61004 rows × 26 columns</p>\n",
       "</div>"
      ],
      "text/plain": [
       "      Country Name Country Code  \\\n",
       "0      Afghanistan          AFG   \n",
       "1      Afghanistan          AFG   \n",
       "2      Afghanistan          AFG   \n",
       "3      Afghanistan          AFG   \n",
       "4      Afghanistan          AFG   \n",
       "...            ...          ...   \n",
       "60999     Zimbabwe          ZWE   \n",
       "61000     Zimbabwe          ZWE   \n",
       "61001     Zimbabwe          ZWE   \n",
       "61002     Zimbabwe          ZWE   \n",
       "61003     Zimbabwe          ZWE   \n",
       "\n",
       "                                          Indicator Name  \\\n",
       "0      Core Public Administration workers, as a share...   \n",
       "1      Core Public Administration workers, as a share...   \n",
       "2      Core Public Administration workers, as a share...   \n",
       "3      Cross-country public sector pay comparison rat...   \n",
       "4      Cross-country public sector pay comparison rat...   \n",
       "...                                                  ...   \n",
       "60999    Teachers, as a share of public formal employees   \n",
       "61000      Teachers, as a share of public paid employees   \n",
       "61001     Teachers, as a share of public total employees   \n",
       "61002                   Wage bill as a percentage of GDP   \n",
       "61003    Wage bill as a percentage of Public Expenditure   \n",
       "\n",
       "             Indicator Code  2000  2001  2002  2003  2004  2005  2006  2007  \\\n",
       "0      BI.EMP.FRML.CA.PB.ZS   NaN   NaN   NaN   NaN   NaN   NaN   NaN   NaN   \n",
       "1      BI.EMP.PWRK.CA.PB.ZS   NaN   NaN   NaN   NaN   NaN   NaN   NaN   NaN   \n",
       "2      BI.EMP.TOTL.CA.PB.ZS   NaN   NaN   NaN   NaN   NaN   NaN   NaN   NaN   \n",
       "3         BI.PWK.CMPA.GE.SM   NaN   NaN   NaN   NaN   NaN   NaN   NaN   NaN   \n",
       "4         BI.PWK.CMPA.GE.MD   NaN   NaN   NaN   NaN   NaN   NaN   NaN   NaN   \n",
       "...                     ...   ...   ...   ...   ...   ...   ...   ...   ...   \n",
       "60999  BI.EMP.FRML.TS.PB.ZS   NaN   NaN   NaN   NaN   NaN   NaN   NaN   NaN   \n",
       "61000  BI.EMP.PWRK.TS.PB.ZS   NaN   NaN   NaN   NaN   NaN   NaN   NaN   NaN   \n",
       "61001  BI.EMP.TOTL.TS.PB.ZS   NaN   NaN   NaN   NaN   NaN   NaN   NaN   NaN   \n",
       "61002     BI.WAG.TOTL.GD.ZS   NaN   NaN   NaN   NaN   NaN  6.24  2.59  1.15   \n",
       "61003     BI.WAG.TOTL.PB.ZS   NaN   NaN   NaN   NaN   NaN 39.83 30.36 22.44   \n",
       "\n",
       "       2008  2009  2010  2011  2012  2013  2014  2015  2016  2017  2018  2019  \\\n",
       "0       NaN   NaN   NaN   NaN   NaN   NaN   NaN   NaN   NaN   NaN   NaN   NaN   \n",
       "1       NaN   NaN   NaN   NaN   NaN   NaN   NaN   NaN   NaN   NaN   NaN   NaN   \n",
       "2       NaN   NaN   NaN   NaN   NaN   NaN   NaN   NaN   NaN   NaN   NaN   NaN   \n",
       "3       NaN   NaN   NaN   NaN   NaN   NaN   NaN   NaN   NaN   NaN   NaN   NaN   \n",
       "4       NaN   NaN   NaN   NaN   NaN   NaN   NaN   NaN   NaN   NaN   NaN   NaN   \n",
       "...     ...   ...   ...   ...   ...   ...   ...   ...   ...   ...   ...   ...   \n",
       "60999   NaN   NaN   NaN  0.33   NaN   NaN   NaN   NaN   NaN   NaN   NaN   NaN   \n",
       "61000   NaN   NaN   NaN  0.33   NaN   NaN   NaN   NaN   NaN   NaN   NaN   NaN   \n",
       "61001   NaN   NaN   NaN  0.32   NaN   NaN   NaN   NaN   NaN   NaN   NaN   NaN   \n",
       "61002  0.77  4.33  7.27 11.06 12.28 12.30 13.15 12.98 13.23 10.85  7.87  3.75   \n",
       "61003 20.37 36.63 40.19 47.58 60.20 58.80 64.29 63.26 56.62 48.47 45.11 24.03   \n",
       "\n",
       "       2020  Unnamed: 25  \n",
       "0       NaN          NaN  \n",
       "1       NaN          NaN  \n",
       "2       NaN          NaN  \n",
       "3       NaN          NaN  \n",
       "4       NaN          NaN  \n",
       "...     ...          ...  \n",
       "60999   NaN          NaN  \n",
       "61000   NaN          NaN  \n",
       "61001   NaN          NaN  \n",
       "61002  6.44          NaN  \n",
       "61003 41.24          NaN  \n",
       "\n",
       "[61004 rows x 26 columns]"
      ]
     },
     "metadata": {},
     "output_type": "display_data"
    }
   ],
   "source": [
    "#load as DataFrame\n",
    "df_pubdata = pd.read_csv('WWBIData.csv')\n",
    "\n",
    "#display the DataFrame\n",
    "display(df_pubdata)"
   ]
  },
  {
   "cell_type": "markdown",
   "metadata": {},
   "source": [
    "For each row, we have the country name and code, the indicator name and code, and a few rows corresponding to the indicator's data for different years. We can already appreciate that data is missing for a lot of years and countries... Let's see what we can do. Next we will unify country names with those of our previous DataFrames. The process will be the same as what we did with our IDH dataset, so there is no need to explain the steps with such detail."
   ]
  },
  {
   "cell_type": "code",
   "execution_count": 48,
   "metadata": {},
   "outputs": [
    {
     "data": {
      "text/plain": [
       "{'Czechia', 'Kyrgyzstan', 'Slovakia', 'South Korea'}"
      ]
     },
     "metadata": {},
     "output_type": "display_data"
    }
   ],
   "source": [
    "#extract the country names from both public sector indicators and budget DataFrames\n",
    "countries_pubdata = set(df_pubdata['Country Name'].unique())\n",
    "countries_budget = set(df_budget['country'].unique())\n",
    "\n",
    "#display the countries that are not in df_pubdata\n",
    "display(countries_budget - countries_pubdata)"
   ]
  },
  {
   "cell_type": "code",
   "execution_count": 49,
   "metadata": {},
   "outputs": [
    {
     "data": {
      "text/plain": [
       "{'Afghanistan',\n",
       " 'Albania',\n",
       " 'Algeria',\n",
       " 'Angola',\n",
       " 'Anguilla',\n",
       " 'Antigua and Barbuda',\n",
       " 'Argentina',\n",
       " 'Armenia',\n",
       " 'Aruba',\n",
       " 'Australia',\n",
       " 'Austria',\n",
       " 'Azerbaijan',\n",
       " 'Bahrain',\n",
       " 'Bangladesh',\n",
       " 'Barbados',\n",
       " 'Belarus',\n",
       " 'Belgium',\n",
       " 'Belize',\n",
       " 'Benin',\n",
       " 'Bermuda',\n",
       " 'Bhutan',\n",
       " 'Bolivia',\n",
       " 'Bosnia and Herzegovina',\n",
       " 'Botswana',\n",
       " 'Brazil',\n",
       " 'Brunei',\n",
       " 'Bulgaria',\n",
       " 'Burkina Faso',\n",
       " 'Burundi',\n",
       " 'Cabo Verde',\n",
       " 'Cambodia',\n",
       " 'Cameroon',\n",
       " 'Canada',\n",
       " 'Cayman Islands',\n",
       " 'Central African Republic',\n",
       " 'Chad',\n",
       " 'Chile',\n",
       " 'China',\n",
       " 'Colombia',\n",
       " 'Comoros',\n",
       " 'Congo',\n",
       " 'Costa Rica',\n",
       " 'Croatia',\n",
       " 'Curaçao',\n",
       " 'Cyprus',\n",
       " 'Czech Republic',\n",
       " \"Côte d'Ivoire\",\n",
       " 'Dem. Rep. Congo',\n",
       " 'Denmark',\n",
       " 'Djibouti',\n",
       " 'Dominica',\n",
       " 'Dominican Republic',\n",
       " 'Ecuador',\n",
       " 'Egypt',\n",
       " 'El Salvador',\n",
       " 'Equatorial Guinea',\n",
       " 'Eritrea',\n",
       " 'Estonia',\n",
       " 'Eswatini',\n",
       " 'Ethiopia',\n",
       " 'Fiji',\n",
       " 'Finland',\n",
       " 'France',\n",
       " 'Gabon',\n",
       " 'Georgia',\n",
       " 'Germany',\n",
       " 'Ghana',\n",
       " 'Greece',\n",
       " 'Grenada',\n",
       " 'Guatemala',\n",
       " 'Guinea',\n",
       " 'Guinea-Bissau',\n",
       " 'Guyana',\n",
       " 'Haiti',\n",
       " 'Honduras',\n",
       " 'Hong Kong SAR, China',\n",
       " 'Hungary',\n",
       " 'Iceland',\n",
       " 'India',\n",
       " 'Indonesia',\n",
       " 'Iran',\n",
       " 'Iraq',\n",
       " 'Ireland',\n",
       " 'Israel',\n",
       " 'Italy',\n",
       " 'Jamaica',\n",
       " 'Japan',\n",
       " 'Jordan',\n",
       " 'Kazakhstan',\n",
       " 'Kenya',\n",
       " 'Kiribati',\n",
       " 'Korea',\n",
       " 'Kosovo',\n",
       " 'Kuwait',\n",
       " 'Kyrgyz Republic',\n",
       " 'Lao PDR',\n",
       " 'Latvia',\n",
       " 'Lebanon',\n",
       " 'Lesotho',\n",
       " 'Liberia',\n",
       " 'Libya',\n",
       " 'Lithuania',\n",
       " 'Luxembourg',\n",
       " 'Macao SAR, China',\n",
       " 'Madagascar',\n",
       " 'Malawi',\n",
       " 'Malaysia',\n",
       " 'Maldives',\n",
       " 'Mali',\n",
       " 'Malta',\n",
       " 'Marshall Islands',\n",
       " 'Mauritania',\n",
       " 'Mauritius',\n",
       " 'Mexico',\n",
       " 'Micronesia',\n",
       " 'Moldova',\n",
       " 'Mongolia',\n",
       " 'Montenegro',\n",
       " 'Montserrat',\n",
       " 'Morocco',\n",
       " 'Mozambique',\n",
       " 'Myanmar',\n",
       " 'Namibia',\n",
       " 'Nauru',\n",
       " 'Nepal',\n",
       " 'Netherlands',\n",
       " 'New Zealand',\n",
       " 'Nicaragua',\n",
       " 'Niger',\n",
       " 'Nigeria',\n",
       " 'North Macedonia',\n",
       " 'Norway',\n",
       " 'Oman',\n",
       " 'Pakistan',\n",
       " 'Palau',\n",
       " 'Panama',\n",
       " 'Papua New Guinea',\n",
       " 'Paraguay',\n",
       " 'Peru',\n",
       " 'Philippines',\n",
       " 'Poland',\n",
       " 'Portugal',\n",
       " 'Puerto Rico',\n",
       " 'Qatar',\n",
       " 'Romania',\n",
       " 'Russia',\n",
       " 'Rwanda',\n",
       " 'Samoa',\n",
       " 'San Marino',\n",
       " 'Saudi Arabia',\n",
       " 'Senegal',\n",
       " 'Serbia',\n",
       " 'Seychelles',\n",
       " 'Sierra Leone',\n",
       " 'Singapore',\n",
       " 'Sint Maarten (Dutch part)',\n",
       " 'Slovak Republic',\n",
       " 'Slovenia',\n",
       " 'Solomon Islands',\n",
       " 'Somalia',\n",
       " 'South Africa',\n",
       " 'South Sudan',\n",
       " 'Spain',\n",
       " 'Sri Lanka',\n",
       " 'St. Kitts and Nevis',\n",
       " 'St. Lucia',\n",
       " 'St. Vincent and the Grenadines',\n",
       " 'Sudan',\n",
       " 'Suriname',\n",
       " 'Sweden',\n",
       " 'Switzerland',\n",
       " 'Syrian Arab Republic',\n",
       " 'São Tomé and Principe',\n",
       " 'Taiwan',\n",
       " 'Tajikistan',\n",
       " 'Tanzania',\n",
       " 'Thailand',\n",
       " 'The Bahamas',\n",
       " 'The Gambia',\n",
       " 'Timor-Leste',\n",
       " 'Togo',\n",
       " 'Tonga',\n",
       " 'Trinidad and Tobago',\n",
       " 'Tunisia',\n",
       " 'Turkey',\n",
       " 'Turkmenistan',\n",
       " 'Turks and Caicos Islands',\n",
       " 'Tuvalu',\n",
       " 'Uganda',\n",
       " 'Ukraine',\n",
       " 'United Arab Emirates',\n",
       " 'United Kingdom',\n",
       " 'United States',\n",
       " 'Uruguay',\n",
       " 'Uzbekistan',\n",
       " 'Vanuatu',\n",
       " 'Venezuela',\n",
       " 'Vietnam',\n",
       " 'West Bank and Gaza',\n",
       " 'Yemen',\n",
       " 'Zambia',\n",
       " 'Zimbabwe'}"
      ]
     },
     "metadata": {},
     "output_type": "display_data"
    }
   ],
   "source": [
    "#display the unique countries tin df_pubdata\n",
    "display(countries_pubdata)"
   ]
  },
  {
   "cell_type": "code",
   "execution_count": 50,
   "metadata": {},
   "outputs": [
    {
     "data": {
      "text/plain": [
       "set()"
      ]
     },
     "metadata": {},
     "output_type": "display_data"
    }
   ],
   "source": [
    "#replace countries that are written differently in countries_pubdata compared with pca_df\n",
    "df_pubdata['Country Name'] = df_pubdata['Country Name'].replace('Czech Republic', 'Czechia')\n",
    "df_pubdata['Country Name'] = df_pubdata['Country Name'].replace('Kyrgyz Republic', 'Kyrgyzstan')\n",
    "df_pubdata['Country Name'] = df_pubdata['Country Name'].replace('Slovak Republic', 'Slovakia')\n",
    "df_pubdata['Country Name'] = df_pubdata['Country Name'].replace('Korea', 'South Korea')\n",
    "\n",
    "#extract the country names from df_pubdata\n",
    "countries_pubdata = set(df_pubdata['Country Name'].unique())\n",
    "\n",
    "#display the countries that are not in df_pubdata\n",
    "display(countries_budget - countries_pubdata)"
   ]
  },
  {
   "cell_type": "markdown",
   "metadata": {},
   "source": [
    "Again, an empty set means that we got rid of any discrepancies in country names. Now we only have to select the rows of our new DataFrame that belong to countries present in our analyses."
   ]
  },
  {
   "cell_type": "code",
   "execution_count": 51,
   "metadata": {},
   "outputs": [],
   "source": [
    "#select only rows for countries present in our analyses\n",
    "df_pubdata = df_pubdata[df_pubdata['Country Name'].isin(countries_budget)]"
   ]
  },
  {
   "cell_type": "markdown",
   "metadata": {},
   "source": [
    "And now we get to the interesting part. We can take a look at the different indicators and choose the most relevant ones."
   ]
  },
  {
   "cell_type": "code",
   "execution_count": 52,
   "metadata": {},
   "outputs": [
    {
     "data": {
      "text/plain": [
       "array(['Core Public Administration workers, as a share of public formal employees',\n",
       "       'Core Public Administration workers, as a share of public paid employees',\n",
       "       'Core Public Administration workers, as a share of public total employees',\n",
       "       'Cross-country public sector pay comparison ratio, by occupation: Government economist (using mean)',\n",
       "       'Cross-country public sector pay comparison ratio, by occupation: Government economist (using median)',\n",
       "       'Cross-country public sector pay comparison ratio, by occupation: Hospital doctor (using mean)',\n",
       "       'Cross-country public sector pay comparison ratio, by occupation: Hospital doctor (using median)',\n",
       "       'Cross-country public sector pay comparison ratio, by occupation: Hospital nurse (using mean)',\n",
       "       'Cross-country public sector pay comparison ratio, by occupation: Hospital nurse (using median)',\n",
       "       'Cross-country public sector pay comparison ratio, by occupation: Judge (using mean)',\n",
       "       'Cross-country public sector pay comparison ratio, by occupation: Judge (using median)',\n",
       "       'Cross-country public sector pay comparison ratio, by occupation: Police officer (using mean)',\n",
       "       'Cross-country public sector pay comparison ratio, by occupation: Police officer (using median)',\n",
       "       'Cross-country public sector pay comparison ratio, by occupation: Primary school teacher (using mean)',\n",
       "       'Cross-country public sector pay comparison ratio, by occupation: Primary school teacher (using median)',\n",
       "       'Cross-country public sector pay comparison ratio, by occupation: Secondary school teacher (using mean)',\n",
       "       'Cross-country public sector pay comparison ratio, by occupation: Secondary school teacher (using median)',\n",
       "       'Cross-country public sector pay comparison ratio, by occupation: Senior official (using mean)',\n",
       "       'Cross-country public sector pay comparison ratio, by occupation: Senior official (using median)',\n",
       "       'Cross-country public sector pay comparison ratio, by occupation: University teacher (using mean)',\n",
       "       'Cross-country public sector pay comparison ratio, by occupation: University teacher (using median)',\n",
       "       'Education workers, as a share of public formal employees',\n",
       "       'Education workers, as a share of public paid employees',\n",
       "       'Education workers, as a share of public total employees',\n",
       "       'Female to male wage ratio in the private sector (using mean)',\n",
       "       'Female to male wage ratio in the private sector (using median)',\n",
       "       'Female to male wage ratio in the public sector (using mean)',\n",
       "       'Female to male wage ratio in the public sector (using median)',\n",
       "       'Females, as a share of private paid employees',\n",
       "       'Females, as a share of private paid employees by occupational group: Clerks',\n",
       "       'Females, as a share of private paid employees by occupational group: Elementary occupation',\n",
       "       'Females, as a share of private paid employees by occupational group: Managers',\n",
       "       'Females, as a share of private paid employees by occupational group: Professionals',\n",
       "       'Females, as a share of private paid employees by occupational group: Technicians',\n",
       "       'Females, as a share of private paid employees by wage quintile: Quintile 1',\n",
       "       'Females, as a share of private paid employees by wage quintile: Quintile 2',\n",
       "       'Females, as a share of private paid employees by wage quintile: Quintile 3',\n",
       "       'Females, as a share of private paid employees by wage quintile: Quintile 4',\n",
       "       'Females, as a share of private paid employees by wage quintile: Quintile 5',\n",
       "       'Females, as a share of public paid employees',\n",
       "       'Females, as a share of public paid employees by industry: Core Public Administration',\n",
       "       'Females, as a share of public paid employees by industry: Education',\n",
       "       'Females, as a share of public paid employees by industry: Health',\n",
       "       'Females, as a share of public paid employees by industry: Public Administration',\n",
       "       'Females, as a share of public paid employees by industry: Public Safety',\n",
       "       'Females, as a share of public paid employees by industry: Social Security',\n",
       "       'Females, as a share of public paid employees by industry: Teachers',\n",
       "       'Females, as a share of public paid employees by occupation: Medical workers',\n",
       "       'Females, as a share of public paid employees by occupational group: Clerks',\n",
       "       'Females, as a share of public paid employees by occupational group: Elementary occupation',\n",
       "       'Females, as a share of public paid employees by occupational group: Managers',\n",
       "       'Females, as a share of public paid employees by occupational group: Professionals',\n",
       "       'Females, as a share of public paid employees by occupational group: Technicians',\n",
       "       'Females, as a share of public paid employees by wage quintile: Quintile 1',\n",
       "       'Females, as a share of public paid employees by wage quintile: Quintile 2',\n",
       "       'Females, as a share of public paid employees by wage quintile: Quintile 3',\n",
       "       'Females, as a share of public paid employees by wage quintile: Quintile 4',\n",
       "       'Females, as a share of public paid employees by wage quintile: Quintile 5',\n",
       "       'Gender wage premium in the private sector, by industry: Education (compared to male paid employees)',\n",
       "       'Gender wage premium in the private sector, by industry: Health (compared to male paid employees)',\n",
       "       'Gender wage premium in the private sector, by occupation: Medical workers (compared to male paid employees)',\n",
       "       'Gender wage premium in the private sector, by occupation: Teachers (compared to male paid employees)',\n",
       "       'Gender wage premium in the public sector, by industry: Core Public Administration (compared to male paid employees)',\n",
       "       'Gender wage premium in the public sector, by industry: Education (compared to male paid employees)',\n",
       "       'Gender wage premium in the public sector, by industry: Health (compared to male paid employees)',\n",
       "       'Gender wage premium in the public sector, by industry: Public Administration (compared to male paid employees)',\n",
       "       'Gender wage premium in the public sector, by industry: Public Safety (compared to male paid employees)',\n",
       "       'Gender wage premium in the public sector, by industry: Social Security (compared to male paid employees)',\n",
       "       'Health workers, as a share of public formal employees',\n",
       "       'Health workers, as a share of public paid employees',\n",
       "       'Health workers, as a share of public total employees',\n",
       "       'Individuals with no education as a share of private paid employees',\n",
       "       'Individuals with no education as a share of public paid employees',\n",
       "       'Individuals with primary education as a share of private paid employees',\n",
       "       'Individuals with primary education as a share of public paid employees',\n",
       "       'Individuals with secondary education as a share of private paid employees',\n",
       "       'Individuals with secondary education as a share of public paid employees',\n",
       "       'Individuals with tertiary education as a share of private paid employees',\n",
       "       'Individuals with tertiary education as a share of private paid employees, by industry: Education',\n",
       "       'Individuals with tertiary education as a share of private paid employees, by industry: Health',\n",
       "       'Individuals with tertiary Education as a share of private paid employees, by occupation: Medical workers',\n",
       "       'Individuals with tertiary Education as a share of private paid employees, by occupation: Teachers',\n",
       "       'Individuals with tertiary education as a share of public paid employees',\n",
       "       'Individuals with tertiary Education as a share of public paid employees, by industry: Core Public Administration',\n",
       "       'Individuals with tertiary education as a share of public paid employees, by industry: Education',\n",
       "       'Individuals with tertiary education as a share of public paid employees, by industry: Health',\n",
       "       'Individuals with tertiary education as a share of public paid employees, by industry: Public Administration',\n",
       "       'Individuals with tertiary Education as a share of public paid employees, by industry: Public Safety',\n",
       "       'Individuals with tertiary Education as a share of public paid employees, by industry: Social Security',\n",
       "       'Individuals with tertiary Education as a share of public paid employees, by occupation: Medical workers',\n",
       "       'Individuals with tertiary Education as a share of public paid employees, by occupation: Teachers',\n",
       "       'Mean age of private paid employees',\n",
       "       'Mean age of private paid employees, by industry: Education',\n",
       "       'Mean age of private paid employees, by industry: Health',\n",
       "       'Mean age of private paid employees, by occupation: Medical workers',\n",
       "       'Mean age of private paid employees, by occupation: Teachers',\n",
       "       'Mean age of public paid employees',\n",
       "       'Mean age of public paid employees, by industry: Core Public Administration',\n",
       "       'Mean age of public paid employees, by industry: Education',\n",
       "       'Mean age of public paid employees, by industry: Health',\n",
       "       'Mean age of public paid employees, by industry: Public Administration',\n",
       "       'Mean age of public paid employees, by industry: Public Safety',\n",
       "       'Mean age of public paid employees, by industry: Social Security',\n",
       "       'Mean age of public paid employees, by occupation: Medical workers',\n",
       "       'Mean age of public paid employees, by occupation: Teachers',\n",
       "       'Median age of private paid employees',\n",
       "       'Median age of private paid employees, by industry: Education',\n",
       "       'Median age of private paid employees, by industry: Health',\n",
       "       'Median age of private paid employees, by occupation: Medical workers',\n",
       "       'Median age of private paid employees, by occupation: Teachers',\n",
       "       'Median age of public paid employees',\n",
       "       'Median age of public paid employees, by industry: Core Public Administration',\n",
       "       'Median age of public paid employees, by industry: Education',\n",
       "       'Median age of public paid employees, by industry: Health',\n",
       "       'Median age of public paid employees, by industry: Public Administration',\n",
       "       'Median age of public paid employees, by industry: Public Safety',\n",
       "       'Median age of public paid employees, by industry: Social Security',\n",
       "       'Median age of public paid employees, by occupation: Medical workers',\n",
       "       'Median age of public paid employees, by occupation: Teachers',\n",
       "       'Medical workers, as a share of public formal employees',\n",
       "       'Medical workers, as a share of public paid employees',\n",
       "       'Medical workers, as a share of public total employees',\n",
       "       'Number of employed employees, by industry: Core Public Administration',\n",
       "       'Number of employed employees, by industry: Education',\n",
       "       'Number of employed employees, by industry: Health',\n",
       "       'Number of employed employees, by industry: Public Administration',\n",
       "       'Number of employed employees, by industry: Public Safety',\n",
       "       'Number of employed employees, by industry: Social Security',\n",
       "       'Number of employed employees, by occupation: Medical workers',\n",
       "       'Number of employed employees, by occupation: Teachers',\n",
       "       'Number of employed individuals', 'Number of paid employees',\n",
       "       'Number of paid employees, by industry: Core Public Administration',\n",
       "       'Number of paid employees, by industry: Education',\n",
       "       'Number of paid employees, by industry: Health',\n",
       "       'Number of paid employees, by industry: Public Administration',\n",
       "       'Number of paid employees, by industry: Public Safety',\n",
       "       'Number of paid employees, by industry: Social Security',\n",
       "       'Number of paid employees, by occupation: Medical workers',\n",
       "       'Number of paid employees, by occupation: Teachers',\n",
       "       'Number of public paid employees',\n",
       "       'Number of public paid employees, by industry: Core Public Administration',\n",
       "       'Number of public paid employees, by industry: Education',\n",
       "       'Number of public paid employees, by industry: Health',\n",
       "       'Number of public paid employees, by industry: Public Administration',\n",
       "       'Number of public paid employees, by industry: Public Safety',\n",
       "       'Number of public paid employees, by industry: Social Security',\n",
       "       'Number of public paid employees, by occupation: Medical workers',\n",
       "       'Number of public paid employees, by occupation: Teachers',\n",
       "       'Pay compression ratio in private sector (ratio of 90th/10th percentile earners)',\n",
       "       'Pay compression ratio in public sector (ratio of 90th/10th percentile earners)',\n",
       "       'Pay compression ratio in public sector, by occupation: Government economist (clerk as reference)',\n",
       "       'Pay compression ratio in public sector, by occupation: Hospital doctor (clerk as reference)',\n",
       "       'Pay compression ratio in public sector, by occupation: Hospital nurse (clerk as reference)',\n",
       "       'Pay compression ratio in public sector, by occupation: Judge (clerk as reference)',\n",
       "       'Pay compression ratio in public sector, by occupation: Police officer (clerk as reference)',\n",
       "       'Pay compression ratio in public sector, by occupation: Primary school teacher (clerk as reference)',\n",
       "       'Pay compression ratio in public sector, by occupation: Secondary school teacher (clerk as reference)',\n",
       "       'Pay compression ratio in public sector, by occupation: Senior officials (clerk as reference)',\n",
       "       'Pay compression ratio in public sector, by occupation: University teacher (clerk as reference)',\n",
       "       'Proportion of total employees with tertiary Education working in public sector',\n",
       "       'Public Administration workers, as a share of public formal employees',\n",
       "       'Public Administration workers, as a share of public paid employees',\n",
       "       'Public Administration workers, as a share of public total employees',\n",
       "       'Public Safety workers, as a share of public formal employees',\n",
       "       'Public Safety workers, as a share of public paid employees',\n",
       "       'Public Safety workers, as a share of total public employees',\n",
       "       'Public sector employment, as a share of formal employment',\n",
       "       'Public sector employment, as a share of formal employment, by industry: Education',\n",
       "       'Public sector employment, as a share of formal employment, by industry: Health',\n",
       "       'Public sector employment, as a share of formal employment, by occupation: Medical workers',\n",
       "       'Public sector employment, as a share of formal employment, by occupation: Teachers',\n",
       "       'Public sector employment, as a share of paid employment',\n",
       "       'Public sector employment, as a share of paid employment by gender: Female',\n",
       "       'Public sector employment, as a share of paid employment by gender: male',\n",
       "       'Public sector employment, as a share of paid employment by location: rural',\n",
       "       'Public sector employment, as a share of paid employment by location: urban',\n",
       "       'Public sector employment, as a share of paid employment, by industry: Education',\n",
       "       'Public sector employment, as a share of paid employment, by industry: Health',\n",
       "       'Public sector employment, as a share of paid employment, by occupation: Medical workers',\n",
       "       'Public sector employment, as a share of paid employment, by occupation: Teachers',\n",
       "       'Public sector employment, as a share of paid employment, by occupational group: Clerks',\n",
       "       'Public sector employment, as a share of paid employment, by occupational group: Elementary workers',\n",
       "       'Public sector employment, as a share of paid employment, by occupational group: Manager',\n",
       "       'Public sector employment, as a share of paid employment, by occupational group: Professionals',\n",
       "       'Public sector employment, as a share of paid employment, by occupational group: Technicians',\n",
       "       'Public sector employment, as a share of total employment',\n",
       "       'Public sector employment, as a share of total employment by gender: Female',\n",
       "       'Public sector employment, as a share of total employment by gender: male',\n",
       "       'Public sector employment, as a share of total employment by location: rural',\n",
       "       'Public sector employment, as a share of total employment by location: urban',\n",
       "       'Public sector employment, as a share of total employment, by industry: Education',\n",
       "       'Public sector employment, as a share of total employment, by industry: Health',\n",
       "       'Public sector employment, as a share of total employment, by occupation: Medical workers',\n",
       "       'Public sector employment, as a share of total employment, by occupation: Teachers',\n",
       "       'Public sector employment, as a share of total employment, by occupationa group: Elementary workers',\n",
       "       'Public sector employment, as a share of total employment, by occupational group: Clerks',\n",
       "       'Public sector employment, as a share of total employment, by occupational group: Manager',\n",
       "       'Public sector employment, as a share of total employment, by occupational group: Professionals',\n",
       "       'Public sector employment, as a share of total employment, by occupational group: Technicians',\n",
       "       'Public sector female employment, as a share of paid employment by industry: Education',\n",
       "       'Public sector female employment, as a share of paid employment by industry: Health',\n",
       "       'Public sector female employment, as a share of paid employment by occupation: Medical workers',\n",
       "       'Public sector female employment, as a share of paid employment by occupation: Teachers',\n",
       "       'Public sector female employment, as a share of paid employment by occupational group: Clerks',\n",
       "       'Public sector female employment, as a share of paid employment by occupational group: Elementary workers',\n",
       "       'Public sector female employment, as a share of paid employment by occupational group: Manager',\n",
       "       'Public sector female employment, as a share of paid employment by occupational group: Professionals',\n",
       "       'Public sector female employment, as a share of paid employment by occupational group: Technicians',\n",
       "       'Public sector wage premium (compared to all private employees)',\n",
       "       'Public sector wage premium (compared to formal wage employees)',\n",
       "       'Public sector wage premium for females, by industry: Education (compared to paid wage employees)',\n",
       "       'Public sector wage premium for females, by industry: Health (compared to paid wage employees)',\n",
       "       'Public sector wage premium for females, by occupation: Medical workers (compared to paid wage employees)',\n",
       "       'Public sector wage premium for females, by occupation: Teachers (compared to paid wage employees)',\n",
       "       'Public sector wage premium for males, by industry: Education (compared to paid wage employees)',\n",
       "       'Public sector wage premium for males, by industry: Health (compared to paid wage employees)',\n",
       "       'Public sector wage premium for males, by occupation: Medical workers (compared to paid wage employees)',\n",
       "       'Public sector wage premium for males, by occupation: Teachers (compared to paid wage employees)',\n",
       "       'Public sector wage premium, by education level: No Education (compared to formal wage employees)',\n",
       "       'Public sector wage premium, by education level: Primary Education (compared to formal wage employees)',\n",
       "       'Public sector wage premium, by education level: Secondary Education (compared to formal wage employees)',\n",
       "       'Public sector wage premium, by education level: Tertiary Education (compared to formal wage employees)',\n",
       "       'Public sector wage premium, by gender: Female (compared to all private employees)',\n",
       "       'Public sector wage premium, by gender: Male (compared to all private employees)',\n",
       "       'Public sector wage premium, by industry: Education (compared to all private employees)',\n",
       "       'Public sector wage premium, by industry: Education (compared to formal wage employees)',\n",
       "       'Public sector wage premium, by industry: Health (compared to all private employees)',\n",
       "       'Public sector wage premium, by industry: Health (compared to formal wage employees)',\n",
       "       'Public sector wage premium, by occupation: Medical workers (compared to all private employees)',\n",
       "       'Public sector wage premium, by occupation: Medical workers (compared to formal wage employees)',\n",
       "       'Public sector wage premium, by occupation: Teacher (compared to all private employees)',\n",
       "       'Public sector wage premium, by occupation: Teacher (compared to formal wage employees)',\n",
       "       'Public sector wage premium, by occupational group: Clerks (compared to formal wage employees)',\n",
       "       'Public sector wage premium, by occupational group: Elementary occupation (compared to formal wage employees)',\n",
       "       'Public sector wage premium, by occupational group: Managers (compared to formal wage employees)',\n",
       "       'Public sector wage premium, by occupational group: Professionals (compared to formal wage employees)',\n",
       "       'Public sector wage premium, by occupational group: Technicians (compared to formal wage employees)',\n",
       "       'P-Value: Gender wage premium in the private sector, by industry: Education (compared to male paid employees)',\n",
       "       'P-Value: Gender wage premium in the private sector, by industry: Health (compared to male paid employees)',\n",
       "       'P-Value: Gender wage premium in the private sector, by occupation: Medical workers (compared to male paid employees)',\n",
       "       'P-Value: Gender wage premium in the private sector, by occupation: Teachers (compared to male paid employees)',\n",
       "       'P-Value: Gender wage premium in the public sector, by industry: Core Public Administration (compared to male paid employees)',\n",
       "       'P-Value: Gender wage premium in the public sector, by industry: Education (compared to male paid employees)',\n",
       "       'P-Value: Gender wage premium in the public sector, by industry: Health (compared to male paid employees)',\n",
       "       'P-Value: Gender wage premium in the public sector, by industry: Public Administration (compared to male paid employees)',\n",
       "       'P-Value: Gender wage premium in the public sector, by industry: Public Safety (compared to male paid employees)',\n",
       "       'P-Value: Gender wage premium in the public sector, by industry: Social Security (compared to male paid employees)',\n",
       "       'P-Value: Public sector wage premium (compared to all private employees)',\n",
       "       'P-Value: Public sector wage premium (compared to formal wage employees)',\n",
       "       'P-Value: Public sector wage premium for females, by industry: Education (compared to paid wage employees)',\n",
       "       'P-Value: Public sector wage premium for females, by industry: Health (compared to paid wage employees)',\n",
       "       'P-Value: Public sector wage premium for females, by occupation: Medical workers (compared to paid wage employees)',\n",
       "       'P-Value: Public sector wage premium for females, by occupation: Teachers (compared to paid wage employees)',\n",
       "       'P-Value: Public sector wage premium for males, by industry: Education (compared to paid wage employees)',\n",
       "       'P-Value: Public sector wage premium for males, by industry: Health (compared to paid wage employees)',\n",
       "       'P-Value: Public sector wage premium for males, by occupation: Medical workers (compared to paid wage employees)',\n",
       "       'P-Value: Public sector wage premium for males, by occupation: Teachers (compared to paid wage employees)',\n",
       "       'P-Value: Public sector wage premium, by education level (compared to formal wage employees)',\n",
       "       'P-Value: Public sector wage premium, by gender (compared to all private employees)',\n",
       "       'P-Value: Public sector wage premium, by industry: Education (compared to all private employees)',\n",
       "       'P-Value: Public sector wage premium, by industry: Education (compared to formal wage employees)',\n",
       "       'P-Value: Public sector wage premium, by industry: Health (compared to all private employees)',\n",
       "       'P-Value: Public sector wage premium, by industry: Health (compared to formal wage employees)',\n",
       "       'P-Value: Public sector wage premium, by occupation (compared to formal wage employees)',\n",
       "       'P-Value: Public sector wage premium, by occupation: Medical workers (compared to all private employees)',\n",
       "       'P-Value: Public sector wage premium, by occupation: Medical workers (compared to formal wage employees)',\n",
       "       'P-Value: Public sector wage premium, by occupation: Teacher (compared to all private employees)',\n",
       "       'P-Value: Public sector wage premium, by occupation: Teacher (compared to formal wage employees)',\n",
       "       'Relative wage of Managers (using clerk as reference) in private sector',\n",
       "       'Relative wage of Managers (using clerk as reference) in public sector',\n",
       "       'Relative wage of Professionals (using clerk as reference) in private sector',\n",
       "       'Relative wage of Professionals (using clerk as reference) in public sector',\n",
       "       'Relative wage of Technicians (using clerk as reference) in private sector',\n",
       "       'Relative wage of Technicians (using clerk as reference) in public sector',\n",
       "       'Rural residents, as a share of private paid employees',\n",
       "       'Rural residents, as a share of public paid employees',\n",
       "       'Rural residents, as a share of public paid employees, by industry: Core Public Administration',\n",
       "       'Rural residents, as a share of public paid employees, by industry: Education',\n",
       "       'Rural residents, as a share of public paid employees, by industry: Health',\n",
       "       'Rural residents, as a share of public paid employees, by industry: Public Administration',\n",
       "       'Rural residents, as a share of public paid employees, by industry: Public Safety',\n",
       "       'Rural residents, as a share of public paid employees, by industry: Social Security',\n",
       "       'Rural residents, as a share of public paid employees, by industry: Teachers',\n",
       "       'Rural residents, as a share of public paid employees, by occupation: Medical workers',\n",
       "       'Sample size', 'Share of private paid employees with a contract',\n",
       "       'Share of private paid employees with health insurance',\n",
       "       'Share of private paid employees with social security',\n",
       "       'Share of private paid employees with union membership',\n",
       "       'Share of public paid employees with a contract',\n",
       "       'Share of public paid employees with health insurance',\n",
       "       'Share of public paid employees with social security',\n",
       "       'Share of public paid employees with union membership',\n",
       "       'Social Security workers, as a share of public formal employees',\n",
       "       'Social Security workers, as a share of public paid employees',\n",
       "       'Social Security workers, as a share of total public employees',\n",
       "       'Teachers, as a share of public formal employees',\n",
       "       'Teachers, as a share of public paid employees',\n",
       "       'Teachers, as a share of public total employees',\n",
       "       'Wage bill as a percentage of GDP',\n",
       "       'Wage bill as a percentage of Public Expenditure'], dtype=object)"
      ]
     },
     "execution_count": 52,
     "metadata": {},
     "output_type": "execute_result"
    }
   ],
   "source": [
    "#display unique indicator names\n",
    "df_pubdata['Indicator Name'].unique()"
   ]
  },
  {
   "cell_type": "markdown",
   "metadata": {},
   "source": [
    "Among such extensive list, a few look promising. Let's explain why.\n",
    "\n",
    "*Core Public Administration workers, as a share of public total employees*: this refers to the number of public employess that keep a country's agencies running over a the total of public employees, which also involve health, education, defence, etc... This measure could correlate positively with the percentage of the budget dedicated to general public services, and consequently also correlate positively with PC 1. \n",
    "\n",
    "*Health workers, as a share of public total employees*: this could correlate negatively with PC 1, as lower PC 1 values are related to more investment in health.\n",
    "\n",
    "*Medical workers, as a share of public total employees*: same as indicator above.\n",
    "\n",
    "*Public Administration workers, as a share of public total employees*: same as first indicator of interest.\n",
    "\n",
    "*Public sector employment, as a share of total employment*: this is a bit tricky, since it informs us of the amount of public workers over the total workforce. These workers include both those in the core administration, but also health and education professionals. So it is not clear how they should correlate with our PCs, and in particular with PC 1.\n",
    "\n",
    "Having chosen our indicators, we can now filter the dataset to only include the rows concerning them."
   ]
  },
  {
   "cell_type": "code",
   "execution_count": 53,
   "metadata": {},
   "outputs": [],
   "source": [
    "#create a list with our selected indicators\n",
    "selected_indicators = [\n",
    "    'Core Public Administration workers, as a share of public total employees',\n",
    "    'Health workers, as a share of public total employees',\n",
    "    'Medical workers, as a share of public total employees',\n",
    "    'Public Administration workers, as a share of public total employees',\n",
    "    'Public sector employment, as a share of total employment'\n",
    "]\n",
    "\n",
    "#filter the DataFrame to include only the selected indicators\n",
    "df_pubdata = df_pubdata[df_pubdata['Indicator Name'].isin(selected_indicators)]"
   ]
  },
  {
   "cell_type": "markdown",
   "metadata": {},
   "source": [
    "Next, we can see if the data available for each of these indicators is enough to run our correlations. Since we do not want to work with data that is too old, we will stick to the same year range as before, and choose only values corresponding to years from 2010 to 2020 (this being the last available year). Within this range, we will keep the most recent data we have for each country and indicator."
   ]
  },
  {
   "cell_type": "code",
   "execution_count": 54,
   "metadata": {},
   "outputs": [
    {
     "data": {
      "text/html": [
       "<div>\n",
       "<style scoped>\n",
       "    .dataframe tbody tr th:only-of-type {\n",
       "        vertical-align: middle;\n",
       "    }\n",
       "\n",
       "    .dataframe tbody tr th {\n",
       "        vertical-align: top;\n",
       "    }\n",
       "\n",
       "    .dataframe thead th {\n",
       "        text-align: right;\n",
       "    }\n",
       "</style>\n",
       "<table border=\"1\" class=\"dataframe\">\n",
       "  <thead>\n",
       "    <tr style=\"text-align: right;\">\n",
       "      <th></th>\n",
       "      <th>country</th>\n",
       "      <th>indicator</th>\n",
       "      <th>most_recent_year</th>\n",
       "      <th>value</th>\n",
       "    </tr>\n",
       "  </thead>\n",
       "  <tbody>\n",
       "    <tr>\n",
       "      <th>0</th>\n",
       "      <td>Australia</td>\n",
       "      <td>Core Public Administration workers, as a share...</td>\n",
       "      <td>None</td>\n",
       "      <td>NaN</td>\n",
       "    </tr>\n",
       "    <tr>\n",
       "      <th>1</th>\n",
       "      <td>Australia</td>\n",
       "      <td>Health workers, as a share of public total emp...</td>\n",
       "      <td>2015</td>\n",
       "      <td>0.26</td>\n",
       "    </tr>\n",
       "    <tr>\n",
       "      <th>2</th>\n",
       "      <td>Australia</td>\n",
       "      <td>Medical workers, as a share of public total em...</td>\n",
       "      <td>2015</td>\n",
       "      <td>0.11</td>\n",
       "    </tr>\n",
       "    <tr>\n",
       "      <th>3</th>\n",
       "      <td>Australia</td>\n",
       "      <td>Public Administration workers, as a share of p...</td>\n",
       "      <td>2015</td>\n",
       "      <td>0.26</td>\n",
       "    </tr>\n",
       "    <tr>\n",
       "      <th>4</th>\n",
       "      <td>Australia</td>\n",
       "      <td>Public sector employment, as a share of total ...</td>\n",
       "      <td>2015</td>\n",
       "      <td>0.20</td>\n",
       "    </tr>\n",
       "    <tr>\n",
       "      <th>...</th>\n",
       "      <td>...</td>\n",
       "      <td>...</td>\n",
       "      <td>...</td>\n",
       "      <td>...</td>\n",
       "    </tr>\n",
       "    <tr>\n",
       "      <th>270</th>\n",
       "      <td>Zambia</td>\n",
       "      <td>Core Public Administration workers, as a share...</td>\n",
       "      <td>2015</td>\n",
       "      <td>0.03</td>\n",
       "    </tr>\n",
       "    <tr>\n",
       "      <th>271</th>\n",
       "      <td>Zambia</td>\n",
       "      <td>Health workers, as a share of public total emp...</td>\n",
       "      <td>2015</td>\n",
       "      <td>0.04</td>\n",
       "    </tr>\n",
       "    <tr>\n",
       "      <th>272</th>\n",
       "      <td>Zambia</td>\n",
       "      <td>Medical workers, as a share of public total em...</td>\n",
       "      <td>None</td>\n",
       "      <td>NaN</td>\n",
       "    </tr>\n",
       "    <tr>\n",
       "      <th>273</th>\n",
       "      <td>Zambia</td>\n",
       "      <td>Public Administration workers, as a share of p...</td>\n",
       "      <td>2015</td>\n",
       "      <td>0.05</td>\n",
       "    </tr>\n",
       "    <tr>\n",
       "      <th>274</th>\n",
       "      <td>Zambia</td>\n",
       "      <td>Public sector employment, as a share of total ...</td>\n",
       "      <td>2015</td>\n",
       "      <td>0.09</td>\n",
       "    </tr>\n",
       "  </tbody>\n",
       "</table>\n",
       "<p>275 rows × 4 columns</p>\n",
       "</div>"
      ],
      "text/plain": [
       "       country                                          indicator  \\\n",
       "0    Australia  Core Public Administration workers, as a share...   \n",
       "1    Australia  Health workers, as a share of public total emp...   \n",
       "2    Australia  Medical workers, as a share of public total em...   \n",
       "3    Australia  Public Administration workers, as a share of p...   \n",
       "4    Australia  Public sector employment, as a share of total ...   \n",
       "..         ...                                                ...   \n",
       "270     Zambia  Core Public Administration workers, as a share...   \n",
       "271     Zambia  Health workers, as a share of public total emp...   \n",
       "272     Zambia  Medical workers, as a share of public total em...   \n",
       "273     Zambia  Public Administration workers, as a share of p...   \n",
       "274     Zambia  Public sector employment, as a share of total ...   \n",
       "\n",
       "    most_recent_year  value  \n",
       "0               None    NaN  \n",
       "1               2015   0.26  \n",
       "2               2015   0.11  \n",
       "3               2015   0.26  \n",
       "4               2015   0.20  \n",
       "..               ...    ...  \n",
       "270             2015   0.03  \n",
       "271             2015   0.04  \n",
       "272             None    NaN  \n",
       "273             2015   0.05  \n",
       "274             2015   0.09  \n",
       "\n",
       "[275 rows x 4 columns]"
      ]
     },
     "metadata": {},
     "output_type": "display_data"
    }
   ],
   "source": [
    "#define years of interest\n",
    "years = list(map(str, range(2010, 2020 + 1)))\n",
    "\n",
    "#define function to find the most recent year with data\n",
    "def find_most_recent_year(row):\n",
    "    for year in reversed(years):\n",
    "        if not pd.isna(row[year]):\n",
    "            return year\n",
    "    return None\n",
    "\n",
    "#iterate over each country and indicator and run function find_most_recent_year\n",
    "most_recent_year_results = [] #create empty set to populate while iterating\n",
    "\n",
    "for (country, indicator), group in df_pubdata.groupby(['Country Name', 'Indicator Name']):\n",
    "    most_recent_year = group.apply(find_most_recent_year, axis=1).max()\n",
    "    if most_recent_year and most_recent_year in group.columns:\n",
    "        value = group[most_recent_year].values[0]\n",
    "    else:\n",
    "        most_recent_year = None\n",
    "        value = None\n",
    "    most_recent_year_results.append([country, indicator, most_recent_year, value])\n",
    "\n",
    "most_recent_year_df = pd.DataFrame(most_recent_year_results, columns=['country', 'indicator', 'most_recent_year', 'value']) #create DataFrame by giving column names to results\n",
    "\n",
    "#display the DataFrame\n",
    "display(most_recent_year_df)"
   ]
  },
  {
   "cell_type": "markdown",
   "metadata": {},
   "source": [
    "For each country and indicator, `most_recent_year` tells us the msot recent year for which we have data, and `value` gives us the value for this most recent indicator. If there is no data within the specified years range, the aforementioned columns will encode it as *None* and *NaN*. Now, irrespective of the year, we can know the number of countries for which we have data within each indicator. "
   ]
  },
  {
   "cell_type": "code",
   "execution_count": 55,
   "metadata": {},
   "outputs": [
    {
     "data": {
      "text/plain": [
       "indicator\n",
       "Public sector employment, as a share of total employment                    45\n",
       "Health workers, as a share of public total employees                        12\n",
       "Public Administration workers, as a share of public total employees         12\n",
       "Medical workers, as a share of public total employees                        7\n",
       "Core Public Administration workers, as a share of public total employees     6\n",
       "Name: count, dtype: int64"
      ]
     },
     "execution_count": 55,
     "metadata": {},
     "output_type": "execute_result"
    }
   ],
   "source": [
    "#create DataFrame with rows where 'value' is not NaN\n",
    "available_data_df = most_recent_year_df[most_recent_year_df['value'].notna()]\n",
    "\n",
    "#count and display the number of rows\n",
    "available_data_df['indicator'].value_counts()"
   ]
  },
  {
   "cell_type": "markdown",
   "metadata": {},
   "source": [
    "Bummer... For most indicators, we only have a handful of countries. The only indicator where our sample is decent enough is *Public sector employment, as a share of total employment*. This was also our trickiest variable, but it is the only one we can really work with, so we may as well go ahead with it. Let's get the data for that indicator ready and attach it to our PCA DataFrame."
   ]
  },
  {
   "cell_type": "code",
   "execution_count": 56,
   "metadata": {},
   "outputs": [],
   "source": [
    "#get a DataFrame with only data for our indicator of interest\n",
    "pubsecsize_df = most_recent_year_df[most_recent_year_df['indicator'] == 'Public sector employment, as a share of total employment'] #filter to include only rows of our indicator of interest\n",
    "pubsecsize_df = pubsecsize_df[[\"country\", \"value\"]] #select only necessary columns\n",
    "pubsecsize_df = pubsecsize_df.set_axis(['country', 'public_over_total_employees'], axis=1) #rename columns\n",
    "\n",
    "#merge PCA and public sector size DataFrames\n",
    "pca_df = pd.merge(pca_df, pubsecsize_df, how='left', on='country')"
   ]
  },
  {
   "cell_type": "markdown",
   "metadata": {},
   "source": [
    "The only step before running the correlations is to get rid of NaN values, since it is a requirement to use the *pearsonr* function from the *scipy.stats* library. "
   ]
  },
  {
   "cell_type": "code",
   "execution_count": 57,
   "metadata": {},
   "outputs": [
    {
     "name": "stdout",
     "output_type": "stream",
     "text": [
      "Correlation between PC1 and proportion of public sector employment, as a share of total employment, r: -0.48, p-value: 8.29e-04\n",
      "Correlation between PC2 and proportion of public sector employment, as a share of total employment, r: 0.01, p-value: 9.69e-01\n",
      "Correlation between PC3 and proportion of public sector employment, as a share of total employment, r: 0.10, p-value: 5.10e-01\n"
     ]
    }
   ],
   "source": [
    "#drop rows with NaN values in the relevant columns, since the pearson correlation function we use cannot handle NaN\n",
    "pca_df_nona = pca_df[['PC1', 'PC2', 'PC3', 'public_over_total_employees']].dropna()\n",
    "\n",
    "#calculate the correlations with p-values\n",
    "corr_pc1_pubsec, pvalue_pc1_pubsec = stats.pearsonr(pca_df_nona['PC1'], pca_df_nona['public_over_total_employees'])\n",
    "corr_pc2_pubsec, pvalue_pc2_pubsec = stats.pearsonr(pca_df_nona['PC2'], pca_df_nona['public_over_total_employees'])\n",
    "corr_pc3_pubsec, pvalue_pc3_pubsec = stats.pearsonr(pca_df_nona['PC3'], pca_df_nona['public_over_total_employees'])\n",
    "\n",
    "#print the results\n",
    "print(f\"Correlation between PC1 and proportion of public sector employment, as a share of total employment, r: {corr_pc1_pubsec:.2f}, p-value: {pvalue_pc1_pubsec:.2e}\")\n",
    "print(f\"Correlation between PC2 and proportion of public sector employment, as a share of total employment, r: {corr_pc2_pubsec:.2f}, p-value: {pvalue_pc2_pubsec:.2e}\")\n",
    "print(f\"Correlation between PC3 and proportion of public sector employment, as a share of total employment, r: {corr_pc3_pubsec:.2f}, p-value: {pvalue_pc3_pubsec:.2e}\")"
   ]
  },
  {
   "cell_type": "markdown",
   "metadata": {},
   "source": [
    "Only PC 1 holds a significant correlation with the proportion of public employees over the whole workforce, and it is a negative correlation. That means that countries scoring lower in PC 1, which tend to be more developed, are also characterized by a relatively bigger public workforce. We can use our previous function to easily plot such correlation."
   ]
  },
  {
   "cell_type": "code",
   "execution_count": 58,
   "metadata": {},
   "outputs": [
    {
     "data": {
      "application/vnd.plotly.v1+json": {
       "config": {
        "plotlyServerURL": "https://plot.ly"
       },
       "data": [
        {
         "hoverinfo": "text",
         "marker": {
          "color": "black",
          "line": {
           "color": "white",
           "width": 1
          },
          "size": 10
         },
         "mode": "markers",
         "name": "Data points",
         "showlegend": false,
         "text": [
          "Australia<br>Principal Component 1: -11.57<br>Prop. public employees over total workforce: 0.20",
          "Austria<br>Principal Component 1: -12.84<br>Prop. public employees over total workforce: 0.24",
          "Bangladesh<br>Principal Component 1: 14.32<br>Prop. public employees over total workforce: 0.04",
          "Belgium<br>Principal Component 1: -8.16<br>Prop. public employees over total workforce: 0.35",
          "Bulgaria<br>Principal Component 1: -4.28<br>Prop. public employees over total workforce: 0.17",
          "Chile<br>Principal Component 1: -1.73<br>Prop. public employees over total workforce: 0.09",
          "Croatia<br>Principal Component 1: -5.42<br>Prop. public employees over total workforce: 0.21",
          "Cyprus<br>Principal Component 1: -4.96<br>Prop. public employees over total workforce: 0.21",
          "Czechia<br>Principal Component 1: -8.42<br>Prop. public employees over total workforce: 0.19",
          "Denmark<br>Principal Component 1: -15.01<br>Prop. public employees over total workforce: 0.34",
          "Estonia<br>Principal Component 1: -4.27<br>Prop. public employees over total workforce: 0.21",
          "Eswatini<br>Principal Component 1: 6.44<br>Prop. public employees over total workforce: 0.18",
          "Fiji<br>Principal Component 1: 7.73<br>Prop. public employees over total workforce: nan",
          "Finland<br>Principal Component 1: -5.78<br>Prop. public employees over total workforce: 0.27",
          "France<br>Principal Component 1: -12.13<br>Prop. public employees over total workforce: 0.31",
          "Germany<br>Principal Component 1: -14.11<br>Prop. public employees over total workforce: 0.22",
          "Greece<br>Principal Component 1: 1.61<br>Prop. public employees over total workforce: 0.22",
          "Guatemala<br>Principal Component 1: 13.60<br>Prop. public employees over total workforce: 0.06",
          "Hungary<br>Principal Component 1: 3.93<br>Prop. public employees over total workforce: 0.26",
          "Iceland<br>Principal Component 1: -4.40<br>Prop. public employees over total workforce: 0.30",
          "India<br>Principal Component 1: 11.82<br>Prop. public employees over total workforce: 0.08",
          "Iran<br>Principal Component 1: 3.26<br>Prop. public employees over total workforce: 0.13",
          "Ireland<br>Principal Component 1: -17.16<br>Prop. public employees over total workforce: 0.27",
          "Israel<br>Principal Component 1: -2.43<br>Prop. public employees over total workforce: nan",
          "Italy<br>Principal Component 1: -9.22<br>Prop. public employees over total workforce: 0.19",
          "Japan<br>Principal Component 1: -14.73<br>Prop. public employees over total workforce: nan",
          "Kazakhstan<br>Principal Component 1: 4.30<br>Prop. public employees over total workforce: 0.37",
          "Kyrgyzstan<br>Principal Component 1: 13.29<br>Prop. public employees over total workforce: nan",
          "Latvia<br>Principal Component 1: -3.71<br>Prop. public employees over total workforce: 0.23",
          "Lithuania<br>Principal Component 1: -10.56<br>Prop. public employees over total workforce: 0.22",
          "Luxembourg<br>Principal Component 1: 0.95<br>Prop. public employees over total workforce: 0.31",
          "Malaysia<br>Principal Component 1: 7.67<br>Prop. public employees over total workforce: nan",
          "Malta<br>Principal Component 1: -13.31<br>Prop. public employees over total workforce: 0.29",
          "Mongolia<br>Principal Component 1: 14.18<br>Prop. public employees over total workforce: 0.34",
          "Netherlands<br>Principal Component 1: -11.99<br>Prop. public employees over total workforce: nan",
          "Norway<br>Principal Component 1: -9.87<br>Prop. public employees over total workforce: 0.33",
          "Poland<br>Principal Component 1: -3.69<br>Prop. public employees over total workforce: 0.20",
          "Portugal<br>Principal Component 1: -7.31<br>Prop. public employees over total workforce: 0.24",
          "Romania<br>Principal Component 1: -3.49<br>Prop. public employees over total workforce: 0.13",
          "Russia<br>Principal Component 1: 7.24<br>Prop. public employees over total workforce: 0.45",
          "Senegal<br>Principal Component 1: 24.93<br>Prop. public employees over total workforce: 0.04",
          "Seychelles<br>Principal Component 1: 12.92<br>Prop. public employees over total workforce: nan",
          "Slovakia<br>Principal Component 1: -2.91<br>Prop. public employees over total workforce: 0.21",
          "Slovenia<br>Principal Component 1: -8.89<br>Prop. public employees over total workforce: 0.23",
          "South Korea<br>Principal Component 1: -1.34<br>Prop. public employees over total workforce: nan",
          "Spain<br>Principal Component 1: -8.68<br>Prop. public employees over total workforce: 0.23",
          "Sri Lanka<br>Principal Component 1: 3.03<br>Prop. public employees over total workforce: 0.12",
          "Sweden<br>Principal Component 1: -9.10<br>Prop. public employees over total workforce: nan",
          "Switzerland<br>Principal Component 1: 12.25<br>Prop. public employees over total workforce: 0.26",
          "Tanzania<br>Principal Component 1: 33.96<br>Prop. public employees over total workforce: 0.04",
          "Thailand<br>Principal Component 1: 3.18<br>Prop. public employees over total workforce: 0.09",
          "Ukraine<br>Principal Component 1: 1.23<br>Prop. public employees over total workforce: 0.39",
          "United Kingdom<br>Principal Component 1: -19.50<br>Prop. public employees over total workforce: 0.29",
          "Yemen<br>Principal Component 1: 20.71<br>Prop. public employees over total workforce: nan",
          "Zambia<br>Principal Component 1: 48.43<br>Prop. public employees over total workforce: 0.09"
         ],
         "type": "scatter",
         "x": [
          -11.569646910232205,
          -12.844238645222685,
          14.321209636115803,
          -8.157404798131102,
          -4.282815735095787,
          -1.7330907708010193,
          -5.421000405111104,
          -4.956226865338433,
          -8.419667892933242,
          -15.011988148894389,
          -4.2690931164058465,
          6.4392868464956265,
          -5.781596600184225,
          -12.130498959726014,
          -14.108425168611276,
          1.6064612464459453,
          13.596001113909429,
          3.933995381934191,
          -4.404063391266083,
          11.823025644199385,
          3.2641184761130693,
          -17.16208409696013,
          -9.215893312935133,
          4.299835013911144,
          -3.7135837688793636,
          -10.556791967499601,
          0.9510177876150534,
          -13.30641326474004,
          14.18272988263877,
          -9.86784573479455,
          -3.6867807197264093,
          -7.31267973015336,
          -3.488016171000982,
          7.24351385145833,
          24.928923542704386,
          -2.9075476857425504,
          -8.893357266139152,
          -8.684835313418935,
          3.0270810754813553,
          12.247428845748747,
          33.96132236033098,
          3.1808286071358225,
          1.225187898635229,
          -19.496234818974877,
          48.43032891763891
         ],
         "y": [
          0.200052678585052,
          0.241443991661072,
          0.0419934950768948,
          0.349430918693542,
          0.17138734459877,
          0.0909091830253601,
          0.206288516521454,
          0.211401760578156,
          0.194778025150299,
          0.337212204933167,
          0.214930653572083,
          0.176597222685814,
          0.268582791090012,
          0.314915776252747,
          0.22424,
          0.222614243626595,
          0.0645789131522179,
          0.261487156152725,
          0.299118399620056,
          0.0777380242943764,
          0.133453488349915,
          0.2670638859272,
          0.185809031128883,
          0.371687531471252,
          0.226847797632217,
          0.223033666610718,
          0.312051355838776,
          0.293271481990814,
          0.337740540504456,
          0.330151200294495,
          0.195525258779526,
          0.244371309876442,
          0.134875044226646,
          0.449333757162094,
          0.0371158681809902,
          0.212069362401962,
          0.225356474518776,
          0.229756817221642,
          0.118910789489746,
          0.264504373073578,
          0.0355836041271687,
          0.0927592664957047,
          0.386657357215881,
          0.289737641811371,
          0.0878193899989128
         ]
        },
        {
         "hoverinfo": "none",
         "line": {
          "color": "red"
         },
         "mode": "lines",
         "showlegend": false,
         "type": "scatter",
         "x": [
          -11.569646910232205,
          -12.844238645222685,
          14.321209636115803,
          -8.157404798131102,
          -4.282815735095787,
          -1.7330907708010193,
          -5.421000405111104,
          -4.956226865338433,
          -8.419667892933242,
          -15.011988148894389,
          -4.2690931164058465,
          6.4392868464956265,
          -5.781596600184225,
          -12.130498959726014,
          -14.108425168611276,
          1.6064612464459453,
          13.596001113909429,
          3.933995381934191,
          -4.404063391266083,
          11.823025644199385,
          3.2641184761130693,
          -17.16208409696013,
          -9.215893312935133,
          4.299835013911144,
          -3.7135837688793636,
          -10.556791967499601,
          0.9510177876150534,
          -13.30641326474004,
          14.18272988263877,
          -9.86784573479455,
          -3.6867807197264093,
          -7.31267973015336,
          -3.488016171000982,
          7.24351385145833,
          24.928923542704386,
          -2.9075476857425504,
          -8.893357266139152,
          -8.684835313418935,
          3.0270810754813553,
          12.247428845748747,
          33.96132236033098,
          3.1808286071358225,
          1.225187898635229,
          -19.496234818974877,
          48.43032891763891
         ],
         "y": [
          0.2587170164096356,
          0.2632916866402545,
          0.16579147214609513,
          0.2464700498074166,
          0.23256366178060162,
          0.22341237782808798,
          0.23664874987895232,
          0.2349806191214645,
          0.24741134507824328,
          0.271072012567097,
          0.232514409574202,
          0.19408068551211527,
          0.23794297502853543,
          0.26072998503650346,
          0.26782901125623315,
          0.21142630512927446,
          0.16839433684892746,
          0.20307249203911917,
          0.23299883488583026,
          0.174757769058819,
          0.2054767646035116,
          0.27878897765997357,
          0.2502690983695525,
          0.2017594475342464,
          0.23052061657743597,
          0.2550817524837413,
          0.21377877423499161,
          0.2649504895456957,
          0.16628849341838475,
          0.2526090377039955,
          0.23042441705904607,
          0.24343822517255492,
          0.2297110260656835,
          0.19119421352484,
          0.12771905123575983,
          0.22762765158079873,
          0.24911147588458477,
          0.24836306433965444,
          0.20632752168159768,
          0.17323453252855728,
          0.0953006345398586,
          0.20577570243094478,
          0.21279474318365357,
          0.2871665385123182,
          0.04336954810076479
         ]
        }
       ],
       "layout": {
        "font": {
         "size": 12
        },
        "height": 500,
        "margin": {
         "b": 40,
         "l": 40,
         "r": 40,
         "t": 40
        },
        "paper_bgcolor": "white",
        "plot_bgcolor": "white",
        "template": {
         "data": {
          "bar": [
           {
            "error_x": {
             "color": "#2a3f5f"
            },
            "error_y": {
             "color": "#2a3f5f"
            },
            "marker": {
             "line": {
              "color": "#E5ECF6",
              "width": 0.5
             },
             "pattern": {
              "fillmode": "overlay",
              "size": 10,
              "solidity": 0.2
             }
            },
            "type": "bar"
           }
          ],
          "barpolar": [
           {
            "marker": {
             "line": {
              "color": "#E5ECF6",
              "width": 0.5
             },
             "pattern": {
              "fillmode": "overlay",
              "size": 10,
              "solidity": 0.2
             }
            },
            "type": "barpolar"
           }
          ],
          "carpet": [
           {
            "aaxis": {
             "endlinecolor": "#2a3f5f",
             "gridcolor": "white",
             "linecolor": "white",
             "minorgridcolor": "white",
             "startlinecolor": "#2a3f5f"
            },
            "baxis": {
             "endlinecolor": "#2a3f5f",
             "gridcolor": "white",
             "linecolor": "white",
             "minorgridcolor": "white",
             "startlinecolor": "#2a3f5f"
            },
            "type": "carpet"
           }
          ],
          "choropleth": [
           {
            "colorbar": {
             "outlinewidth": 0,
             "ticks": ""
            },
            "type": "choropleth"
           }
          ],
          "contour": [
           {
            "colorbar": {
             "outlinewidth": 0,
             "ticks": ""
            },
            "colorscale": [
             [
              0,
              "#0d0887"
             ],
             [
              0.1111111111111111,
              "#46039f"
             ],
             [
              0.2222222222222222,
              "#7201a8"
             ],
             [
              0.3333333333333333,
              "#9c179e"
             ],
             [
              0.4444444444444444,
              "#bd3786"
             ],
             [
              0.5555555555555556,
              "#d8576b"
             ],
             [
              0.6666666666666666,
              "#ed7953"
             ],
             [
              0.7777777777777778,
              "#fb9f3a"
             ],
             [
              0.8888888888888888,
              "#fdca26"
             ],
             [
              1,
              "#f0f921"
             ]
            ],
            "type": "contour"
           }
          ],
          "contourcarpet": [
           {
            "colorbar": {
             "outlinewidth": 0,
             "ticks": ""
            },
            "type": "contourcarpet"
           }
          ],
          "heatmap": [
           {
            "colorbar": {
             "outlinewidth": 0,
             "ticks": ""
            },
            "colorscale": [
             [
              0,
              "#0d0887"
             ],
             [
              0.1111111111111111,
              "#46039f"
             ],
             [
              0.2222222222222222,
              "#7201a8"
             ],
             [
              0.3333333333333333,
              "#9c179e"
             ],
             [
              0.4444444444444444,
              "#bd3786"
             ],
             [
              0.5555555555555556,
              "#d8576b"
             ],
             [
              0.6666666666666666,
              "#ed7953"
             ],
             [
              0.7777777777777778,
              "#fb9f3a"
             ],
             [
              0.8888888888888888,
              "#fdca26"
             ],
             [
              1,
              "#f0f921"
             ]
            ],
            "type": "heatmap"
           }
          ],
          "heatmapgl": [
           {
            "colorbar": {
             "outlinewidth": 0,
             "ticks": ""
            },
            "colorscale": [
             [
              0,
              "#0d0887"
             ],
             [
              0.1111111111111111,
              "#46039f"
             ],
             [
              0.2222222222222222,
              "#7201a8"
             ],
             [
              0.3333333333333333,
              "#9c179e"
             ],
             [
              0.4444444444444444,
              "#bd3786"
             ],
             [
              0.5555555555555556,
              "#d8576b"
             ],
             [
              0.6666666666666666,
              "#ed7953"
             ],
             [
              0.7777777777777778,
              "#fb9f3a"
             ],
             [
              0.8888888888888888,
              "#fdca26"
             ],
             [
              1,
              "#f0f921"
             ]
            ],
            "type": "heatmapgl"
           }
          ],
          "histogram": [
           {
            "marker": {
             "pattern": {
              "fillmode": "overlay",
              "size": 10,
              "solidity": 0.2
             }
            },
            "type": "histogram"
           }
          ],
          "histogram2d": [
           {
            "colorbar": {
             "outlinewidth": 0,
             "ticks": ""
            },
            "colorscale": [
             [
              0,
              "#0d0887"
             ],
             [
              0.1111111111111111,
              "#46039f"
             ],
             [
              0.2222222222222222,
              "#7201a8"
             ],
             [
              0.3333333333333333,
              "#9c179e"
             ],
             [
              0.4444444444444444,
              "#bd3786"
             ],
             [
              0.5555555555555556,
              "#d8576b"
             ],
             [
              0.6666666666666666,
              "#ed7953"
             ],
             [
              0.7777777777777778,
              "#fb9f3a"
             ],
             [
              0.8888888888888888,
              "#fdca26"
             ],
             [
              1,
              "#f0f921"
             ]
            ],
            "type": "histogram2d"
           }
          ],
          "histogram2dcontour": [
           {
            "colorbar": {
             "outlinewidth": 0,
             "ticks": ""
            },
            "colorscale": [
             [
              0,
              "#0d0887"
             ],
             [
              0.1111111111111111,
              "#46039f"
             ],
             [
              0.2222222222222222,
              "#7201a8"
             ],
             [
              0.3333333333333333,
              "#9c179e"
             ],
             [
              0.4444444444444444,
              "#bd3786"
             ],
             [
              0.5555555555555556,
              "#d8576b"
             ],
             [
              0.6666666666666666,
              "#ed7953"
             ],
             [
              0.7777777777777778,
              "#fb9f3a"
             ],
             [
              0.8888888888888888,
              "#fdca26"
             ],
             [
              1,
              "#f0f921"
             ]
            ],
            "type": "histogram2dcontour"
           }
          ],
          "mesh3d": [
           {
            "colorbar": {
             "outlinewidth": 0,
             "ticks": ""
            },
            "type": "mesh3d"
           }
          ],
          "parcoords": [
           {
            "line": {
             "colorbar": {
              "outlinewidth": 0,
              "ticks": ""
             }
            },
            "type": "parcoords"
           }
          ],
          "pie": [
           {
            "automargin": true,
            "type": "pie"
           }
          ],
          "scatter": [
           {
            "fillpattern": {
             "fillmode": "overlay",
             "size": 10,
             "solidity": 0.2
            },
            "type": "scatter"
           }
          ],
          "scatter3d": [
           {
            "line": {
             "colorbar": {
              "outlinewidth": 0,
              "ticks": ""
             }
            },
            "marker": {
             "colorbar": {
              "outlinewidth": 0,
              "ticks": ""
             }
            },
            "type": "scatter3d"
           }
          ],
          "scattercarpet": [
           {
            "marker": {
             "colorbar": {
              "outlinewidth": 0,
              "ticks": ""
             }
            },
            "type": "scattercarpet"
           }
          ],
          "scattergeo": [
           {
            "marker": {
             "colorbar": {
              "outlinewidth": 0,
              "ticks": ""
             }
            },
            "type": "scattergeo"
           }
          ],
          "scattergl": [
           {
            "marker": {
             "colorbar": {
              "outlinewidth": 0,
              "ticks": ""
             }
            },
            "type": "scattergl"
           }
          ],
          "scattermapbox": [
           {
            "marker": {
             "colorbar": {
              "outlinewidth": 0,
              "ticks": ""
             }
            },
            "type": "scattermapbox"
           }
          ],
          "scatterpolar": [
           {
            "marker": {
             "colorbar": {
              "outlinewidth": 0,
              "ticks": ""
             }
            },
            "type": "scatterpolar"
           }
          ],
          "scatterpolargl": [
           {
            "marker": {
             "colorbar": {
              "outlinewidth": 0,
              "ticks": ""
             }
            },
            "type": "scatterpolargl"
           }
          ],
          "scatterternary": [
           {
            "marker": {
             "colorbar": {
              "outlinewidth": 0,
              "ticks": ""
             }
            },
            "type": "scatterternary"
           }
          ],
          "surface": [
           {
            "colorbar": {
             "outlinewidth": 0,
             "ticks": ""
            },
            "colorscale": [
             [
              0,
              "#0d0887"
             ],
             [
              0.1111111111111111,
              "#46039f"
             ],
             [
              0.2222222222222222,
              "#7201a8"
             ],
             [
              0.3333333333333333,
              "#9c179e"
             ],
             [
              0.4444444444444444,
              "#bd3786"
             ],
             [
              0.5555555555555556,
              "#d8576b"
             ],
             [
              0.6666666666666666,
              "#ed7953"
             ],
             [
              0.7777777777777778,
              "#fb9f3a"
             ],
             [
              0.8888888888888888,
              "#fdca26"
             ],
             [
              1,
              "#f0f921"
             ]
            ],
            "type": "surface"
           }
          ],
          "table": [
           {
            "cells": {
             "fill": {
              "color": "#EBF0F8"
             },
             "line": {
              "color": "white"
             }
            },
            "header": {
             "fill": {
              "color": "#C8D4E3"
             },
             "line": {
              "color": "white"
             }
            },
            "type": "table"
           }
          ]
         },
         "layout": {
          "annotationdefaults": {
           "arrowcolor": "#2a3f5f",
           "arrowhead": 0,
           "arrowwidth": 1
          },
          "autotypenumbers": "strict",
          "coloraxis": {
           "colorbar": {
            "outlinewidth": 0,
            "ticks": ""
           }
          },
          "colorscale": {
           "diverging": [
            [
             0,
             "#8e0152"
            ],
            [
             0.1,
             "#c51b7d"
            ],
            [
             0.2,
             "#de77ae"
            ],
            [
             0.3,
             "#f1b6da"
            ],
            [
             0.4,
             "#fde0ef"
            ],
            [
             0.5,
             "#f7f7f7"
            ],
            [
             0.6,
             "#e6f5d0"
            ],
            [
             0.7,
             "#b8e186"
            ],
            [
             0.8,
             "#7fbc41"
            ],
            [
             0.9,
             "#4d9221"
            ],
            [
             1,
             "#276419"
            ]
           ],
           "sequential": [
            [
             0,
             "#0d0887"
            ],
            [
             0.1111111111111111,
             "#46039f"
            ],
            [
             0.2222222222222222,
             "#7201a8"
            ],
            [
             0.3333333333333333,
             "#9c179e"
            ],
            [
             0.4444444444444444,
             "#bd3786"
            ],
            [
             0.5555555555555556,
             "#d8576b"
            ],
            [
             0.6666666666666666,
             "#ed7953"
            ],
            [
             0.7777777777777778,
             "#fb9f3a"
            ],
            [
             0.8888888888888888,
             "#fdca26"
            ],
            [
             1,
             "#f0f921"
            ]
           ],
           "sequentialminus": [
            [
             0,
             "#0d0887"
            ],
            [
             0.1111111111111111,
             "#46039f"
            ],
            [
             0.2222222222222222,
             "#7201a8"
            ],
            [
             0.3333333333333333,
             "#9c179e"
            ],
            [
             0.4444444444444444,
             "#bd3786"
            ],
            [
             0.5555555555555556,
             "#d8576b"
            ],
            [
             0.6666666666666666,
             "#ed7953"
            ],
            [
             0.7777777777777778,
             "#fb9f3a"
            ],
            [
             0.8888888888888888,
             "#fdca26"
            ],
            [
             1,
             "#f0f921"
            ]
           ]
          },
          "colorway": [
           "#636efa",
           "#EF553B",
           "#00cc96",
           "#ab63fa",
           "#FFA15A",
           "#19d3f3",
           "#FF6692",
           "#B6E880",
           "#FF97FF",
           "#FECB52"
          ],
          "font": {
           "color": "#2a3f5f"
          },
          "geo": {
           "bgcolor": "white",
           "lakecolor": "white",
           "landcolor": "#E5ECF6",
           "showlakes": true,
           "showland": true,
           "subunitcolor": "white"
          },
          "hoverlabel": {
           "align": "left"
          },
          "hovermode": "closest",
          "mapbox": {
           "style": "light"
          },
          "paper_bgcolor": "white",
          "plot_bgcolor": "#E5ECF6",
          "polar": {
           "angularaxis": {
            "gridcolor": "white",
            "linecolor": "white",
            "ticks": ""
           },
           "bgcolor": "#E5ECF6",
           "radialaxis": {
            "gridcolor": "white",
            "linecolor": "white",
            "ticks": ""
           }
          },
          "scene": {
           "xaxis": {
            "backgroundcolor": "#E5ECF6",
            "gridcolor": "white",
            "gridwidth": 2,
            "linecolor": "white",
            "showbackground": true,
            "ticks": "",
            "zerolinecolor": "white"
           },
           "yaxis": {
            "backgroundcolor": "#E5ECF6",
            "gridcolor": "white",
            "gridwidth": 2,
            "linecolor": "white",
            "showbackground": true,
            "ticks": "",
            "zerolinecolor": "white"
           },
           "zaxis": {
            "backgroundcolor": "#E5ECF6",
            "gridcolor": "white",
            "gridwidth": 2,
            "linecolor": "white",
            "showbackground": true,
            "ticks": "",
            "zerolinecolor": "white"
           }
          },
          "shapedefaults": {
           "line": {
            "color": "#2a3f5f"
           }
          },
          "ternary": {
           "aaxis": {
            "gridcolor": "white",
            "linecolor": "white",
            "ticks": ""
           },
           "baxis": {
            "gridcolor": "white",
            "linecolor": "white",
            "ticks": ""
           },
           "bgcolor": "#E5ECF6",
           "caxis": {
            "gridcolor": "white",
            "linecolor": "white",
            "ticks": ""
           }
          },
          "title": {
           "x": 0.05
          },
          "xaxis": {
           "automargin": true,
           "gridcolor": "white",
           "linecolor": "white",
           "ticks": "",
           "title": {
            "standoff": 15
           },
           "zerolinecolor": "white",
           "zerolinewidth": 2
          },
          "yaxis": {
           "automargin": true,
           "gridcolor": "white",
           "linecolor": "white",
           "ticks": "",
           "title": {
            "standoff": 15
           },
           "zerolinecolor": "white",
           "zerolinewidth": 2
          }
         }
        },
        "title": {
         "text": "Correlation, Principal Component 1 and Prop. public employees over total workforce"
        },
        "width": 800,
        "xaxis": {
         "gridcolor": "lightgrey",
         "linecolor": "black",
         "tickfont": {
          "size": 10
         },
         "title": {
          "text": "Principal Component 1"
         },
         "zeroline": true,
         "zerolinecolor": "lightgrey",
         "zerolinewidth": 1
        },
        "yaxis": {
         "gridcolor": "lightgrey",
         "linecolor": "black",
         "tickfont": {
          "size": 10
         },
         "title": {
          "text": "Prop. public employees over total workforce"
         },
         "zeroline": true,
         "zerolinecolor": "lightgrey",
         "zerolinewidth": 1
        }
       }
      }
     },
     "metadata": {},
     "output_type": "display_data"
    }
   ],
   "source": [
    "#plotting correlation between PC 1 and proportion of public sector employment\n",
    "x_col = 'PC1'\n",
    "y_col = 'public_over_total_employees'\n",
    "x_title = 'Principal Component 1'\n",
    "y_title = 'Prop. public employees over total workforce'\n",
    "\n",
    "hover_text = [f'{country}<br>{x_title}: {x_value:.2f}<br>{y_title}: {y_value:.2f}' \n",
    "              for country, x_value, y_value in zip(pca_df['country'], pca_df[x_col], pca_df[y_col])]\n",
    "\n",
    "plot_correlation(pca_df, x_col, y_col, x_title, y_title, hover_text)"
   ]
  },
  {
   "cell_type": "markdown",
   "metadata": {},
   "source": [
    "Compared to our HDI correlation, here we see that more countries stray away from the line of best fit. In particular, countries like Mongolia, Slovakia, Israel and Latvia are along the middle in PC 1, yet they have a bigger public workforce. In any case, it looks like there is a tendency for more developed countries to have more public employees, probably because they can afford them."
   ]
  },
  {
   "cell_type": "markdown",
   "metadata": {},
   "source": [
    "## 6. Conclusion\n",
    "Our project asked whether we could categorize countries based on how they spend their budget over a series of items, and whether this could help us predict some socio-economic indicators. By using k-means clustering, we found that countries did not form clear, separate clusters. However, through Principal Component Analysis we could take the multiple expenditure items and reduce them to a handful of Principal Components, the most important of which succesfully predicted such indicators. In particular, our main PC captured a trade-off between spending on health and social protection, on one hand, and on general public services and economic affairs, on the other. Countries spending more on the former tended to have a higher HDI and a bigger share of public employees over the total workforce. Thus, although clustering was not the ideal technique for our data, a more continuum-based approach allowed us to relate budget expenditure and socio-economic indicators.\n",
    "\n",
    "While our project extracted meaningful insights, the data we worked with presented a series of challenges that may have also influenced our results. The biggest limitation is the fact that the available data, both for budget expenditure and public sector indicators, came mostly from developed countries. Had data been available for all countries, clustering may have proved more successful.\n",
    "\n",
    "Another problem may have been different countries assigning the same type of spending to different items. For instance, a rent subsidy may be either classified under housing and community amenities or under social protection. This may have caused the presence of some outliers, like the huge spending of Iran on social protection, which had an impact on that country's PC 3 value. Moreover, we also had to exclude the cryptic *other* category. Under closer inspection, a lot of the spending grouped as part of this item may have been recategorized to other items, but unfortunately we had not access to such fine-grained data.\n",
    "\n",
    "All and all, this project is an example that the nature of the available data greatly conditions which techniques we can use to achieve our goals. "
   ]
  }
 ],
 "metadata": {
  "language_info": {
   "name": "python"
  }
 },
 "nbformat": 4,
 "nbformat_minor": 2
}
